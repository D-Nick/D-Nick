{
 "cells": [
  {
   "cell_type": "code",
   "execution_count": 1,
   "id": "14538a43",
   "metadata": {},
   "outputs": [],
   "source": [
    "import pandas as pd\n",
    "import numpy as np\n",
    "import seaborn as sns\n",
    "import matplotlib.pyplot as plt\n",
    "import matplotlib.dates as mdates\n",
    "import mplfinance as mpf #pip install\n",
    "from statsmodels.tsa.arima_model import ARIMA\n",
    "from statsmodels.tsa.statespace.sarimax import SARIMAX\n",
    "from itertools import product\n",
    "from sklearn.model_selection import cross_val_predict\n",
    "import warnings\n",
    "from scipy import stats\n",
    "from datetime import datetime\n",
    "from sklearn.model_selection import train_test_split, cross_val_score\n",
    "from datetime import timedelta\n",
    "from sklearn.model_selection import TimeSeriesSplit\n",
    "from sklearn.metrics import r2_score, mean_squared_error, mean_absolute_error\n",
    "from sklearn.linear_model import LinearRegression\n",
    "import pandas_ta as ta #pip install\n",
    "from sklearn.tree import DecisionTreeRegressor\n",
    "import plotly.graph_objects as go\n",
    "from plotly.subplots import make_subplots\n",
    "from dateutil.relativedelta import *\n",
    "from sklearn.model_selection import RandomizedSearchCV\n",
    "from lightgbm import LGBMRegressor #pip install\n",
    "from random import randint, uniform\n",
    "import plotly.graph_objects as go"
   ]
  },
  {
   "cell_type": "code",
   "execution_count": 2,
   "id": "6d1dab08",
   "metadata": {},
   "outputs": [],
   "source": [
    "class TimeBasedCV(object):\n",
    "    '''\n",
    "    Parameters \n",
    "    ----------\n",
    "    train_period: int\n",
    "        number of time units to include in each train set\n",
    "        default is 30\n",
    "    test_period: int\n",
    "        number of time units to include in each test set\n",
    "        default is 7\n",
    "    freq: string\n",
    "        frequency of input parameters. possible values are: days, months, years, weeks, hours, minutes, seconds\n",
    "        possible values designed to be used by dateutil.relativedelta class\n",
    "        deafault is days\n",
    "    '''\n",
    "    \n",
    "    \n",
    "    def __init__(self, train_period=30, test_period=7, freq='days'):\n",
    "        self.train_period = train_period\n",
    "        self.test_period = test_period\n",
    "        self.freq = freq\n",
    "\n",
    "        \n",
    "        \n",
    "    def split(self, data, validation_split_date=None, date_column='Date', gap=0):\n",
    "        '''\n",
    "        Generate indices to split data into training and test set\n",
    "        \n",
    "        Parameters \n",
    "        ----------\n",
    "        data: pandas DataFrame\n",
    "            your data, contain one column for the record date \n",
    "        validation_split_date: datetime.date()\n",
    "            first date to perform the splitting on.\n",
    "            if not provided will set to be the minimum date in the data after the first training set\n",
    "        date_column: string, deafult='Date'\n",
    "            date of each record\n",
    "        gap: int, default=0\n",
    "            for cases the test set does not come right after the train set,\n",
    "            *gap* days are left between train and test sets\n",
    "        \n",
    "        Returns \n",
    "        -------\n",
    "        train_index ,test_index: \n",
    "            list of tuples (train index, test index) similar to sklearn model selection\n",
    "        '''\n",
    "        \n",
    "        # check that date_column exist in the data:\n",
    "        try:\n",
    "            data[date_column]\n",
    "        except:\n",
    "            raise KeyError(date_column)\n",
    "                    \n",
    "        train_indices_list = []\n",
    "        test_indices_list = []\n",
    "\n",
    "        if validation_split_date==None:\n",
    "            validation_split_date = data[date_column].min().date() + eval('relativedelta('+self.freq+'=self.train_period)')\n",
    "        \n",
    "        start_train = validation_split_date - eval('relativedelta('+self.freq+'=self.train_period)')\n",
    "        end_train = start_train + eval('relativedelta('+self.freq+'=self.train_period)')\n",
    "        start_test = end_train + eval('relativedelta('+self.freq+'=gap)')\n",
    "        end_test = start_test + eval('relativedelta('+self.freq+'=self.test_period)')\n",
    "\n",
    "        while end_test < data[date_column].max().date():\n",
    "            # train indices:\n",
    "            cur_train_indices = list(data[(data[date_column].dt.date>=start_train) & \n",
    "                                     (data[date_column].dt.date<end_train)].index)\n",
    "\n",
    "            # test indices:\n",
    "            cur_test_indices = list(data[(data[date_column].dt.date>=start_test) &\n",
    "                                    (data[date_column].dt.date<end_test)].index)\n",
    "            \n",
    "            print(\"Train period:\",start_train,\"-\" , end_train, \", Test period\", start_test, \"-\", end_test,\n",
    "                  \"# train records\", len(cur_train_indices), \", # test records\", len(cur_test_indices))\n",
    "\n",
    "            train_indices_list.append(cur_train_indices)\n",
    "            test_indices_list.append(cur_test_indices)\n",
    "\n",
    "            # update dates:\n",
    "            start_train = start_train + eval('relativedelta('+self.freq+'=self.test_period)')\n",
    "            end_train = start_train + eval('relativedelta('+self.freq+'=self.train_period)')\n",
    "            start_test = end_train + eval('relativedelta('+self.freq+'=gap)')\n",
    "            end_test = start_test + eval('relativedelta('+self.freq+'=self.test_period)')\n",
    "\n",
    "        # mimic sklearn output  \n",
    "        index_output = [(train,test) for train,test in zip(train_indices_list,test_indices_list)]\n",
    "\n",
    "        self.n_splits = len(index_output)\n",
    "        \n",
    "        return index_output\n",
    "    \n",
    "    \n",
    "    def get_n_splits(self):\n",
    "        \"\"\"Returns the number of splitting iterations in the cross-validator\n",
    "        Returns\n",
    "        -------\n",
    "        n_splits : int\n",
    "            Returns the number of splitting iterations in the cross-validator.\n",
    "        \"\"\"\n",
    "        return self.n_splits \n",
    "    \n",
    "def get_sma(prices, rate):\n",
    "    return prices.rolling(rate).mean()\n",
    "\n",
    "def get_bollinger_bands(prices, rate=20):\n",
    "    sma = get_sma(prices, rate)\n",
    "    std = prices.rolling(rate).std()\n",
    "    bollinger_up = sma + std * 2 # Calculate top band\n",
    "    bollinger_down = sma - std * 2 # Calculate bottom band\n",
    "    return bollinger_up, bollinger_down"
   ]
  },
  {
   "cell_type": "code",
   "execution_count": 3,
   "id": "c5fd5dd1",
   "metadata": {},
   "outputs": [],
   "source": [
    "df_o=pd.read_csv('data_updated/open.csv')\n",
    "df_c=pd.read_csv('data_updated/close.csv')\n",
    "df_adj=pd.read_csv('data_updated/adj_close.csv')\n",
    "df_h=pd.read_csv('data_updated/high.csv')\n",
    "df_l=pd.read_csv('data_updated/low.csv')\n",
    "df_v=pd.read_csv('data_updated/volume.csv')\n",
    "#df_s=pd.read_csv('data_updated/total.csv')"
   ]
  },
  {
   "cell_type": "code",
   "execution_count": 4,
   "id": "fe163cf9",
   "metadata": {},
   "outputs": [],
   "source": [
    "df_adj['Date']=pd.to_datetime(df_adj['Date'])\n",
    "df_v['Date']=pd.to_datetime(df_v['Date'])\n",
    "df_o['Date']=pd.to_datetime(df_o['Date'])\n",
    "df_c['Date']=pd.to_datetime(df_c['Date'])\n",
    "df_h['Date']=pd.to_datetime(df_h['Date'])\n",
    "df_l['Date']=pd.to_datetime(df_l['Date'])\n",
    "#df_s['Date']=pd.to_datetime(df_s['Date'])"
   ]
  },
  {
   "cell_type": "code",
   "execution_count": 5,
   "id": "d4f05db0",
   "metadata": {},
   "outputs": [],
   "source": [
    "df_adj.set_index(['Date'], inplace=True)\n",
    "df_v.set_index(['Date'], inplace=True)\n",
    "df_h.set_index(['Date'], inplace=True)\n",
    "df_l.set_index(['Date'], inplace=True)\n",
    "df_c.set_index(['Date'], inplace=True)\n",
    "df_o.set_index(['Date'], inplace=True)\n",
    "#df_s.set_index(['Date'], inplace=True)"
   ]
  },
  {
   "cell_type": "code",
   "execution_count": 6,
   "id": "9169ca61",
   "metadata": {},
   "outputs": [],
   "source": [
    "df_adj=df_adj.melt(ignore_index=False).rename(columns={'variable':'crypto','value':'adj_close'}).reset_index()\n",
    "df_v=df_v.melt(ignore_index=False).rename(columns={'variable':'crypto','value':'volume'}).reset_index()\n",
    "df_o=df_o.melt(ignore_index=False).rename(columns={'variable':'crypto','value':'open'}).reset_index()\n",
    "df_c=df_c.melt(ignore_index=False).rename(columns={'variable':'crypto','value':'close'}).reset_index()\n",
    "df_h=df_h.melt(ignore_index=False).rename(columns={'variable':'crypto','value':'high'}).reset_index()\n",
    "df_l=df_l.melt(ignore_index=False).rename(columns={'variable':'crypto','value':'low'}).reset_index()\n",
    "#df_s=df_s.melt(ignore_index=False).rename(columns={'variable':'crypto','value':'supply'}).reset_index()"
   ]
  },
  {
   "cell_type": "code",
   "execution_count": 7,
   "id": "5459ee65",
   "metadata": {},
   "outputs": [],
   "source": [
    "df=df_h.merge(df_l).merge(df_c).merge(df_o).merge(df_v).merge(df_adj)"
   ]
  },
  {
   "cell_type": "code",
   "execution_count": 8,
   "id": "5280bdf7",
   "metadata": {},
   "outputs": [],
   "source": [
    "df.sort_values(by='Date', ascending = True, inplace=True)\n",
    "df.reset_index(inplace=True, drop=True)\n",
    "#df_s.sort_values(by='Date', ascending = True, inplace=True)\n",
    "#df_s.reset_index(inplace=True, drop=True)"
   ]
  },
  {
   "cell_type": "code",
   "execution_count": 9,
   "id": "9c467797",
   "metadata": {},
   "outputs": [
    {
     "data": {
      "text/plain": [
       "array(['ADA-USD', 'ETH-USD', 'AXS-USD', 'LINK-USD', 'AVAX-USD',\n",
       "       'LUNA1-USD', 'MATIC-USD', 'ATOM-USD', 'SOL-USD', 'BTC-USD'],\n",
       "      dtype=object)"
      ]
     },
     "execution_count": 9,
     "metadata": {},
     "output_type": "execute_result"
    }
   ],
   "source": [
    "df['crypto'].unique()\n",
    "#10 different cryptocurrencies"
   ]
  },
  {
   "cell_type": "code",
   "execution_count": 10,
   "id": "df5147f5",
   "metadata": {},
   "outputs": [],
   "source": [
    "df['crypto']=df.crypto.str.replace('-USD','')\n",
    "#if we want to drop the -USD and just show the symbol"
   ]
  },
  {
   "cell_type": "code",
   "execution_count": 11,
   "id": "c3b58b8e",
   "metadata": {},
   "outputs": [
    {
     "data": {
      "text/plain": [
       "(18260, 8)"
      ]
     },
     "execution_count": 11,
     "metadata": {},
     "output_type": "execute_result"
    }
   ],
   "source": [
    "df.shape"
   ]
  },
  {
   "cell_type": "code",
   "execution_count": 12,
   "id": "0ca6f8f2",
   "metadata": {},
   "outputs": [],
   "source": [
    "df.dropna(inplace=True)\n",
    "#we're dropping 6,442 rows here but it's for crypto coins that didn't exist yet"
   ]
  },
  {
   "cell_type": "code",
   "execution_count": 13,
   "id": "5e8bba9f",
   "metadata": {},
   "outputs": [],
   "source": [
    "df_rindex=df.copy()\n",
    "#for when we want a numerical index"
   ]
  },
  {
   "cell_type": "code",
   "execution_count": 14,
   "id": "deca8547",
   "metadata": {},
   "outputs": [],
   "source": [
    "df_ada=df_rindex.loc[(df['crypto']=='ADA')].reset_index(drop=True)\n",
    "df_link=df_rindex.loc[(df['crypto']=='LINK')].reset_index(drop=True)\n",
    "df_eth=df_rindex.loc[(df['crypto']=='ETH')].reset_index(drop=True)\n",
    "df_atom=df_rindex.loc[(df['crypto']=='ATOM')].reset_index(drop=True)\n",
    "df_matic=df_rindex.loc[(df['crypto']=='MATIC')].reset_index(drop=True)\n",
    "df_luna=df_rindex.loc[(df['crypto']=='LUNA1')].reset_index(drop=True)\n",
    "df_sol=df_rindex.loc[(df['crypto']=='SOL')].reset_index(drop=True)\n",
    "df_avax=df_rindex.loc[(df['crypto']=='AVAX')].reset_index(drop=True)\n",
    "df_axs=df_rindex.loc[(df['crypto']=='AXS')].reset_index(drop=True)"
   ]
  },
  {
   "cell_type": "code",
   "execution_count": 15,
   "id": "135bc4a8",
   "metadata": {},
   "outputs": [],
   "source": [
    "#df['year']=df['Date'].dt.year"
   ]
  },
  {
   "cell_type": "code",
   "execution_count": 16,
   "id": "37e0692e",
   "metadata": {},
   "outputs": [],
   "source": [
    "df.set_index(['Date'], inplace=True)\n",
    "#For doing specific visualizations like Matplotlib Finance and SARIMAX the date has to be set as the index"
   ]
  },
  {
   "cell_type": "markdown",
   "id": "52f24299",
   "metadata": {},
   "source": [
    "# Working with BTC"
   ]
  },
  {
   "cell_type": "code",
   "execution_count": 17,
   "id": "36b7877e",
   "metadata": {},
   "outputs": [],
   "source": [
    "#creating a df for only BTC\n",
    "df_btc=df.loc[(df['crypto']=='BTC')]"
   ]
  },
  {
   "cell_type": "code",
   "execution_count": 18,
   "id": "84f04c1e",
   "metadata": {
    "scrolled": true
   },
   "outputs": [
    {
     "data": {
      "text/html": [
       "<div>\n",
       "<style scoped>\n",
       "    .dataframe tbody tr th:only-of-type {\n",
       "        vertical-align: middle;\n",
       "    }\n",
       "\n",
       "    .dataframe tbody tr th {\n",
       "        vertical-align: top;\n",
       "    }\n",
       "\n",
       "    .dataframe thead th {\n",
       "        text-align: right;\n",
       "    }\n",
       "</style>\n",
       "<table border=\"1\" class=\"dataframe\">\n",
       "  <thead>\n",
       "    <tr style=\"text-align: right;\">\n",
       "      <th></th>\n",
       "      <th>crypto</th>\n",
       "      <th>high</th>\n",
       "      <th>low</th>\n",
       "      <th>close</th>\n",
       "      <th>open</th>\n",
       "      <th>volume</th>\n",
       "      <th>adj_close</th>\n",
       "    </tr>\n",
       "    <tr>\n",
       "      <th>Date</th>\n",
       "      <th></th>\n",
       "      <th></th>\n",
       "      <th></th>\n",
       "      <th></th>\n",
       "      <th></th>\n",
       "      <th></th>\n",
       "      <th></th>\n",
       "    </tr>\n",
       "  </thead>\n",
       "  <tbody>\n",
       "    <tr>\n",
       "      <th>2021-11-10</th>\n",
       "      <td>BTC</td>\n",
       "      <td>68789.625000</td>\n",
       "      <td>63208.113281</td>\n",
       "      <td>64995.230469</td>\n",
       "      <td>66953.335938</td>\n",
       "      <td>4.873083e+10</td>\n",
       "      <td>64995.230469</td>\n",
       "    </tr>\n",
       "    <tr>\n",
       "      <th>2021-11-09</th>\n",
       "      <td>BTC</td>\n",
       "      <td>68530.335938</td>\n",
       "      <td>66382.062500</td>\n",
       "      <td>66971.828125</td>\n",
       "      <td>67549.734375</td>\n",
       "      <td>4.235799e+10</td>\n",
       "      <td>66971.828125</td>\n",
       "    </tr>\n",
       "    <tr>\n",
       "      <th>2021-11-08</th>\n",
       "      <td>BTC</td>\n",
       "      <td>67673.742188</td>\n",
       "      <td>63344.066406</td>\n",
       "      <td>67566.828125</td>\n",
       "      <td>63344.066406</td>\n",
       "      <td>4.112561e+10</td>\n",
       "      <td>67566.828125</td>\n",
       "    </tr>\n",
       "    <tr>\n",
       "      <th>2021-10-20</th>\n",
       "      <td>BTC</td>\n",
       "      <td>66930.390625</td>\n",
       "      <td>63610.675781</td>\n",
       "      <td>65992.835938</td>\n",
       "      <td>64284.585938</td>\n",
       "      <td>4.078896e+10</td>\n",
       "      <td>65992.835938</td>\n",
       "    </tr>\n",
       "    <tr>\n",
       "      <th>2021-10-21</th>\n",
       "      <td>BTC</td>\n",
       "      <td>66600.546875</td>\n",
       "      <td>62117.410156</td>\n",
       "      <td>62210.171875</td>\n",
       "      <td>66002.234375</td>\n",
       "      <td>4.590812e+10</td>\n",
       "      <td>62210.171875</td>\n",
       "    </tr>\n",
       "    <tr>\n",
       "      <th>...</th>\n",
       "      <td>...</td>\n",
       "      <td>...</td>\n",
       "      <td>...</td>\n",
       "      <td>...</td>\n",
       "      <td>...</td>\n",
       "      <td>...</td>\n",
       "      <td>...</td>\n",
       "    </tr>\n",
       "    <tr>\n",
       "      <th>2017-05-14</th>\n",
       "      <td>BTC</td>\n",
       "      <td>1831.420044</td>\n",
       "      <td>1776.619995</td>\n",
       "      <td>1808.910034</td>\n",
       "      <td>1800.859985</td>\n",
       "      <td>4.371960e+08</td>\n",
       "      <td>1808.910034</td>\n",
       "    </tr>\n",
       "    <tr>\n",
       "      <th>2017-05-13</th>\n",
       "      <td>BTC</td>\n",
       "      <td>1812.989990</td>\n",
       "      <td>1651.079956</td>\n",
       "      <td>1804.910034</td>\n",
       "      <td>1723.119995</td>\n",
       "      <td>5.796350e+08</td>\n",
       "      <td>1804.910034</td>\n",
       "    </tr>\n",
       "    <tr>\n",
       "      <th>2017-05-15</th>\n",
       "      <td>BTC</td>\n",
       "      <td>1812.800049</td>\n",
       "      <td>1708.540039</td>\n",
       "      <td>1738.430054</td>\n",
       "      <td>1808.439941</td>\n",
       "      <td>7.315290e+08</td>\n",
       "      <td>1738.430054</td>\n",
       "    </tr>\n",
       "    <tr>\n",
       "      <th>2017-05-10</th>\n",
       "      <td>BTC</td>\n",
       "      <td>1788.439941</td>\n",
       "      <td>1719.099976</td>\n",
       "      <td>1787.130005</td>\n",
       "      <td>1756.520020</td>\n",
       "      <td>9.157230e+08</td>\n",
       "      <td>1787.130005</td>\n",
       "    </tr>\n",
       "    <tr>\n",
       "      <th>2017-05-16</th>\n",
       "      <td>BTC</td>\n",
       "      <td>1785.939941</td>\n",
       "      <td>1686.540039</td>\n",
       "      <td>1734.449951</td>\n",
       "      <td>1741.699951</td>\n",
       "      <td>9.590450e+08</td>\n",
       "      <td>1734.449951</td>\n",
       "    </tr>\n",
       "  </tbody>\n",
       "</table>\n",
       "<p>1826 rows × 7 columns</p>\n",
       "</div>"
      ],
      "text/plain": [
       "           crypto          high           low         close          open  \\\n",
       "Date                                                                        \n",
       "2021-11-10    BTC  68789.625000  63208.113281  64995.230469  66953.335938   \n",
       "2021-11-09    BTC  68530.335938  66382.062500  66971.828125  67549.734375   \n",
       "2021-11-08    BTC  67673.742188  63344.066406  67566.828125  63344.066406   \n",
       "2021-10-20    BTC  66930.390625  63610.675781  65992.835938  64284.585938   \n",
       "2021-10-21    BTC  66600.546875  62117.410156  62210.171875  66002.234375   \n",
       "...           ...           ...           ...           ...           ...   \n",
       "2017-05-14    BTC   1831.420044   1776.619995   1808.910034   1800.859985   \n",
       "2017-05-13    BTC   1812.989990   1651.079956   1804.910034   1723.119995   \n",
       "2017-05-15    BTC   1812.800049   1708.540039   1738.430054   1808.439941   \n",
       "2017-05-10    BTC   1788.439941   1719.099976   1787.130005   1756.520020   \n",
       "2017-05-16    BTC   1785.939941   1686.540039   1734.449951   1741.699951   \n",
       "\n",
       "                  volume     adj_close  \n",
       "Date                                    \n",
       "2021-11-10  4.873083e+10  64995.230469  \n",
       "2021-11-09  4.235799e+10  66971.828125  \n",
       "2021-11-08  4.112561e+10  67566.828125  \n",
       "2021-10-20  4.078896e+10  65992.835938  \n",
       "2021-10-21  4.590812e+10  62210.171875  \n",
       "...                  ...           ...  \n",
       "2017-05-14  4.371960e+08   1808.910034  \n",
       "2017-05-13  5.796350e+08   1804.910034  \n",
       "2017-05-15  7.315290e+08   1738.430054  \n",
       "2017-05-10  9.157230e+08   1787.130005  \n",
       "2017-05-16  9.590450e+08   1734.449951  \n",
       "\n",
       "[1826 rows x 7 columns]"
      ]
     },
     "execution_count": 18,
     "metadata": {},
     "output_type": "execute_result"
    }
   ],
   "source": [
    "df_btc.sort_values(by='high', ascending=False)\n",
    "#to see when I should've sold"
   ]
  },
  {
   "cell_type": "code",
   "execution_count": 19,
   "id": "5281eb4f",
   "metadata": {},
   "outputs": [],
   "source": [
    "df_nobtc=df.loc[(df['crypto']!='BTC')]\n",
    "#if we wanted to analyze the crypto coins w/o BTC"
   ]
  },
  {
   "cell_type": "code",
   "execution_count": 20,
   "id": "ade6d054",
   "metadata": {},
   "outputs": [],
   "source": [
    "avg_df = df.groupby(['crypto'], as_index=False).mean()"
   ]
  },
  {
   "cell_type": "code",
   "execution_count": 21,
   "id": "e4a377d3",
   "metadata": {},
   "outputs": [
    {
     "data": {
      "text/plain": [
       "<AxesSubplot:xlabel='crypto', ylabel='volume'>"
      ]
     },
     "execution_count": 21,
     "metadata": {},
     "output_type": "execute_result"
    },
    {
     "data": {
      "image/png": "[encoded data removed]",
      "text/plain": [
       "<Figure size 432x288 with 1 Axes>"
      ]
     },
     "metadata": {
      "needs_background": "light"
     },
     "output_type": "display_data"
    }
   ],
   "source": [
    "sns.barplot(x='crypto',y='volume',data=avg_df, order=avg_df.sort_values('volume', ascending=False).crypto)"
   ]
  },
  {
   "cell_type": "code",
   "execution_count": 22,
   "id": "9d195857",
   "metadata": {},
   "outputs": [
    {
     "data": {
      "text/plain": [
       "<AxesSubplot:xlabel='crypto', ylabel='high'>"
      ]
     },
     "execution_count": 22,
     "metadata": {},
     "output_type": "execute_result"
    },
    {
     "data": {
      "image/png": "[encoded data removed]",
      "text/plain": [
       "<Figure size 432x288 with 1 Axes>"
      ]
     },
     "metadata": {
      "needs_background": "light"
     },
     "output_type": "display_data"
    }
   ],
   "source": [
    "sns.barplot(x='crypto',y='high',data=avg_df, order=avg_df.sort_values('high', ascending=False).crypto)"
   ]
  },
  {
   "cell_type": "code",
   "execution_count": 23,
   "id": "ebfd41e3",
   "metadata": {},
   "outputs": [],
   "source": [
    "iday = df_btc.loc['2022-1-31':'2022-4-06',:]"
   ]
  },
  {
   "cell_type": "code",
   "execution_count": 24,
   "id": "7e7b174a",
   "metadata": {
    "scrolled": true
   },
   "outputs": [
    {
     "data": {
      "image/png": "[encoded data removed]",
      "text/plain": [
       "<Figure size 800x575 with 4 Axes>"
      ]
     },
     "metadata": {},
     "output_type": "display_data"
    }
   ],
   "source": [
    "mpf.plot(iday,type='candle',mav=(3,6,9),volume=True)\n",
    "#moving average 3day, 6day, 9 day"
   ]
  },
  {
   "cell_type": "markdown",
   "id": "cd39db71",
   "metadata": {},
   "source": [
    "# Relative Strength Index for Bitcoin"
   ]
  },
  {
   "cell_type": "code",
   "execution_count": 25,
   "id": "86b6c30d",
   "metadata": {},
   "outputs": [],
   "source": [
    "df_bcopy=df_btc[['close']]"
   ]
  },
  {
   "cell_type": "code",
   "execution_count": 26,
   "id": "cbcf46dc",
   "metadata": {},
   "outputs": [],
   "source": [
    "df_bcopy=df_bcopy.diff(1).rename(columns={'close':'diff'})"
   ]
  },
  {
   "cell_type": "code",
   "execution_count": 27,
   "id": "adb6ee4d",
   "metadata": {},
   "outputs": [],
   "source": [
    "df_bcopy['gain'] = df_bcopy['diff'].clip(lower=0).round(2)\n",
    "df_bcopy['loss'] = df_bcopy['diff'].clip(upper=0).abs().round(2)"
   ]
  },
  {
   "cell_type": "code",
   "execution_count": 28,
   "id": "c4d24fc6",
   "metadata": {},
   "outputs": [],
   "source": [
    "window_length=14\n",
    "df_bcopy['avg_gain'] = df_bcopy['gain'].rolling(window=window_length, min_periods=window_length).mean()[:window_length+1]\n",
    "df_bcopy['avg_loss'] = df_bcopy['loss'].rolling(window=window_length, min_periods=window_length).mean()[:window_length+1]"
   ]
  },
  {
   "cell_type": "code",
   "execution_count": 29,
   "id": "11ee3b47",
   "metadata": {},
   "outputs": [],
   "source": [
    "for i, row in enumerate(df_bcopy['avg_gain'].iloc[window_length+1:]):\n",
    "    df_bcopy['avg_gain'].iloc[i + window_length + 1] =\\\n",
    "        (df_bcopy['avg_gain'].iloc[i + window_length] *\n",
    "         (window_length - 1) +\n",
    "         df_bcopy['gain'].iloc[i + window_length + 1])\\\n",
    "        / window_length\n",
    "# Average Losses\n",
    "for i, row in enumerate(df_bcopy['avg_loss'].iloc[window_length+1:]):\n",
    "    df_bcopy['avg_loss'].iloc[i + window_length + 1] =\\\n",
    "        (df_bcopy['avg_loss'].iloc[i + window_length] *\n",
    "         (window_length - 1) +\n",
    "         df_bcopy['loss'].iloc[i + window_length + 1])\\\n",
    "        / window_length"
   ]
  },
  {
   "cell_type": "code",
   "execution_count": 30,
   "id": "d59001ae",
   "metadata": {},
   "outputs": [],
   "source": [
    "df_bcopy['rs'] = df_bcopy['avg_gain'] / df_bcopy['avg_loss']"
   ]
  },
  {
   "cell_type": "code",
   "execution_count": 31,
   "id": "c5ce0af0",
   "metadata": {},
   "outputs": [],
   "source": [
    "df_bcopy['rsi'] = 100 - (100 / (1.0 + df_bcopy['rs']))"
   ]
  },
  {
   "cell_type": "code",
   "execution_count": 32,
   "id": "28b1c4b9",
   "metadata": {},
   "outputs": [],
   "source": [
    "df_btc=pd.concat([df_btc,df_bcopy], axis=1)"
   ]
  },
  {
   "cell_type": "markdown",
   "id": "4c8ef3a2",
   "metadata": {},
   "source": [
    "# Features for ADA"
   ]
  },
  {
   "cell_type": "code",
   "execution_count": 33,
   "id": "3ffdf414",
   "metadata": {},
   "outputs": [],
   "source": [
    "df_acopy=df_ada[['close']]"
   ]
  },
  {
   "cell_type": "code",
   "execution_count": 34,
   "id": "30c7ab41",
   "metadata": {},
   "outputs": [],
   "source": [
    "df_acopy=df_acopy.diff(1).rename(columns={'close':'diff'})"
   ]
  },
  {
   "cell_type": "code",
   "execution_count": 35,
   "id": "7e0c4c95",
   "metadata": {},
   "outputs": [],
   "source": [
    "df_acopy['gain'] = df_acopy['diff'].clip(lower=0).round(2)\n",
    "df_acopy['loss'] = df_acopy['diff'].clip(upper=0).abs().round(2)"
   ]
  },
  {
   "cell_type": "code",
   "execution_count": 36,
   "id": "fdf92943",
   "metadata": {},
   "outputs": [],
   "source": [
    "window_length=14\n",
    "df_acopy['avg_gain'] = df_acopy['gain'].rolling(window=window_length, min_periods=window_length).mean()[:window_length+1]\n",
    "df_acopy['avg_loss'] = df_acopy['loss'].rolling(window=window_length, min_periods=window_length).mean()[:window_length+1]"
   ]
  },
  {
   "cell_type": "code",
   "execution_count": 37,
   "id": "ad645b1f",
   "metadata": {},
   "outputs": [],
   "source": [
    "for i, row in enumerate(df_acopy['avg_gain'].iloc[window_length+1:]):\n",
    "    df_acopy['avg_gain'].iloc[i + window_length + 1] =\\\n",
    "        (df_acopy['avg_gain'].iloc[i + window_length] *\n",
    "         (window_length - 1) +\n",
    "         df_acopy['gain'].iloc[i + window_length + 1])\\\n",
    "        / window_length\n",
    "# Average Losses\n",
    "for i, row in enumerate(df_acopy['avg_loss'].iloc[window_length+1:]):\n",
    "    df_acopy['avg_loss'].iloc[i + window_length + 1] =\\\n",
    "        (df_acopy['avg_loss'].iloc[i + window_length] *\n",
    "         (window_length - 1) +\n",
    "         df_acopy['loss'].iloc[i + window_length + 1])\\\n",
    "        / window_length"
   ]
  },
  {
   "cell_type": "code",
   "execution_count": 38,
   "id": "b37bf3bb",
   "metadata": {},
   "outputs": [],
   "source": [
    "df_acopy['rs'] = df_acopy['avg_gain'] / df_acopy['avg_loss']"
   ]
  },
  {
   "cell_type": "code",
   "execution_count": 39,
   "id": "1cdd4719",
   "metadata": {},
   "outputs": [],
   "source": [
    "df_acopy['rsi'] = 100 - (100 / (1.0 + df_acopy['rs']))"
   ]
  },
  {
   "cell_type": "code",
   "execution_count": 40,
   "id": "98efdeed",
   "metadata": {},
   "outputs": [],
   "source": [
    "df_ada=pd.concat([df_ada,df_acopy], axis=1) #RSI for ADA"
   ]
  },
  {
   "cell_type": "code",
   "execution_count": 41,
   "id": "700ef799",
   "metadata": {},
   "outputs": [],
   "source": [
    "closing_prices_a = df_ada['close']\n",
    "\n",
    "bollinger_up, bollinger_down = get_bollinger_bands(closing_prices_a)"
   ]
  },
  {
   "cell_type": "code",
   "execution_count": 42,
   "id": "b01cfb37",
   "metadata": {},
   "outputs": [],
   "source": [
    "sma_a = get_sma(closing_prices_a, 20)"
   ]
  },
  {
   "cell_type": "code",
   "execution_count": 43,
   "id": "d28de58c",
   "metadata": {},
   "outputs": [],
   "source": [
    "sma_a = pd.DataFrame(data=sma_a).rename(columns={'close':'bollinger'})"
   ]
  },
  {
   "cell_type": "code",
   "execution_count": 44,
   "id": "2ece09cf",
   "metadata": {},
   "outputs": [],
   "source": [
    "df_ada=pd.concat([df_ada,sma_a],axis=1)"
   ]
  },
  {
   "cell_type": "code",
   "execution_count": 45,
   "id": "1040efb1",
   "metadata": {},
   "outputs": [],
   "source": [
    "exp1 = df_ada['close'].ewm(span=12, adjust=False).mean()\n",
    "exp2 = df_ada['close'].ewm(span=26, adjust=False).mean()\n",
    "macd = exp1 - exp2\n",
    "macd_s = macd.ewm(span=9, adjust=False).mean()\n",
    "macd_h = macd - macd_s"
   ]
  },
  {
   "cell_type": "code",
   "execution_count": 46,
   "id": "88430d19",
   "metadata": {},
   "outputs": [],
   "source": [
    "df_ada['macd'] = df_ada.index.map(macd)\n",
    "df_ada['macd_sig'] = df_ada.index.map(macd_h)\n",
    "df_ada['macd_cd'] = df_ada.index.map(macd_s) #Bollinger Bands for ADA"
   ]
  },
  {
   "cell_type": "code",
   "execution_count": 47,
   "id": "4ad54629",
   "metadata": {},
   "outputs": [],
   "source": [
    "exp1 = df_ada['close'].ewm(span=12, adjust=False).mean()\n",
    "exp2 = df_ada['close'].ewm(span=26, adjust=False).mean()\n",
    "macd = exp1 - exp2\n",
    "macd_s = macd.ewm(span=9, adjust=False).mean()\n",
    "macd_h = macd - macd_s "
   ]
  },
  {
   "cell_type": "code",
   "execution_count": 48,
   "id": "0a2c7920",
   "metadata": {},
   "outputs": [],
   "source": [
    "df_ada['macd'] = df_ada.index.map(macd)\n",
    "df_ada['macd_sig'] = df_ada.index.map(macd_h)\n",
    "df_ada['macd_cd'] = df_ada.index.map(macd_s) #MACD for ADA"
   ]
  },
  {
   "cell_type": "code",
   "execution_count": 49,
   "id": "727d67c6",
   "metadata": {},
   "outputs": [
    {
     "data": {
      "text/html": [
       "<div>\n",
       "<style scoped>\n",
       "    .dataframe tbody tr th:only-of-type {\n",
       "        vertical-align: middle;\n",
       "    }\n",
       "\n",
       "    .dataframe tbody tr th {\n",
       "        vertical-align: top;\n",
       "    }\n",
       "\n",
       "    .dataframe thead th {\n",
       "        text-align: right;\n",
       "    }\n",
       "</style>\n",
       "<table border=\"1\" class=\"dataframe\">\n",
       "  <thead>\n",
       "    <tr style=\"text-align: right;\">\n",
       "      <th></th>\n",
       "      <th>STOCHk_14_3_3</th>\n",
       "      <th>STOCHd_14_3_3</th>\n",
       "    </tr>\n",
       "  </thead>\n",
       "  <tbody>\n",
       "    <tr>\n",
       "      <th>13</th>\n",
       "      <td>NaN</td>\n",
       "      <td>NaN</td>\n",
       "    </tr>\n",
       "    <tr>\n",
       "      <th>14</th>\n",
       "      <td>NaN</td>\n",
       "      <td>NaN</td>\n",
       "    </tr>\n",
       "    <tr>\n",
       "      <th>15</th>\n",
       "      <td>50.847663</td>\n",
       "      <td>NaN</td>\n",
       "    </tr>\n",
       "    <tr>\n",
       "      <th>16</th>\n",
       "      <td>61.891704</td>\n",
       "      <td>NaN</td>\n",
       "    </tr>\n",
       "    <tr>\n",
       "      <th>17</th>\n",
       "      <td>73.008696</td>\n",
       "      <td>61.916021</td>\n",
       "    </tr>\n",
       "    <tr>\n",
       "      <th>...</th>\n",
       "      <td>...</td>\n",
       "      <td>...</td>\n",
       "    </tr>\n",
       "    <tr>\n",
       "      <th>1637</th>\n",
       "      <td>32.438020</td>\n",
       "      <td>21.207563</td>\n",
       "    </tr>\n",
       "    <tr>\n",
       "      <th>1638</th>\n",
       "      <td>35.786148</td>\n",
       "      <td>28.285136</td>\n",
       "    </tr>\n",
       "    <tr>\n",
       "      <th>1639</th>\n",
       "      <td>39.779513</td>\n",
       "      <td>36.001227</td>\n",
       "    </tr>\n",
       "    <tr>\n",
       "      <th>1640</th>\n",
       "      <td>21.112731</td>\n",
       "      <td>32.226131</td>\n",
       "    </tr>\n",
       "    <tr>\n",
       "      <th>1641</th>\n",
       "      <td>14.587072</td>\n",
       "      <td>25.159772</td>\n",
       "    </tr>\n",
       "  </tbody>\n",
       "</table>\n",
       "<p>1629 rows × 2 columns</p>\n",
       "</div>"
      ],
      "text/plain": [
       "      STOCHk_14_3_3  STOCHd_14_3_3\n",
       "13              NaN            NaN\n",
       "14              NaN            NaN\n",
       "15        50.847663            NaN\n",
       "16        61.891704            NaN\n",
       "17        73.008696      61.916021\n",
       "...             ...            ...\n",
       "1637      32.438020      21.207563\n",
       "1638      35.786148      28.285136\n",
       "1639      39.779513      36.001227\n",
       "1640      21.112731      32.226131\n",
       "1641      14.587072      25.159772\n",
       "\n",
       "[1629 rows x 2 columns]"
      ]
     },
     "execution_count": 49,
     "metadata": {},
     "output_type": "execute_result"
    }
   ],
   "source": [
    "df_ada.ta.stoch(high='high', low='low', k=14, d=3, append=True)\n",
    "#that's literally it"
   ]
  },
  {
   "cell_type": "markdown",
   "id": "9620e012",
   "metadata": {},
   "source": [
    "# Features for ETH"
   ]
  },
  {
   "cell_type": "code",
   "execution_count": 50,
   "id": "54936515",
   "metadata": {},
   "outputs": [],
   "source": [
    "df_ecopy=df_eth[['close']]"
   ]
  },
  {
   "cell_type": "code",
   "execution_count": 51,
   "id": "c1fcdc31",
   "metadata": {},
   "outputs": [],
   "source": [
    "df_ecopy=df_ecopy.diff(1).rename(columns={'close':'diff'})"
   ]
  },
  {
   "cell_type": "code",
   "execution_count": 52,
   "id": "7585b21b",
   "metadata": {},
   "outputs": [],
   "source": [
    "df_ecopy['gain'] = df_ecopy['diff'].clip(lower=0).round(2)\n",
    "df_ecopy['loss'] = df_ecopy['diff'].clip(upper=0).abs().round(2)"
   ]
  },
  {
   "cell_type": "code",
   "execution_count": 53,
   "id": "4de2802e",
   "metadata": {},
   "outputs": [],
   "source": [
    "window_length=14\n",
    "df_ecopy['avg_gain'] = df_ecopy['gain'].rolling(window=window_length, min_periods=window_length).mean()[:window_length+1]\n",
    "df_ecopy['avg_loss'] = df_ecopy['loss'].rolling(window=window_length, min_periods=window_length).mean()[:window_length+1]"
   ]
  },
  {
   "cell_type": "code",
   "execution_count": 54,
   "id": "1d839a57",
   "metadata": {},
   "outputs": [],
   "source": [
    "for i, row in enumerate(df_ecopy['avg_gain'].iloc[window_length+1:]):\n",
    "    df_ecopy['avg_gain'].iloc[i + window_length + 1] =\\\n",
    "        (df_ecopy['avg_gain'].iloc[i + window_length] *\n",
    "         (window_length - 1) +\n",
    "         df_ecopy['gain'].iloc[i + window_length + 1])\\\n",
    "        / window_length\n",
    "# Average Losses\n",
    "for i, row in enumerate(df_ecopy['avg_loss'].iloc[window_length+1:]):\n",
    "    df_ecopy['avg_loss'].iloc[i + window_length + 1] =\\\n",
    "        (df_ecopy['avg_loss'].iloc[i + window_length] *\n",
    "         (window_length - 1) +\n",
    "         df_ecopy['loss'].iloc[i + window_length + 1])\\\n",
    "        / window_length"
   ]
  },
  {
   "cell_type": "code",
   "execution_count": 55,
   "id": "2107550f",
   "metadata": {},
   "outputs": [],
   "source": [
    "df_ecopy['rs'] = df_ecopy['avg_gain'] / df_ecopy['avg_loss']"
   ]
  },
  {
   "cell_type": "code",
   "execution_count": 56,
   "id": "b4822825",
   "metadata": {},
   "outputs": [],
   "source": [
    "df_ecopy['rsi'] = 100 - (100 / (1.0 + df_ecopy['rs']))"
   ]
  },
  {
   "cell_type": "code",
   "execution_count": 57,
   "id": "890e3496",
   "metadata": {},
   "outputs": [],
   "source": [
    "df_eth=pd.concat([df_eth,df_ecopy], axis=1) #RSI for ETH"
   ]
  },
  {
   "cell_type": "code",
   "execution_count": 58,
   "id": "da9c6618",
   "metadata": {},
   "outputs": [],
   "source": [
    "closing_prices_e = df_eth['close']\n",
    "\n",
    "bollinger_up, bollinger_down = get_bollinger_bands(closing_prices_e)"
   ]
  },
  {
   "cell_type": "code",
   "execution_count": 59,
   "id": "81ed1516",
   "metadata": {},
   "outputs": [],
   "source": [
    "sma_e = get_sma(closing_prices_e, 20)"
   ]
  },
  {
   "cell_type": "code",
   "execution_count": 60,
   "id": "2aa7aa54",
   "metadata": {},
   "outputs": [],
   "source": [
    "sma_e = pd.DataFrame(data=sma_e).rename(columns={'close':'bollinger'})"
   ]
  },
  {
   "cell_type": "code",
   "execution_count": 61,
   "id": "f5d7dba7",
   "metadata": {},
   "outputs": [],
   "source": [
    "df_eth=pd.concat([df_eth,sma_e],axis=1)"
   ]
  },
  {
   "cell_type": "code",
   "execution_count": 62,
   "id": "be846ed7",
   "metadata": {},
   "outputs": [],
   "source": [
    "exp1 = df_eth['close'].ewm(span=12, adjust=False).mean()\n",
    "exp2 = df_eth['close'].ewm(span=26, adjust=False).mean()\n",
    "macd = exp1 - exp2\n",
    "macd_s = macd.ewm(span=9, adjust=False).mean()\n",
    "macd_h = macd - macd_s"
   ]
  },
  {
   "cell_type": "code",
   "execution_count": 63,
   "id": "bcf93693",
   "metadata": {},
   "outputs": [],
   "source": [
    "df_eth['macd'] = df_eth.index.map(macd)\n",
    "df_eth['macd_sig'] = df_eth.index.map(macd_h)\n",
    "df_eth['macd_cd'] = df_eth.index.map(macd_s) #Bollinger Bands for ETH"
   ]
  },
  {
   "cell_type": "code",
   "execution_count": 64,
   "id": "a9745c53",
   "metadata": {},
   "outputs": [],
   "source": [
    "exp1 = df_eth['close'].ewm(span=12, adjust=False).mean()\n",
    "exp2 = df_eth['close'].ewm(span=26, adjust=False).mean()\n",
    "macd = exp1 - exp2\n",
    "macd_s = macd.ewm(span=9, adjust=False).mean()\n",
    "macd_h = macd - macd_s "
   ]
  },
  {
   "cell_type": "code",
   "execution_count": 65,
   "id": "a0fe59ca",
   "metadata": {},
   "outputs": [],
   "source": [
    "df_eth['macd'] = df_eth.index.map(macd)\n",
    "df_eth['macd_sig'] = df_eth.index.map(macd_h)\n",
    "df_eth['macd_cd'] = df_eth.index.map(macd_s) #MACD for ETH"
   ]
  },
  {
   "cell_type": "code",
   "execution_count": 66,
   "id": "e3568ba5",
   "metadata": {},
   "outputs": [
    {
     "data": {
      "text/html": [
       "<div>\n",
       "<style scoped>\n",
       "    .dataframe tbody tr th:only-of-type {\n",
       "        vertical-align: middle;\n",
       "    }\n",
       "\n",
       "    .dataframe tbody tr th {\n",
       "        vertical-align: top;\n",
       "    }\n",
       "\n",
       "    .dataframe thead th {\n",
       "        text-align: right;\n",
       "    }\n",
       "</style>\n",
       "<table border=\"1\" class=\"dataframe\">\n",
       "  <thead>\n",
       "    <tr style=\"text-align: right;\">\n",
       "      <th></th>\n",
       "      <th>STOCHk_14_3_3</th>\n",
       "      <th>STOCHd_14_3_3</th>\n",
       "    </tr>\n",
       "  </thead>\n",
       "  <tbody>\n",
       "    <tr>\n",
       "      <th>13</th>\n",
       "      <td>NaN</td>\n",
       "      <td>NaN</td>\n",
       "    </tr>\n",
       "    <tr>\n",
       "      <th>14</th>\n",
       "      <td>NaN</td>\n",
       "      <td>NaN</td>\n",
       "    </tr>\n",
       "    <tr>\n",
       "      <th>15</th>\n",
       "      <td>94.686003</td>\n",
       "      <td>NaN</td>\n",
       "    </tr>\n",
       "    <tr>\n",
       "      <th>16</th>\n",
       "      <td>91.603039</td>\n",
       "      <td>NaN</td>\n",
       "    </tr>\n",
       "    <tr>\n",
       "      <th>17</th>\n",
       "      <td>92.923412</td>\n",
       "      <td>93.070818</td>\n",
       "    </tr>\n",
       "    <tr>\n",
       "      <th>...</th>\n",
       "      <td>...</td>\n",
       "      <td>...</td>\n",
       "    </tr>\n",
       "    <tr>\n",
       "      <th>1637</th>\n",
       "      <td>29.840980</td>\n",
       "      <td>22.889345</td>\n",
       "    </tr>\n",
       "    <tr>\n",
       "      <th>1638</th>\n",
       "      <td>24.718406</td>\n",
       "      <td>25.321367</td>\n",
       "    </tr>\n",
       "    <tr>\n",
       "      <th>1639</th>\n",
       "      <td>24.870686</td>\n",
       "      <td>26.476691</td>\n",
       "    </tr>\n",
       "    <tr>\n",
       "      <th>1640</th>\n",
       "      <td>11.790684</td>\n",
       "      <td>20.459925</td>\n",
       "    </tr>\n",
       "    <tr>\n",
       "      <th>1641</th>\n",
       "      <td>8.983004</td>\n",
       "      <td>15.214791</td>\n",
       "    </tr>\n",
       "  </tbody>\n",
       "</table>\n",
       "<p>1629 rows × 2 columns</p>\n",
       "</div>"
      ],
      "text/plain": [
       "      STOCHk_14_3_3  STOCHd_14_3_3\n",
       "13              NaN            NaN\n",
       "14              NaN            NaN\n",
       "15        94.686003            NaN\n",
       "16        91.603039            NaN\n",
       "17        92.923412      93.070818\n",
       "...             ...            ...\n",
       "1637      29.840980      22.889345\n",
       "1638      24.718406      25.321367\n",
       "1639      24.870686      26.476691\n",
       "1640      11.790684      20.459925\n",
       "1641       8.983004      15.214791\n",
       "\n",
       "[1629 rows x 2 columns]"
      ]
     },
     "execution_count": 66,
     "metadata": {},
     "output_type": "execute_result"
    }
   ],
   "source": [
    "df_eth.ta.stoch(high='high', low='low', k=14, d=3, append=True)\n",
    "#that's literally it"
   ]
  },
  {
   "cell_type": "markdown",
   "id": "eacf87e1",
   "metadata": {},
   "source": [
    "# Features for AXS"
   ]
  },
  {
   "cell_type": "code",
   "execution_count": 67,
   "id": "8d01dd77",
   "metadata": {},
   "outputs": [],
   "source": [
    "df_acopy=df_axs[['close']]"
   ]
  },
  {
   "cell_type": "code",
   "execution_count": 68,
   "id": "91482d83",
   "metadata": {},
   "outputs": [],
   "source": [
    "df_acopy=df_acopy.diff(1).rename(columns={'close':'diff'})"
   ]
  },
  {
   "cell_type": "code",
   "execution_count": 69,
   "id": "28496c9c",
   "metadata": {},
   "outputs": [],
   "source": [
    "df_acopy['gain'] = df_acopy['diff'].clip(lower=0).round(2)\n",
    "df_acopy['loss'] = df_acopy['diff'].clip(upper=0).abs().round(2)"
   ]
  },
  {
   "cell_type": "code",
   "execution_count": 70,
   "id": "a07808bd",
   "metadata": {},
   "outputs": [],
   "source": [
    "window_length=14\n",
    "df_acopy['avg_gain'] = df_acopy['gain'].rolling(window=window_length, min_periods=window_length).mean()[:window_length+1]\n",
    "df_acopy['avg_loss'] = df_acopy['loss'].rolling(window=window_length, min_periods=window_length).mean()[:window_length+1]"
   ]
  },
  {
   "cell_type": "code",
   "execution_count": 71,
   "id": "cb532289",
   "metadata": {},
   "outputs": [],
   "source": [
    "for i, row in enumerate(df_acopy['avg_gain'].iloc[window_length+1:]):\n",
    "    df_acopy['avg_gain'].iloc[i + window_length + 1] =\\\n",
    "        (df_acopy['avg_gain'].iloc[i + window_length] *\n",
    "         (window_length - 1) +\n",
    "         df_acopy['gain'].iloc[i + window_length + 1])\\\n",
    "        / window_length\n",
    "# Average Losses\n",
    "for i, row in enumerate(df_acopy['avg_loss'].iloc[window_length+1:]):\n",
    "    df_acopy['avg_loss'].iloc[i + window_length + 1] =\\\n",
    "        (df_acopy['avg_loss'].iloc[i + window_length] *\n",
    "         (window_length - 1) +\n",
    "         df_acopy['loss'].iloc[i + window_length + 1])\\\n",
    "        / window_length"
   ]
  },
  {
   "cell_type": "code",
   "execution_count": 72,
   "id": "54b12188",
   "metadata": {},
   "outputs": [],
   "source": [
    "df_acopy['rs'] = df_acopy['avg_gain'] / df_acopy['avg_loss']"
   ]
  },
  {
   "cell_type": "code",
   "execution_count": 73,
   "id": "e57d9d12",
   "metadata": {},
   "outputs": [],
   "source": [
    "df_acopy['rsi'] = 100 - (100 / (1.0 + df_acopy['rs']))"
   ]
  },
  {
   "cell_type": "code",
   "execution_count": 74,
   "id": "61515611",
   "metadata": {},
   "outputs": [],
   "source": [
    "df_axs=pd.concat([df_axs,df_acopy], axis=1) #RSI for AXS"
   ]
  },
  {
   "cell_type": "code",
   "execution_count": 75,
   "id": "53f4775e",
   "metadata": {},
   "outputs": [],
   "source": [
    "closing_prices_a = df_axs['close']\n",
    "\n",
    "bollinger_up, bollinger_down = get_bollinger_bands(closing_prices_a)"
   ]
  },
  {
   "cell_type": "code",
   "execution_count": 76,
   "id": "a4cbf5e6",
   "metadata": {},
   "outputs": [],
   "source": [
    "sma_a = get_sma(closing_prices_a, 20)"
   ]
  },
  {
   "cell_type": "code",
   "execution_count": 77,
   "id": "91894ca5",
   "metadata": {},
   "outputs": [],
   "source": [
    "sma_a = pd.DataFrame(data=sma_a).rename(columns={'close':'bollinger'})"
   ]
  },
  {
   "cell_type": "code",
   "execution_count": 78,
   "id": "eebc744a",
   "metadata": {},
   "outputs": [],
   "source": [
    "df_axs=pd.concat([df_axs,sma_a],axis=1)"
   ]
  },
  {
   "cell_type": "code",
   "execution_count": 79,
   "id": "d7d27828",
   "metadata": {},
   "outputs": [],
   "source": [
    "exp1 = df_axs['close'].ewm(span=12, adjust=False).mean()\n",
    "exp2 = df_axs['close'].ewm(span=26, adjust=False).mean()\n",
    "macd = exp1 - exp2\n",
    "macd_s = macd.ewm(span=9, adjust=False).mean()\n",
    "macd_h = macd - macd_s"
   ]
  },
  {
   "cell_type": "code",
   "execution_count": 80,
   "id": "b783138b",
   "metadata": {},
   "outputs": [],
   "source": [
    "df_axs['macd'] = df_axs.index.map(macd)\n",
    "df_axs['macd_sig'] = df_axs.index.map(macd_h)\n",
    "df_axs['macd_cd'] = df_axs.index.map(macd_s) #Bollinger Bands for AXS"
   ]
  },
  {
   "cell_type": "code",
   "execution_count": 81,
   "id": "eea23793",
   "metadata": {},
   "outputs": [],
   "source": [
    "exp1 = df_axs['close'].ewm(span=12, adjust=False).mean()\n",
    "exp2 = df_axs['close'].ewm(span=26, adjust=False).mean()\n",
    "macd = exp1 - exp2\n",
    "macd_s = macd.ewm(span=9, adjust=False).mean()\n",
    "macd_h = macd - macd_s "
   ]
  },
  {
   "cell_type": "code",
   "execution_count": 82,
   "id": "509f8e1e",
   "metadata": {},
   "outputs": [],
   "source": [
    "df_axs['macd'] = df_axs.index.map(macd)\n",
    "df_axs['macd_sig'] = df_axs.index.map(macd_h)\n",
    "df_axs['macd_cd'] = df_axs.index.map(macd_s) #MACD for AXS"
   ]
  },
  {
   "cell_type": "code",
   "execution_count": 83,
   "id": "0372712a",
   "metadata": {},
   "outputs": [
    {
     "data": {
      "text/html": [
       "<div>\n",
       "<style scoped>\n",
       "    .dataframe tbody tr th:only-of-type {\n",
       "        vertical-align: middle;\n",
       "    }\n",
       "\n",
       "    .dataframe tbody tr th {\n",
       "        vertical-align: top;\n",
       "    }\n",
       "\n",
       "    .dataframe thead th {\n",
       "        text-align: right;\n",
       "    }\n",
       "</style>\n",
       "<table border=\"1\" class=\"dataframe\">\n",
       "  <thead>\n",
       "    <tr style=\"text-align: right;\">\n",
       "      <th></th>\n",
       "      <th>STOCHk_14_3_3</th>\n",
       "      <th>STOCHd_14_3_3</th>\n",
       "    </tr>\n",
       "  </thead>\n",
       "  <tbody>\n",
       "    <tr>\n",
       "      <th>13</th>\n",
       "      <td>NaN</td>\n",
       "      <td>NaN</td>\n",
       "    </tr>\n",
       "    <tr>\n",
       "      <th>14</th>\n",
       "      <td>NaN</td>\n",
       "      <td>NaN</td>\n",
       "    </tr>\n",
       "    <tr>\n",
       "      <th>15</th>\n",
       "      <td>64.569898</td>\n",
       "      <td>NaN</td>\n",
       "    </tr>\n",
       "    <tr>\n",
       "      <th>16</th>\n",
       "      <td>63.921860</td>\n",
       "      <td>NaN</td>\n",
       "    </tr>\n",
       "    <tr>\n",
       "      <th>17</th>\n",
       "      <td>60.499978</td>\n",
       "      <td>62.997245</td>\n",
       "    </tr>\n",
       "    <tr>\n",
       "      <th>...</th>\n",
       "      <td>...</td>\n",
       "      <td>...</td>\n",
       "    </tr>\n",
       "    <tr>\n",
       "      <th>546</th>\n",
       "      <td>17.799167</td>\n",
       "      <td>16.032977</td>\n",
       "    </tr>\n",
       "    <tr>\n",
       "      <th>547</th>\n",
       "      <td>16.139782</td>\n",
       "      <td>16.366809</td>\n",
       "    </tr>\n",
       "    <tr>\n",
       "      <th>548</th>\n",
       "      <td>15.361942</td>\n",
       "      <td>16.433630</td>\n",
       "    </tr>\n",
       "    <tr>\n",
       "      <th>549</th>\n",
       "      <td>8.276712</td>\n",
       "      <td>13.259479</td>\n",
       "    </tr>\n",
       "    <tr>\n",
       "      <th>550</th>\n",
       "      <td>11.400386</td>\n",
       "      <td>11.679680</td>\n",
       "    </tr>\n",
       "  </tbody>\n",
       "</table>\n",
       "<p>538 rows × 2 columns</p>\n",
       "</div>"
      ],
      "text/plain": [
       "     STOCHk_14_3_3  STOCHd_14_3_3\n",
       "13             NaN            NaN\n",
       "14             NaN            NaN\n",
       "15       64.569898            NaN\n",
       "16       63.921860            NaN\n",
       "17       60.499978      62.997245\n",
       "..             ...            ...\n",
       "546      17.799167      16.032977\n",
       "547      16.139782      16.366809\n",
       "548      15.361942      16.433630\n",
       "549       8.276712      13.259479\n",
       "550      11.400386      11.679680\n",
       "\n",
       "[538 rows x 2 columns]"
      ]
     },
     "execution_count": 83,
     "metadata": {},
     "output_type": "execute_result"
    }
   ],
   "source": [
    "df_axs.ta.stoch(high='high', low='low', k=14, d=3, append=True)\n",
    "#that's literally it"
   ]
  },
  {
   "cell_type": "markdown",
   "id": "4da78f19",
   "metadata": {},
   "source": [
    "# Features for LINK"
   ]
  },
  {
   "cell_type": "code",
   "execution_count": 84,
   "id": "4a67f914",
   "metadata": {},
   "outputs": [],
   "source": [
    "df_acopy=df_link[['close']]"
   ]
  },
  {
   "cell_type": "code",
   "execution_count": 85,
   "id": "5472aadd",
   "metadata": {},
   "outputs": [],
   "source": [
    "df_acopy=df_acopy.diff(1).rename(columns={'close':'diff'})"
   ]
  },
  {
   "cell_type": "code",
   "execution_count": 86,
   "id": "838700a6",
   "metadata": {},
   "outputs": [],
   "source": [
    "df_acopy['gain'] = df_acopy['diff'].clip(lower=0).round(2)\n",
    "df_acopy['loss'] = df_acopy['diff'].clip(upper=0).abs().round(2)"
   ]
  },
  {
   "cell_type": "code",
   "execution_count": 87,
   "id": "ea86df23",
   "metadata": {},
   "outputs": [],
   "source": [
    "window_length=14\n",
    "df_acopy['avg_gain'] = df_acopy['gain'].rolling(window=window_length, min_periods=window_length).mean()[:window_length+1]\n",
    "df_acopy['avg_loss'] = df_acopy['loss'].rolling(window=window_length, min_periods=window_length).mean()[:window_length+1]"
   ]
  },
  {
   "cell_type": "code",
   "execution_count": 88,
   "id": "1801e880",
   "metadata": {},
   "outputs": [],
   "source": [
    "for i, row in enumerate(df_acopy['avg_gain'].iloc[window_length+1:]):\n",
    "    df_acopy['avg_gain'].iloc[i + window_length + 1] =\\\n",
    "        (df_acopy['avg_gain'].iloc[i + window_length] *\n",
    "         (window_length - 1) +\n",
    "         df_acopy['gain'].iloc[i + window_length + 1])\\\n",
    "        / window_length\n",
    "# Average Losses\n",
    "for i, row in enumerate(df_acopy['avg_loss'].iloc[window_length+1:]):\n",
    "    df_acopy['avg_loss'].iloc[i + window_length + 1] =\\\n",
    "        (df_acopy['avg_loss'].iloc[i + window_length] *\n",
    "         (window_length - 1) +\n",
    "         df_acopy['loss'].iloc[i + window_length + 1])\\\n",
    "        / window_length"
   ]
  },
  {
   "cell_type": "code",
   "execution_count": 89,
   "id": "235cb6cd",
   "metadata": {},
   "outputs": [],
   "source": [
    "df_acopy['rs'] = df_acopy['avg_gain'] / df_acopy['avg_loss']"
   ]
  },
  {
   "cell_type": "code",
   "execution_count": 90,
   "id": "10dfd435",
   "metadata": {},
   "outputs": [],
   "source": [
    "df_acopy['rsi'] = 100 - (100 / (1.0 + df_acopy['rs']))"
   ]
  },
  {
   "cell_type": "code",
   "execution_count": 91,
   "id": "e95e91de",
   "metadata": {},
   "outputs": [],
   "source": [
    "df_link=pd.concat([df_link,df_acopy], axis=1) #RSI for LINK"
   ]
  },
  {
   "cell_type": "code",
   "execution_count": 92,
   "id": "5d9169c0",
   "metadata": {},
   "outputs": [],
   "source": [
    "closing_prices_a = df_link['close']\n",
    "\n",
    "bollinger_up, bollinger_down = get_bollinger_bands(closing_prices_a)"
   ]
  },
  {
   "cell_type": "code",
   "execution_count": 93,
   "id": "9944eab3",
   "metadata": {},
   "outputs": [],
   "source": [
    "sma_a = get_sma(closing_prices_a, 20)"
   ]
  },
  {
   "cell_type": "code",
   "execution_count": 94,
   "id": "0145ffc3",
   "metadata": {},
   "outputs": [],
   "source": [
    "sma_a = pd.DataFrame(data=sma_a).rename(columns={'close':'bollinger'})"
   ]
  },
  {
   "cell_type": "code",
   "execution_count": 95,
   "id": "02bf3a46",
   "metadata": {},
   "outputs": [],
   "source": [
    "df_link=pd.concat([df_link,sma_a],axis=1)"
   ]
  },
  {
   "cell_type": "code",
   "execution_count": 96,
   "id": "4999a1b9",
   "metadata": {},
   "outputs": [],
   "source": [
    "exp1 = df_link['close'].ewm(span=12, adjust=False).mean()\n",
    "exp2 = df_link['close'].ewm(span=26, adjust=False).mean()\n",
    "macd = exp1 - exp2\n",
    "macd_s = macd.ewm(span=9, adjust=False).mean()\n",
    "macd_h = macd - macd_s"
   ]
  },
  {
   "cell_type": "code",
   "execution_count": 97,
   "id": "6d379f60",
   "metadata": {},
   "outputs": [],
   "source": [
    "df_link['macd'] = df_link.index.map(macd)\n",
    "df_link['macd_sig'] = df_link.index.map(macd_h)\n",
    "df_link['macd_cd'] = df_link.index.map(macd_s) #Bollinger Bands for LINK"
   ]
  },
  {
   "cell_type": "code",
   "execution_count": 98,
   "id": "43d731ff",
   "metadata": {},
   "outputs": [],
   "source": [
    "exp1 = df_ada['close'].ewm(span=12, adjust=False).mean()\n",
    "exp2 = df_ada['close'].ewm(span=26, adjust=False).mean()\n",
    "macd = exp1 - exp2\n",
    "macd_s = macd.ewm(span=9, adjust=False).mean()\n",
    "macd_h = macd - macd_s "
   ]
  },
  {
   "cell_type": "code",
   "execution_count": 99,
   "id": "bc73177b",
   "metadata": {},
   "outputs": [],
   "source": [
    "df_link['macd'] = df_link.index.map(macd)\n",
    "df_link['macd_sig'] = df_link.index.map(macd_h)\n",
    "df_link['macd_cd'] = df_link.index.map(macd_s) #MACD for LINK"
   ]
  },
  {
   "cell_type": "code",
   "execution_count": 100,
   "id": "a3dbddae",
   "metadata": {},
   "outputs": [
    {
     "data": {
      "text/html": [
       "<div>\n",
       "<style scoped>\n",
       "    .dataframe tbody tr th:only-of-type {\n",
       "        vertical-align: middle;\n",
       "    }\n",
       "\n",
       "    .dataframe tbody tr th {\n",
       "        vertical-align: top;\n",
       "    }\n",
       "\n",
       "    .dataframe thead th {\n",
       "        text-align: right;\n",
       "    }\n",
       "</style>\n",
       "<table border=\"1\" class=\"dataframe\">\n",
       "  <thead>\n",
       "    <tr style=\"text-align: right;\">\n",
       "      <th></th>\n",
       "      <th>STOCHk_14_3_3</th>\n",
       "      <th>STOCHd_14_3_3</th>\n",
       "    </tr>\n",
       "  </thead>\n",
       "  <tbody>\n",
       "    <tr>\n",
       "      <th>13</th>\n",
       "      <td>NaN</td>\n",
       "      <td>NaN</td>\n",
       "    </tr>\n",
       "    <tr>\n",
       "      <th>14</th>\n",
       "      <td>NaN</td>\n",
       "      <td>NaN</td>\n",
       "    </tr>\n",
       "    <tr>\n",
       "      <th>15</th>\n",
       "      <td>41.064724</td>\n",
       "      <td>NaN</td>\n",
       "    </tr>\n",
       "    <tr>\n",
       "      <th>16</th>\n",
       "      <td>53.468560</td>\n",
       "      <td>NaN</td>\n",
       "    </tr>\n",
       "    <tr>\n",
       "      <th>17</th>\n",
       "      <td>66.115991</td>\n",
       "      <td>53.549758</td>\n",
       "    </tr>\n",
       "    <tr>\n",
       "      <th>...</th>\n",
       "      <td>...</td>\n",
       "      <td>...</td>\n",
       "    </tr>\n",
       "    <tr>\n",
       "      <th>1637</th>\n",
       "      <td>17.891373</td>\n",
       "      <td>11.557456</td>\n",
       "    </tr>\n",
       "    <tr>\n",
       "      <th>1638</th>\n",
       "      <td>16.770059</td>\n",
       "      <td>14.643462</td>\n",
       "    </tr>\n",
       "    <tr>\n",
       "      <th>1639</th>\n",
       "      <td>17.451539</td>\n",
       "      <td>17.370990</td>\n",
       "    </tr>\n",
       "    <tr>\n",
       "      <th>1640</th>\n",
       "      <td>6.424075</td>\n",
       "      <td>13.548558</td>\n",
       "    </tr>\n",
       "    <tr>\n",
       "      <th>1641</th>\n",
       "      <td>5.621395</td>\n",
       "      <td>9.832337</td>\n",
       "    </tr>\n",
       "  </tbody>\n",
       "</table>\n",
       "<p>1629 rows × 2 columns</p>\n",
       "</div>"
      ],
      "text/plain": [
       "      STOCHk_14_3_3  STOCHd_14_3_3\n",
       "13              NaN            NaN\n",
       "14              NaN            NaN\n",
       "15        41.064724            NaN\n",
       "16        53.468560            NaN\n",
       "17        66.115991      53.549758\n",
       "...             ...            ...\n",
       "1637      17.891373      11.557456\n",
       "1638      16.770059      14.643462\n",
       "1639      17.451539      17.370990\n",
       "1640       6.424075      13.548558\n",
       "1641       5.621395       9.832337\n",
       "\n",
       "[1629 rows x 2 columns]"
      ]
     },
     "execution_count": 100,
     "metadata": {},
     "output_type": "execute_result"
    }
   ],
   "source": [
    "df_link.ta.stoch(high='high', low='low', k=14, d=3, append=True)\n",
    "#that's literally it"
   ]
  },
  {
   "cell_type": "markdown",
   "id": "a7376f3c",
   "metadata": {},
   "source": [
    "# Features for AVAX"
   ]
  },
  {
   "cell_type": "code",
   "execution_count": 101,
   "id": "3eac5c02",
   "metadata": {},
   "outputs": [],
   "source": [
    "df_acopy=df_avax[['close']]"
   ]
  },
  {
   "cell_type": "code",
   "execution_count": 102,
   "id": "5165d486",
   "metadata": {},
   "outputs": [],
   "source": [
    "df_acopy=df_acopy.diff(1).rename(columns={'close':'diff'})"
   ]
  },
  {
   "cell_type": "code",
   "execution_count": 103,
   "id": "80438150",
   "metadata": {},
   "outputs": [],
   "source": [
    "df_acopy['gain'] = df_acopy['diff'].clip(lower=0).round(2)\n",
    "df_acopy['loss'] = df_acopy['diff'].clip(upper=0).abs().round(2)"
   ]
  },
  {
   "cell_type": "code",
   "execution_count": 104,
   "id": "f5a9282c",
   "metadata": {},
   "outputs": [],
   "source": [
    "window_length=14\n",
    "df_acopy['avg_gain'] = df_acopy['gain'].rolling(window=window_length, min_periods=window_length).mean()[:window_length+1]\n",
    "df_acopy['avg_loss'] = df_acopy['loss'].rolling(window=window_length, min_periods=window_length).mean()[:window_length+1]"
   ]
  },
  {
   "cell_type": "code",
   "execution_count": 105,
   "id": "1af99756",
   "metadata": {},
   "outputs": [],
   "source": [
    "for i, row in enumerate(df_acopy['avg_gain'].iloc[window_length+1:]):\n",
    "    df_acopy['avg_gain'].iloc[i + window_length + 1] =\\\n",
    "        (df_acopy['avg_gain'].iloc[i + window_length] *\n",
    "         (window_length - 1) +\n",
    "         df_acopy['gain'].iloc[i + window_length + 1])\\\n",
    "        / window_length\n",
    "# Average Losses\n",
    "for i, row in enumerate(df_acopy['avg_loss'].iloc[window_length+1:]):\n",
    "    df_acopy['avg_loss'].iloc[i + window_length + 1] =\\\n",
    "        (df_acopy['avg_loss'].iloc[i + window_length] *\n",
    "         (window_length - 1) +\n",
    "         df_acopy['loss'].iloc[i + window_length + 1])\\\n",
    "        / window_length"
   ]
  },
  {
   "cell_type": "code",
   "execution_count": 106,
   "id": "a485be3a",
   "metadata": {},
   "outputs": [],
   "source": [
    "df_acopy['rs'] = df_acopy['avg_gain'] / df_acopy['avg_loss']"
   ]
  },
  {
   "cell_type": "code",
   "execution_count": 107,
   "id": "0da6df0f",
   "metadata": {},
   "outputs": [],
   "source": [
    "df_acopy['rsi'] = 100 - (100 / (1.0 + df_acopy['rs']))"
   ]
  },
  {
   "cell_type": "code",
   "execution_count": 108,
   "id": "72e11dd8",
   "metadata": {},
   "outputs": [],
   "source": [
    "df_avax=pd.concat([df_avax,df_acopy], axis=1) #RSI for AVX"
   ]
  },
  {
   "cell_type": "code",
   "execution_count": 109,
   "id": "73f448b4",
   "metadata": {},
   "outputs": [],
   "source": [
    "closing_prices_a = df_avax['close']\n",
    "\n",
    "bollinger_up, bollinger_down = get_bollinger_bands(closing_prices_a)"
   ]
  },
  {
   "cell_type": "code",
   "execution_count": 110,
   "id": "18e6eb39",
   "metadata": {},
   "outputs": [],
   "source": [
    "sma_a = get_sma(closing_prices_a, 20)"
   ]
  },
  {
   "cell_type": "code",
   "execution_count": 111,
   "id": "1c7d5809",
   "metadata": {},
   "outputs": [],
   "source": [
    "sma_a = pd.DataFrame(data=sma_a).rename(columns={'close':'bollinger'})"
   ]
  },
  {
   "cell_type": "code",
   "execution_count": 112,
   "id": "e32c0f3e",
   "metadata": {},
   "outputs": [],
   "source": [
    "df_avax=pd.concat([df_avax,sma_a],axis=1)"
   ]
  },
  {
   "cell_type": "code",
   "execution_count": 113,
   "id": "d12d141c",
   "metadata": {},
   "outputs": [],
   "source": [
    "exp1 = df_avax['close'].ewm(span=12, adjust=False).mean()\n",
    "exp2 = df_avax['close'].ewm(span=26, adjust=False).mean()\n",
    "macd = exp1 - exp2\n",
    "macd_s = macd.ewm(span=9, adjust=False).mean()\n",
    "macd_h = macd - macd_s"
   ]
  },
  {
   "cell_type": "code",
   "execution_count": 114,
   "id": "1d689528",
   "metadata": {},
   "outputs": [],
   "source": [
    "df_avax['macd'] = df_avax.index.map(macd)\n",
    "df_avax['macd_sig'] = df_avax.index.map(macd_h)\n",
    "df_avax['macd_cd'] = df_avax.index.map(macd_s) #Bollinger Bands for AVX"
   ]
  },
  {
   "cell_type": "code",
   "execution_count": 115,
   "id": "8d41d576",
   "metadata": {},
   "outputs": [],
   "source": [
    "exp1 = df_avax['close'].ewm(span=12, adjust=False).mean()\n",
    "exp2 = df_avax['close'].ewm(span=26, adjust=False).mean()\n",
    "macd = exp1 - exp2\n",
    "macd_s = macd.ewm(span=9, adjust=False).mean()\n",
    "macd_h = macd - macd_s "
   ]
  },
  {
   "cell_type": "code",
   "execution_count": 116,
   "id": "d74164a0",
   "metadata": {},
   "outputs": [],
   "source": [
    "df_avax['macd'] = df_avax.index.map(macd)\n",
    "df_avax['macd_sig'] = df_avax.index.map(macd_h)\n",
    "df_avax['macd_cd'] = df_avax.index.map(macd_s) #MACD for AVX"
   ]
  },
  {
   "cell_type": "code",
   "execution_count": 117,
   "id": "c44cf602",
   "metadata": {
    "scrolled": true
   },
   "outputs": [
    {
     "data": {
      "text/html": [
       "<div>\n",
       "<style scoped>\n",
       "    .dataframe tbody tr th:only-of-type {\n",
       "        vertical-align: middle;\n",
       "    }\n",
       "\n",
       "    .dataframe tbody tr th {\n",
       "        vertical-align: top;\n",
       "    }\n",
       "\n",
       "    .dataframe thead th {\n",
       "        text-align: right;\n",
       "    }\n",
       "</style>\n",
       "<table border=\"1\" class=\"dataframe\">\n",
       "  <thead>\n",
       "    <tr style=\"text-align: right;\">\n",
       "      <th></th>\n",
       "      <th>STOCHk_14_3_3</th>\n",
       "      <th>STOCHd_14_3_3</th>\n",
       "    </tr>\n",
       "  </thead>\n",
       "  <tbody>\n",
       "    <tr>\n",
       "      <th>13</th>\n",
       "      <td>NaN</td>\n",
       "      <td>NaN</td>\n",
       "    </tr>\n",
       "    <tr>\n",
       "      <th>14</th>\n",
       "      <td>NaN</td>\n",
       "      <td>NaN</td>\n",
       "    </tr>\n",
       "    <tr>\n",
       "      <th>15</th>\n",
       "      <td>5.641950</td>\n",
       "      <td>NaN</td>\n",
       "    </tr>\n",
       "    <tr>\n",
       "      <th>16</th>\n",
       "      <td>3.956885</td>\n",
       "      <td>NaN</td>\n",
       "    </tr>\n",
       "    <tr>\n",
       "      <th>17</th>\n",
       "      <td>6.361188</td>\n",
       "      <td>5.320008</td>\n",
       "    </tr>\n",
       "    <tr>\n",
       "      <th>...</th>\n",
       "      <td>...</td>\n",
       "      <td>...</td>\n",
       "    </tr>\n",
       "    <tr>\n",
       "      <th>591</th>\n",
       "      <td>27.108926</td>\n",
       "      <td>18.314249</td>\n",
       "    </tr>\n",
       "    <tr>\n",
       "      <th>592</th>\n",
       "      <td>26.148788</td>\n",
       "      <td>22.959625</td>\n",
       "    </tr>\n",
       "    <tr>\n",
       "      <th>593</th>\n",
       "      <td>23.816604</td>\n",
       "      <td>25.691439</td>\n",
       "    </tr>\n",
       "    <tr>\n",
       "      <th>594</th>\n",
       "      <td>10.769882</td>\n",
       "      <td>20.245091</td>\n",
       "    </tr>\n",
       "    <tr>\n",
       "      <th>595</th>\n",
       "      <td>6.565469</td>\n",
       "      <td>13.717318</td>\n",
       "    </tr>\n",
       "  </tbody>\n",
       "</table>\n",
       "<p>583 rows × 2 columns</p>\n",
       "</div>"
      ],
      "text/plain": [
       "     STOCHk_14_3_3  STOCHd_14_3_3\n",
       "13             NaN            NaN\n",
       "14             NaN            NaN\n",
       "15        5.641950            NaN\n",
       "16        3.956885            NaN\n",
       "17        6.361188       5.320008\n",
       "..             ...            ...\n",
       "591      27.108926      18.314249\n",
       "592      26.148788      22.959625\n",
       "593      23.816604      25.691439\n",
       "594      10.769882      20.245091\n",
       "595       6.565469      13.717318\n",
       "\n",
       "[583 rows x 2 columns]"
      ]
     },
     "execution_count": 117,
     "metadata": {},
     "output_type": "execute_result"
    }
   ],
   "source": [
    "df_avax.ta.stoch(high='high', low='low', k=14, d=3, append=True)\n",
    "#that's literally it"
   ]
  },
  {
   "cell_type": "markdown",
   "id": "e887df34",
   "metadata": {},
   "source": [
    "# Features for LUNA1"
   ]
  },
  {
   "cell_type": "code",
   "execution_count": 118,
   "id": "846ca39e",
   "metadata": {},
   "outputs": [],
   "source": [
    "df_acopy=df_luna[['close']]"
   ]
  },
  {
   "cell_type": "code",
   "execution_count": 119,
   "id": "995abb3e",
   "metadata": {},
   "outputs": [],
   "source": [
    "df_acopy=df_acopy.diff(1).rename(columns={'close':'diff'})"
   ]
  },
  {
   "cell_type": "code",
   "execution_count": 120,
   "id": "e0bc17ff",
   "metadata": {},
   "outputs": [],
   "source": [
    "df_acopy['gain'] = df_acopy['diff'].clip(lower=0).round(2)\n",
    "df_acopy['loss'] = df_acopy['diff'].clip(upper=0).abs().round(2)"
   ]
  },
  {
   "cell_type": "code",
   "execution_count": 121,
   "id": "24cd9ac4",
   "metadata": {},
   "outputs": [],
   "source": [
    "window_length=14\n",
    "df_acopy['avg_gain'] = df_acopy['gain'].rolling(window=window_length, min_periods=window_length).mean()[:window_length+1]\n",
    "df_acopy['avg_loss'] = df_acopy['loss'].rolling(window=window_length, min_periods=window_length).mean()[:window_length+1]"
   ]
  },
  {
   "cell_type": "code",
   "execution_count": 122,
   "id": "c9349e6b",
   "metadata": {},
   "outputs": [],
   "source": [
    "for i, row in enumerate(df_acopy['avg_gain'].iloc[window_length+1:]):\n",
    "    df_acopy['avg_gain'].iloc[i + window_length + 1] =\\\n",
    "        (df_acopy['avg_gain'].iloc[i + window_length] *\n",
    "         (window_length - 1) +\n",
    "         df_acopy['gain'].iloc[i + window_length + 1])\\\n",
    "        / window_length\n",
    "# Average Losses\n",
    "for i, row in enumerate(df_acopy['avg_loss'].iloc[window_length+1:]):\n",
    "    df_acopy['avg_loss'].iloc[i + window_length + 1] =\\\n",
    "        (df_acopy['avg_loss'].iloc[i + window_length] *\n",
    "         (window_length - 1) +\n",
    "         df_acopy['loss'].iloc[i + window_length + 1])\\\n",
    "        / window_length"
   ]
  },
  {
   "cell_type": "code",
   "execution_count": 123,
   "id": "b902853f",
   "metadata": {},
   "outputs": [],
   "source": [
    "df_acopy['rs'] = df_acopy['avg_gain'] / df_acopy['avg_loss']"
   ]
  },
  {
   "cell_type": "code",
   "execution_count": 124,
   "id": "d75fa65a",
   "metadata": {},
   "outputs": [],
   "source": [
    "df_acopy['rsi'] = 100 - (100 / (1.0 + df_acopy['rs']))"
   ]
  },
  {
   "cell_type": "code",
   "execution_count": 125,
   "id": "b82cb4f4",
   "metadata": {},
   "outputs": [],
   "source": [
    "df_luna=pd.concat([df_luna,df_acopy], axis=1) #RSI for LUNA"
   ]
  },
  {
   "cell_type": "code",
   "execution_count": 126,
   "id": "edaa9dfc",
   "metadata": {},
   "outputs": [],
   "source": [
    "closing_prices_a = df_luna['close']\n",
    "\n",
    "bollinger_up, bollinger_down = get_bollinger_bands(closing_prices_a)"
   ]
  },
  {
   "cell_type": "code",
   "execution_count": 127,
   "id": "4fa692da",
   "metadata": {},
   "outputs": [],
   "source": [
    "sma_a = get_sma(closing_prices_a, 20)"
   ]
  },
  {
   "cell_type": "code",
   "execution_count": 128,
   "id": "54827fac",
   "metadata": {},
   "outputs": [],
   "source": [
    "sma_a = pd.DataFrame(data=sma_a).rename(columns={'close':'bollinger'})"
   ]
  },
  {
   "cell_type": "code",
   "execution_count": 129,
   "id": "31ec31fa",
   "metadata": {},
   "outputs": [],
   "source": [
    "df_luna=pd.concat([df_luna,sma_a],axis=1)"
   ]
  },
  {
   "cell_type": "code",
   "execution_count": 130,
   "id": "b2cb212d",
   "metadata": {},
   "outputs": [],
   "source": [
    "exp1 = df_ada['close'].ewm(span=12, adjust=False).mean()\n",
    "exp2 = df_ada['close'].ewm(span=26, adjust=False).mean()\n",
    "macd = exp1 - exp2\n",
    "macd_s = macd.ewm(span=9, adjust=False).mean()\n",
    "macd_h = macd - macd_s"
   ]
  },
  {
   "cell_type": "code",
   "execution_count": 131,
   "id": "b564ceb0",
   "metadata": {},
   "outputs": [],
   "source": [
    "df_luna['macd'] = df_luna.index.map(macd)\n",
    "df_luna['macd_sig'] = df_luna.index.map(macd_h)\n",
    "df_luna['macd_cd'] = df_luna.index.map(macd_s) #Bollinger Bands for luna"
   ]
  },
  {
   "cell_type": "code",
   "execution_count": 132,
   "id": "4150fac2",
   "metadata": {},
   "outputs": [],
   "source": [
    "exp1 = df_luna['close'].ewm(span=12, adjust=False).mean()\n",
    "exp2 = df_luna['close'].ewm(span=26, adjust=False).mean()\n",
    "macd = exp1 - exp2\n",
    "macd_s = macd.ewm(span=9, adjust=False).mean()\n",
    "macd_h = macd - macd_s "
   ]
  },
  {
   "cell_type": "code",
   "execution_count": 133,
   "id": "e019a962",
   "metadata": {},
   "outputs": [],
   "source": [
    "df_luna['macd'] = df_luna.index.map(macd)\n",
    "df_luna['macd_sig'] = df_luna.index.map(macd_h)\n",
    "df_luna['macd_cd'] = df_luna.index.map(macd_s) #MACD for luna"
   ]
  },
  {
   "cell_type": "code",
   "execution_count": 134,
   "id": "c85277f5",
   "metadata": {},
   "outputs": [
    {
     "data": {
      "text/html": [
       "<div>\n",
       "<style scoped>\n",
       "    .dataframe tbody tr th:only-of-type {\n",
       "        vertical-align: middle;\n",
       "    }\n",
       "\n",
       "    .dataframe tbody tr th {\n",
       "        vertical-align: top;\n",
       "    }\n",
       "\n",
       "    .dataframe thead th {\n",
       "        text-align: right;\n",
       "    }\n",
       "</style>\n",
       "<table border=\"1\" class=\"dataframe\">\n",
       "  <thead>\n",
       "    <tr style=\"text-align: right;\">\n",
       "      <th></th>\n",
       "      <th>STOCHk_14_3_3</th>\n",
       "      <th>STOCHd_14_3_3</th>\n",
       "    </tr>\n",
       "  </thead>\n",
       "  <tbody>\n",
       "    <tr>\n",
       "      <th>13</th>\n",
       "      <td>NaN</td>\n",
       "      <td>NaN</td>\n",
       "    </tr>\n",
       "    <tr>\n",
       "      <th>14</th>\n",
       "      <td>NaN</td>\n",
       "      <td>NaN</td>\n",
       "    </tr>\n",
       "    <tr>\n",
       "      <th>15</th>\n",
       "      <td>30.333836</td>\n",
       "      <td>NaN</td>\n",
       "    </tr>\n",
       "    <tr>\n",
       "      <th>16</th>\n",
       "      <td>46.834235</td>\n",
       "      <td>NaN</td>\n",
       "    </tr>\n",
       "    <tr>\n",
       "      <th>17</th>\n",
       "      <td>53.917410</td>\n",
       "      <td>43.695160</td>\n",
       "    </tr>\n",
       "    <tr>\n",
       "      <th>...</th>\n",
       "      <td>...</td>\n",
       "      <td>...</td>\n",
       "    </tr>\n",
       "    <tr>\n",
       "      <th>1013</th>\n",
       "      <td>33.096193</td>\n",
       "      <td>28.274191</td>\n",
       "    </tr>\n",
       "    <tr>\n",
       "      <th>1014</th>\n",
       "      <td>31.317394</td>\n",
       "      <td>30.919709</td>\n",
       "    </tr>\n",
       "    <tr>\n",
       "      <th>1015</th>\n",
       "      <td>23.701465</td>\n",
       "      <td>29.371684</td>\n",
       "    </tr>\n",
       "    <tr>\n",
       "      <th>1016</th>\n",
       "      <td>14.348959</td>\n",
       "      <td>23.122606</td>\n",
       "    </tr>\n",
       "    <tr>\n",
       "      <th>1017</th>\n",
       "      <td>9.235294</td>\n",
       "      <td>15.761906</td>\n",
       "    </tr>\n",
       "  </tbody>\n",
       "</table>\n",
       "<p>1005 rows × 2 columns</p>\n",
       "</div>"
      ],
      "text/plain": [
       "      STOCHk_14_3_3  STOCHd_14_3_3\n",
       "13              NaN            NaN\n",
       "14              NaN            NaN\n",
       "15        30.333836            NaN\n",
       "16        46.834235            NaN\n",
       "17        53.917410      43.695160\n",
       "...             ...            ...\n",
       "1013      33.096193      28.274191\n",
       "1014      31.317394      30.919709\n",
       "1015      23.701465      29.371684\n",
       "1016      14.348959      23.122606\n",
       "1017       9.235294      15.761906\n",
       "\n",
       "[1005 rows x 2 columns]"
      ]
     },
     "execution_count": 134,
     "metadata": {},
     "output_type": "execute_result"
    }
   ],
   "source": [
    "df_luna.ta.stoch(high='high', low='low', k=14, d=3, append=True)\n",
    "#that's literally it"
   ]
  },
  {
   "cell_type": "markdown",
   "id": "80625f1c",
   "metadata": {},
   "source": [
    "# Features for MATIC"
   ]
  },
  {
   "cell_type": "code",
   "execution_count": 135,
   "id": "9a329307",
   "metadata": {},
   "outputs": [],
   "source": [
    "df_acopy=df_matic[['close']]"
   ]
  },
  {
   "cell_type": "code",
   "execution_count": 136,
   "id": "56f4c594",
   "metadata": {},
   "outputs": [],
   "source": [
    "df_acopy=df_acopy.diff(1).rename(columns={'close':'diff'})"
   ]
  },
  {
   "cell_type": "code",
   "execution_count": 137,
   "id": "592bef4b",
   "metadata": {},
   "outputs": [],
   "source": [
    "df_acopy['gain'] = df_acopy['diff'].clip(lower=0).round(2)\n",
    "df_acopy['loss'] = df_acopy['diff'].clip(upper=0).abs().round(2)"
   ]
  },
  {
   "cell_type": "code",
   "execution_count": 138,
   "id": "0101bfdf",
   "metadata": {},
   "outputs": [],
   "source": [
    "window_length=14\n",
    "df_acopy['avg_gain'] = df_acopy['gain'].rolling(window=window_length, min_periods=window_length).mean()[:window_length+1]\n",
    "df_acopy['avg_loss'] = df_acopy['loss'].rolling(window=window_length, min_periods=window_length).mean()[:window_length+1]"
   ]
  },
  {
   "cell_type": "code",
   "execution_count": 139,
   "id": "30ca283d",
   "metadata": {},
   "outputs": [],
   "source": [
    "for i, row in enumerate(df_acopy['avg_gain'].iloc[window_length+1:]):\n",
    "    df_acopy['avg_gain'].iloc[i + window_length + 1] =\\\n",
    "        (df_acopy['avg_gain'].iloc[i + window_length] *\n",
    "         (window_length - 1) +\n",
    "         df_acopy['gain'].iloc[i + window_length + 1])\\\n",
    "        / window_length\n",
    "# Average Losses\n",
    "for i, row in enumerate(df_acopy['avg_loss'].iloc[window_length+1:]):\n",
    "    df_acopy['avg_loss'].iloc[i + window_length + 1] =\\\n",
    "        (df_acopy['avg_loss'].iloc[i + window_length] *\n",
    "         (window_length - 1) +\n",
    "         df_acopy['loss'].iloc[i + window_length + 1])\\\n",
    "        / window_length"
   ]
  },
  {
   "cell_type": "code",
   "execution_count": 140,
   "id": "0d1aaa59",
   "metadata": {},
   "outputs": [],
   "source": [
    "df_acopy['rs'] = df_acopy['avg_gain'] / df_acopy['avg_loss']"
   ]
  },
  {
   "cell_type": "code",
   "execution_count": 141,
   "id": "94d2e127",
   "metadata": {},
   "outputs": [],
   "source": [
    "df_acopy['rsi'] = 100 - (100 / (1.0 + df_acopy['rs']))"
   ]
  },
  {
   "cell_type": "code",
   "execution_count": 142,
   "id": "94be7b98",
   "metadata": {},
   "outputs": [],
   "source": [
    "df_matic=pd.concat([df_matic,df_acopy], axis=1) #RSI for matic"
   ]
  },
  {
   "cell_type": "code",
   "execution_count": 143,
   "id": "c416df59",
   "metadata": {},
   "outputs": [],
   "source": [
    "closing_prices_a = df_matic['close']\n",
    "\n",
    "bollinger_up, bollinger_down = get_bollinger_bands(closing_prices_a)"
   ]
  },
  {
   "cell_type": "code",
   "execution_count": 144,
   "id": "4c4cf10a",
   "metadata": {},
   "outputs": [],
   "source": [
    "sma_a = get_sma(closing_prices_a, 20)"
   ]
  },
  {
   "cell_type": "code",
   "execution_count": 145,
   "id": "585e4ca5",
   "metadata": {},
   "outputs": [],
   "source": [
    "sma_a = pd.DataFrame(data=sma_a).rename(columns={'close':'bollinger'})"
   ]
  },
  {
   "cell_type": "code",
   "execution_count": 146,
   "id": "fcc9b482",
   "metadata": {},
   "outputs": [],
   "source": [
    "df_matic=pd.concat([df_matic,sma_a],axis=1)"
   ]
  },
  {
   "cell_type": "code",
   "execution_count": 147,
   "id": "1163db74",
   "metadata": {},
   "outputs": [],
   "source": [
    "exp1 = df_matic['close'].ewm(span=12, adjust=False).mean()\n",
    "exp2 = df_matic['close'].ewm(span=26, adjust=False).mean()\n",
    "macd = exp1 - exp2\n",
    "macd_s = macd.ewm(span=9, adjust=False).mean()\n",
    "macd_h = macd - macd_s"
   ]
  },
  {
   "cell_type": "code",
   "execution_count": 148,
   "id": "ce8d4a80",
   "metadata": {},
   "outputs": [],
   "source": [
    "df_matic['macd'] = df_matic.index.map(macd)\n",
    "df_matic['macd_sig'] = df_matic.index.map(macd_h)\n",
    "df_matic['macd_cd'] = df_matic.index.map(macd_s) #Bollinger Bands for matic"
   ]
  },
  {
   "cell_type": "code",
   "execution_count": 149,
   "id": "bbd26108",
   "metadata": {},
   "outputs": [],
   "source": [
    "exp1 = df_matic['close'].ewm(span=12, adjust=False).mean()\n",
    "exp2 = df_matic['close'].ewm(span=26, adjust=False).mean()\n",
    "macd = exp1 - exp2\n",
    "macd_s = macd.ewm(span=9, adjust=False).mean()\n",
    "macd_h = macd - macd_s "
   ]
  },
  {
   "cell_type": "code",
   "execution_count": 150,
   "id": "9d9b4a6b",
   "metadata": {},
   "outputs": [],
   "source": [
    "df_matic['macd'] = df_matic.index.map(macd)\n",
    "df_matic['macd_sig'] = df_matic.index.map(macd_h)\n",
    "df_matic['macd_cd'] = df_matic.index.map(macd_s) #MACD for matic"
   ]
  },
  {
   "cell_type": "code",
   "execution_count": 151,
   "id": "3470d869",
   "metadata": {},
   "outputs": [
    {
     "data": {
      "text/html": [
       "<div>\n",
       "<style scoped>\n",
       "    .dataframe tbody tr th:only-of-type {\n",
       "        vertical-align: middle;\n",
       "    }\n",
       "\n",
       "    .dataframe tbody tr th {\n",
       "        vertical-align: top;\n",
       "    }\n",
       "\n",
       "    .dataframe thead th {\n",
       "        text-align: right;\n",
       "    }\n",
       "</style>\n",
       "<table border=\"1\" class=\"dataframe\">\n",
       "  <thead>\n",
       "    <tr style=\"text-align: right;\">\n",
       "      <th></th>\n",
       "      <th>STOCHk_14_3_3</th>\n",
       "      <th>STOCHd_14_3_3</th>\n",
       "    </tr>\n",
       "  </thead>\n",
       "  <tbody>\n",
       "    <tr>\n",
       "      <th>13</th>\n",
       "      <td>NaN</td>\n",
       "      <td>NaN</td>\n",
       "    </tr>\n",
       "    <tr>\n",
       "      <th>14</th>\n",
       "      <td>NaN</td>\n",
       "      <td>NaN</td>\n",
       "    </tr>\n",
       "    <tr>\n",
       "      <th>15</th>\n",
       "      <td>84.347423</td>\n",
       "      <td>NaN</td>\n",
       "    </tr>\n",
       "    <tr>\n",
       "      <th>16</th>\n",
       "      <td>78.025915</td>\n",
       "      <td>NaN</td>\n",
       "    </tr>\n",
       "    <tr>\n",
       "      <th>17</th>\n",
       "      <td>76.666546</td>\n",
       "      <td>79.679961</td>\n",
       "    </tr>\n",
       "    <tr>\n",
       "      <th>...</th>\n",
       "      <td>...</td>\n",
       "      <td>...</td>\n",
       "    </tr>\n",
       "    <tr>\n",
       "      <th>1102</th>\n",
       "      <td>17.683282</td>\n",
       "      <td>13.334880</td>\n",
       "    </tr>\n",
       "    <tr>\n",
       "      <th>1103</th>\n",
       "      <td>16.772308</td>\n",
       "      <td>15.734975</td>\n",
       "    </tr>\n",
       "    <tr>\n",
       "      <th>1104</th>\n",
       "      <td>15.043117</td>\n",
       "      <td>16.499569</td>\n",
       "    </tr>\n",
       "    <tr>\n",
       "      <th>1105</th>\n",
       "      <td>6.574701</td>\n",
       "      <td>12.796709</td>\n",
       "    </tr>\n",
       "    <tr>\n",
       "      <th>1106</th>\n",
       "      <td>4.901912</td>\n",
       "      <td>8.839910</td>\n",
       "    </tr>\n",
       "  </tbody>\n",
       "</table>\n",
       "<p>1094 rows × 2 columns</p>\n",
       "</div>"
      ],
      "text/plain": [
       "      STOCHk_14_3_3  STOCHd_14_3_3\n",
       "13              NaN            NaN\n",
       "14              NaN            NaN\n",
       "15        84.347423            NaN\n",
       "16        78.025915            NaN\n",
       "17        76.666546      79.679961\n",
       "...             ...            ...\n",
       "1102      17.683282      13.334880\n",
       "1103      16.772308      15.734975\n",
       "1104      15.043117      16.499569\n",
       "1105       6.574701      12.796709\n",
       "1106       4.901912       8.839910\n",
       "\n",
       "[1094 rows x 2 columns]"
      ]
     },
     "execution_count": 151,
     "metadata": {},
     "output_type": "execute_result"
    }
   ],
   "source": [
    "df_matic.ta.stoch(high='high', low='low', k=14, d=3, append=True)\n",
    "#that's literally it"
   ]
  },
  {
   "cell_type": "markdown",
   "id": "6cc0d306",
   "metadata": {},
   "source": [
    "# Features for ATOM"
   ]
  },
  {
   "cell_type": "code",
   "execution_count": 152,
   "id": "92cff9e6",
   "metadata": {},
   "outputs": [],
   "source": [
    "df_acopy=df_atom[['close']]"
   ]
  },
  {
   "cell_type": "code",
   "execution_count": 153,
   "id": "f61e46fa",
   "metadata": {},
   "outputs": [],
   "source": [
    "df_acopy=df_acopy.diff(1).rename(columns={'close':'diff'})"
   ]
  },
  {
   "cell_type": "code",
   "execution_count": 154,
   "id": "de213574",
   "metadata": {},
   "outputs": [],
   "source": [
    "df_acopy['gain'] = df_acopy['diff'].clip(lower=0).round(2)\n",
    "df_acopy['loss'] = df_acopy['diff'].clip(upper=0).abs().round(2)"
   ]
  },
  {
   "cell_type": "code",
   "execution_count": 155,
   "id": "9c1eb1d1",
   "metadata": {},
   "outputs": [],
   "source": [
    "window_length=14\n",
    "df_acopy['avg_gain'] = df_acopy['gain'].rolling(window=window_length, min_periods=window_length).mean()[:window_length+1]\n",
    "df_acopy['avg_loss'] = df_acopy['loss'].rolling(window=window_length, min_periods=window_length).mean()[:window_length+1]"
   ]
  },
  {
   "cell_type": "code",
   "execution_count": 156,
   "id": "d9db44ee",
   "metadata": {},
   "outputs": [],
   "source": [
    "for i, row in enumerate(df_acopy['avg_gain'].iloc[window_length+1:]):\n",
    "    df_acopy['avg_gain'].iloc[i + window_length + 1] =\\\n",
    "        (df_acopy['avg_gain'].iloc[i + window_length] *\n",
    "         (window_length - 1) +\n",
    "         df_acopy['gain'].iloc[i + window_length + 1])\\\n",
    "        / window_length\n",
    "# Average Losses\n",
    "for i, row in enumerate(df_acopy['avg_loss'].iloc[window_length+1:]):\n",
    "    df_acopy['avg_loss'].iloc[i + window_length + 1] =\\\n",
    "        (df_acopy['avg_loss'].iloc[i + window_length] *\n",
    "         (window_length - 1) +\n",
    "         df_acopy['loss'].iloc[i + window_length + 1])\\\n",
    "        / window_length"
   ]
  },
  {
   "cell_type": "code",
   "execution_count": 157,
   "id": "cfa26ba2",
   "metadata": {},
   "outputs": [],
   "source": [
    "df_acopy['rs'] = df_acopy['avg_gain'] / df_acopy['avg_loss']"
   ]
  },
  {
   "cell_type": "code",
   "execution_count": 158,
   "id": "ddde91a1",
   "metadata": {},
   "outputs": [],
   "source": [
    "df_acopy['rsi'] = 100 - (100 / (1.0 + df_acopy['rs']))"
   ]
  },
  {
   "cell_type": "code",
   "execution_count": 159,
   "id": "27c9c2d0",
   "metadata": {},
   "outputs": [],
   "source": [
    "df_atom=pd.concat([df_atom,df_acopy], axis=1) #RSI for Atom"
   ]
  },
  {
   "cell_type": "code",
   "execution_count": 160,
   "id": "b3c91144",
   "metadata": {},
   "outputs": [],
   "source": [
    "closing_prices_a = df_atom['close']\n",
    "\n",
    "bollinger_up, bollinger_down = get_bollinger_bands(closing_prices_a)"
   ]
  },
  {
   "cell_type": "code",
   "execution_count": 161,
   "id": "c71133ad",
   "metadata": {},
   "outputs": [],
   "source": [
    "sma_a = get_sma(closing_prices_a, 20)"
   ]
  },
  {
   "cell_type": "code",
   "execution_count": 162,
   "id": "797e72b9",
   "metadata": {},
   "outputs": [],
   "source": [
    "sma_a = pd.DataFrame(data=sma_a).rename(columns={'close':'bollinger'})"
   ]
  },
  {
   "cell_type": "code",
   "execution_count": 163,
   "id": "f84e0119",
   "metadata": {},
   "outputs": [],
   "source": [
    "df_atom=pd.concat([df_atom,sma_a],axis=1)"
   ]
  },
  {
   "cell_type": "code",
   "execution_count": 164,
   "id": "484c210a",
   "metadata": {},
   "outputs": [],
   "source": [
    "exp1 = df_atom['close'].ewm(span=12, adjust=False).mean()\n",
    "exp2 = df_atom['close'].ewm(span=26, adjust=False).mean()\n",
    "macd = exp1 - exp2\n",
    "macd_s = macd.ewm(span=9, adjust=False).mean()\n",
    "macd_h = macd - macd_s"
   ]
  },
  {
   "cell_type": "code",
   "execution_count": 165,
   "id": "1208cf56",
   "metadata": {},
   "outputs": [],
   "source": [
    "df_atom['macd'] = df_atom.index.map(macd)\n",
    "df_atom['macd_sig'] = df_atom.index.map(macd_h)\n",
    "df_atom['macd_cd'] = df_atom.index.map(macd_s) #Bollinger Bands for Atom"
   ]
  },
  {
   "cell_type": "code",
   "execution_count": 166,
   "id": "b5c423f6",
   "metadata": {},
   "outputs": [],
   "source": [
    "exp1 = df_atom['close'].ewm(span=12, adjust=False).mean()\n",
    "exp2 = df_atom['close'].ewm(span=26, adjust=False).mean()\n",
    "macd = exp1 - exp2\n",
    "macd_s = macd.ewm(span=9, adjust=False).mean()\n",
    "macd_h = macd - macd_s "
   ]
  },
  {
   "cell_type": "code",
   "execution_count": 167,
   "id": "db97d485",
   "metadata": {},
   "outputs": [],
   "source": [
    "df_atom['macd'] = df_atom.index.map(macd)\n",
    "df_atom['macd_sig'] = df_atom.index.map(macd_h)\n",
    "df_atom['macd_cd'] = df_atom.index.map(macd_s) #MACD for Atom"
   ]
  },
  {
   "cell_type": "code",
   "execution_count": 168,
   "id": "53f9fd45",
   "metadata": {},
   "outputs": [
    {
     "data": {
      "text/html": [
       "<div>\n",
       "<style scoped>\n",
       "    .dataframe tbody tr th:only-of-type {\n",
       "        vertical-align: middle;\n",
       "    }\n",
       "\n",
       "    .dataframe tbody tr th {\n",
       "        vertical-align: top;\n",
       "    }\n",
       "\n",
       "    .dataframe thead th {\n",
       "        text-align: right;\n",
       "    }\n",
       "</style>\n",
       "<table border=\"1\" class=\"dataframe\">\n",
       "  <thead>\n",
       "    <tr style=\"text-align: right;\">\n",
       "      <th></th>\n",
       "      <th>STOCHk_14_3_3</th>\n",
       "      <th>STOCHd_14_3_3</th>\n",
       "    </tr>\n",
       "  </thead>\n",
       "  <tbody>\n",
       "    <tr>\n",
       "      <th>13</th>\n",
       "      <td>NaN</td>\n",
       "      <td>NaN</td>\n",
       "    </tr>\n",
       "    <tr>\n",
       "      <th>14</th>\n",
       "      <td>NaN</td>\n",
       "      <td>NaN</td>\n",
       "    </tr>\n",
       "    <tr>\n",
       "      <th>15</th>\n",
       "      <td>6.324039</td>\n",
       "      <td>NaN</td>\n",
       "    </tr>\n",
       "    <tr>\n",
       "      <th>16</th>\n",
       "      <td>4.543260</td>\n",
       "      <td>NaN</td>\n",
       "    </tr>\n",
       "    <tr>\n",
       "      <th>17</th>\n",
       "      <td>8.977265</td>\n",
       "      <td>6.614855</td>\n",
       "    </tr>\n",
       "    <tr>\n",
       "      <th>...</th>\n",
       "      <td>...</td>\n",
       "      <td>...</td>\n",
       "    </tr>\n",
       "    <tr>\n",
       "      <th>1147</th>\n",
       "      <td>14.762293</td>\n",
       "      <td>8.864885</td>\n",
       "    </tr>\n",
       "    <tr>\n",
       "      <th>1148</th>\n",
       "      <td>15.376236</td>\n",
       "      <td>11.959365</td>\n",
       "    </tr>\n",
       "    <tr>\n",
       "      <th>1149</th>\n",
       "      <td>16.361788</td>\n",
       "      <td>15.500106</td>\n",
       "    </tr>\n",
       "    <tr>\n",
       "      <th>1150</th>\n",
       "      <td>6.442626</td>\n",
       "      <td>12.726883</td>\n",
       "    </tr>\n",
       "    <tr>\n",
       "      <th>1151</th>\n",
       "      <td>4.160131</td>\n",
       "      <td>8.988182</td>\n",
       "    </tr>\n",
       "  </tbody>\n",
       "</table>\n",
       "<p>1139 rows × 2 columns</p>\n",
       "</div>"
      ],
      "text/plain": [
       "      STOCHk_14_3_3  STOCHd_14_3_3\n",
       "13              NaN            NaN\n",
       "14              NaN            NaN\n",
       "15         6.324039            NaN\n",
       "16         4.543260            NaN\n",
       "17         8.977265       6.614855\n",
       "...             ...            ...\n",
       "1147      14.762293       8.864885\n",
       "1148      15.376236      11.959365\n",
       "1149      16.361788      15.500106\n",
       "1150       6.442626      12.726883\n",
       "1151       4.160131       8.988182\n",
       "\n",
       "[1139 rows x 2 columns]"
      ]
     },
     "execution_count": 168,
     "metadata": {},
     "output_type": "execute_result"
    }
   ],
   "source": [
    "df_atom.ta.stoch(high='high', low='low', k=14, d=3, append=True)\n",
    "#that's literally it"
   ]
  },
  {
   "cell_type": "markdown",
   "id": "87415800",
   "metadata": {},
   "source": [
    "# Features for SOL"
   ]
  },
  {
   "cell_type": "code",
   "execution_count": 169,
   "id": "bd7eac67",
   "metadata": {},
   "outputs": [],
   "source": [
    "df_acopy=df_sol[['close']]"
   ]
  },
  {
   "cell_type": "code",
   "execution_count": 170,
   "id": "c2fc74cf",
   "metadata": {},
   "outputs": [],
   "source": [
    "df_acopy=df_acopy.diff(1).rename(columns={'close':'diff'})"
   ]
  },
  {
   "cell_type": "code",
   "execution_count": 171,
   "id": "c1c70e10",
   "metadata": {},
   "outputs": [],
   "source": [
    "df_acopy['gain'] = df_acopy['diff'].clip(lower=0).round(2)\n",
    "df_acopy['loss'] = df_acopy['diff'].clip(upper=0).abs().round(2)"
   ]
  },
  {
   "cell_type": "code",
   "execution_count": 172,
   "id": "2d6f4a0e",
   "metadata": {},
   "outputs": [],
   "source": [
    "window_length=14\n",
    "df_acopy['avg_gain'] = df_acopy['gain'].rolling(window=window_length, min_periods=window_length).mean()[:window_length+1]\n",
    "df_acopy['avg_loss'] = df_acopy['loss'].rolling(window=window_length, min_periods=window_length).mean()[:window_length+1]"
   ]
  },
  {
   "cell_type": "code",
   "execution_count": 173,
   "id": "52fa71c7",
   "metadata": {},
   "outputs": [],
   "source": [
    "for i, row in enumerate(df_acopy['avg_gain'].iloc[window_length+1:]):\n",
    "    df_acopy['avg_gain'].iloc[i + window_length + 1] =\\\n",
    "        (df_acopy['avg_gain'].iloc[i + window_length] *\n",
    "         (window_length - 1) +\n",
    "         df_acopy['gain'].iloc[i + window_length + 1])\\\n",
    "        / window_length\n",
    "# Average Losses\n",
    "for i, row in enumerate(df_acopy['avg_loss'].iloc[window_length+1:]):\n",
    "    df_acopy['avg_loss'].iloc[i + window_length + 1] =\\\n",
    "        (df_acopy['avg_loss'].iloc[i + window_length] *\n",
    "         (window_length - 1) +\n",
    "         df_acopy['loss'].iloc[i + window_length + 1])\\\n",
    "        / window_length"
   ]
  },
  {
   "cell_type": "code",
   "execution_count": 174,
   "id": "ae8775d0",
   "metadata": {},
   "outputs": [],
   "source": [
    "df_acopy['rs'] = df_acopy['avg_gain'] / df_acopy['avg_loss']"
   ]
  },
  {
   "cell_type": "code",
   "execution_count": 175,
   "id": "cde11781",
   "metadata": {},
   "outputs": [],
   "source": [
    "df_acopy['rsi'] = 100 - (100 / (1.0 + df_acopy['rs']))"
   ]
  },
  {
   "cell_type": "code",
   "execution_count": 176,
   "id": "3790b01d",
   "metadata": {},
   "outputs": [],
   "source": [
    "df_sol=pd.concat([df_sol,df_acopy], axis=1) #RSI for sol"
   ]
  },
  {
   "cell_type": "code",
   "execution_count": 177,
   "id": "a05d756c",
   "metadata": {},
   "outputs": [],
   "source": [
    "closing_prices_a = df_sol['close']\n",
    "\n",
    "bollinger_up, bollinger_down = get_bollinger_bands(closing_prices_a)"
   ]
  },
  {
   "cell_type": "code",
   "execution_count": 178,
   "id": "71c76bf0",
   "metadata": {},
   "outputs": [],
   "source": [
    "sma_a = get_sma(closing_prices_a, 20)"
   ]
  },
  {
   "cell_type": "code",
   "execution_count": 179,
   "id": "e4f05761",
   "metadata": {},
   "outputs": [],
   "source": [
    "sma_a = pd.DataFrame(data=sma_a).rename(columns={'close':'bollinger'})"
   ]
  },
  {
   "cell_type": "code",
   "execution_count": 180,
   "id": "a78469a2",
   "metadata": {},
   "outputs": [],
   "source": [
    "df_sol=pd.concat([df_sol,sma_a],axis=1)"
   ]
  },
  {
   "cell_type": "code",
   "execution_count": 181,
   "id": "0153270b",
   "metadata": {},
   "outputs": [],
   "source": [
    "exp1 = df_ada['close'].ewm(span=12, adjust=False).mean()\n",
    "exp2 = df_ada['close'].ewm(span=26, adjust=False).mean()\n",
    "macd = exp1 - exp2\n",
    "macd_s = macd.ewm(span=9, adjust=False).mean()\n",
    "macd_h = macd - macd_s"
   ]
  },
  {
   "cell_type": "code",
   "execution_count": 182,
   "id": "307d6a6f",
   "metadata": {},
   "outputs": [],
   "source": [
    "df_sol['macd'] = df_sol.index.map(macd)\n",
    "df_sol['macd_sig'] = df_sol.index.map(macd_h)\n",
    "df_sol['macd_cd'] = df_sol.index.map(macd_s) #Bollinger Bands for sol"
   ]
  },
  {
   "cell_type": "code",
   "execution_count": 183,
   "id": "e3d38eaf",
   "metadata": {},
   "outputs": [],
   "source": [
    "exp1 = df_sol['close'].ewm(span=12, adjust=False).mean()\n",
    "exp2 = df_sol['close'].ewm(span=26, adjust=False).mean()\n",
    "macd = exp1 - exp2\n",
    "macd_s = macd.ewm(span=9, adjust=False).mean()\n",
    "macd_h = macd - macd_s "
   ]
  },
  {
   "cell_type": "code",
   "execution_count": 184,
   "id": "4e136298",
   "metadata": {},
   "outputs": [],
   "source": [
    "df_sol['macd'] = df_sol.index.map(macd)\n",
    "df_sol['macd_sig'] = df_sol.index.map(macd_h)\n",
    "df_sol['macd_cd'] = df_sol.index.map(macd_s) #MACD for sol"
   ]
  },
  {
   "cell_type": "code",
   "execution_count": 185,
   "id": "3de66621",
   "metadata": {},
   "outputs": [
    {
     "data": {
      "text/html": [
       "<div>\n",
       "<style scoped>\n",
       "    .dataframe tbody tr th:only-of-type {\n",
       "        vertical-align: middle;\n",
       "    }\n",
       "\n",
       "    .dataframe tbody tr th {\n",
       "        vertical-align: top;\n",
       "    }\n",
       "\n",
       "    .dataframe thead th {\n",
       "        text-align: right;\n",
       "    }\n",
       "</style>\n",
       "<table border=\"1\" class=\"dataframe\">\n",
       "  <thead>\n",
       "    <tr style=\"text-align: right;\">\n",
       "      <th></th>\n",
       "      <th>STOCHk_14_3_3</th>\n",
       "      <th>STOCHd_14_3_3</th>\n",
       "    </tr>\n",
       "  </thead>\n",
       "  <tbody>\n",
       "    <tr>\n",
       "      <th>13</th>\n",
       "      <td>NaN</td>\n",
       "      <td>NaN</td>\n",
       "    </tr>\n",
       "    <tr>\n",
       "      <th>14</th>\n",
       "      <td>NaN</td>\n",
       "      <td>NaN</td>\n",
       "    </tr>\n",
       "    <tr>\n",
       "      <th>15</th>\n",
       "      <td>22.700984</td>\n",
       "      <td>NaN</td>\n",
       "    </tr>\n",
       "    <tr>\n",
       "      <th>16</th>\n",
       "      <td>28.824665</td>\n",
       "      <td>NaN</td>\n",
       "    </tr>\n",
       "    <tr>\n",
       "      <th>17</th>\n",
       "      <td>28.462259</td>\n",
       "      <td>26.662636</td>\n",
       "    </tr>\n",
       "    <tr>\n",
       "      <th>...</th>\n",
       "      <td>...</td>\n",
       "      <td>...</td>\n",
       "    </tr>\n",
       "    <tr>\n",
       "      <th>754</th>\n",
       "      <td>21.353315</td>\n",
       "      <td>18.297871</td>\n",
       "    </tr>\n",
       "    <tr>\n",
       "      <th>755</th>\n",
       "      <td>20.003323</td>\n",
       "      <td>19.524693</td>\n",
       "    </tr>\n",
       "    <tr>\n",
       "      <th>756</th>\n",
       "      <td>18.424665</td>\n",
       "      <td>19.927101</td>\n",
       "    </tr>\n",
       "    <tr>\n",
       "      <th>757</th>\n",
       "      <td>7.691932</td>\n",
       "      <td>15.373307</td>\n",
       "    </tr>\n",
       "    <tr>\n",
       "      <th>758</th>\n",
       "      <td>4.628656</td>\n",
       "      <td>10.248418</td>\n",
       "    </tr>\n",
       "  </tbody>\n",
       "</table>\n",
       "<p>746 rows × 2 columns</p>\n",
       "</div>"
      ],
      "text/plain": [
       "     STOCHk_14_3_3  STOCHd_14_3_3\n",
       "13             NaN            NaN\n",
       "14             NaN            NaN\n",
       "15       22.700984            NaN\n",
       "16       28.824665            NaN\n",
       "17       28.462259      26.662636\n",
       "..             ...            ...\n",
       "754      21.353315      18.297871\n",
       "755      20.003323      19.524693\n",
       "756      18.424665      19.927101\n",
       "757       7.691932      15.373307\n",
       "758       4.628656      10.248418\n",
       "\n",
       "[746 rows x 2 columns]"
      ]
     },
     "execution_count": 185,
     "metadata": {},
     "output_type": "execute_result"
    }
   ],
   "source": [
    "df_sol.ta.stoch(high='high', low='low', k=14, d=3, append=True)\n",
    "#that's literally it"
   ]
  },
  {
   "cell_type": "markdown",
   "id": "7a1009d5",
   "metadata": {},
   "source": [
    " # Bollinger Bands BTC"
   ]
  },
  {
   "cell_type": "code",
   "execution_count": 186,
   "id": "5377881b",
   "metadata": {},
   "outputs": [],
   "source": [
    "closing_prices = df_btc['close']\n",
    "\n",
    "bollinger_up, bollinger_down = get_bollinger_bands(closing_prices)"
   ]
  },
  {
   "cell_type": "code",
   "execution_count": 187,
   "id": "b17ac6a5",
   "metadata": {},
   "outputs": [],
   "source": [
    "sma = get_sma(closing_prices, 20)"
   ]
  },
  {
   "cell_type": "code",
   "execution_count": 188,
   "id": "4cbaec36",
   "metadata": {},
   "outputs": [
    {
     "data": {
      "text/plain": [
       "Date\n",
       "2017-05-09             NaN\n",
       "2017-05-10             NaN\n",
       "2017-05-11             NaN\n",
       "2017-05-12             NaN\n",
       "2017-05-13             NaN\n",
       "                  ...     \n",
       "2022-05-04    39599.230859\n",
       "2022-05-05    39400.314648\n",
       "2022-05-06    39181.136523\n",
       "2022-05-07    38970.386523\n",
       "2022-05-08    38640.415625\n",
       "Name: close, Length: 1826, dtype: float64"
      ]
     },
     "execution_count": 188,
     "metadata": {},
     "output_type": "execute_result"
    }
   ],
   "source": [
    "sma"
   ]
  },
  {
   "cell_type": "code",
   "execution_count": 189,
   "id": "a7b607f3",
   "metadata": {},
   "outputs": [],
   "source": [
    "sma = pd.DataFrame(data=sma).rename(columns={'close':'bollinger'})"
   ]
  },
  {
   "cell_type": "code",
   "execution_count": 190,
   "id": "a0c6943b",
   "metadata": {},
   "outputs": [],
   "source": [
    "df_btc=pd.concat([df_btc,sma],axis=1)"
   ]
  },
  {
   "cell_type": "markdown",
   "id": "792fbcdd",
   "metadata": {},
   "source": [
    "# Moving Average Convergence Divergence BTC"
   ]
  },
  {
   "cell_type": "code",
   "execution_count": 191,
   "id": "b8b81987",
   "metadata": {},
   "outputs": [],
   "source": [
    "exp1 = df_btc['close'].ewm(span=12, adjust=False).mean()\n",
    "exp2 = df_btc['close'].ewm(span=26, adjust=False).mean()\n",
    "macd = exp1 - exp2\n",
    "macd_s = macd.ewm(span=9, adjust=False).mean()\n",
    "macd_h = macd - macd_s"
   ]
  },
  {
   "cell_type": "code",
   "execution_count": 192,
   "id": "f6c713e5",
   "metadata": {},
   "outputs": [],
   "source": [
    "df_btc['macd'] = df_btc.index.map(macd)\n",
    "df_btc['macd_sig'] = df_btc.index.map(macd_h)\n",
    "df_btc['macd_cd'] = df_btc.index.map(macd_s)"
   ]
  },
  {
   "cell_type": "markdown",
   "id": "28702864",
   "metadata": {},
   "source": [
    "# Stochastic Oscillator BTC"
   ]
  },
  {
   "cell_type": "code",
   "execution_count": 193,
   "id": "ebdaea87",
   "metadata": {
    "scrolled": true
   },
   "outputs": [
    {
     "data": {
      "text/html": [
       "<div>\n",
       "<style scoped>\n",
       "    .dataframe tbody tr th:only-of-type {\n",
       "        vertical-align: middle;\n",
       "    }\n",
       "\n",
       "    .dataframe tbody tr th {\n",
       "        vertical-align: top;\n",
       "    }\n",
       "\n",
       "    .dataframe thead th {\n",
       "        text-align: right;\n",
       "    }\n",
       "</style>\n",
       "<table border=\"1\" class=\"dataframe\">\n",
       "  <thead>\n",
       "    <tr style=\"text-align: right;\">\n",
       "      <th></th>\n",
       "      <th>STOCHk_14_3_3</th>\n",
       "      <th>STOCHd_14_3_3</th>\n",
       "    </tr>\n",
       "    <tr>\n",
       "      <th>Date</th>\n",
       "      <th></th>\n",
       "      <th></th>\n",
       "    </tr>\n",
       "  </thead>\n",
       "  <tbody>\n",
       "    <tr>\n",
       "      <th>2017-05-22</th>\n",
       "      <td>NaN</td>\n",
       "      <td>NaN</td>\n",
       "    </tr>\n",
       "    <tr>\n",
       "      <th>2017-05-23</th>\n",
       "      <td>NaN</td>\n",
       "      <td>NaN</td>\n",
       "    </tr>\n",
       "    <tr>\n",
       "      <th>2017-05-24</th>\n",
       "      <td>90.257765</td>\n",
       "      <td>NaN</td>\n",
       "    </tr>\n",
       "    <tr>\n",
       "      <th>2017-05-25</th>\n",
       "      <td>83.178052</td>\n",
       "      <td>NaN</td>\n",
       "    </tr>\n",
       "    <tr>\n",
       "      <th>2017-05-26</th>\n",
       "      <td>66.382254</td>\n",
       "      <td>79.939357</td>\n",
       "    </tr>\n",
       "    <tr>\n",
       "      <th>...</th>\n",
       "      <td>...</td>\n",
       "      <td>...</td>\n",
       "    </tr>\n",
       "    <tr>\n",
       "      <th>2022-05-04</th>\n",
       "      <td>20.228427</td>\n",
       "      <td>14.772540</td>\n",
       "    </tr>\n",
       "    <tr>\n",
       "      <th>2022-05-05</th>\n",
       "      <td>19.170436</td>\n",
       "      <td>17.302234</td>\n",
       "    </tr>\n",
       "    <tr>\n",
       "      <th>2022-05-06</th>\n",
       "      <td>21.695549</td>\n",
       "      <td>20.364804</td>\n",
       "    </tr>\n",
       "    <tr>\n",
       "      <th>2022-05-07</th>\n",
       "      <td>11.667666</td>\n",
       "      <td>17.511217</td>\n",
       "    </tr>\n",
       "    <tr>\n",
       "      <th>2022-05-08</th>\n",
       "      <td>8.333706</td>\n",
       "      <td>13.898973</td>\n",
       "    </tr>\n",
       "  </tbody>\n",
       "</table>\n",
       "<p>1813 rows × 2 columns</p>\n",
       "</div>"
      ],
      "text/plain": [
       "            STOCHk_14_3_3  STOCHd_14_3_3\n",
       "Date                                    \n",
       "2017-05-22            NaN            NaN\n",
       "2017-05-23            NaN            NaN\n",
       "2017-05-24      90.257765            NaN\n",
       "2017-05-25      83.178052            NaN\n",
       "2017-05-26      66.382254      79.939357\n",
       "...                   ...            ...\n",
       "2022-05-04      20.228427      14.772540\n",
       "2022-05-05      19.170436      17.302234\n",
       "2022-05-06      21.695549      20.364804\n",
       "2022-05-07      11.667666      17.511217\n",
       "2022-05-08       8.333706      13.898973\n",
       "\n",
       "[1813 rows x 2 columns]"
      ]
     },
     "execution_count": 193,
     "metadata": {},
     "output_type": "execute_result"
    }
   ],
   "source": [
    "df_btc.ta.stoch(high='high', low='low', k=14, d=3, append=True)\n",
    "#that's literally it"
   ]
  },
  {
   "cell_type": "code",
   "execution_count": 194,
   "id": "d8a08e3f",
   "metadata": {},
   "outputs": [],
   "source": [
    "BTC_rindex=df_btc.copy().reset_index()"
   ]
  },
  {
   "cell_type": "markdown",
   "id": "4176d8ae",
   "metadata": {},
   "source": [
    "# SARIMAX Modeling"
   ]
  },
  {
   "cell_type": "code",
   "execution_count": 195,
   "id": "9a83e81e",
   "metadata": {},
   "outputs": [],
   "source": [
    "btc_month = df_btc.resample('M').mean()\n",
    "btc_daily = df_btc.copy()"
   ]
  },
  {
   "cell_type": "code",
   "execution_count": 196,
   "id": "e3018781",
   "metadata": {},
   "outputs": [],
   "source": [
    "btc_month['close_box'], lmbda = stats.boxcox(btc_month.close)\n",
    "btc_daily['close_box'], lmbda = stats.boxcox(btc_daily.close)"
   ]
  },
  {
   "cell_type": "code",
   "execution_count": 197,
   "id": "4b9417b0",
   "metadata": {},
   "outputs": [],
   "source": [
    "qs = range(0, 3)\n",
    "ps = range(0, 3)\n",
    "d=1\n",
    "parameters = product(ps, qs)\n",
    "parameters_list = list(parameters)\n",
    "len(parameters_list)\n",
    "\n",
    "# Model Selection\n",
    "results = []\n",
    "best_aic = float(\"inf\")\n",
    "warnings.filterwarnings('ignore')\n",
    "for param in parameters_list:\n",
    "    try:\n",
    "        model = SARIMAX(btc_daily.close_box, order=(param[0], d, param[1])).fit(disp=-1)\n",
    "    except ValueError:\n",
    "        print('bad parameter combination:', param)\n",
    "        continue\n",
    "    aic = model.aic\n",
    "    if aic < best_aic:\n",
    "        best_model = model\n",
    "        best_aic = aic\n",
    "        best_param = param\n",
    "    results.append([param, model.aic])"
   ]
  },
  {
   "cell_type": "code",
   "execution_count": 198,
   "id": "763b1b58",
   "metadata": {},
   "outputs": [
    {
     "name": "stdout",
     "output_type": "stream",
     "text": [
      "  parameters           aic\n",
      "2     (0, 2) -13393.847903\n",
      "6     (2, 0) -13393.728389\n",
      "3     (1, 0) -13392.784069\n",
      "7     (2, 1) -13392.754603\n",
      "1     (0, 1) -13392.567935\n"
     ]
    }
   ],
   "source": [
    "result_table = pd.DataFrame(results)\n",
    "result_table.columns = ['parameters', 'aic']\n",
    "print(result_table.sort_values(by = 'aic', ascending=True).head())"
   ]
  },
  {
   "cell_type": "code",
   "execution_count": 199,
   "id": "d716f27c",
   "metadata": {},
   "outputs": [
    {
     "data": {
      "image/png": "[encoded data removed]",
      "text/plain": [
       "<Figure size 1500x1200 with 4 Axes>"
      ]
     },
     "metadata": {},
     "output_type": "display_data"
    }
   ],
   "source": [
    "best_model.plot_diagnostics(figsize=(15, 12))\n",
    "plt.show()"
   ]
  },
  {
   "cell_type": "code",
   "execution_count": 200,
   "id": "29dd1d59",
   "metadata": {},
   "outputs": [],
   "source": [
    "def invboxcox(y,lmbda):\n",
    "   if lmbda == 0:\n",
    "      return(np.exp(y))\n",
    "   else:\n",
    "      return(np.exp(np.log(lmbda*y+1)/lmbda))"
   ]
  },
  {
   "cell_type": "code",
   "execution_count": 201,
   "id": "bc72ab71",
   "metadata": {},
   "outputs": [],
   "source": [
    "btc_month_pred = btc_daily[['close']]\n",
    "date_list = [datetime(2022, 5, 9), datetime(2022, 5, 10)]\n",
    "date_list = pd.DataFrame(data=date_list)\n",
    "date_list=date_list.rename(columns={0:'Date'})"
   ]
  },
  {
   "cell_type": "code",
   "execution_count": 202,
   "id": "194e8985",
   "metadata": {},
   "outputs": [],
   "source": [
    "future2 = pd.concat([BTC_rindex,date_list])\n",
    "future3 = pd.concat([df_ada,date_list])"
   ]
  },
  {
   "cell_type": "code",
   "execution_count": 203,
   "id": "b4871afb",
   "metadata": {},
   "outputs": [],
   "source": [
    "date_list=date_list.set_index('Date')"
   ]
  },
  {
   "cell_type": "code",
   "execution_count": 204,
   "id": "6d354868",
   "metadata": {
    "scrolled": false
   },
   "outputs": [],
   "source": [
    "future = pd.concat([df_btc,date_list])\n",
    "btc_month_pred = pd.concat([btc_month_pred, future])\n",
    "btc_month_pred['forecast'] = invboxcox(best_model.predict(start=datetime(2022, 4, 1), \n",
    "                                                          end=datetime(2022, 5, 10)), lmbda)\n",
    "\n"
   ]
  },
  {
   "cell_type": "code",
   "execution_count": 205,
   "id": "fa678796",
   "metadata": {
    "scrolled": false
   },
   "outputs": [
    {
     "name": "stdout",
     "output_type": "stream",
     "text": [
      "                               SARIMAX Results                                \n",
      "==============================================================================\n",
      "Dep. Variable:              close_box   No. Observations:                 1826\n",
      "Model:               SARIMAX(0, 1, 2)   Log Likelihood                6699.924\n",
      "Date:                Sat, 28 May 2022   AIC                         -13393.848\n",
      "Time:                        18:32:05   BIC                         -13377.320\n",
      "Sample:                    05-09-2017   HQIC                        -13387.751\n",
      "                         - 05-08-2022                                         \n",
      "Covariance Type:                  opg                                         \n",
      "==============================================================================\n",
      "                 coef    std err          z      P>|z|      [0.025      0.975]\n",
      "------------------------------------------------------------------------------\n",
      "ma.L1         -0.0354      0.015     -2.300      0.021      -0.066      -0.005\n",
      "ma.L2          0.0425      0.019      2.256      0.024       0.006       0.079\n",
      "sigma2      3.791e-05   4.26e-07     88.907      0.000    3.71e-05    3.87e-05\n",
      "===================================================================================\n",
      "Ljung-Box (L1) (Q):                   0.03   Jarque-Bera (JB):             18482.28\n",
      "Prob(Q):                              0.86   Prob(JB):                         0.00\n",
      "Heteroskedasticity (H):               0.29   Skew:                            -0.80\n",
      "Prob(H) (two-sided):                  0.00   Kurtosis:                        18.51\n",
      "===================================================================================\n",
      "\n",
      "Warnings:\n",
      "[1] Covariance matrix calculated using the outer product of gradients (complex-step).\n"
     ]
    }
   ],
   "source": [
    "print(best_model.summary())"
   ]
  },
  {
   "cell_type": "code",
   "execution_count": 206,
   "id": "444e2f01",
   "metadata": {},
   "outputs": [
    {
     "data": {
      "text/html": [
       "<div>\n",
       "<style scoped>\n",
       "    .dataframe tbody tr th:only-of-type {\n",
       "        vertical-align: middle;\n",
       "    }\n",
       "\n",
       "    .dataframe tbody tr th {\n",
       "        vertical-align: top;\n",
       "    }\n",
       "\n",
       "    .dataframe thead th {\n",
       "        text-align: right;\n",
       "    }\n",
       "</style>\n",
       "<table border=\"1\" class=\"dataframe\">\n",
       "  <thead>\n",
       "    <tr style=\"text-align: right;\">\n",
       "      <th></th>\n",
       "      <th>close</th>\n",
       "      <th>crypto</th>\n",
       "      <th>high</th>\n",
       "      <th>low</th>\n",
       "      <th>open</th>\n",
       "      <th>volume</th>\n",
       "      <th>adj_close</th>\n",
       "      <th>diff</th>\n",
       "      <th>gain</th>\n",
       "      <th>loss</th>\n",
       "      <th>...</th>\n",
       "      <th>avg_loss</th>\n",
       "      <th>rs</th>\n",
       "      <th>rsi</th>\n",
       "      <th>bollinger</th>\n",
       "      <th>macd</th>\n",
       "      <th>macd_sig</th>\n",
       "      <th>macd_cd</th>\n",
       "      <th>STOCHk_14_3_3</th>\n",
       "      <th>STOCHd_14_3_3</th>\n",
       "      <th>forecast</th>\n",
       "    </tr>\n",
       "    <tr>\n",
       "      <th>Date</th>\n",
       "      <th></th>\n",
       "      <th></th>\n",
       "      <th></th>\n",
       "      <th></th>\n",
       "      <th></th>\n",
       "      <th></th>\n",
       "      <th></th>\n",
       "      <th></th>\n",
       "      <th></th>\n",
       "      <th></th>\n",
       "      <th></th>\n",
       "      <th></th>\n",
       "      <th></th>\n",
       "      <th></th>\n",
       "      <th></th>\n",
       "      <th></th>\n",
       "      <th></th>\n",
       "      <th></th>\n",
       "      <th></th>\n",
       "      <th></th>\n",
       "      <th></th>\n",
       "    </tr>\n",
       "  </thead>\n",
       "  <tbody>\n",
       "    <tr>\n",
       "      <th>2022-05-06</th>\n",
       "      <td>36040.921875</td>\n",
       "      <td>BTC</td>\n",
       "      <td>36624.359375</td>\n",
       "      <td>35482.132812</td>\n",
       "      <td>36573.183594</td>\n",
       "      <td>3.779558e+10</td>\n",
       "      <td>36040.921875</td>\n",
       "      <td>-534.21875</td>\n",
       "      <td>0.0</td>\n",
       "      <td>534.22</td>\n",
       "      <td>...</td>\n",
       "      <td>642.564106</td>\n",
       "      <td>0.580877</td>\n",
       "      <td>36.743974</td>\n",
       "      <td>39181.136523</td>\n",
       "      <td>-1193.692814</td>\n",
       "      <td>-170.235188</td>\n",
       "      <td>-1023.457627</td>\n",
       "      <td>21.695549</td>\n",
       "      <td>20.364804</td>\n",
       "      <td>36753.482627</td>\n",
       "    </tr>\n",
       "    <tr>\n",
       "      <th>2022-05-07</th>\n",
       "      <td>35501.953125</td>\n",
       "      <td>BTC</td>\n",
       "      <td>36129.925781</td>\n",
       "      <td>34940.824219</td>\n",
       "      <td>36042.503906</td>\n",
       "      <td>2.437590e+10</td>\n",
       "      <td>35501.953125</td>\n",
       "      <td>-538.96875</td>\n",
       "      <td>0.0</td>\n",
       "      <td>538.97</td>\n",
       "      <td>...</td>\n",
       "      <td>635.164527</td>\n",
       "      <td>0.545670</td>\n",
       "      <td>35.303121</td>\n",
       "      <td>38970.386523</td>\n",
       "      <td>-1327.247911</td>\n",
       "      <td>-243.032228</td>\n",
       "      <td>-1084.215684</td>\n",
       "      <td>11.667666</td>\n",
       "      <td>17.511217</td>\n",
       "      <td>35945.873388</td>\n",
       "    </tr>\n",
       "    <tr>\n",
       "      <th>2022-05-08</th>\n",
       "      <td>34226.796875</td>\n",
       "      <td>BTC</td>\n",
       "      <td>35477.484375</td>\n",
       "      <td>33913.957031</td>\n",
       "      <td>35473.250000</td>\n",
       "      <td>3.694594e+10</td>\n",
       "      <td>34226.796875</td>\n",
       "      <td>-1275.15625</td>\n",
       "      <td>0.0</td>\n",
       "      <td>1275.16</td>\n",
       "      <td>...</td>\n",
       "      <td>680.878490</td>\n",
       "      <td>0.472674</td>\n",
       "      <td>32.096309</td>\n",
       "      <td>38640.415625</td>\n",
       "      <td>-1518.481629</td>\n",
       "      <td>-347.412757</td>\n",
       "      <td>-1171.068873</td>\n",
       "      <td>8.333706</td>\n",
       "      <td>13.898973</td>\n",
       "      <td>35488.154385</td>\n",
       "    </tr>\n",
       "    <tr>\n",
       "      <th>2022-05-09</th>\n",
       "      <td>NaN</td>\n",
       "      <td>NaN</td>\n",
       "      <td>NaN</td>\n",
       "      <td>NaN</td>\n",
       "      <td>NaN</td>\n",
       "      <td>NaN</td>\n",
       "      <td>NaN</td>\n",
       "      <td>NaN</td>\n",
       "      <td>NaN</td>\n",
       "      <td>NaN</td>\n",
       "      <td>...</td>\n",
       "      <td>NaN</td>\n",
       "      <td>NaN</td>\n",
       "      <td>NaN</td>\n",
       "      <td>NaN</td>\n",
       "      <td>NaN</td>\n",
       "      <td>NaN</td>\n",
       "      <td>NaN</td>\n",
       "      <td>NaN</td>\n",
       "      <td>NaN</td>\n",
       "      <td>34252.589456</td>\n",
       "    </tr>\n",
       "    <tr>\n",
       "      <th>2022-05-10</th>\n",
       "      <td>NaN</td>\n",
       "      <td>NaN</td>\n",
       "      <td>NaN</td>\n",
       "      <td>NaN</td>\n",
       "      <td>NaN</td>\n",
       "      <td>NaN</td>\n",
       "      <td>NaN</td>\n",
       "      <td>NaN</td>\n",
       "      <td>NaN</td>\n",
       "      <td>NaN</td>\n",
       "      <td>...</td>\n",
       "      <td>NaN</td>\n",
       "      <td>NaN</td>\n",
       "      <td>NaN</td>\n",
       "      <td>NaN</td>\n",
       "      <td>NaN</td>\n",
       "      <td>NaN</td>\n",
       "      <td>NaN</td>\n",
       "      <td>NaN</td>\n",
       "      <td>NaN</td>\n",
       "      <td>34200.106892</td>\n",
       "    </tr>\n",
       "  </tbody>\n",
       "</table>\n",
       "<p>5 rows × 21 columns</p>\n",
       "</div>"
      ],
      "text/plain": [
       "                   close crypto          high           low          open  \\\n",
       "Date                                                                        \n",
       "2022-05-06  36040.921875    BTC  36624.359375  35482.132812  36573.183594   \n",
       "2022-05-07  35501.953125    BTC  36129.925781  34940.824219  36042.503906   \n",
       "2022-05-08  34226.796875    BTC  35477.484375  33913.957031  35473.250000   \n",
       "2022-05-09           NaN    NaN           NaN           NaN           NaN   \n",
       "2022-05-10           NaN    NaN           NaN           NaN           NaN   \n",
       "\n",
       "                  volume     adj_close        diff  gain     loss  ...  \\\n",
       "Date                                                               ...   \n",
       "2022-05-06  3.779558e+10  36040.921875  -534.21875   0.0   534.22  ...   \n",
       "2022-05-07  2.437590e+10  35501.953125  -538.96875   0.0   538.97  ...   \n",
       "2022-05-08  3.694594e+10  34226.796875 -1275.15625   0.0  1275.16  ...   \n",
       "2022-05-09           NaN           NaN         NaN   NaN      NaN  ...   \n",
       "2022-05-10           NaN           NaN         NaN   NaN      NaN  ...   \n",
       "\n",
       "              avg_loss        rs        rsi     bollinger         macd  \\\n",
       "Date                                                                     \n",
       "2022-05-06  642.564106  0.580877  36.743974  39181.136523 -1193.692814   \n",
       "2022-05-07  635.164527  0.545670  35.303121  38970.386523 -1327.247911   \n",
       "2022-05-08  680.878490  0.472674  32.096309  38640.415625 -1518.481629   \n",
       "2022-05-09         NaN       NaN        NaN           NaN          NaN   \n",
       "2022-05-10         NaN       NaN        NaN           NaN          NaN   \n",
       "\n",
       "              macd_sig      macd_cd  STOCHk_14_3_3  STOCHd_14_3_3  \\\n",
       "Date                                                                \n",
       "2022-05-06 -170.235188 -1023.457627      21.695549      20.364804   \n",
       "2022-05-07 -243.032228 -1084.215684      11.667666      17.511217   \n",
       "2022-05-08 -347.412757 -1171.068873       8.333706      13.898973   \n",
       "2022-05-09         NaN          NaN            NaN            NaN   \n",
       "2022-05-10         NaN          NaN            NaN            NaN   \n",
       "\n",
       "                forecast  \n",
       "Date                      \n",
       "2022-05-06  36753.482627  \n",
       "2022-05-07  35945.873388  \n",
       "2022-05-08  35488.154385  \n",
       "2022-05-09  34252.589456  \n",
       "2022-05-10  34200.106892  \n",
       "\n",
       "[5 rows x 21 columns]"
      ]
     },
     "execution_count": 206,
     "metadata": {},
     "output_type": "execute_result"
    }
   ],
   "source": [
    "btc_month_pred.tail(5)"
   ]
  },
  {
   "cell_type": "code",
   "execution_count": 207,
   "id": "5b6f29e2",
   "metadata": {},
   "outputs": [],
   "source": [
    "y_forecasted = btc_month_pred.forecast\n",
    "y_truth = btc_month_pred.loc['2022-04-23':'2022-4-25'].close"
   ]
  },
  {
   "cell_type": "code",
   "execution_count": 208,
   "id": "d7680c78",
   "metadata": {},
   "outputs": [
    {
     "data": {
      "text/plain": [
       "Date\n",
       "2022-04-23    39486.730469\n",
       "2022-04-24    39469.292969\n",
       "2022-04-25    40458.308594\n",
       "2022-04-23    39486.730469\n",
       "2022-04-24    39469.292969\n",
       "2022-04-25    40458.308594\n",
       "Name: close, dtype: float64"
      ]
     },
     "execution_count": 208,
     "metadata": {},
     "output_type": "execute_result"
    }
   ],
   "source": [
    "y_truth"
   ]
  },
  {
   "cell_type": "code",
   "execution_count": 209,
   "id": "71b6d0fb",
   "metadata": {
    "scrolled": true
   },
   "outputs": [
    {
     "data": {
      "text/plain": [
       "Date\n",
       "2022-05-06    36753.482627\n",
       "2022-05-07    35945.873388\n",
       "2022-05-08    35488.154385\n",
       "2022-05-09    34252.589456\n",
       "2022-05-10    34200.106892\n",
       "Name: forecast, dtype: float64"
      ]
     },
     "execution_count": 209,
     "metadata": {},
     "output_type": "execute_result"
    }
   ],
   "source": [
    "y_forecasted.tail(5)"
   ]
  },
  {
   "cell_type": "code",
   "execution_count": 210,
   "id": "74c41c82",
   "metadata": {},
   "outputs": [
    {
     "name": "stdout",
     "output_type": "stream",
     "text": [
      "Mean Squared Error: 594.37\n"
     ]
    }
   ],
   "source": [
    "rmse = np.sqrt(((y_forecasted - y_truth) ** 2).mean())\n",
    "print('Mean Squared Error: {}'.format(round(rmse, 2)))"
   ]
  },
  {
   "cell_type": "markdown",
   "id": "da5554eb",
   "metadata": {},
   "source": [
    "# BTC Pred with TimeBased CV split"
   ]
  },
  {
   "cell_type": "code",
   "execution_count": 211,
   "id": "423f0ce8",
   "metadata": {
    "scrolled": false
   },
   "outputs": [
    {
     "name": "stdout",
     "output_type": "stream",
     "text": [
      "Train period: 2022-03-27 - 2022-04-01 , Test period 2022-04-01 - 2022-04-03 # train records 5 , # test records 2\n",
      "Train period: 2022-03-29 - 2022-04-03 , Test period 2022-04-03 - 2022-04-05 # train records 5 , # test records 2\n",
      "Train period: 2022-03-31 - 2022-04-05 , Test period 2022-04-05 - 2022-04-07 # train records 5 , # test records 2\n",
      "Train period: 2022-04-02 - 2022-04-07 , Test period 2022-04-07 - 2022-04-09 # train records 5 , # test records 2\n",
      "Train period: 2022-04-04 - 2022-04-09 , Test period 2022-04-09 - 2022-04-11 # train records 5 , # test records 2\n",
      "Train period: 2022-04-06 - 2022-04-11 , Test period 2022-04-11 - 2022-04-13 # train records 5 , # test records 2\n",
      "Train period: 2022-04-08 - 2022-04-13 , Test period 2022-04-13 - 2022-04-15 # train records 5 , # test records 2\n",
      "Train period: 2022-04-10 - 2022-04-15 , Test period 2022-04-15 - 2022-04-17 # train records 5 , # test records 2\n",
      "Train period: 2022-04-12 - 2022-04-17 , Test period 2022-04-17 - 2022-04-19 # train records 5 , # test records 2\n",
      "Train period: 2022-04-14 - 2022-04-19 , Test period 2022-04-19 - 2022-04-21 # train records 5 , # test records 2\n",
      "Train period: 2022-04-16 - 2022-04-21 , Test period 2022-04-21 - 2022-04-23 # train records 5 , # test records 2\n",
      "Train period: 2022-04-18 - 2022-04-23 , Test period 2022-04-23 - 2022-04-25 # train records 5 , # test records 2\n",
      "Train period: 2022-04-20 - 2022-04-25 , Test period 2022-04-25 - 2022-04-27 # train records 5 , # test records 2\n",
      "Train period: 2022-04-22 - 2022-04-27 , Test period 2022-04-27 - 2022-04-29 # train records 5 , # test records 2\n",
      "Train period: 2022-04-24 - 2022-04-29 , Test period 2022-04-29 - 2022-05-01 # train records 5 , # test records 2\n",
      "Train period: 2022-04-26 - 2022-05-01 , Test period 2022-05-01 - 2022-05-03 # train records 5 , # test records 2\n",
      "Train period: 2022-04-28 - 2022-05-03 , Test period 2022-05-03 - 2022-05-05 # train records 5 , # test records 2\n",
      "Train period: 2022-04-30 - 2022-05-05 , Test period 2022-05-05 - 2022-05-07 # train records 5 , # test records 2\n",
      "[1783, 1784, 1785, 1786, 1787] [1788, 1789]\n",
      "[1785, 1786, 1787, 1788, 1789] [1790, 1791]\n",
      "[1787, 1788, 1789, 1790, 1791] [1792, 1793]\n",
      "[1789, 1790, 1791, 1792, 1793] [1794, 1795]\n",
      "[1791, 1792, 1793, 1794, 1795] [1796, 1797]\n",
      "[1793, 1794, 1795, 1796, 1797] [1798, 1799]\n",
      "[1795, 1796, 1797, 1798, 1799] [1800, 1801]\n",
      "[1797, 1798, 1799, 1800, 1801] [1802, 1803]\n",
      "[1799, 1800, 1801, 1802, 1803] [1804, 1805]\n",
      "[1801, 1802, 1803, 1804, 1805] [1806, 1807]\n",
      "[1803, 1804, 1805, 1806, 1807] [1808, 1809]\n",
      "[1805, 1806, 1807, 1808, 1809] [1810, 1811]\n",
      "[1807, 1808, 1809, 1810, 1811] [1812, 1813]\n",
      "[1809, 1810, 1811, 1812, 1813] [1814, 1815]\n",
      "[1811, 1812, 1813, 1814, 1815] [1816, 1817]\n",
      "[1813, 1814, 1815, 1816, 1817] [1818, 1819]\n",
      "[1815, 1816, 1817, 1818, 1819] [1820, 1821]\n",
      "[1817, 1818, 1819, 1820, 1821] [1822, 1823]\n"
     ]
    }
   ],
   "source": [
    "import datetime\n",
    "tscv = TimeBasedCV(train_period=5,\n",
    "                   test_period=2,\n",
    "                   freq='days')\n",
    "for train_index, test_index in tscv.split(BTC_rindex,\n",
    "                   validation_split_date=datetime.date(2022,4,1), date_column='Date'):\n",
    "    print(train_index, test_index)"
   ]
  },
  {
   "cell_type": "code",
   "execution_count": 212,
   "id": "2647dbd6",
   "metadata": {},
   "outputs": [],
   "source": [
    "future2=future2.reset_index(drop=True).drop('crypto',axis=1)\n",
    "#only for BTC"
   ]
  },
  {
   "cell_type": "code",
   "execution_count": 213,
   "id": "971596c1",
   "metadata": {
    "scrolled": true
   },
   "outputs": [
    {
     "name": "stdout",
     "output_type": "stream",
     "text": [
      "Train period: 2022-03-27 - 2022-04-01 , Test period 2022-04-01 - 2022-04-03 # train records 5 , # test records 2\n",
      "Train period: 2022-03-29 - 2022-04-03 , Test period 2022-04-03 - 2022-04-05 # train records 5 , # test records 2\n",
      "Train period: 2022-03-31 - 2022-04-05 , Test period 2022-04-05 - 2022-04-07 # train records 5 , # test records 2\n",
      "Train period: 2022-04-02 - 2022-04-07 , Test period 2022-04-07 - 2022-04-09 # train records 5 , # test records 2\n",
      "Train period: 2022-04-04 - 2022-04-09 , Test period 2022-04-09 - 2022-04-11 # train records 5 , # test records 2\n",
      "Train period: 2022-04-06 - 2022-04-11 , Test period 2022-04-11 - 2022-04-13 # train records 5 , # test records 2\n",
      "Train period: 2022-04-08 - 2022-04-13 , Test period 2022-04-13 - 2022-04-15 # train records 5 , # test records 2\n",
      "Train period: 2022-04-10 - 2022-04-15 , Test period 2022-04-15 - 2022-04-17 # train records 5 , # test records 2\n",
      "Train period: 2022-04-12 - 2022-04-17 , Test period 2022-04-17 - 2022-04-19 # train records 5 , # test records 2\n",
      "Train period: 2022-04-14 - 2022-04-19 , Test period 2022-04-19 - 2022-04-21 # train records 5 , # test records 2\n",
      "Train period: 2022-04-16 - 2022-04-21 , Test period 2022-04-21 - 2022-04-23 # train records 5 , # test records 2\n",
      "Train period: 2022-04-18 - 2022-04-23 , Test period 2022-04-23 - 2022-04-25 # train records 5 , # test records 2\n",
      "Train period: 2022-04-20 - 2022-04-25 , Test period 2022-04-25 - 2022-04-27 # train records 5 , # test records 2\n",
      "Train period: 2022-04-22 - 2022-04-27 , Test period 2022-04-27 - 2022-04-29 # train records 5 , # test records 2\n",
      "Train period: 2022-04-24 - 2022-04-29 , Test period 2022-04-29 - 2022-05-01 # train records 5 , # test records 2\n",
      "Train period: 2022-04-26 - 2022-05-01 , Test period 2022-05-01 - 2022-05-03 # train records 5 , # test records 2\n",
      "Train period: 2022-04-28 - 2022-05-03 , Test period 2022-05-03 - 2022-05-05 # train records 5 , # test records 2\n",
      "Train period: 2022-04-30 - 2022-05-05 , Test period 2022-05-05 - 2022-05-07 # train records 5 , # test records 2\n",
      "Train period: 2022-05-02 - 2022-05-07 , Test period 2022-05-07 - 2022-05-09 # train records 5 , # test records 2\n",
      "Train period: 2022-03-27 - 2022-04-01 , Test period 2022-04-01 - 2022-04-03 # train records 5 , # test records 2\n",
      "Train period: 2022-03-29 - 2022-04-03 , Test period 2022-04-03 - 2022-04-05 # train records 5 , # test records 2\n",
      "Train period: 2022-03-31 - 2022-04-05 , Test period 2022-04-05 - 2022-04-07 # train records 5 , # test records 2\n",
      "Train period: 2022-04-02 - 2022-04-07 , Test period 2022-04-07 - 2022-04-09 # train records 5 , # test records 2\n",
      "Train period: 2022-04-04 - 2022-04-09 , Test period 2022-04-09 - 2022-04-11 # train records 5 , # test records 2\n",
      "Train period: 2022-04-06 - 2022-04-11 , Test period 2022-04-11 - 2022-04-13 # train records 5 , # test records 2\n",
      "Train period: 2022-04-08 - 2022-04-13 , Test period 2022-04-13 - 2022-04-15 # train records 5 , # test records 2\n",
      "Train period: 2022-04-10 - 2022-04-15 , Test period 2022-04-15 - 2022-04-17 # train records 5 , # test records 2\n",
      "Train period: 2022-04-12 - 2022-04-17 , Test period 2022-04-17 - 2022-04-19 # train records 5 , # test records 2\n",
      "Train period: 2022-04-14 - 2022-04-19 , Test period 2022-04-19 - 2022-04-21 # train records 5 , # test records 2\n",
      "Train period: 2022-04-16 - 2022-04-21 , Test period 2022-04-21 - 2022-04-23 # train records 5 , # test records 2\n",
      "Train period: 2022-04-18 - 2022-04-23 , Test period 2022-04-23 - 2022-04-25 # train records 5 , # test records 2\n",
      "Train period: 2022-04-20 - 2022-04-25 , Test period 2022-04-25 - 2022-04-27 # train records 5 , # test records 2\n",
      "Train period: 2022-04-22 - 2022-04-27 , Test period 2022-04-27 - 2022-04-29 # train records 5 , # test records 2\n",
      "Train period: 2022-04-24 - 2022-04-29 , Test period 2022-04-29 - 2022-05-01 # train records 5 , # test records 2\n",
      "Train period: 2022-04-26 - 2022-05-01 , Test period 2022-05-01 - 2022-05-03 # train records 5 , # test records 2\n",
      "Train period: 2022-04-28 - 2022-05-03 , Test period 2022-05-03 - 2022-05-05 # train records 5 , # test records 2\n",
      "Train period: 2022-04-30 - 2022-05-05 , Test period 2022-05-05 - 2022-05-07 # train records 5 , # test records 2\n",
      "Fitting 18 folds for each of 1 candidates, totalling 18 fits\n"
     ]
    },
    {
     "name": "stderr",
     "output_type": "stream",
     "text": [
      "[Parallel(n_jobs=-1)]: Using backend LokyBackend with 8 concurrent workers.\n",
      "[Parallel(n_jobs=-1)]: Done   2 tasks      | elapsed:    5.1s\n",
      "[Parallel(n_jobs=-1)]: Done   7 out of  18 | elapsed:    5.2s remaining:    8.2s\n",
      "[Parallel(n_jobs=-1)]: Done  11 out of  18 | elapsed:    5.2s remaining:    3.3s\n",
      "[Parallel(n_jobs=-1)]: Done  15 out of  18 | elapsed:    5.2s remaining:    1.0s\n"
     ]
    },
    {
     "name": "stdout",
     "output_type": "stream",
     "text": [
      "[LightGBM] [Warning] max_depth is set=-1, max_depth=-1 will be ignored. Current value: max_depth=-1\n"
     ]
    },
    {
     "name": "stderr",
     "output_type": "stream",
     "text": [
      "[Parallel(n_jobs=-1)]: Done  18 out of  18 | elapsed:    5.3s finished\n"
     ]
    },
    {
     "data": {
      "text/plain": [
       "{'mean_fit_time': array([0.01089153]),\n",
       " 'std_fit_time': array([0.00622623]),\n",
       " 'mean_score_time': array([0.00472384]),\n",
       " 'std_score_time': array([0.00305121]),\n",
       " 'param_ max_depth': masked_array(data=[-1],\n",
       "              mask=[False],\n",
       "        fill_value='?',\n",
       "             dtype=object),\n",
       " 'params': [{' max_depth': -1}],\n",
       " 'split0_test_score': array([-12.44069381]),\n",
       " 'split1_test_score': array([-1.25140905]),\n",
       " 'split2_test_score': array([-2.2750903]),\n",
       " 'split3_test_score': array([-18.93150306]),\n",
       " 'split4_test_score': array([-36.71730551]),\n",
       " 'split5_test_score': array([-96.50625299]),\n",
       " 'split6_test_score': array([-1.8362038]),\n",
       " 'split7_test_score': array([-2.54225684]),\n",
       " 'split8_test_score': array([-0.09382893]),\n",
       " 'split9_test_score': array([-319.47175897]),\n",
       " 'split10_test_score': array([-2.6047563]),\n",
       " 'split11_test_score': array([-22789.31117586]),\n",
       " 'split12_test_score': array([-0.50498788]),\n",
       " 'split13_test_score': array([-0.03967216]),\n",
       " 'split14_test_score': array([-7.79905337]),\n",
       " 'split15_test_score': array([-40.73121531]),\n",
       " 'split16_test_score': array([-0.01162737]),\n",
       " 'split17_test_score': array([-63.25450309]),\n",
       " 'mean_test_score': array([-1299.79573859]),\n",
       " 'std_test_score': array([5212.49164222]),\n",
       " 'rank_test_score': array([1]),\n",
       " 'split0_train_score': array([0.]),\n",
       " 'split1_train_score': array([0.]),\n",
       " 'split2_train_score': array([0.]),\n",
       " 'split3_train_score': array([0.]),\n",
       " 'split4_train_score': array([0.]),\n",
       " 'split5_train_score': array([0.]),\n",
       " 'split6_train_score': array([0.]),\n",
       " 'split7_train_score': array([0.]),\n",
       " 'split8_train_score': array([0.]),\n",
       " 'split9_train_score': array([0.]),\n",
       " 'split10_train_score': array([0.]),\n",
       " 'split11_train_score': array([0.]),\n",
       " 'split12_train_score': array([0.]),\n",
       " 'split13_train_score': array([0.]),\n",
       " 'split14_train_score': array([0.]),\n",
       " 'split15_train_score': array([0.]),\n",
       " 'split16_train_score': array([0.]),\n",
       " 'split17_train_score': array([0.]),\n",
       " 'mean_train_score': array([0.]),\n",
       " 'std_train_score': array([0.])}"
      ]
     },
     "execution_count": 213,
     "metadata": {},
     "output_type": "execute_result"
    }
   ],
   "source": [
    "tscv.get_n_splits()\n",
    "\n",
    "#### Example- compute average test sets score: ####\n",
    "X = future2\n",
    "y = future2['close']\n",
    "\n",
    "\n",
    "scores = []\n",
    "for train_index, test_index in tscv.split(X, validation_split_date=datetime.date(2022,4,1)):\n",
    "    data_train   = X.loc[train_index].drop('Date', axis=1)\n",
    "    target_train = y.loc[train_index]\n",
    "\n",
    "    data_test    = X.loc[test_index].drop('Date', axis=1)\n",
    "    target_test  = y.loc[test_index]\n",
    "\n",
    "    # if needed, do preprocessing here\n",
    "\n",
    "    clf = LinearRegression()\n",
    "    clf.fit(data_train,target_train)\n",
    "\n",
    "    preds = clf.predict(data_test)\n",
    "    \n",
    "    # accuracy for the current fold only    \n",
    "    r2score = clf.score(data_test,target_test)\n",
    "\n",
    "    scores.append(r2score)\n",
    "\n",
    "# this is the average accuracy over all folds\n",
    "average_r2score = np.mean(scores)\n",
    "#### End of example ####\n",
    "\n",
    "\n",
    "tscv = TimeBasedCV(train_period=5, test_period=2)\n",
    "index_output = tscv.split(BTC_rindex, validation_split_date=datetime.date(2022,4,1))\n",
    "\n",
    "lgbm = LGBMRegressor()\n",
    "\n",
    "lgbmPd = {\" max_depth\": [-1,2]\n",
    "         }\n",
    "\n",
    "model = RandomizedSearchCV(\n",
    "    estimator = lgbm,\n",
    "    param_distributions = lgbmPd,\n",
    "    n_iter = 1,\n",
    "    n_jobs = -1,\n",
    "    iid = True,\n",
    "    cv = index_output,\n",
    "    verbose=5,\n",
    "    pre_dispatch='2*n_jobs',\n",
    "    random_state = None,\n",
    "    return_train_score = True)\n",
    "\n",
    "model.fit(X.drop('Date', axis=1),y)\n",
    "model.cv_results_"
   ]
  },
  {
   "cell_type": "code",
   "execution_count": 214,
   "id": "a8b118ee",
   "metadata": {},
   "outputs": [],
   "source": [
    "Labels_Test1 = model.predict(data_test)\n",
    "Labels_Test1 = pd.DataFrame(Labels_Test1)"
   ]
  },
  {
   "cell_type": "code",
   "execution_count": 215,
   "id": "c6d0ea3f",
   "metadata": {},
   "outputs": [
    {
     "data": {
      "text/html": [
       "<div>\n",
       "<style scoped>\n",
       "    .dataframe tbody tr th:only-of-type {\n",
       "        vertical-align: middle;\n",
       "    }\n",
       "\n",
       "    .dataframe tbody tr th {\n",
       "        vertical-align: top;\n",
       "    }\n",
       "\n",
       "    .dataframe thead th {\n",
       "        text-align: right;\n",
       "    }\n",
       "</style>\n",
       "<table border=\"1\" class=\"dataframe\">\n",
       "  <thead>\n",
       "    <tr style=\"text-align: right;\">\n",
       "      <th></th>\n",
       "      <th>high</th>\n",
       "      <th>low</th>\n",
       "      <th>close</th>\n",
       "      <th>open</th>\n",
       "      <th>volume</th>\n",
       "      <th>adj_close</th>\n",
       "      <th>diff</th>\n",
       "      <th>gain</th>\n",
       "      <th>loss</th>\n",
       "      <th>avg_gain</th>\n",
       "      <th>avg_loss</th>\n",
       "      <th>rs</th>\n",
       "      <th>rsi</th>\n",
       "      <th>bollinger</th>\n",
       "      <th>macd</th>\n",
       "      <th>macd_sig</th>\n",
       "      <th>macd_cd</th>\n",
       "      <th>STOCHk_14_3_3</th>\n",
       "      <th>STOCHd_14_3_3</th>\n",
       "    </tr>\n",
       "  </thead>\n",
       "  <tbody>\n",
       "    <tr>\n",
       "      <th>1824</th>\n",
       "      <td>36129.925781</td>\n",
       "      <td>34940.824219</td>\n",
       "      <td>35501.953125</td>\n",
       "      <td>36042.503906</td>\n",
       "      <td>2.437590e+10</td>\n",
       "      <td>35501.953125</td>\n",
       "      <td>-538.96875</td>\n",
       "      <td>0.0</td>\n",
       "      <td>538.97</td>\n",
       "      <td>346.589980</td>\n",
       "      <td>635.164527</td>\n",
       "      <td>0.545670</td>\n",
       "      <td>35.303121</td>\n",
       "      <td>38970.386523</td>\n",
       "      <td>-1327.247911</td>\n",
       "      <td>-243.032228</td>\n",
       "      <td>-1084.215684</td>\n",
       "      <td>11.667666</td>\n",
       "      <td>17.511217</td>\n",
       "    </tr>\n",
       "    <tr>\n",
       "      <th>1825</th>\n",
       "      <td>35477.484375</td>\n",
       "      <td>33913.957031</td>\n",
       "      <td>34226.796875</td>\n",
       "      <td>35473.250000</td>\n",
       "      <td>3.694594e+10</td>\n",
       "      <td>34226.796875</td>\n",
       "      <td>-1275.15625</td>\n",
       "      <td>0.0</td>\n",
       "      <td>1275.16</td>\n",
       "      <td>321.833553</td>\n",
       "      <td>680.878490</td>\n",
       "      <td>0.472674</td>\n",
       "      <td>32.096309</td>\n",
       "      <td>38640.415625</td>\n",
       "      <td>-1518.481629</td>\n",
       "      <td>-347.412757</td>\n",
       "      <td>-1171.068873</td>\n",
       "      <td>8.333706</td>\n",
       "      <td>13.898973</td>\n",
       "    </tr>\n",
       "  </tbody>\n",
       "</table>\n",
       "</div>"
      ],
      "text/plain": [
       "              high           low         close          open        volume  \\\n",
       "1824  36129.925781  34940.824219  35501.953125  36042.503906  2.437590e+10   \n",
       "1825  35477.484375  33913.957031  34226.796875  35473.250000  3.694594e+10   \n",
       "\n",
       "         adj_close        diff  gain     loss    avg_gain    avg_loss  \\\n",
       "1824  35501.953125  -538.96875   0.0   538.97  346.589980  635.164527   \n",
       "1825  34226.796875 -1275.15625   0.0  1275.16  321.833553  680.878490   \n",
       "\n",
       "            rs        rsi     bollinger         macd    macd_sig      macd_cd  \\\n",
       "1824  0.545670  35.303121  38970.386523 -1327.247911 -243.032228 -1084.215684   \n",
       "1825  0.472674  32.096309  38640.415625 -1518.481629 -347.412757 -1171.068873   \n",
       "\n",
       "      STOCHk_14_3_3  STOCHd_14_3_3  \n",
       "1824      11.667666      17.511217  \n",
       "1825       8.333706      13.898973  "
      ]
     },
     "execution_count": 215,
     "metadata": {},
     "output_type": "execute_result"
    }
   ],
   "source": [
    "data_test"
   ]
  },
  {
   "cell_type": "code",
   "execution_count": 216,
   "id": "24f543d5",
   "metadata": {},
   "outputs": [
    {
     "data": {
      "text/html": [
       "<div>\n",
       "<style scoped>\n",
       "    .dataframe tbody tr th:only-of-type {\n",
       "        vertical-align: middle;\n",
       "    }\n",
       "\n",
       "    .dataframe tbody tr th {\n",
       "        vertical-align: top;\n",
       "    }\n",
       "\n",
       "    .dataframe thead th {\n",
       "        text-align: right;\n",
       "    }\n",
       "</style>\n",
       "<table border=\"1\" class=\"dataframe\">\n",
       "  <thead>\n",
       "    <tr style=\"text-align: right;\">\n",
       "      <th></th>\n",
       "      <th>Date</th>\n",
       "      <th>crypto</th>\n",
       "      <th>high</th>\n",
       "      <th>low</th>\n",
       "      <th>close</th>\n",
       "      <th>open</th>\n",
       "      <th>volume</th>\n",
       "      <th>adj_close</th>\n",
       "      <th>diff</th>\n",
       "      <th>gain</th>\n",
       "      <th>...</th>\n",
       "      <th>avg_gain</th>\n",
       "      <th>avg_loss</th>\n",
       "      <th>rs</th>\n",
       "      <th>rsi</th>\n",
       "      <th>bollinger</th>\n",
       "      <th>macd</th>\n",
       "      <th>macd_sig</th>\n",
       "      <th>macd_cd</th>\n",
       "      <th>STOCHk_14_3_3</th>\n",
       "      <th>STOCHd_14_3_3</th>\n",
       "    </tr>\n",
       "  </thead>\n",
       "  <tbody>\n",
       "    <tr>\n",
       "      <th>1824</th>\n",
       "      <td>2022-05-07</td>\n",
       "      <td>BTC</td>\n",
       "      <td>36129.925781</td>\n",
       "      <td>34940.824219</td>\n",
       "      <td>35501.953125</td>\n",
       "      <td>36042.503906</td>\n",
       "      <td>2.437590e+10</td>\n",
       "      <td>35501.953125</td>\n",
       "      <td>-538.96875</td>\n",
       "      <td>0.0</td>\n",
       "      <td>...</td>\n",
       "      <td>346.589980</td>\n",
       "      <td>635.164527</td>\n",
       "      <td>0.545670</td>\n",
       "      <td>35.303121</td>\n",
       "      <td>38970.386523</td>\n",
       "      <td>-1327.247911</td>\n",
       "      <td>-243.032228</td>\n",
       "      <td>-1084.215684</td>\n",
       "      <td>11.667666</td>\n",
       "      <td>17.511217</td>\n",
       "    </tr>\n",
       "    <tr>\n",
       "      <th>1825</th>\n",
       "      <td>2022-05-08</td>\n",
       "      <td>BTC</td>\n",
       "      <td>35477.484375</td>\n",
       "      <td>33913.957031</td>\n",
       "      <td>34226.796875</td>\n",
       "      <td>35473.250000</td>\n",
       "      <td>3.694594e+10</td>\n",
       "      <td>34226.796875</td>\n",
       "      <td>-1275.15625</td>\n",
       "      <td>0.0</td>\n",
       "      <td>...</td>\n",
       "      <td>321.833553</td>\n",
       "      <td>680.878490</td>\n",
       "      <td>0.472674</td>\n",
       "      <td>32.096309</td>\n",
       "      <td>38640.415625</td>\n",
       "      <td>-1518.481629</td>\n",
       "      <td>-347.412757</td>\n",
       "      <td>-1171.068873</td>\n",
       "      <td>8.333706</td>\n",
       "      <td>13.898973</td>\n",
       "    </tr>\n",
       "  </tbody>\n",
       "</table>\n",
       "<p>2 rows × 21 columns</p>\n",
       "</div>"
      ],
      "text/plain": [
       "           Date crypto          high           low         close  \\\n",
       "1824 2022-05-07    BTC  36129.925781  34940.824219  35501.953125   \n",
       "1825 2022-05-08    BTC  35477.484375  33913.957031  34226.796875   \n",
       "\n",
       "              open        volume     adj_close        diff  gain  ...  \\\n",
       "1824  36042.503906  2.437590e+10  35501.953125  -538.96875   0.0  ...   \n",
       "1825  35473.250000  3.694594e+10  34226.796875 -1275.15625   0.0  ...   \n",
       "\n",
       "        avg_gain    avg_loss        rs        rsi     bollinger         macd  \\\n",
       "1824  346.589980  635.164527  0.545670  35.303121  38970.386523 -1327.247911   \n",
       "1825  321.833553  680.878490  0.472674  32.096309  38640.415625 -1518.481629   \n",
       "\n",
       "        macd_sig      macd_cd  STOCHk_14_3_3  STOCHd_14_3_3  \n",
       "1824 -243.032228 -1084.215684      11.667666      17.511217  \n",
       "1825 -347.412757 -1171.068873       8.333706      13.898973  \n",
       "\n",
       "[2 rows x 21 columns]"
      ]
     },
     "execution_count": 216,
     "metadata": {},
     "output_type": "execute_result"
    }
   ],
   "source": [
    "BTC_rindex.tail(2)"
   ]
  },
  {
   "cell_type": "code",
   "execution_count": 339,
   "id": "c5482ca4",
   "metadata": {
    "scrolled": true
   },
   "outputs": [],
   "source": [
    "Labels_Test1.round(2).to_csv('btc_pred.csv')\n",
    "#add back as forecasted column"
   ]
  },
  {
   "cell_type": "code",
   "execution_count": 218,
   "id": "1f10dd70",
   "metadata": {
    "scrolled": true
   },
   "outputs": [
    {
     "data": {
      "text/plain": [
       "<AxesSubplot:xlabel='importances', ylabel='features'>"
      ]
     },
     "execution_count": 218,
     "metadata": {},
     "output_type": "execute_result"
    },
    {
     "data": {
      "image/png": "[encoded data removed]",
      "text/plain": [
       "<Figure size 1500x2000 with 1 Axes>"
      ]
     },
     "metadata": {},
     "output_type": "display_data"
    }
   ],
   "source": [
    "ab = lgbm.fit(X.drop('Date', axis=1),y)\n",
    "plt.figure(figsize=(15,20))\n",
    "importances = ab.feature_importances_\n",
    "features = X.drop('Date', axis=1).columns\n",
    "data_tuples = list(zip(importances, features))\n",
    "data_1 = pd.DataFrame(data_tuples, columns = ['importances', 'features'])\n",
    "data_1 = data_1.sort_values('importances', ascending = False)\n",
    "sns.barplot(data_1['importances'], data_1['features'], palette = 'cubehelix', orient = 'h')"
   ]
  },
  {
   "cell_type": "markdown",
   "id": "1737d99c",
   "metadata": {},
   "source": [
    "# Analyzing low closing & high closing prices for BTC"
   ]
  },
  {
   "cell_type": "code",
   "execution_count": 219,
   "id": "02efca5a",
   "metadata": {
    "scrolled": true
   },
   "outputs": [
    {
     "data": {
      "text/html": [
       "<div>\n",
       "<style scoped>\n",
       "    .dataframe tbody tr th:only-of-type {\n",
       "        vertical-align: middle;\n",
       "    }\n",
       "\n",
       "    .dataframe tbody tr th {\n",
       "        vertical-align: top;\n",
       "    }\n",
       "\n",
       "    .dataframe thead th {\n",
       "        text-align: right;\n",
       "    }\n",
       "</style>\n",
       "<table border=\"1\" class=\"dataframe\">\n",
       "  <thead>\n",
       "    <tr style=\"text-align: right;\">\n",
       "      <th></th>\n",
       "      <th>crypto</th>\n",
       "      <th>high</th>\n",
       "      <th>low</th>\n",
       "      <th>close</th>\n",
       "      <th>open</th>\n",
       "      <th>volume</th>\n",
       "      <th>adj_close</th>\n",
       "      <th>diff</th>\n",
       "      <th>gain</th>\n",
       "      <th>loss</th>\n",
       "      <th>avg_gain</th>\n",
       "      <th>avg_loss</th>\n",
       "      <th>rs</th>\n",
       "      <th>rsi</th>\n",
       "      <th>bollinger</th>\n",
       "      <th>macd</th>\n",
       "      <th>macd_sig</th>\n",
       "      <th>macd_cd</th>\n",
       "      <th>STOCHk_14_3_3</th>\n",
       "      <th>STOCHd_14_3_3</th>\n",
       "    </tr>\n",
       "    <tr>\n",
       "      <th>Date</th>\n",
       "      <th></th>\n",
       "      <th></th>\n",
       "      <th></th>\n",
       "      <th></th>\n",
       "      <th></th>\n",
       "      <th></th>\n",
       "      <th></th>\n",
       "      <th></th>\n",
       "      <th></th>\n",
       "      <th></th>\n",
       "      <th></th>\n",
       "      <th></th>\n",
       "      <th></th>\n",
       "      <th></th>\n",
       "      <th></th>\n",
       "      <th></th>\n",
       "      <th></th>\n",
       "      <th></th>\n",
       "      <th></th>\n",
       "      <th></th>\n",
       "    </tr>\n",
       "  </thead>\n",
       "  <tbody>\n",
       "    <tr>\n",
       "      <th>2021-07-18</th>\n",
       "      <td>BTC</td>\n",
       "      <td>32398.996094</td>\n",
       "      <td>31215.492188</td>\n",
       "      <td>31796.810547</td>\n",
       "      <td>31533.884766</td>\n",
       "      <td>1.878799e+10</td>\n",
       "      <td>31796.810547</td>\n",
       "      <td>263.742188</td>\n",
       "      <td>263.74</td>\n",
       "      <td>0.00</td>\n",
       "      <td>329.119385</td>\n",
       "      <td>478.316689</td>\n",
       "      <td>0.688078</td>\n",
       "      <td>40.761045</td>\n",
       "      <td>33490.954590</td>\n",
       "      <td>-1029.383007</td>\n",
       "      <td>-85.913653</td>\n",
       "      <td>-943.469355</td>\n",
       "      <td>10.737532</td>\n",
       "      <td>11.928606</td>\n",
       "    </tr>\n",
       "    <tr>\n",
       "      <th>2021-07-19</th>\n",
       "      <td>BTC</td>\n",
       "      <td>31885.859375</td>\n",
       "      <td>30563.734375</td>\n",
       "      <td>30817.832031</td>\n",
       "      <td>31800.011719</td>\n",
       "      <td>2.043479e+10</td>\n",
       "      <td>30817.832031</td>\n",
       "      <td>-978.978516</td>\n",
       "      <td>0.00</td>\n",
       "      <td>978.98</td>\n",
       "      <td>305.610857</td>\n",
       "      <td>514.078354</td>\n",
       "      <td>0.594483</td>\n",
       "      <td>37.283748</td>\n",
       "      <td>33238.457324</td>\n",
       "      <td>-1097.463528</td>\n",
       "      <td>-123.195338</td>\n",
       "      <td>-974.268189</td>\n",
       "      <td>10.419101</td>\n",
       "      <td>10.194299</td>\n",
       "    </tr>\n",
       "    <tr>\n",
       "      <th>2021-07-20</th>\n",
       "      <td>BTC</td>\n",
       "      <td>31006.187500</td>\n",
       "      <td>29360.955078</td>\n",
       "      <td>29807.347656</td>\n",
       "      <td>30838.285156</td>\n",
       "      <td>2.314827e+10</td>\n",
       "      <td>29807.347656</td>\n",
       "      <td>-1010.484375</td>\n",
       "      <td>0.00</td>\n",
       "      <td>1010.48</td>\n",
       "      <td>283.781510</td>\n",
       "      <td>549.535614</td>\n",
       "      <td>0.516402</td>\n",
       "      <td>34.054444</td>\n",
       "      <td>32976.782910</td>\n",
       "      <td>-1218.904700</td>\n",
       "      <td>-195.709209</td>\n",
       "      <td>-1023.195491</td>\n",
       "      <td>10.079058</td>\n",
       "      <td>10.411897</td>\n",
       "    </tr>\n",
       "    <tr>\n",
       "      <th>2021-07-21</th>\n",
       "      <td>BTC</td>\n",
       "      <td>32752.326172</td>\n",
       "      <td>29526.183594</td>\n",
       "      <td>32110.693359</td>\n",
       "      <td>29796.285156</td>\n",
       "      <td>2.820302e+10</td>\n",
       "      <td>32110.693359</td>\n",
       "      <td>2303.345703</td>\n",
       "      <td>2303.35</td>\n",
       "      <td>0.00</td>\n",
       "      <td>428.036402</td>\n",
       "      <td>510.283070</td>\n",
       "      <td>0.838821</td>\n",
       "      <td>45.617342</td>\n",
       "      <td>32903.711719</td>\n",
       "      <td>-1116.417589</td>\n",
       "      <td>-74.577678</td>\n",
       "      <td>-1041.839911</td>\n",
       "      <td>22.053994</td>\n",
       "      <td>14.184051</td>\n",
       "    </tr>\n",
       "    <tr>\n",
       "      <th>2021-07-22</th>\n",
       "      <td>BTC</td>\n",
       "      <td>32576.400391</td>\n",
       "      <td>31745.298828</td>\n",
       "      <td>32313.105469</td>\n",
       "      <td>32138.873047</td>\n",
       "      <td>1.955523e+10</td>\n",
       "      <td>32313.105469</td>\n",
       "      <td>202.412109</td>\n",
       "      <td>202.41</td>\n",
       "      <td>0.00</td>\n",
       "      <td>411.920231</td>\n",
       "      <td>473.834280</td>\n",
       "      <td>0.869334</td>\n",
       "      <td>46.505011</td>\n",
       "      <td>32824.514648</td>\n",
       "      <td>-1007.251876</td>\n",
       "      <td>27.670428</td>\n",
       "      <td>-1034.922304</td>\n",
       "      <td>38.972359</td>\n",
       "      <td>23.701804</td>\n",
       "    </tr>\n",
       "    <tr>\n",
       "      <th>2021-07-23</th>\n",
       "      <td>BTC</td>\n",
       "      <td>33581.550781</td>\n",
       "      <td>32057.892578</td>\n",
       "      <td>33581.550781</td>\n",
       "      <td>32305.958984</td>\n",
       "      <td>2.255205e+10</td>\n",
       "      <td>33581.550781</td>\n",
       "      <td>1268.445312</td>\n",
       "      <td>1268.45</td>\n",
       "      <td>0.00</td>\n",
       "      <td>473.100929</td>\n",
       "      <td>439.988974</td>\n",
       "      <td>1.075256</td>\n",
       "      <td>51.813182</td>\n",
       "      <td>32770.164844</td>\n",
       "      <td>-809.058010</td>\n",
       "      <td>180.691435</td>\n",
       "      <td>-989.749445</td>\n",
       "      <td>63.226297</td>\n",
       "      <td>41.417550</td>\n",
       "    </tr>\n",
       "    <tr>\n",
       "      <th>2021-07-24</th>\n",
       "      <td>BTC</td>\n",
       "      <td>34490.390625</td>\n",
       "      <td>33424.859375</td>\n",
       "      <td>34292.445312</td>\n",
       "      <td>33593.730469</td>\n",
       "      <td>2.166471e+10</td>\n",
       "      <td>34292.445312</td>\n",
       "      <td>710.894531</td>\n",
       "      <td>710.89</td>\n",
       "      <td>0.00</td>\n",
       "      <td>490.085862</td>\n",
       "      <td>408.561190</td>\n",
       "      <td>1.199541</td>\n",
       "      <td>54.535967</td>\n",
       "      <td>32720.398047</td>\n",
       "      <td>-587.848345</td>\n",
       "      <td>321.520880</td>\n",
       "      <td>-909.369225</td>\n",
       "      <td>77.128470</td>\n",
       "      <td>59.775709</td>\n",
       "    </tr>\n",
       "    <tr>\n",
       "      <th>2021-07-25</th>\n",
       "      <td>BTC</td>\n",
       "      <td>35364.925781</td>\n",
       "      <td>33881.835938</td>\n",
       "      <td>35350.187500</td>\n",
       "      <td>34290.292969</td>\n",
       "      <td>2.085669e+10</td>\n",
       "      <td>35350.187500</td>\n",
       "      <td>1057.742188</td>\n",
       "      <td>1057.74</td>\n",
       "      <td>0.00</td>\n",
       "      <td>530.632586</td>\n",
       "      <td>379.378248</td>\n",
       "      <td>1.398690</td>\n",
       "      <td>58.310579</td>\n",
       "      <td>32800.607227</td>\n",
       "      <td>-323.458509</td>\n",
       "      <td>468.728573</td>\n",
       "      <td>-792.187082</td>\n",
       "      <td>91.568809</td>\n",
       "      <td>77.307859</td>\n",
       "    </tr>\n",
       "    <tr>\n",
       "      <th>2021-07-26</th>\n",
       "      <td>BTC</td>\n",
       "      <td>40499.675781</td>\n",
       "      <td>35287.312500</td>\n",
       "      <td>37337.535156</td>\n",
       "      <td>35384.031250</td>\n",
       "      <td>5.102213e+10</td>\n",
       "      <td>37337.535156</td>\n",
       "      <td>1987.347656</td>\n",
       "      <td>1987.35</td>\n",
       "      <td>0.00</td>\n",
       "      <td>634.683830</td>\n",
       "      <td>352.279802</td>\n",
       "      <td>1.801647</td>\n",
       "      <td>64.306709</td>\n",
       "      <td>32955.724219</td>\n",
       "      <td>45.905517</td>\n",
       "      <td>670.474079</td>\n",
       "      <td>-624.568562</td>\n",
       "      <td>88.545502</td>\n",
       "      <td>85.747594</td>\n",
       "    </tr>\n",
       "    <tr>\n",
       "      <th>2021-07-27</th>\n",
       "      <td>BTC</td>\n",
       "      <td>39406.941406</td>\n",
       "      <td>36441.726562</td>\n",
       "      <td>39406.941406</td>\n",
       "      <td>37276.035156</td>\n",
       "      <td>3.509737e+10</td>\n",
       "      <td>39406.941406</td>\n",
       "      <td>2069.406250</td>\n",
       "      <td>2069.41</td>\n",
       "      <td>0.00</td>\n",
       "      <td>737.164271</td>\n",
       "      <td>327.116959</td>\n",
       "      <td>2.253519</td>\n",
       "      <td>69.264049</td>\n",
       "      <td>33233.304883</td>\n",
       "      <td>499.850988</td>\n",
       "      <td>899.535640</td>\n",
       "      <td>-399.684652</td>\n",
       "      <td>87.185190</td>\n",
       "      <td>89.099833</td>\n",
       "    </tr>\n",
       "  </tbody>\n",
       "</table>\n",
       "</div>"
      ],
      "text/plain": [
       "           crypto          high           low         close          open  \\\n",
       "Date                                                                        \n",
       "2021-07-18    BTC  32398.996094  31215.492188  31796.810547  31533.884766   \n",
       "2021-07-19    BTC  31885.859375  30563.734375  30817.832031  31800.011719   \n",
       "2021-07-20    BTC  31006.187500  29360.955078  29807.347656  30838.285156   \n",
       "2021-07-21    BTC  32752.326172  29526.183594  32110.693359  29796.285156   \n",
       "2021-07-22    BTC  32576.400391  31745.298828  32313.105469  32138.873047   \n",
       "2021-07-23    BTC  33581.550781  32057.892578  33581.550781  32305.958984   \n",
       "2021-07-24    BTC  34490.390625  33424.859375  34292.445312  33593.730469   \n",
       "2021-07-25    BTC  35364.925781  33881.835938  35350.187500  34290.292969   \n",
       "2021-07-26    BTC  40499.675781  35287.312500  37337.535156  35384.031250   \n",
       "2021-07-27    BTC  39406.941406  36441.726562  39406.941406  37276.035156   \n",
       "\n",
       "                  volume     adj_close         diff     gain     loss  \\\n",
       "Date                                                                    \n",
       "2021-07-18  1.878799e+10  31796.810547   263.742188   263.74     0.00   \n",
       "2021-07-19  2.043479e+10  30817.832031  -978.978516     0.00   978.98   \n",
       "2021-07-20  2.314827e+10  29807.347656 -1010.484375     0.00  1010.48   \n",
       "2021-07-21  2.820302e+10  32110.693359  2303.345703  2303.35     0.00   \n",
       "2021-07-22  1.955523e+10  32313.105469   202.412109   202.41     0.00   \n",
       "2021-07-23  2.255205e+10  33581.550781  1268.445312  1268.45     0.00   \n",
       "2021-07-24  2.166471e+10  34292.445312   710.894531   710.89     0.00   \n",
       "2021-07-25  2.085669e+10  35350.187500  1057.742188  1057.74     0.00   \n",
       "2021-07-26  5.102213e+10  37337.535156  1987.347656  1987.35     0.00   \n",
       "2021-07-27  3.509737e+10  39406.941406  2069.406250  2069.41     0.00   \n",
       "\n",
       "              avg_gain    avg_loss        rs        rsi     bollinger  \\\n",
       "Date                                                                    \n",
       "2021-07-18  329.119385  478.316689  0.688078  40.761045  33490.954590   \n",
       "2021-07-19  305.610857  514.078354  0.594483  37.283748  33238.457324   \n",
       "2021-07-20  283.781510  549.535614  0.516402  34.054444  32976.782910   \n",
       "2021-07-21  428.036402  510.283070  0.838821  45.617342  32903.711719   \n",
       "2021-07-22  411.920231  473.834280  0.869334  46.505011  32824.514648   \n",
       "2021-07-23  473.100929  439.988974  1.075256  51.813182  32770.164844   \n",
       "2021-07-24  490.085862  408.561190  1.199541  54.535967  32720.398047   \n",
       "2021-07-25  530.632586  379.378248  1.398690  58.310579  32800.607227   \n",
       "2021-07-26  634.683830  352.279802  1.801647  64.306709  32955.724219   \n",
       "2021-07-27  737.164271  327.116959  2.253519  69.264049  33233.304883   \n",
       "\n",
       "                   macd    macd_sig      macd_cd  STOCHk_14_3_3  STOCHd_14_3_3  \n",
       "Date                                                                            \n",
       "2021-07-18 -1029.383007  -85.913653  -943.469355      10.737532      11.928606  \n",
       "2021-07-19 -1097.463528 -123.195338  -974.268189      10.419101      10.194299  \n",
       "2021-07-20 -1218.904700 -195.709209 -1023.195491      10.079058      10.411897  \n",
       "2021-07-21 -1116.417589  -74.577678 -1041.839911      22.053994      14.184051  \n",
       "2021-07-22 -1007.251876   27.670428 -1034.922304      38.972359      23.701804  \n",
       "2021-07-23  -809.058010  180.691435  -989.749445      63.226297      41.417550  \n",
       "2021-07-24  -587.848345  321.520880  -909.369225      77.128470      59.775709  \n",
       "2021-07-25  -323.458509  468.728573  -792.187082      91.568809      77.307859  \n",
       "2021-07-26    45.905517  670.474079  -624.568562      88.545502      85.747594  \n",
       "2021-07-27   499.850988  899.535640  -399.684652      87.185190      89.099833  "
      ]
     },
     "execution_count": 219,
     "metadata": {},
     "output_type": "execute_result"
    }
   ],
   "source": [
    "df_btc.loc['2021-07-18':'2021-07-27']"
   ]
  },
  {
   "cell_type": "code",
   "execution_count": 220,
   "id": "330ac83d",
   "metadata": {
    "scrolled": true
   },
   "outputs": [
    {
     "data": {
      "text/html": [
       "<div>\n",
       "<style scoped>\n",
       "    .dataframe tbody tr th:only-of-type {\n",
       "        vertical-align: middle;\n",
       "    }\n",
       "\n",
       "    .dataframe tbody tr th {\n",
       "        vertical-align: top;\n",
       "    }\n",
       "\n",
       "    .dataframe thead th {\n",
       "        text-align: right;\n",
       "    }\n",
       "</style>\n",
       "<table border=\"1\" class=\"dataframe\">\n",
       "  <thead>\n",
       "    <tr style=\"text-align: right;\">\n",
       "      <th></th>\n",
       "      <th>crypto</th>\n",
       "      <th>high</th>\n",
       "      <th>low</th>\n",
       "      <th>close</th>\n",
       "      <th>open</th>\n",
       "      <th>volume</th>\n",
       "      <th>adj_close</th>\n",
       "      <th>diff</th>\n",
       "      <th>gain</th>\n",
       "      <th>loss</th>\n",
       "      <th>avg_gain</th>\n",
       "      <th>avg_loss</th>\n",
       "      <th>rs</th>\n",
       "      <th>rsi</th>\n",
       "      <th>bollinger</th>\n",
       "      <th>macd</th>\n",
       "      <th>macd_sig</th>\n",
       "      <th>macd_cd</th>\n",
       "      <th>STOCHk_14_3_3</th>\n",
       "      <th>STOCHd_14_3_3</th>\n",
       "    </tr>\n",
       "    <tr>\n",
       "      <th>Date</th>\n",
       "      <th></th>\n",
       "      <th></th>\n",
       "      <th></th>\n",
       "      <th></th>\n",
       "      <th></th>\n",
       "      <th></th>\n",
       "      <th></th>\n",
       "      <th></th>\n",
       "      <th></th>\n",
       "      <th></th>\n",
       "      <th></th>\n",
       "      <th></th>\n",
       "      <th></th>\n",
       "      <th></th>\n",
       "      <th></th>\n",
       "      <th></th>\n",
       "      <th></th>\n",
       "      <th></th>\n",
       "      <th></th>\n",
       "      <th></th>\n",
       "    </tr>\n",
       "  </thead>\n",
       "  <tbody>\n",
       "    <tr>\n",
       "      <th>2021-11-07</th>\n",
       "      <td>BTC</td>\n",
       "      <td>63326.988281</td>\n",
       "      <td>61432.488281</td>\n",
       "      <td>63326.988281</td>\n",
       "      <td>61554.921875</td>\n",
       "      <td>2.472675e+10</td>\n",
       "      <td>63326.988281</td>\n",
       "      <td>1799.507812</td>\n",
       "      <td>1799.51</td>\n",
       "      <td>0.00</td>\n",
       "      <td>772.662022</td>\n",
       "      <td>514.818719</td>\n",
       "      <td>1.500843</td>\n",
       "      <td>60.013482</td>\n",
       "      <td>61902.942187</td>\n",
       "      <td>1662.357001</td>\n",
       "      <td>-379.345895</td>\n",
       "      <td>2041.702895</td>\n",
       "      <td>62.732637</td>\n",
       "      <td>56.022935</td>\n",
       "    </tr>\n",
       "    <tr>\n",
       "      <th>2021-11-08</th>\n",
       "      <td>BTC</td>\n",
       "      <td>67673.742188</td>\n",
       "      <td>63344.066406</td>\n",
       "      <td>67566.828125</td>\n",
       "      <td>63344.066406</td>\n",
       "      <td>4.112561e+10</td>\n",
       "      <td>67566.828125</td>\n",
       "      <td>4239.839844</td>\n",
       "      <td>4239.84</td>\n",
       "      <td>0.00</td>\n",
       "      <td>1020.317592</td>\n",
       "      <td>478.045954</td>\n",
       "      <td>2.134350</td>\n",
       "      <td>68.095463</td>\n",
       "      <td>62068.183984</td>\n",
       "      <td>2000.529841</td>\n",
       "      <td>-32.938444</td>\n",
       "      <td>2033.468284</td>\n",
       "      <td>79.570575</td>\n",
       "      <td>64.894144</td>\n",
       "    </tr>\n",
       "    <tr>\n",
       "      <th>2021-11-09</th>\n",
       "      <td>BTC</td>\n",
       "      <td>68530.335938</td>\n",
       "      <td>66382.062500</td>\n",
       "      <td>66971.828125</td>\n",
       "      <td>67549.734375</td>\n",
       "      <td>4.235799e+10</td>\n",
       "      <td>66971.828125</td>\n",
       "      <td>-595.000000</td>\n",
       "      <td>0.00</td>\n",
       "      <td>595.00</td>\n",
       "      <td>947.437764</td>\n",
       "      <td>486.399814</td>\n",
       "      <td>1.947858</td>\n",
       "      <td>66.077063</td>\n",
       "      <td>62117.133594</td>\n",
       "      <td>2195.217623</td>\n",
       "      <td>129.399471</td>\n",
       "      <td>2065.818152</td>\n",
       "      <td>89.533711</td>\n",
       "      <td>77.278974</td>\n",
       "    </tr>\n",
       "    <tr>\n",
       "      <th>2021-11-10</th>\n",
       "      <td>BTC</td>\n",
       "      <td>68789.625000</td>\n",
       "      <td>63208.113281</td>\n",
       "      <td>64995.230469</td>\n",
       "      <td>66953.335938</td>\n",
       "      <td>4.873083e+10</td>\n",
       "      <td>64995.230469</td>\n",
       "      <td>-1976.597656</td>\n",
       "      <td>0.00</td>\n",
       "      <td>1976.60</td>\n",
       "      <td>879.763638</td>\n",
       "      <td>592.842684</td>\n",
       "      <td>1.483975</td>\n",
       "      <td>59.741944</td>\n",
       "      <td>62256.386523</td>\n",
       "      <td>2165.056755</td>\n",
       "      <td>79.390883</td>\n",
       "      <td>2085.665873</td>\n",
       "      <td>82.639719</td>\n",
       "      <td>83.914668</td>\n",
       "    </tr>\n",
       "    <tr>\n",
       "      <th>2021-11-11</th>\n",
       "      <td>BTC</td>\n",
       "      <td>65579.015625</td>\n",
       "      <td>64180.488281</td>\n",
       "      <td>64949.960938</td>\n",
       "      <td>64978.890625</td>\n",
       "      <td>3.588063e+10</td>\n",
       "      <td>64949.960938</td>\n",
       "      <td>-45.269531</td>\n",
       "      <td>0.00</td>\n",
       "      <td>45.27</td>\n",
       "      <td>816.923378</td>\n",
       "      <td>553.730350</td>\n",
       "      <td>1.475309</td>\n",
       "      <td>59.601004</td>\n",
       "      <td>62469.271289</td>\n",
       "      <td>2113.142190</td>\n",
       "      <td>21.981053</td>\n",
       "      <td>2091.161136</td>\n",
       "      <td>68.942871</td>\n",
       "      <td>80.372100</td>\n",
       "    </tr>\n",
       "    <tr>\n",
       "      <th>2021-11-12</th>\n",
       "      <td>BTC</td>\n",
       "      <td>65460.816406</td>\n",
       "      <td>62333.914062</td>\n",
       "      <td>64155.941406</td>\n",
       "      <td>64863.980469</td>\n",
       "      <td>3.608489e+10</td>\n",
       "      <td>64155.941406</td>\n",
       "      <td>-794.019531</td>\n",
       "      <td>0.00</td>\n",
       "      <td>794.02</td>\n",
       "      <td>758.571708</td>\n",
       "      <td>570.893896</td>\n",
       "      <td>1.328744</td>\n",
       "      <td>57.058393</td>\n",
       "      <td>62607.387500</td>\n",
       "      <td>1985.046403</td>\n",
       "      <td>-84.891787</td>\n",
       "      <td>2069.938189</td>\n",
       "      <td>56.991570</td>\n",
       "      <td>69.524720</td>\n",
       "    </tr>\n",
       "    <tr>\n",
       "      <th>2021-11-13</th>\n",
       "      <td>BTC</td>\n",
       "      <td>64915.675781</td>\n",
       "      <td>63303.734375</td>\n",
       "      <td>64469.527344</td>\n",
       "      <td>64158.121094</td>\n",
       "      <td>3.047423e+10</td>\n",
       "      <td>64469.527344</td>\n",
       "      <td>313.585938</td>\n",
       "      <td>313.59</td>\n",
       "      <td>0.00</td>\n",
       "      <td>726.787301</td>\n",
       "      <td>530.115761</td>\n",
       "      <td>1.370997</td>\n",
       "      <td>57.823656</td>\n",
       "      <td>62784.322070</td>\n",
       "      <td>1887.080247</td>\n",
       "      <td>-146.286354</td>\n",
       "      <td>2033.366601</td>\n",
       "      <td>53.108920</td>\n",
       "      <td>59.681120</td>\n",
       "    </tr>\n",
       "    <tr>\n",
       "      <th>2021-11-14</th>\n",
       "      <td>BTC</td>\n",
       "      <td>65495.179688</td>\n",
       "      <td>63647.808594</td>\n",
       "      <td>65466.839844</td>\n",
       "      <td>64455.371094</td>\n",
       "      <td>2.512209e+10</td>\n",
       "      <td>65466.839844</td>\n",
       "      <td>997.312500</td>\n",
       "      <td>997.31</td>\n",
       "      <td>0.00</td>\n",
       "      <td>746.110351</td>\n",
       "      <td>492.250349</td>\n",
       "      <td>1.515713</td>\n",
       "      <td>60.249841</td>\n",
       "      <td>62905.672852</td>\n",
       "      <td>1868.378640</td>\n",
       "      <td>-131.990369</td>\n",
       "      <td>2000.369009</td>\n",
       "      <td>55.003407</td>\n",
       "      <td>55.034632</td>\n",
       "    </tr>\n",
       "  </tbody>\n",
       "</table>\n",
       "</div>"
      ],
      "text/plain": [
       "           crypto          high           low         close          open  \\\n",
       "Date                                                                        \n",
       "2021-11-07    BTC  63326.988281  61432.488281  63326.988281  61554.921875   \n",
       "2021-11-08    BTC  67673.742188  63344.066406  67566.828125  63344.066406   \n",
       "2021-11-09    BTC  68530.335938  66382.062500  66971.828125  67549.734375   \n",
       "2021-11-10    BTC  68789.625000  63208.113281  64995.230469  66953.335938   \n",
       "2021-11-11    BTC  65579.015625  64180.488281  64949.960938  64978.890625   \n",
       "2021-11-12    BTC  65460.816406  62333.914062  64155.941406  64863.980469   \n",
       "2021-11-13    BTC  64915.675781  63303.734375  64469.527344  64158.121094   \n",
       "2021-11-14    BTC  65495.179688  63647.808594  65466.839844  64455.371094   \n",
       "\n",
       "                  volume     adj_close         diff     gain     loss  \\\n",
       "Date                                                                    \n",
       "2021-11-07  2.472675e+10  63326.988281  1799.507812  1799.51     0.00   \n",
       "2021-11-08  4.112561e+10  67566.828125  4239.839844  4239.84     0.00   \n",
       "2021-11-09  4.235799e+10  66971.828125  -595.000000     0.00   595.00   \n",
       "2021-11-10  4.873083e+10  64995.230469 -1976.597656     0.00  1976.60   \n",
       "2021-11-11  3.588063e+10  64949.960938   -45.269531     0.00    45.27   \n",
       "2021-11-12  3.608489e+10  64155.941406  -794.019531     0.00   794.02   \n",
       "2021-11-13  3.047423e+10  64469.527344   313.585938   313.59     0.00   \n",
       "2021-11-14  2.512209e+10  65466.839844   997.312500   997.31     0.00   \n",
       "\n",
       "               avg_gain    avg_loss        rs        rsi     bollinger  \\\n",
       "Date                                                                     \n",
       "2021-11-07   772.662022  514.818719  1.500843  60.013482  61902.942187   \n",
       "2021-11-08  1020.317592  478.045954  2.134350  68.095463  62068.183984   \n",
       "2021-11-09   947.437764  486.399814  1.947858  66.077063  62117.133594   \n",
       "2021-11-10   879.763638  592.842684  1.483975  59.741944  62256.386523   \n",
       "2021-11-11   816.923378  553.730350  1.475309  59.601004  62469.271289   \n",
       "2021-11-12   758.571708  570.893896  1.328744  57.058393  62607.387500   \n",
       "2021-11-13   726.787301  530.115761  1.370997  57.823656  62784.322070   \n",
       "2021-11-14   746.110351  492.250349  1.515713  60.249841  62905.672852   \n",
       "\n",
       "                   macd    macd_sig      macd_cd  STOCHk_14_3_3  STOCHd_14_3_3  \n",
       "Date                                                                            \n",
       "2021-11-07  1662.357001 -379.345895  2041.702895      62.732637      56.022935  \n",
       "2021-11-08  2000.529841  -32.938444  2033.468284      79.570575      64.894144  \n",
       "2021-11-09  2195.217623  129.399471  2065.818152      89.533711      77.278974  \n",
       "2021-11-10  2165.056755   79.390883  2085.665873      82.639719      83.914668  \n",
       "2021-11-11  2113.142190   21.981053  2091.161136      68.942871      80.372100  \n",
       "2021-11-12  1985.046403  -84.891787  2069.938189      56.991570      69.524720  \n",
       "2021-11-13  1887.080247 -146.286354  2033.366601      53.108920      59.681120  \n",
       "2021-11-14  1868.378640 -131.990369  2000.369009      55.003407      55.034632  "
      ]
     },
     "execution_count": 220,
     "metadata": {},
     "output_type": "execute_result"
    }
   ],
   "source": [
    "df_btc.loc['2021-11-07':'2021-11-14']"
   ]
  },
  {
   "cell_type": "markdown",
   "id": "1dfa393c",
   "metadata": {},
   "source": [
    "# ADA Predictions"
   ]
  },
  {
   "cell_type": "code",
   "execution_count": 221,
   "id": "c35d674d",
   "metadata": {
    "scrolled": false
   },
   "outputs": [
    {
     "name": "stdout",
     "output_type": "stream",
     "text": [
      "Train period: 2022-03-27 - 2022-04-01 , Test period 2022-04-01 - 2022-04-03 # train records 5 , # test records 2\n",
      "Train period: 2022-03-29 - 2022-04-03 , Test period 2022-04-03 - 2022-04-05 # train records 5 , # test records 2\n",
      "Train period: 2022-03-31 - 2022-04-05 , Test period 2022-04-05 - 2022-04-07 # train records 5 , # test records 2\n",
      "Train period: 2022-04-02 - 2022-04-07 , Test period 2022-04-07 - 2022-04-09 # train records 5 , # test records 2\n",
      "Train period: 2022-04-04 - 2022-04-09 , Test period 2022-04-09 - 2022-04-11 # train records 5 , # test records 2\n",
      "Train period: 2022-04-06 - 2022-04-11 , Test period 2022-04-11 - 2022-04-13 # train records 5 , # test records 2\n",
      "Train period: 2022-04-08 - 2022-04-13 , Test period 2022-04-13 - 2022-04-15 # train records 5 , # test records 2\n",
      "Train period: 2022-04-10 - 2022-04-15 , Test period 2022-04-15 - 2022-04-17 # train records 5 , # test records 2\n",
      "Train period: 2022-04-12 - 2022-04-17 , Test period 2022-04-17 - 2022-04-19 # train records 5 , # test records 2\n",
      "Train period: 2022-04-14 - 2022-04-19 , Test period 2022-04-19 - 2022-04-21 # train records 5 , # test records 2\n",
      "Train period: 2022-04-16 - 2022-04-21 , Test period 2022-04-21 - 2022-04-23 # train records 5 , # test records 2\n",
      "Train period: 2022-04-18 - 2022-04-23 , Test period 2022-04-23 - 2022-04-25 # train records 5 , # test records 2\n",
      "Train period: 2022-04-20 - 2022-04-25 , Test period 2022-04-25 - 2022-04-27 # train records 5 , # test records 2\n",
      "Train period: 2022-04-22 - 2022-04-27 , Test period 2022-04-27 - 2022-04-29 # train records 5 , # test records 2\n",
      "Train period: 2022-04-24 - 2022-04-29 , Test period 2022-04-29 - 2022-05-01 # train records 5 , # test records 2\n",
      "Train period: 2022-04-26 - 2022-05-01 , Test period 2022-05-01 - 2022-05-03 # train records 5 , # test records 2\n",
      "Train period: 2022-04-28 - 2022-05-03 , Test period 2022-05-03 - 2022-05-05 # train records 5 , # test records 2\n",
      "Train period: 2022-04-30 - 2022-05-05 , Test period 2022-05-05 - 2022-05-07 # train records 5 , # test records 2\n",
      "[1599, 1600, 1601, 1602, 1603] [1604, 1605]\n",
      "[1601, 1602, 1603, 1604, 1605] [1606, 1607]\n",
      "[1603, 1604, 1605, 1606, 1607] [1608, 1609]\n",
      "[1605, 1606, 1607, 1608, 1609] [1610, 1611]\n",
      "[1607, 1608, 1609, 1610, 1611] [1612, 1613]\n",
      "[1609, 1610, 1611, 1612, 1613] [1614, 1615]\n",
      "[1611, 1612, 1613, 1614, 1615] [1616, 1617]\n",
      "[1613, 1614, 1615, 1616, 1617] [1618, 1619]\n",
      "[1615, 1616, 1617, 1618, 1619] [1620, 1621]\n",
      "[1617, 1618, 1619, 1620, 1621] [1622, 1623]\n",
      "[1619, 1620, 1621, 1622, 1623] [1624, 1625]\n",
      "[1621, 1622, 1623, 1624, 1625] [1626, 1627]\n",
      "[1623, 1624, 1625, 1626, 1627] [1628, 1629]\n",
      "[1625, 1626, 1627, 1628, 1629] [1630, 1631]\n",
      "[1627, 1628, 1629, 1630, 1631] [1632, 1633]\n",
      "[1629, 1630, 1631, 1632, 1633] [1634, 1635]\n",
      "[1631, 1632, 1633, 1634, 1635] [1636, 1637]\n",
      "[1633, 1634, 1635, 1636, 1637] [1638, 1639]\n"
     ]
    }
   ],
   "source": [
    "tscv = TimeBasedCV(train_period=5,\n",
    "                   test_period=2,\n",
    "                   freq='days')\n",
    "for train_index, test_index in tscv.split(df_ada,\n",
    "                   validation_split_date=datetime.date(2022,4,1), date_column='Date'):\n",
    "    print(train_index, test_index)"
   ]
  },
  {
   "cell_type": "code",
   "execution_count": 222,
   "id": "d9bbc11d",
   "metadata": {},
   "outputs": [],
   "source": [
    "future3=future3.drop(['crypto'], axis=1)"
   ]
  },
  {
   "cell_type": "code",
   "execution_count": 223,
   "id": "d705db1f",
   "metadata": {},
   "outputs": [],
   "source": [
    "future3=future3.reset_index(drop=True)"
   ]
  },
  {
   "cell_type": "code",
   "execution_count": 224,
   "id": "75fc2544",
   "metadata": {},
   "outputs": [
    {
     "name": "stdout",
     "output_type": "stream",
     "text": [
      "Train period: 2022-03-27 - 2022-04-01 , Test period 2022-04-01 - 2022-04-03 # train records 5 , # test records 2\n",
      "Train period: 2022-03-29 - 2022-04-03 , Test period 2022-04-03 - 2022-04-05 # train records 5 , # test records 2\n",
      "Train period: 2022-03-31 - 2022-04-05 , Test period 2022-04-05 - 2022-04-07 # train records 5 , # test records 2\n",
      "Train period: 2022-04-02 - 2022-04-07 , Test period 2022-04-07 - 2022-04-09 # train records 5 , # test records 2\n",
      "Train period: 2022-04-04 - 2022-04-09 , Test period 2022-04-09 - 2022-04-11 # train records 5 , # test records 2\n",
      "Train period: 2022-04-06 - 2022-04-11 , Test period 2022-04-11 - 2022-04-13 # train records 5 , # test records 2\n",
      "Train period: 2022-04-08 - 2022-04-13 , Test period 2022-04-13 - 2022-04-15 # train records 5 , # test records 2\n",
      "Train period: 2022-04-10 - 2022-04-15 , Test period 2022-04-15 - 2022-04-17 # train records 5 , # test records 2\n",
      "Train period: 2022-04-12 - 2022-04-17 , Test period 2022-04-17 - 2022-04-19 # train records 5 , # test records 2\n",
      "Train period: 2022-04-14 - 2022-04-19 , Test period 2022-04-19 - 2022-04-21 # train records 5 , # test records 2\n",
      "Train period: 2022-04-16 - 2022-04-21 , Test period 2022-04-21 - 2022-04-23 # train records 5 , # test records 2\n",
      "Train period: 2022-04-18 - 2022-04-23 , Test period 2022-04-23 - 2022-04-25 # train records 5 , # test records 2\n",
      "Train period: 2022-04-20 - 2022-04-25 , Test period 2022-04-25 - 2022-04-27 # train records 5 , # test records 2\n",
      "Train period: 2022-04-22 - 2022-04-27 , Test period 2022-04-27 - 2022-04-29 # train records 5 , # test records 2\n",
      "Train period: 2022-04-24 - 2022-04-29 , Test period 2022-04-29 - 2022-05-01 # train records 5 , # test records 2\n",
      "Train period: 2022-04-26 - 2022-05-01 , Test period 2022-05-01 - 2022-05-03 # train records 5 , # test records 2\n",
      "Train period: 2022-04-28 - 2022-05-03 , Test period 2022-05-03 - 2022-05-05 # train records 5 , # test records 2\n",
      "Train period: 2022-04-30 - 2022-05-05 , Test period 2022-05-05 - 2022-05-07 # train records 5 , # test records 2\n",
      "Train period: 2022-05-02 - 2022-05-07 , Test period 2022-05-07 - 2022-05-09 # train records 5 , # test records 2\n",
      "Train period: 2022-03-27 - 2022-04-01 , Test period 2022-04-01 - 2022-04-03 # train records 5 , # test records 2\n",
      "Train period: 2022-03-29 - 2022-04-03 , Test period 2022-04-03 - 2022-04-05 # train records 5 , # test records 2\n",
      "Train period: 2022-03-31 - 2022-04-05 , Test period 2022-04-05 - 2022-04-07 # train records 5 , # test records 2\n",
      "Train period: 2022-04-02 - 2022-04-07 , Test period 2022-04-07 - 2022-04-09 # train records 5 , # test records 2\n",
      "Train period: 2022-04-04 - 2022-04-09 , Test period 2022-04-09 - 2022-04-11 # train records 5 , # test records 2\n",
      "Train period: 2022-04-06 - 2022-04-11 , Test period 2022-04-11 - 2022-04-13 # train records 5 , # test records 2\n",
      "Train period: 2022-04-08 - 2022-04-13 , Test period 2022-04-13 - 2022-04-15 # train records 5 , # test records 2\n",
      "Train period: 2022-04-10 - 2022-04-15 , Test period 2022-04-15 - 2022-04-17 # train records 5 , # test records 2\n",
      "Train period: 2022-04-12 - 2022-04-17 , Test period 2022-04-17 - 2022-04-19 # train records 5 , # test records 2\n",
      "Train period: 2022-04-14 - 2022-04-19 , Test period 2022-04-19 - 2022-04-21 # train records 5 , # test records 2\n",
      "Train period: 2022-04-16 - 2022-04-21 , Test period 2022-04-21 - 2022-04-23 # train records 5 , # test records 2\n",
      "Train period: 2022-04-18 - 2022-04-23 , Test period 2022-04-23 - 2022-04-25 # train records 5 , # test records 2\n",
      "Train period: 2022-04-20 - 2022-04-25 , Test period 2022-04-25 - 2022-04-27 # train records 5 , # test records 2\n",
      "Train period: 2022-04-22 - 2022-04-27 , Test period 2022-04-27 - 2022-04-29 # train records 5 , # test records 2\n",
      "Train period: 2022-04-24 - 2022-04-29 , Test period 2022-04-29 - 2022-05-01 # train records 5 , # test records 2\n",
      "Train period: 2022-04-26 - 2022-05-01 , Test period 2022-05-01 - 2022-05-03 # train records 5 , # test records 2\n",
      "Train period: 2022-04-28 - 2022-05-03 , Test period 2022-05-03 - 2022-05-05 # train records 5 , # test records 2\n",
      "Train period: 2022-04-30 - 2022-05-05 , Test period 2022-05-05 - 2022-05-07 # train records 5 , # test records 2\n",
      "Train period: 2022-05-02 - 2022-05-07 , Test period 2022-05-07 - 2022-05-09 # train records 5 , # test records 2\n",
      "Fitting 19 folds for each of 1 candidates, totalling 19 fits\n"
     ]
    },
    {
     "name": "stderr",
     "output_type": "stream",
     "text": [
      "[Parallel(n_jobs=-1)]: Using backend LokyBackend with 8 concurrent workers.\n",
      "[Parallel(n_jobs=-1)]: Done   2 tasks      | elapsed:    0.0s\n",
      "[Parallel(n_jobs=-1)]: Done   8 out of  19 | elapsed:    0.0s remaining:    0.0s\n",
      "[Parallel(n_jobs=-1)]: Done  12 out of  19 | elapsed:    0.0s remaining:    0.0s\n",
      "[Parallel(n_jobs=-1)]: Done  16 out of  19 | elapsed:    0.0s remaining:    0.0s\n",
      "[Parallel(n_jobs=-1)]: Done  19 out of  19 | elapsed:    0.0s finished\n"
     ]
    },
    {
     "data": {
      "text/plain": [
       "{'mean_fit_time': array([0.00673309]),\n",
       " 'std_fit_time': array([0.00243135]),\n",
       " 'mean_score_time': array([0.00310597]),\n",
       " 'std_score_time': array([0.00096636]),\n",
       " 'param_ max_depth': masked_array(data=[-1],\n",
       "              mask=[False],\n",
       "        fill_value='?',\n",
       "             dtype=object),\n",
       " 'params': [{' max_depth': -1}],\n",
       " 'split0_test_score': array([-9.37741097]),\n",
       " 'split1_test_score': array([-5.09838641]),\n",
       " 'split2_test_score': array([-1.05609839]),\n",
       " 'split3_test_score': array([-8.67913614]),\n",
       " 'split4_test_score': array([-106.75564726]),\n",
       " 'split5_test_score': array([-41.37172122]),\n",
       " 'split6_test_score': array([-3.94836894]),\n",
       " 'split7_test_score': array([-75.76082296]),\n",
       " 'split8_test_score': array([-7.75553832]),\n",
       " 'split9_test_score': array([-0.66978858]),\n",
       " 'split10_test_score': array([-341.76392495]),\n",
       " 'split11_test_score': array([-1491.84389726]),\n",
       " 'split12_test_score': array([-1.45112847]),\n",
       " 'split13_test_score': array([-551.57927621]),\n",
       " 'split14_test_score': array([-10.55528321]),\n",
       " 'split15_test_score': array([-42.82226306]),\n",
       " 'split16_test_score': array([-0.37540892]),\n",
       " 'split17_test_score': array([-9.59304515]),\n",
       " 'split18_test_score': array([-34.83766993]),\n",
       " 'mean_test_score': array([-144.48920086]),\n",
       " 'std_test_score': array([345.82797543]),\n",
       " 'rank_test_score': array([1]),\n",
       " 'split0_train_score': array([0.]),\n",
       " 'split1_train_score': array([0.]),\n",
       " 'split2_train_score': array([0.]),\n",
       " 'split3_train_score': array([0.]),\n",
       " 'split4_train_score': array([0.]),\n",
       " 'split5_train_score': array([0.]),\n",
       " 'split6_train_score': array([0.]),\n",
       " 'split7_train_score': array([0.]),\n",
       " 'split8_train_score': array([0.]),\n",
       " 'split9_train_score': array([0.]),\n",
       " 'split10_train_score': array([0.]),\n",
       " 'split11_train_score': array([0.]),\n",
       " 'split12_train_score': array([0.]),\n",
       " 'split13_train_score': array([0.]),\n",
       " 'split14_train_score': array([0.]),\n",
       " 'split15_train_score': array([0.]),\n",
       " 'split16_train_score': array([0.]),\n",
       " 'split17_train_score': array([0.]),\n",
       " 'split18_train_score': array([0.]),\n",
       " 'mean_train_score': array([0.]),\n",
       " 'std_train_score': array([0.])}"
      ]
     },
     "execution_count": 224,
     "metadata": {},
     "output_type": "execute_result"
    }
   ],
   "source": [
    "tscv.get_n_splits()\n",
    "\n",
    "#### Example- compute average test sets score: ####\n",
    "X = future3\n",
    "y = future3['close']\n",
    "\n",
    "\n",
    "scores = []\n",
    "for train_index, test_index in tscv.split(X, validation_split_date=datetime.date(2022,4,1)):\n",
    "    data_train   = X.loc[train_index].drop('Date', axis=1)\n",
    "    target_train = y.loc[train_index]\n",
    "\n",
    "    data_test    = X.loc[test_index].drop('Date', axis=1)\n",
    "    target_test  = y.loc[test_index]\n",
    "\n",
    "    # if needed, do preprocessing here\n",
    "\n",
    "    clf = LinearRegression()\n",
    "    clf.fit(data_train,target_train)\n",
    "\n",
    "    preds = clf.predict(data_test)\n",
    "    \n",
    "    # accuracy for the current fold only    \n",
    "    r2score = clf.score(data_test,target_test)\n",
    "\n",
    "    scores.append(r2score)\n",
    "\n",
    "# this is the average accuracy over all folds\n",
    "average_r2score = np.mean(scores)\n",
    "#### End of example ####\n",
    "\n",
    "\n",
    "tscv = TimeBasedCV(train_period=5, test_period=2)\n",
    "index_output = tscv.split(future3, validation_split_date=datetime.date(2022,4,1))\n",
    "\n",
    "lgbm = LGBMRegressor()\n",
    "\n",
    "lgbmPd = {\" max_depth\": [-1,2]\n",
    "         }\n",
    "\n",
    "model = RandomizedSearchCV(\n",
    "    estimator = lgbm,\n",
    "    param_distributions = lgbmPd,\n",
    "    n_iter = 1,\n",
    "    n_jobs = -1,\n",
    "    iid = True,\n",
    "    cv = index_output,\n",
    "    verbose=5,\n",
    "    pre_dispatch='2*n_jobs',\n",
    "    random_state = None,\n",
    "    return_train_score = True)\n",
    "\n",
    "model.fit(X.drop('Date', axis=1),y)\n",
    "model.cv_results_"
   ]
  },
  {
   "cell_type": "code",
   "execution_count": 225,
   "id": "c366161f",
   "metadata": {},
   "outputs": [],
   "source": [
    "Labels_Test_ada = model.predict(data_test)\n",
    "Labels_Test_ada = pd.DataFrame(Labels_Test_ada)"
   ]
  },
  {
   "cell_type": "code",
   "execution_count": 340,
   "id": "b83ff68c",
   "metadata": {},
   "outputs": [],
   "source": [
    "Labels_Test_ada.round(2).to_csv('ada_pred.csv')"
   ]
  },
  {
   "cell_type": "markdown",
   "id": "349fe527",
   "metadata": {},
   "source": [
    "# ETH Pred"
   ]
  },
  {
   "cell_type": "code",
   "execution_count": 227,
   "id": "d1d405b1",
   "metadata": {
    "scrolled": false
   },
   "outputs": [
    {
     "name": "stdout",
     "output_type": "stream",
     "text": [
      "Train period: 2022-03-27 - 2022-04-01 , Test period 2022-04-01 - 2022-04-03 # train records 5 , # test records 2\n",
      "Train period: 2022-03-29 - 2022-04-03 , Test period 2022-04-03 - 2022-04-05 # train records 5 , # test records 2\n",
      "Train period: 2022-03-31 - 2022-04-05 , Test period 2022-04-05 - 2022-04-07 # train records 5 , # test records 2\n",
      "Train period: 2022-04-02 - 2022-04-07 , Test period 2022-04-07 - 2022-04-09 # train records 5 , # test records 2\n",
      "Train period: 2022-04-04 - 2022-04-09 , Test period 2022-04-09 - 2022-04-11 # train records 5 , # test records 2\n",
      "Train period: 2022-04-06 - 2022-04-11 , Test period 2022-04-11 - 2022-04-13 # train records 5 , # test records 2\n",
      "Train period: 2022-04-08 - 2022-04-13 , Test period 2022-04-13 - 2022-04-15 # train records 5 , # test records 2\n",
      "Train period: 2022-04-10 - 2022-04-15 , Test period 2022-04-15 - 2022-04-17 # train records 5 , # test records 2\n",
      "Train period: 2022-04-12 - 2022-04-17 , Test period 2022-04-17 - 2022-04-19 # train records 5 , # test records 2\n",
      "Train period: 2022-04-14 - 2022-04-19 , Test period 2022-04-19 - 2022-04-21 # train records 5 , # test records 2\n",
      "Train period: 2022-04-16 - 2022-04-21 , Test period 2022-04-21 - 2022-04-23 # train records 5 , # test records 2\n",
      "Train period: 2022-04-18 - 2022-04-23 , Test period 2022-04-23 - 2022-04-25 # train records 5 , # test records 2\n",
      "Train period: 2022-04-20 - 2022-04-25 , Test period 2022-04-25 - 2022-04-27 # train records 5 , # test records 2\n",
      "Train period: 2022-04-22 - 2022-04-27 , Test period 2022-04-27 - 2022-04-29 # train records 5 , # test records 2\n",
      "Train period: 2022-04-24 - 2022-04-29 , Test period 2022-04-29 - 2022-05-01 # train records 5 , # test records 2\n",
      "Train period: 2022-04-26 - 2022-05-01 , Test period 2022-05-01 - 2022-05-03 # train records 5 , # test records 2\n",
      "Train period: 2022-04-28 - 2022-05-03 , Test period 2022-05-03 - 2022-05-05 # train records 5 , # test records 2\n",
      "Train period: 2022-04-30 - 2022-05-05 , Test period 2022-05-05 - 2022-05-07 # train records 5 , # test records 2\n",
      "[1599, 1600, 1601, 1602, 1603] [1604, 1605]\n",
      "[1601, 1602, 1603, 1604, 1605] [1606, 1607]\n",
      "[1603, 1604, 1605, 1606, 1607] [1608, 1609]\n",
      "[1605, 1606, 1607, 1608, 1609] [1610, 1611]\n",
      "[1607, 1608, 1609, 1610, 1611] [1612, 1613]\n",
      "[1609, 1610, 1611, 1612, 1613] [1614, 1615]\n",
      "[1611, 1612, 1613, 1614, 1615] [1616, 1617]\n",
      "[1613, 1614, 1615, 1616, 1617] [1618, 1619]\n",
      "[1615, 1616, 1617, 1618, 1619] [1620, 1621]\n",
      "[1617, 1618, 1619, 1620, 1621] [1622, 1623]\n",
      "[1619, 1620, 1621, 1622, 1623] [1624, 1625]\n",
      "[1621, 1622, 1623, 1624, 1625] [1626, 1627]\n",
      "[1623, 1624, 1625, 1626, 1627] [1628, 1629]\n",
      "[1625, 1626, 1627, 1628, 1629] [1630, 1631]\n",
      "[1627, 1628, 1629, 1630, 1631] [1632, 1633]\n",
      "[1629, 1630, 1631, 1632, 1633] [1634, 1635]\n",
      "[1631, 1632, 1633, 1634, 1635] [1636, 1637]\n",
      "[1633, 1634, 1635, 1636, 1637] [1638, 1639]\n"
     ]
    }
   ],
   "source": [
    "tscv = TimeBasedCV(train_period=5,\n",
    "                   test_period=2,\n",
    "                   freq='days')\n",
    "for train_index, test_index in tscv.split(df_eth,\n",
    "                   validation_split_date=datetime.date(2022,4,1), date_column='Date'):\n",
    "    print(train_index, test_index)"
   ]
  },
  {
   "cell_type": "code",
   "execution_count": 228,
   "id": "b0b9fd3f",
   "metadata": {},
   "outputs": [],
   "source": [
    "future3 = pd.concat([df_eth,date_list])\n",
    "future3=future3.drop(['crypto'], axis=1)"
   ]
  },
  {
   "cell_type": "code",
   "execution_count": 229,
   "id": "e72d600c",
   "metadata": {},
   "outputs": [],
   "source": [
    "future3=future3.reset_index(drop=True)"
   ]
  },
  {
   "cell_type": "code",
   "execution_count": 230,
   "id": "f0c16f45",
   "metadata": {
    "scrolled": true
   },
   "outputs": [
    {
     "name": "stdout",
     "output_type": "stream",
     "text": [
      "Train period: 2022-03-27 - 2022-04-01 , Test period 2022-04-01 - 2022-04-03 # train records 5 , # test records 2\n",
      "Train period: 2022-03-29 - 2022-04-03 , Test period 2022-04-03 - 2022-04-05 # train records 5 , # test records 2\n",
      "Train period: 2022-03-31 - 2022-04-05 , Test period 2022-04-05 - 2022-04-07 # train records 5 , # test records 2\n",
      "Train period: 2022-04-02 - 2022-04-07 , Test period 2022-04-07 - 2022-04-09 # train records 5 , # test records 2\n",
      "Train period: 2022-04-04 - 2022-04-09 , Test period 2022-04-09 - 2022-04-11 # train records 5 , # test records 2\n",
      "Train period: 2022-04-06 - 2022-04-11 , Test period 2022-04-11 - 2022-04-13 # train records 5 , # test records 2\n",
      "Train period: 2022-04-08 - 2022-04-13 , Test period 2022-04-13 - 2022-04-15 # train records 5 , # test records 2\n",
      "Train period: 2022-04-10 - 2022-04-15 , Test period 2022-04-15 - 2022-04-17 # train records 5 , # test records 2\n",
      "Train period: 2022-04-12 - 2022-04-17 , Test period 2022-04-17 - 2022-04-19 # train records 5 , # test records 2\n",
      "Train period: 2022-04-14 - 2022-04-19 , Test period 2022-04-19 - 2022-04-21 # train records 5 , # test records 2\n",
      "Train period: 2022-04-16 - 2022-04-21 , Test period 2022-04-21 - 2022-04-23 # train records 5 , # test records 2\n",
      "Train period: 2022-04-18 - 2022-04-23 , Test period 2022-04-23 - 2022-04-25 # train records 5 , # test records 2\n",
      "Train period: 2022-04-20 - 2022-04-25 , Test period 2022-04-25 - 2022-04-27 # train records 5 , # test records 2\n",
      "Train period: 2022-04-22 - 2022-04-27 , Test period 2022-04-27 - 2022-04-29 # train records 5 , # test records 2\n",
      "Train period: 2022-04-24 - 2022-04-29 , Test period 2022-04-29 - 2022-05-01 # train records 5 , # test records 2\n",
      "Train period: 2022-04-26 - 2022-05-01 , Test period 2022-05-01 - 2022-05-03 # train records 5 , # test records 2\n",
      "Train period: 2022-04-28 - 2022-05-03 , Test period 2022-05-03 - 2022-05-05 # train records 5 , # test records 2\n",
      "Train period: 2022-04-30 - 2022-05-05 , Test period 2022-05-05 - 2022-05-07 # train records 5 , # test records 2\n",
      "Train period: 2022-03-27 - 2022-04-01 , Test period 2022-04-01 - 2022-04-03 # train records 5 , # test records 2\n",
      "Train period: 2022-03-29 - 2022-04-03 , Test period 2022-04-03 - 2022-04-05 # train records 5 , # test records 2\n",
      "Train period: 2022-03-31 - 2022-04-05 , Test period 2022-04-05 - 2022-04-07 # train records 5 , # test records 2\n",
      "Train period: 2022-04-02 - 2022-04-07 , Test period 2022-04-07 - 2022-04-09 # train records 5 , # test records 2\n",
      "Train period: 2022-04-04 - 2022-04-09 , Test period 2022-04-09 - 2022-04-11 # train records 5 , # test records 2\n",
      "Train period: 2022-04-06 - 2022-04-11 , Test period 2022-04-11 - 2022-04-13 # train records 5 , # test records 2\n",
      "Train period: 2022-04-08 - 2022-04-13 , Test period 2022-04-13 - 2022-04-15 # train records 5 , # test records 2\n",
      "Train period: 2022-04-10 - 2022-04-15 , Test period 2022-04-15 - 2022-04-17 # train records 5 , # test records 2\n",
      "Train period: 2022-04-12 - 2022-04-17 , Test period 2022-04-17 - 2022-04-19 # train records 5 , # test records 2\n",
      "Train period: 2022-04-14 - 2022-04-19 , Test period 2022-04-19 - 2022-04-21 # train records 5 , # test records 2\n",
      "Train period: 2022-04-16 - 2022-04-21 , Test period 2022-04-21 - 2022-04-23 # train records 5 , # test records 2\n",
      "Train period: 2022-04-18 - 2022-04-23 , Test period 2022-04-23 - 2022-04-25 # train records 5 , # test records 2\n",
      "Train period: 2022-04-20 - 2022-04-25 , Test period 2022-04-25 - 2022-04-27 # train records 5 , # test records 2\n",
      "Train period: 2022-04-22 - 2022-04-27 , Test period 2022-04-27 - 2022-04-29 # train records 5 , # test records 2\n",
      "Train period: 2022-04-24 - 2022-04-29 , Test period 2022-04-29 - 2022-05-01 # train records 5 , # test records 2\n",
      "Train period: 2022-04-26 - 2022-05-01 , Test period 2022-05-01 - 2022-05-03 # train records 5 , # test records 2\n",
      "Train period: 2022-04-28 - 2022-05-03 , Test period 2022-05-03 - 2022-05-05 # train records 5 , # test records 2\n",
      "Train period: 2022-04-30 - 2022-05-05 , Test period 2022-05-05 - 2022-05-07 # train records 5 , # test records 2\n",
      "Fitting 18 folds for each of 1 candidates, totalling 18 fits\n",
      "[LightGBM] [Warning] max_depth is set=-1, max_depth=2 will be ignored. Current value: max_depth=-1\n"
     ]
    },
    {
     "name": "stderr",
     "output_type": "stream",
     "text": [
      "[Parallel(n_jobs=-1)]: Using backend LokyBackend with 8 concurrent workers.\n",
      "[Parallel(n_jobs=-1)]: Done   2 tasks      | elapsed:    0.0s\n",
      "[Parallel(n_jobs=-1)]: Done   7 out of  18 | elapsed:    0.0s remaining:    0.0s\n",
      "[Parallel(n_jobs=-1)]: Done  11 out of  18 | elapsed:    0.0s remaining:    0.0s\n",
      "[Parallel(n_jobs=-1)]: Done  15 out of  18 | elapsed:    0.0s remaining:    0.0s\n",
      "[Parallel(n_jobs=-1)]: Done  18 out of  18 | elapsed:    0.0s finished\n"
     ]
    },
    {
     "data": {
      "text/plain": [
       "{'mean_fit_time': array([0.00872293]),\n",
       " 'std_fit_time': array([0.00288324]),\n",
       " 'mean_score_time': array([0.00338822]),\n",
       " 'std_score_time': array([0.00153361]),\n",
       " 'param_ max_depth': masked_array(data=[2],\n",
       "              mask=[False],\n",
       "        fill_value='?',\n",
       "             dtype=object),\n",
       " 'params': [{' max_depth': 2}],\n",
       " 'split0_test_score': array([-2307.23017011]),\n",
       " 'split1_test_score': array([-26399.78228814]),\n",
       " 'split2_test_score': array([-1.60993421]),\n",
       " 'split3_test_score': array([-96.00766861]),\n",
       " 'split4_test_score': array([-7.62977783]),\n",
       " 'split5_test_score': array([-71.44058261]),\n",
       " 'split6_test_score': array([-1.81629786]),\n",
       " 'split7_test_score': array([-3.74348684]),\n",
       " 'split8_test_score': array([-0.80859129]),\n",
       " 'split9_test_score': array([-18.11453816]),\n",
       " 'split10_test_score': array([-53.57664227]),\n",
       " 'split11_test_score': array([-196.95615518]),\n",
       " 'split12_test_score': array([-0.4755236]),\n",
       " 'split13_test_score': array([-0.42989163]),\n",
       " 'split14_test_score': array([-10.80208008]),\n",
       " 'split15_test_score': array([-0.19764504]),\n",
       " 'split16_test_score': array([-0.13135611]),\n",
       " 'split17_test_score': array([-15.22246064]),\n",
       " 'mean_test_score': array([-1621.44306057]),\n",
       " 'std_test_score': array([6032.34411016]),\n",
       " 'rank_test_score': array([1]),\n",
       " 'split0_train_score': array([0.]),\n",
       " 'split1_train_score': array([0.]),\n",
       " 'split2_train_score': array([0.]),\n",
       " 'split3_train_score': array([0.]),\n",
       " 'split4_train_score': array([0.]),\n",
       " 'split5_train_score': array([0.]),\n",
       " 'split6_train_score': array([0.]),\n",
       " 'split7_train_score': array([0.]),\n",
       " 'split8_train_score': array([0.]),\n",
       " 'split9_train_score': array([0.]),\n",
       " 'split10_train_score': array([0.]),\n",
       " 'split11_train_score': array([0.]),\n",
       " 'split12_train_score': array([0.]),\n",
       " 'split13_train_score': array([0.]),\n",
       " 'split14_train_score': array([0.]),\n",
       " 'split15_train_score': array([0.]),\n",
       " 'split16_train_score': array([0.]),\n",
       " 'split17_train_score': array([0.]),\n",
       " 'mean_train_score': array([0.]),\n",
       " 'std_train_score': array([0.])}"
      ]
     },
     "execution_count": 230,
     "metadata": {},
     "output_type": "execute_result"
    }
   ],
   "source": [
    "tscv.get_n_splits()\n",
    "\n",
    "#### Example- compute average test sets score: ####\n",
    "X = future3\n",
    "y = future3['close']\n",
    "\n",
    "\n",
    "scores = []\n",
    "for train_index, test_index in tscv.split(X, validation_split_date=datetime.date(2022,4,1)):\n",
    "    data_train   = X.loc[train_index].drop('Date', axis=1)\n",
    "    target_train = y.loc[train_index]\n",
    "\n",
    "    data_test    = X.loc[test_index].drop('Date', axis=1)\n",
    "    target_test  = y.loc[test_index]\n",
    "\n",
    "    # if needed, do preprocessing here\n",
    "\n",
    "    clf = LinearRegression()\n",
    "    clf.fit(data_train,target_train)\n",
    "\n",
    "    preds = clf.predict(data_test)\n",
    "    \n",
    "    # accuracy for the current fold only    \n",
    "    r2score = clf.score(data_test,target_test)\n",
    "\n",
    "    scores.append(r2score)\n",
    "\n",
    "# this is the average accuracy over all folds\n",
    "average_r2score = np.mean(scores)\n",
    "#### End of example ####\n",
    "\n",
    "\n",
    "tscv = TimeBasedCV(train_period=5, test_period=2)\n",
    "index_output = tscv.split(future3, validation_split_date=datetime.date(2022,4,1))\n",
    "\n",
    "lgbm = LGBMRegressor()\n",
    "\n",
    "lgbmPd = {\" max_depth\": [-1,2]\n",
    "         }\n",
    "\n",
    "model = RandomizedSearchCV(\n",
    "    estimator = lgbm,\n",
    "    param_distributions = lgbmPd,\n",
    "    n_iter = 1,\n",
    "    n_jobs = -1,\n",
    "    iid = True,\n",
    "    cv = index_output,\n",
    "    verbose=5,\n",
    "    pre_dispatch='2*n_jobs',\n",
    "    random_state = None,\n",
    "    return_train_score = True)\n",
    "\n",
    "model.fit(X.drop('Date', axis=1),y)\n",
    "model.cv_results_"
   ]
  },
  {
   "cell_type": "code",
   "execution_count": 231,
   "id": "24fc286f",
   "metadata": {},
   "outputs": [],
   "source": [
    "Labels_Test_eth = model.predict(data_test)\n",
    "Labels_Test_eth = pd.DataFrame(Labels_Test_eth)"
   ]
  },
  {
   "cell_type": "code",
   "execution_count": 341,
   "id": "2cf5e9ac",
   "metadata": {},
   "outputs": [],
   "source": [
    "Labels_Test_eth.round(2).to_csv('eth_pred.csv')"
   ]
  },
  {
   "cell_type": "markdown",
   "id": "35cb8e5e",
   "metadata": {},
   "source": [
    "# AXS Pred"
   ]
  },
  {
   "cell_type": "code",
   "execution_count": 233,
   "id": "0d52e883",
   "metadata": {
    "scrolled": false
   },
   "outputs": [
    {
     "name": "stdout",
     "output_type": "stream",
     "text": [
      "Train period: 2022-03-27 - 2022-04-01 , Test period 2022-04-01 - 2022-04-03 # train records 5 , # test records 2\n",
      "Train period: 2022-03-29 - 2022-04-03 , Test period 2022-04-03 - 2022-04-05 # train records 5 , # test records 2\n",
      "Train period: 2022-03-31 - 2022-04-05 , Test period 2022-04-05 - 2022-04-07 # train records 5 , # test records 2\n",
      "Train period: 2022-04-02 - 2022-04-07 , Test period 2022-04-07 - 2022-04-09 # train records 5 , # test records 2\n",
      "Train period: 2022-04-04 - 2022-04-09 , Test period 2022-04-09 - 2022-04-11 # train records 5 , # test records 2\n",
      "Train period: 2022-04-06 - 2022-04-11 , Test period 2022-04-11 - 2022-04-13 # train records 5 , # test records 2\n",
      "Train period: 2022-04-08 - 2022-04-13 , Test period 2022-04-13 - 2022-04-15 # train records 5 , # test records 2\n",
      "Train period: 2022-04-10 - 2022-04-15 , Test period 2022-04-15 - 2022-04-17 # train records 5 , # test records 2\n",
      "Train period: 2022-04-12 - 2022-04-17 , Test period 2022-04-17 - 2022-04-19 # train records 5 , # test records 2\n",
      "Train period: 2022-04-14 - 2022-04-19 , Test period 2022-04-19 - 2022-04-21 # train records 5 , # test records 2\n",
      "Train period: 2022-04-16 - 2022-04-21 , Test period 2022-04-21 - 2022-04-23 # train records 5 , # test records 2\n",
      "Train period: 2022-04-18 - 2022-04-23 , Test period 2022-04-23 - 2022-04-25 # train records 5 , # test records 2\n",
      "Train period: 2022-04-20 - 2022-04-25 , Test period 2022-04-25 - 2022-04-27 # train records 5 , # test records 2\n",
      "Train period: 2022-04-22 - 2022-04-27 , Test period 2022-04-27 - 2022-04-29 # train records 5 , # test records 2\n",
      "Train period: 2022-04-24 - 2022-04-29 , Test period 2022-04-29 - 2022-05-01 # train records 5 , # test records 2\n",
      "Train period: 2022-04-26 - 2022-05-01 , Test period 2022-05-01 - 2022-05-03 # train records 5 , # test records 2\n",
      "Train period: 2022-04-28 - 2022-05-03 , Test period 2022-05-03 - 2022-05-05 # train records 5 , # test records 2\n",
      "Train period: 2022-04-30 - 2022-05-05 , Test period 2022-05-05 - 2022-05-07 # train records 5 , # test records 2\n",
      "[508, 509, 510, 511, 512] [513, 514]\n",
      "[510, 511, 512, 513, 514] [515, 516]\n",
      "[512, 513, 514, 515, 516] [517, 518]\n",
      "[514, 515, 516, 517, 518] [519, 520]\n",
      "[516, 517, 518, 519, 520] [521, 522]\n",
      "[518, 519, 520, 521, 522] [523, 524]\n",
      "[520, 521, 522, 523, 524] [525, 526]\n",
      "[522, 523, 524, 525, 526] [527, 528]\n",
      "[524, 525, 526, 527, 528] [529, 530]\n",
      "[526, 527, 528, 529, 530] [531, 532]\n",
      "[528, 529, 530, 531, 532] [533, 534]\n",
      "[530, 531, 532, 533, 534] [535, 536]\n",
      "[532, 533, 534, 535, 536] [537, 538]\n",
      "[534, 535, 536, 537, 538] [539, 540]\n",
      "[536, 537, 538, 539, 540] [541, 542]\n",
      "[538, 539, 540, 541, 542] [543, 544]\n",
      "[540, 541, 542, 543, 544] [545, 546]\n",
      "[542, 543, 544, 545, 546] [547, 548]\n"
     ]
    }
   ],
   "source": [
    "tscv = TimeBasedCV(train_period=5,\n",
    "                   test_period=2,\n",
    "                   freq='days')\n",
    "for train_index, test_index in tscv.split(df_axs,\n",
    "                   validation_split_date=datetime.date(2022,4,1), date_column='Date'):\n",
    "    print(train_index, test_index)"
   ]
  },
  {
   "cell_type": "code",
   "execution_count": 234,
   "id": "e1337b98",
   "metadata": {},
   "outputs": [],
   "source": [
    "future3 = pd.concat([df_axs,date_list])\n",
    "future3=future3.drop(['crypto'], axis=1)"
   ]
  },
  {
   "cell_type": "code",
   "execution_count": 235,
   "id": "0905e397",
   "metadata": {},
   "outputs": [],
   "source": [
    "future3=future3.reset_index(drop=True)"
   ]
  },
  {
   "cell_type": "code",
   "execution_count": 236,
   "id": "912e8f15",
   "metadata": {},
   "outputs": [
    {
     "name": "stdout",
     "output_type": "stream",
     "text": [
      "Train period: 2022-03-27 - 2022-04-01 , Test period 2022-04-01 - 2022-04-03 # train records 5 , # test records 2\n",
      "Train period: 2022-03-29 - 2022-04-03 , Test period 2022-04-03 - 2022-04-05 # train records 5 , # test records 2\n",
      "Train period: 2022-03-31 - 2022-04-05 , Test period 2022-04-05 - 2022-04-07 # train records 5 , # test records 2\n",
      "Train period: 2022-04-02 - 2022-04-07 , Test period 2022-04-07 - 2022-04-09 # train records 5 , # test records 2\n",
      "Train period: 2022-04-04 - 2022-04-09 , Test period 2022-04-09 - 2022-04-11 # train records 5 , # test records 2\n",
      "Train period: 2022-04-06 - 2022-04-11 , Test period 2022-04-11 - 2022-04-13 # train records 5 , # test records 2\n",
      "Train period: 2022-04-08 - 2022-04-13 , Test period 2022-04-13 - 2022-04-15 # train records 5 , # test records 2\n",
      "Train period: 2022-04-10 - 2022-04-15 , Test period 2022-04-15 - 2022-04-17 # train records 5 , # test records 2\n",
      "Train period: 2022-04-12 - 2022-04-17 , Test period 2022-04-17 - 2022-04-19 # train records 5 , # test records 2\n",
      "Train period: 2022-04-14 - 2022-04-19 , Test period 2022-04-19 - 2022-04-21 # train records 5 , # test records 2\n",
      "Train period: 2022-04-16 - 2022-04-21 , Test period 2022-04-21 - 2022-04-23 # train records 5 , # test records 2\n",
      "Train period: 2022-04-18 - 2022-04-23 , Test period 2022-04-23 - 2022-04-25 # train records 5 , # test records 2\n",
      "Train period: 2022-04-20 - 2022-04-25 , Test period 2022-04-25 - 2022-04-27 # train records 5 , # test records 2\n",
      "Train period: 2022-04-22 - 2022-04-27 , Test period 2022-04-27 - 2022-04-29 # train records 5 , # test records 2\n",
      "Train period: 2022-04-24 - 2022-04-29 , Test period 2022-04-29 - 2022-05-01 # train records 5 , # test records 2\n",
      "Train period: 2022-04-26 - 2022-05-01 , Test period 2022-05-01 - 2022-05-03 # train records 5 , # test records 2\n",
      "Train period: 2022-04-28 - 2022-05-03 , Test period 2022-05-03 - 2022-05-05 # train records 5 , # test records 2\n",
      "Train period: 2022-04-30 - 2022-05-05 , Test period 2022-05-05 - 2022-05-07 # train records 5 , # test records 2\n",
      "Train period: 2022-03-27 - 2022-04-01 , Test period 2022-04-01 - 2022-04-03 # train records 5 , # test records 2\n",
      "Train period: 2022-03-29 - 2022-04-03 , Test period 2022-04-03 - 2022-04-05 # train records 5 , # test records 2\n",
      "Train period: 2022-03-31 - 2022-04-05 , Test period 2022-04-05 - 2022-04-07 # train records 5 , # test records 2\n",
      "Train period: 2022-04-02 - 2022-04-07 , Test period 2022-04-07 - 2022-04-09 # train records 5 , # test records 2\n",
      "Train period: 2022-04-04 - 2022-04-09 , Test period 2022-04-09 - 2022-04-11 # train records 5 , # test records 2\n",
      "Train period: 2022-04-06 - 2022-04-11 , Test period 2022-04-11 - 2022-04-13 # train records 5 , # test records 2\n",
      "Train period: 2022-04-08 - 2022-04-13 , Test period 2022-04-13 - 2022-04-15 # train records 5 , # test records 2\n",
      "Train period: 2022-04-10 - 2022-04-15 , Test period 2022-04-15 - 2022-04-17 # train records 5 , # test records 2\n",
      "Train period: 2022-04-12 - 2022-04-17 , Test period 2022-04-17 - 2022-04-19 # train records 5 , # test records 2\n",
      "Train period: 2022-04-14 - 2022-04-19 , Test period 2022-04-19 - 2022-04-21 # train records 5 , # test records 2\n",
      "Train period: 2022-04-16 - 2022-04-21 , Test period 2022-04-21 - 2022-04-23 # train records 5 , # test records 2\n",
      "Train period: 2022-04-18 - 2022-04-23 , Test period 2022-04-23 - 2022-04-25 # train records 5 , # test records 2\n",
      "Train period: 2022-04-20 - 2022-04-25 , Test period 2022-04-25 - 2022-04-27 # train records 5 , # test records 2\n",
      "Train period: 2022-04-22 - 2022-04-27 , Test period 2022-04-27 - 2022-04-29 # train records 5 , # test records 2\n",
      "Train period: 2022-04-24 - 2022-04-29 , Test period 2022-04-29 - 2022-05-01 # train records 5 , # test records 2\n",
      "Train period: 2022-04-26 - 2022-05-01 , Test period 2022-05-01 - 2022-05-03 # train records 5 , # test records 2\n",
      "Train period: 2022-04-28 - 2022-05-03 , Test period 2022-05-03 - 2022-05-05 # train records 5 , # test records 2\n",
      "Train period: 2022-04-30 - 2022-05-05 , Test period 2022-05-05 - 2022-05-07 # train records 5 , # test records 2\n",
      "Fitting 18 folds for each of 1 candidates, totalling 18 fits\n",
      "[LightGBM] [Warning] max_depth is set=-1, max_depth=2 will be ignored. Current value: max_depth=-1\n"
     ]
    },
    {
     "name": "stderr",
     "output_type": "stream",
     "text": [
      "[Parallel(n_jobs=-1)]: Using backend LokyBackend with 8 concurrent workers.\n",
      "[Parallel(n_jobs=-1)]: Done   2 tasks      | elapsed:    0.0s\n",
      "[Parallel(n_jobs=-1)]: Done   7 out of  18 | elapsed:    0.0s remaining:    0.0s\n",
      "[Parallel(n_jobs=-1)]: Done  11 out of  18 | elapsed:    0.0s remaining:    0.0s\n",
      "[Parallel(n_jobs=-1)]: Done  15 out of  18 | elapsed:    0.0s remaining:    0.0s\n",
      "[Parallel(n_jobs=-1)]: Done  18 out of  18 | elapsed:    0.0s finished\n"
     ]
    },
    {
     "data": {
      "text/plain": [
       "{'mean_fit_time': array([0.00750005]),\n",
       " 'std_fit_time': array([0.00332162]),\n",
       " 'mean_score_time': array([0.00338965]),\n",
       " 'std_score_time': array([0.00142137]),\n",
       " 'param_ max_depth': masked_array(data=[2],\n",
       "              mask=[False],\n",
       "        fill_value='?',\n",
       "             dtype=object),\n",
       " 'params': [{' max_depth': 2}],\n",
       " 'split0_test_score': array([-0.69673621]),\n",
       " 'split1_test_score': array([-0.13322088]),\n",
       " 'split2_test_score': array([-3.29661213]),\n",
       " 'split3_test_score': array([-20.19030282]),\n",
       " 'split4_test_score': array([-24.52665143]),\n",
       " 'split5_test_score': array([-25.09337956]),\n",
       " 'split6_test_score': array([-2.03464197]),\n",
       " 'split7_test_score': array([-2.74051803]),\n",
       " 'split8_test_score': array([-26.33426472]),\n",
       " 'split9_test_score': array([-6.7085099e-06]),\n",
       " 'split10_test_score': array([-5.75414015]),\n",
       " 'split11_test_score': array([-11.86940555]),\n",
       " 'split12_test_score': array([-4.45255805]),\n",
       " 'split13_test_score': array([-166.66654853]),\n",
       " 'split14_test_score': array([-11.82329058]),\n",
       " 'split15_test_score': array([-35.10056326]),\n",
       " 'split16_test_score': array([-0.46785348]),\n",
       " 'split17_test_score': array([-58.70945546]),\n",
       " 'mean_test_score': array([-22.21611942]),\n",
       " 'std_test_score': array([38.19671689]),\n",
       " 'rank_test_score': array([1]),\n",
       " 'split0_train_score': array([0.]),\n",
       " 'split1_train_score': array([0.]),\n",
       " 'split2_train_score': array([0.]),\n",
       " 'split3_train_score': array([0.]),\n",
       " 'split4_train_score': array([0.]),\n",
       " 'split5_train_score': array([0.]),\n",
       " 'split6_train_score': array([0.]),\n",
       " 'split7_train_score': array([0.]),\n",
       " 'split8_train_score': array([0.]),\n",
       " 'split9_train_score': array([0.]),\n",
       " 'split10_train_score': array([0.]),\n",
       " 'split11_train_score': array([0.]),\n",
       " 'split12_train_score': array([0.]),\n",
       " 'split13_train_score': array([0.]),\n",
       " 'split14_train_score': array([0.]),\n",
       " 'split15_train_score': array([0.]),\n",
       " 'split16_train_score': array([0.]),\n",
       " 'split17_train_score': array([0.]),\n",
       " 'mean_train_score': array([0.]),\n",
       " 'std_train_score': array([0.])}"
      ]
     },
     "execution_count": 236,
     "metadata": {},
     "output_type": "execute_result"
    }
   ],
   "source": [
    "tscv.get_n_splits()\n",
    "\n",
    "#### Example- compute average test sets score: ####\n",
    "X = future3\n",
    "y = future3['close']\n",
    "\n",
    "\n",
    "scores = []\n",
    "for train_index, test_index in tscv.split(X, validation_split_date=datetime.date(2022,4,1)):\n",
    "    data_train   = X.loc[train_index].drop('Date', axis=1)\n",
    "    target_train = y.loc[train_index]\n",
    "\n",
    "    data_test    = X.loc[test_index].drop('Date', axis=1)\n",
    "    target_test  = y.loc[test_index]\n",
    "\n",
    "    # if needed, do preprocessing here\n",
    "\n",
    "    clf = LinearRegression()\n",
    "    clf.fit(data_train,target_train)\n",
    "\n",
    "    preds = clf.predict(data_test)\n",
    "    \n",
    "    # accuracy for the current fold only    \n",
    "    r2score = clf.score(data_test,target_test)\n",
    "\n",
    "    scores.append(r2score)\n",
    "\n",
    "# this is the average accuracy over all folds\n",
    "average_r2score = np.mean(scores)\n",
    "#### End of example ####\n",
    "\n",
    "\n",
    "tscv = TimeBasedCV(train_period=5, test_period=2)\n",
    "index_output = tscv.split(future3, validation_split_date=datetime.date(2022,4,1))\n",
    "\n",
    "lgbm = LGBMRegressor()\n",
    "\n",
    "lgbmPd = {\" max_depth\": [-1,2]\n",
    "         }\n",
    "\n",
    "model = RandomizedSearchCV(\n",
    "    estimator = lgbm,\n",
    "    param_distributions = lgbmPd,\n",
    "    n_iter = 1,\n",
    "    n_jobs = -1,\n",
    "    iid = True,\n",
    "    cv = index_output,\n",
    "    verbose=5,\n",
    "    pre_dispatch='2*n_jobs',\n",
    "    random_state = None,\n",
    "    return_train_score = True)\n",
    "\n",
    "model.fit(X.drop('Date', axis=1),y)\n",
    "model.cv_results_"
   ]
  },
  {
   "cell_type": "code",
   "execution_count": 237,
   "id": "d0c00482",
   "metadata": {},
   "outputs": [],
   "source": [
    "Labels_Test_axs = model.predict(data_test)\n",
    "Labels_Test_axs = pd.DataFrame(Labels_Test_axs)"
   ]
  },
  {
   "cell_type": "code",
   "execution_count": 342,
   "id": "358cc26c",
   "metadata": {},
   "outputs": [],
   "source": [
    "Labels_Test_axs.round(2).to_csv('axs_pred.csv')"
   ]
  },
  {
   "cell_type": "markdown",
   "id": "ad3ddbb3",
   "metadata": {},
   "source": [
    "# LINK Pred"
   ]
  },
  {
   "cell_type": "code",
   "execution_count": 239,
   "id": "61b6f9cd",
   "metadata": {
    "scrolled": false
   },
   "outputs": [
    {
     "name": "stdout",
     "output_type": "stream",
     "text": [
      "Train period: 2022-03-27 - 2022-04-01 , Test period 2022-04-01 - 2022-04-03 # train records 5 , # test records 2\n",
      "Train period: 2022-03-29 - 2022-04-03 , Test period 2022-04-03 - 2022-04-05 # train records 5 , # test records 2\n",
      "Train period: 2022-03-31 - 2022-04-05 , Test period 2022-04-05 - 2022-04-07 # train records 5 , # test records 2\n",
      "Train period: 2022-04-02 - 2022-04-07 , Test period 2022-04-07 - 2022-04-09 # train records 5 , # test records 2\n",
      "Train period: 2022-04-04 - 2022-04-09 , Test period 2022-04-09 - 2022-04-11 # train records 5 , # test records 2\n",
      "Train period: 2022-04-06 - 2022-04-11 , Test period 2022-04-11 - 2022-04-13 # train records 5 , # test records 2\n",
      "Train period: 2022-04-08 - 2022-04-13 , Test period 2022-04-13 - 2022-04-15 # train records 5 , # test records 2\n",
      "Train period: 2022-04-10 - 2022-04-15 , Test period 2022-04-15 - 2022-04-17 # train records 5 , # test records 2\n",
      "Train period: 2022-04-12 - 2022-04-17 , Test period 2022-04-17 - 2022-04-19 # train records 5 , # test records 2\n",
      "Train period: 2022-04-14 - 2022-04-19 , Test period 2022-04-19 - 2022-04-21 # train records 5 , # test records 2\n",
      "Train period: 2022-04-16 - 2022-04-21 , Test period 2022-04-21 - 2022-04-23 # train records 5 , # test records 2\n",
      "Train period: 2022-04-18 - 2022-04-23 , Test period 2022-04-23 - 2022-04-25 # train records 5 , # test records 2\n",
      "Train period: 2022-04-20 - 2022-04-25 , Test period 2022-04-25 - 2022-04-27 # train records 5 , # test records 2\n",
      "Train period: 2022-04-22 - 2022-04-27 , Test period 2022-04-27 - 2022-04-29 # train records 5 , # test records 2\n",
      "Train period: 2022-04-24 - 2022-04-29 , Test period 2022-04-29 - 2022-05-01 # train records 5 , # test records 2\n",
      "Train period: 2022-04-26 - 2022-05-01 , Test period 2022-05-01 - 2022-05-03 # train records 5 , # test records 2\n",
      "Train period: 2022-04-28 - 2022-05-03 , Test period 2022-05-03 - 2022-05-05 # train records 5 , # test records 2\n",
      "Train period: 2022-04-30 - 2022-05-05 , Test period 2022-05-05 - 2022-05-07 # train records 5 , # test records 2\n",
      "[1599, 1600, 1601, 1602, 1603] [1604, 1605]\n",
      "[1601, 1602, 1603, 1604, 1605] [1606, 1607]\n",
      "[1603, 1604, 1605, 1606, 1607] [1608, 1609]\n",
      "[1605, 1606, 1607, 1608, 1609] [1610, 1611]\n",
      "[1607, 1608, 1609, 1610, 1611] [1612, 1613]\n",
      "[1609, 1610, 1611, 1612, 1613] [1614, 1615]\n",
      "[1611, 1612, 1613, 1614, 1615] [1616, 1617]\n",
      "[1613, 1614, 1615, 1616, 1617] [1618, 1619]\n",
      "[1615, 1616, 1617, 1618, 1619] [1620, 1621]\n",
      "[1617, 1618, 1619, 1620, 1621] [1622, 1623]\n",
      "[1619, 1620, 1621, 1622, 1623] [1624, 1625]\n",
      "[1621, 1622, 1623, 1624, 1625] [1626, 1627]\n",
      "[1623, 1624, 1625, 1626, 1627] [1628, 1629]\n",
      "[1625, 1626, 1627, 1628, 1629] [1630, 1631]\n",
      "[1627, 1628, 1629, 1630, 1631] [1632, 1633]\n",
      "[1629, 1630, 1631, 1632, 1633] [1634, 1635]\n",
      "[1631, 1632, 1633, 1634, 1635] [1636, 1637]\n",
      "[1633, 1634, 1635, 1636, 1637] [1638, 1639]\n"
     ]
    }
   ],
   "source": [
    "tscv = TimeBasedCV(train_period=5,\n",
    "                   test_period=2,\n",
    "                   freq='days')\n",
    "for train_index, test_index in tscv.split(df_link,\n",
    "                   validation_split_date=datetime.date(2022,4,1), date_column='Date'):\n",
    "    print(train_index, test_index)"
   ]
  },
  {
   "cell_type": "code",
   "execution_count": 240,
   "id": "eec541ee",
   "metadata": {},
   "outputs": [],
   "source": [
    "future3 = pd.concat([df_link,date_list])\n",
    "future3=future3.drop(['crypto'], axis=1)"
   ]
  },
  {
   "cell_type": "code",
   "execution_count": 241,
   "id": "56fc2e06",
   "metadata": {},
   "outputs": [],
   "source": [
    "future3=future3.reset_index(drop=True)"
   ]
  },
  {
   "cell_type": "code",
   "execution_count": 242,
   "id": "154b7145",
   "metadata": {},
   "outputs": [
    {
     "name": "stdout",
     "output_type": "stream",
     "text": [
      "Train period: 2022-03-27 - 2022-04-01 , Test period 2022-04-01 - 2022-04-03 # train records 5 , # test records 2\n",
      "Train period: 2022-03-29 - 2022-04-03 , Test period 2022-04-03 - 2022-04-05 # train records 5 , # test records 2\n",
      "Train period: 2022-03-31 - 2022-04-05 , Test period 2022-04-05 - 2022-04-07 # train records 5 , # test records 2\n",
      "Train period: 2022-04-02 - 2022-04-07 , Test period 2022-04-07 - 2022-04-09 # train records 5 , # test records 2\n",
      "Train period: 2022-04-04 - 2022-04-09 , Test period 2022-04-09 - 2022-04-11 # train records 5 , # test records 2\n",
      "Train period: 2022-04-06 - 2022-04-11 , Test period 2022-04-11 - 2022-04-13 # train records 5 , # test records 2\n",
      "Train period: 2022-04-08 - 2022-04-13 , Test period 2022-04-13 - 2022-04-15 # train records 5 , # test records 2\n",
      "Train period: 2022-04-10 - 2022-04-15 , Test period 2022-04-15 - 2022-04-17 # train records 5 , # test records 2\n",
      "Train period: 2022-04-12 - 2022-04-17 , Test period 2022-04-17 - 2022-04-19 # train records 5 , # test records 2\n",
      "Train period: 2022-04-14 - 2022-04-19 , Test period 2022-04-19 - 2022-04-21 # train records 5 , # test records 2\n",
      "Train period: 2022-04-16 - 2022-04-21 , Test period 2022-04-21 - 2022-04-23 # train records 5 , # test records 2\n",
      "Train period: 2022-04-18 - 2022-04-23 , Test period 2022-04-23 - 2022-04-25 # train records 5 , # test records 2\n",
      "Train period: 2022-04-20 - 2022-04-25 , Test period 2022-04-25 - 2022-04-27 # train records 5 , # test records 2\n",
      "Train period: 2022-04-22 - 2022-04-27 , Test period 2022-04-27 - 2022-04-29 # train records 5 , # test records 2\n",
      "Train period: 2022-04-24 - 2022-04-29 , Test period 2022-04-29 - 2022-05-01 # train records 5 , # test records 2\n",
      "Train period: 2022-04-26 - 2022-05-01 , Test period 2022-05-01 - 2022-05-03 # train records 5 , # test records 2\n",
      "Train period: 2022-04-28 - 2022-05-03 , Test period 2022-05-03 - 2022-05-05 # train records 5 , # test records 2\n",
      "Train period: 2022-04-30 - 2022-05-05 , Test period 2022-05-05 - 2022-05-07 # train records 5 , # test records 2\n",
      "Train period: 2022-03-27 - 2022-04-01 , Test period 2022-04-01 - 2022-04-03 # train records 5 , # test records 2\n",
      "Train period: 2022-03-29 - 2022-04-03 , Test period 2022-04-03 - 2022-04-05 # train records 5 , # test records 2\n",
      "Train period: 2022-03-31 - 2022-04-05 , Test period 2022-04-05 - 2022-04-07 # train records 5 , # test records 2\n",
      "Train period: 2022-04-02 - 2022-04-07 , Test period 2022-04-07 - 2022-04-09 # train records 5 , # test records 2\n",
      "Train period: 2022-04-04 - 2022-04-09 , Test period 2022-04-09 - 2022-04-11 # train records 5 , # test records 2\n",
      "Train period: 2022-04-06 - 2022-04-11 , Test period 2022-04-11 - 2022-04-13 # train records 5 , # test records 2\n",
      "Train period: 2022-04-08 - 2022-04-13 , Test period 2022-04-13 - 2022-04-15 # train records 5 , # test records 2\n",
      "Train period: 2022-04-10 - 2022-04-15 , Test period 2022-04-15 - 2022-04-17 # train records 5 , # test records 2\n",
      "Train period: 2022-04-12 - 2022-04-17 , Test period 2022-04-17 - 2022-04-19 # train records 5 , # test records 2\n",
      "Train period: 2022-04-14 - 2022-04-19 , Test period 2022-04-19 - 2022-04-21 # train records 5 , # test records 2\n",
      "Train period: 2022-04-16 - 2022-04-21 , Test period 2022-04-21 - 2022-04-23 # train records 5 , # test records 2\n",
      "Train period: 2022-04-18 - 2022-04-23 , Test period 2022-04-23 - 2022-04-25 # train records 5 , # test records 2\n",
      "Train period: 2022-04-20 - 2022-04-25 , Test period 2022-04-25 - 2022-04-27 # train records 5 , # test records 2\n",
      "Train period: 2022-04-22 - 2022-04-27 , Test period 2022-04-27 - 2022-04-29 # train records 5 , # test records 2\n",
      "Train period: 2022-04-24 - 2022-04-29 , Test period 2022-04-29 - 2022-05-01 # train records 5 , # test records 2\n",
      "Train period: 2022-04-26 - 2022-05-01 , Test period 2022-05-01 - 2022-05-03 # train records 5 , # test records 2\n",
      "Train period: 2022-04-28 - 2022-05-03 , Test period 2022-05-03 - 2022-05-05 # train records 5 , # test records 2\n",
      "Train period: 2022-04-30 - 2022-05-05 , Test period 2022-05-05 - 2022-05-07 # train records 5 , # test records 2\n",
      "Fitting 18 folds for each of 1 candidates, totalling 18 fits\n",
      "[LightGBM] [Warning] max_depth is set=-1, max_depth=-1 will be ignored. Current value: max_depth=-1\n"
     ]
    },
    {
     "name": "stderr",
     "output_type": "stream",
     "text": [
      "[Parallel(n_jobs=-1)]: Using backend LokyBackend with 8 concurrent workers.\n",
      "[Parallel(n_jobs=-1)]: Done   2 tasks      | elapsed:    0.0s\n",
      "[Parallel(n_jobs=-1)]: Done   7 out of  18 | elapsed:    0.0s remaining:    0.0s\n",
      "[Parallel(n_jobs=-1)]: Done  11 out of  18 | elapsed:    0.0s remaining:    0.0s\n",
      "[Parallel(n_jobs=-1)]: Done  15 out of  18 | elapsed:    0.0s remaining:    0.0s\n",
      "[Parallel(n_jobs=-1)]: Done  18 out of  18 | elapsed:    0.0s finished\n"
     ]
    },
    {
     "data": {
      "text/plain": [
       "{'mean_fit_time': array([0.00766791]),\n",
       " 'std_fit_time': array([0.00210782]),\n",
       " 'mean_score_time': array([0.00405586]),\n",
       " 'std_score_time': array([0.00150869]),\n",
       " 'param_ max_depth': masked_array(data=[-1],\n",
       "              mask=[False],\n",
       "        fill_value='?',\n",
       "             dtype=object),\n",
       " 'params': [{' max_depth': -1}],\n",
       " 'split0_test_score': array([-105.21420003]),\n",
       " 'split1_test_score': array([-4.03844471]),\n",
       " 'split2_test_score': array([-3.95477825]),\n",
       " 'split3_test_score': array([-24.34442685]),\n",
       " 'split4_test_score': array([-295.81467444]),\n",
       " 'split5_test_score': array([-199.84796282]),\n",
       " 'split6_test_score': array([-9.15464882]),\n",
       " 'split7_test_score': array([-9.19149746]),\n",
       " 'split8_test_score': array([-0.69369027]),\n",
       " 'split9_test_score': array([-2.83453113]),\n",
       " 'split10_test_score': array([-1890.96146475]),\n",
       " 'split11_test_score': array([-436.35769329]),\n",
       " 'split12_test_score': array([-1.44676213]),\n",
       " 'split13_test_score': array([-212.8468505]),\n",
       " 'split14_test_score': array([-8.46370951]),\n",
       " 'split15_test_score': array([-181.76480611]),\n",
       " 'split16_test_score': array([-0.00033221]),\n",
       " 'split17_test_score': array([-70.16523233]),\n",
       " 'mean_test_score': array([-192.06087253]),\n",
       " 'std_test_score': array([429.78202221]),\n",
       " 'rank_test_score': array([1]),\n",
       " 'split0_train_score': array([0.]),\n",
       " 'split1_train_score': array([0.]),\n",
       " 'split2_train_score': array([0.]),\n",
       " 'split3_train_score': array([0.]),\n",
       " 'split4_train_score': array([0.]),\n",
       " 'split5_train_score': array([0.]),\n",
       " 'split6_train_score': array([0.]),\n",
       " 'split7_train_score': array([0.]),\n",
       " 'split8_train_score': array([0.]),\n",
       " 'split9_train_score': array([0.]),\n",
       " 'split10_train_score': array([0.]),\n",
       " 'split11_train_score': array([0.]),\n",
       " 'split12_train_score': array([0.]),\n",
       " 'split13_train_score': array([0.]),\n",
       " 'split14_train_score': array([0.]),\n",
       " 'split15_train_score': array([0.]),\n",
       " 'split16_train_score': array([0.]),\n",
       " 'split17_train_score': array([0.]),\n",
       " 'mean_train_score': array([0.]),\n",
       " 'std_train_score': array([0.])}"
      ]
     },
     "execution_count": 242,
     "metadata": {},
     "output_type": "execute_result"
    }
   ],
   "source": [
    "tscv.get_n_splits()\n",
    "\n",
    "#### Example- compute average test sets score: ####\n",
    "X = future3\n",
    "y = future3['close']\n",
    "\n",
    "\n",
    "scores = []\n",
    "for train_index, test_index in tscv.split(X, validation_split_date=datetime.date(2022,4,1)):\n",
    "    data_train   = X.loc[train_index].drop('Date', axis=1)\n",
    "    target_train = y.loc[train_index]\n",
    "\n",
    "    data_test    = X.loc[test_index].drop('Date', axis=1)\n",
    "    target_test  = y.loc[test_index]\n",
    "\n",
    "    # if needed, do preprocessing here\n",
    "\n",
    "    clf = LinearRegression()\n",
    "    clf.fit(data_train,target_train)\n",
    "\n",
    "    preds = clf.predict(data_test)\n",
    "    \n",
    "    # accuracy for the current fold only    \n",
    "    r2score = clf.score(data_test,target_test)\n",
    "\n",
    "    scores.append(r2score)\n",
    "\n",
    "# this is the average accuracy over all folds\n",
    "average_r2score = np.mean(scores)\n",
    "#### End of example ####\n",
    "\n",
    "\n",
    "tscv = TimeBasedCV(train_period=5, test_period=2)\n",
    "index_output = tscv.split(future3, validation_split_date=datetime.date(2022,4,1))\n",
    "\n",
    "lgbm = LGBMRegressor()\n",
    "\n",
    "lgbmPd = {\" max_depth\": [-1,2]\n",
    "         }\n",
    "\n",
    "model = RandomizedSearchCV(\n",
    "    estimator = lgbm,\n",
    "    param_distributions = lgbmPd,\n",
    "    n_iter = 1,\n",
    "    n_jobs = -1,\n",
    "    iid = True,\n",
    "    cv = index_output,\n",
    "    verbose=5,\n",
    "    pre_dispatch='2*n_jobs',\n",
    "    random_state = None,\n",
    "    return_train_score = True)\n",
    "\n",
    "model.fit(X.drop('Date', axis=1),y)\n",
    "model.cv_results_"
   ]
  },
  {
   "cell_type": "code",
   "execution_count": 243,
   "id": "6a1bf789",
   "metadata": {},
   "outputs": [],
   "source": [
    "Labels_Test_link = model.predict(data_test)\n",
    "Labels_Test_link = pd.DataFrame(Labels_Test_link)"
   ]
  },
  {
   "cell_type": "code",
   "execution_count": 343,
   "id": "88d1ca2a",
   "metadata": {},
   "outputs": [],
   "source": [
    "Labels_Test_link.round(2).to_csv('link_pred.csv')"
   ]
  },
  {
   "cell_type": "markdown",
   "id": "ad1388e4",
   "metadata": {},
   "source": [
    "# AVAX Pred"
   ]
  },
  {
   "cell_type": "code",
   "execution_count": 245,
   "id": "8ec87ddd",
   "metadata": {
    "scrolled": false
   },
   "outputs": [
    {
     "name": "stdout",
     "output_type": "stream",
     "text": [
      "Train period: 2022-03-27 - 2022-04-01 , Test period 2022-04-01 - 2022-04-03 # train records 5 , # test records 2\n",
      "Train period: 2022-03-29 - 2022-04-03 , Test period 2022-04-03 - 2022-04-05 # train records 5 , # test records 2\n",
      "Train period: 2022-03-31 - 2022-04-05 , Test period 2022-04-05 - 2022-04-07 # train records 5 , # test records 2\n",
      "Train period: 2022-04-02 - 2022-04-07 , Test period 2022-04-07 - 2022-04-09 # train records 5 , # test records 2\n",
      "Train period: 2022-04-04 - 2022-04-09 , Test period 2022-04-09 - 2022-04-11 # train records 5 , # test records 2\n",
      "Train period: 2022-04-06 - 2022-04-11 , Test period 2022-04-11 - 2022-04-13 # train records 5 , # test records 2\n",
      "Train period: 2022-04-08 - 2022-04-13 , Test period 2022-04-13 - 2022-04-15 # train records 5 , # test records 2\n",
      "Train period: 2022-04-10 - 2022-04-15 , Test period 2022-04-15 - 2022-04-17 # train records 5 , # test records 2\n",
      "Train period: 2022-04-12 - 2022-04-17 , Test period 2022-04-17 - 2022-04-19 # train records 5 , # test records 2\n",
      "Train period: 2022-04-14 - 2022-04-19 , Test period 2022-04-19 - 2022-04-21 # train records 5 , # test records 2\n",
      "Train period: 2022-04-16 - 2022-04-21 , Test period 2022-04-21 - 2022-04-23 # train records 5 , # test records 2\n",
      "Train period: 2022-04-18 - 2022-04-23 , Test period 2022-04-23 - 2022-04-25 # train records 5 , # test records 2\n",
      "Train period: 2022-04-20 - 2022-04-25 , Test period 2022-04-25 - 2022-04-27 # train records 5 , # test records 2\n",
      "Train period: 2022-04-22 - 2022-04-27 , Test period 2022-04-27 - 2022-04-29 # train records 5 , # test records 2\n",
      "Train period: 2022-04-24 - 2022-04-29 , Test period 2022-04-29 - 2022-05-01 # train records 5 , # test records 2\n",
      "Train period: 2022-04-26 - 2022-05-01 , Test period 2022-05-01 - 2022-05-03 # train records 5 , # test records 2\n",
      "Train period: 2022-04-28 - 2022-05-03 , Test period 2022-05-03 - 2022-05-05 # train records 5 , # test records 2\n",
      "Train period: 2022-04-30 - 2022-05-05 , Test period 2022-05-05 - 2022-05-07 # train records 5 , # test records 2\n",
      "[553, 554, 555, 556, 557] [558, 559]\n",
      "[555, 556, 557, 558, 559] [560, 561]\n",
      "[557, 558, 559, 560, 561] [562, 563]\n",
      "[559, 560, 561, 562, 563] [564, 565]\n",
      "[561, 562, 563, 564, 565] [566, 567]\n",
      "[563, 564, 565, 566, 567] [568, 569]\n",
      "[565, 566, 567, 568, 569] [570, 571]\n",
      "[567, 568, 569, 570, 571] [572, 573]\n",
      "[569, 570, 571, 572, 573] [574, 575]\n",
      "[571, 572, 573, 574, 575] [576, 577]\n",
      "[573, 574, 575, 576, 577] [578, 579]\n",
      "[575, 576, 577, 578, 579] [580, 581]\n",
      "[577, 578, 579, 580, 581] [582, 583]\n",
      "[579, 580, 581, 582, 583] [584, 585]\n",
      "[581, 582, 583, 584, 585] [586, 587]\n",
      "[583, 584, 585, 586, 587] [588, 589]\n",
      "[585, 586, 587, 588, 589] [590, 591]\n",
      "[587, 588, 589, 590, 591] [592, 593]\n"
     ]
    }
   ],
   "source": [
    "tscv = TimeBasedCV(train_period=5,\n",
    "                   test_period=2,\n",
    "                   freq='days')\n",
    "for train_index, test_index in tscv.split(df_avax,\n",
    "                   validation_split_date=datetime.date(2022,4,1), date_column='Date'):\n",
    "    print(train_index, test_index)"
   ]
  },
  {
   "cell_type": "code",
   "execution_count": 246,
   "id": "5e37855b",
   "metadata": {},
   "outputs": [],
   "source": [
    "future3 = pd.concat([df_avax,date_list])\n",
    "future3=future3.drop(['crypto'], axis=1)"
   ]
  },
  {
   "cell_type": "code",
   "execution_count": 247,
   "id": "8b51dfb6",
   "metadata": {},
   "outputs": [],
   "source": [
    "future3=future3.reset_index(drop=True)"
   ]
  },
  {
   "cell_type": "code",
   "execution_count": 248,
   "id": "203dc305",
   "metadata": {},
   "outputs": [
    {
     "name": "stdout",
     "output_type": "stream",
     "text": [
      "Train period: 2022-03-27 - 2022-04-01 , Test period 2022-04-01 - 2022-04-03 # train records 5 , # test records 2\n",
      "Train period: 2022-03-29 - 2022-04-03 , Test period 2022-04-03 - 2022-04-05 # train records 5 , # test records 2\n",
      "Train period: 2022-03-31 - 2022-04-05 , Test period 2022-04-05 - 2022-04-07 # train records 5 , # test records 2\n",
      "Train period: 2022-04-02 - 2022-04-07 , Test period 2022-04-07 - 2022-04-09 # train records 5 , # test records 2\n",
      "Train period: 2022-04-04 - 2022-04-09 , Test period 2022-04-09 - 2022-04-11 # train records 5 , # test records 2\n",
      "Train period: 2022-04-06 - 2022-04-11 , Test period 2022-04-11 - 2022-04-13 # train records 5 , # test records 2\n",
      "Train period: 2022-04-08 - 2022-04-13 , Test period 2022-04-13 - 2022-04-15 # train records 5 , # test records 2\n",
      "Train period: 2022-04-10 - 2022-04-15 , Test period 2022-04-15 - 2022-04-17 # train records 5 , # test records 2\n",
      "Train period: 2022-04-12 - 2022-04-17 , Test period 2022-04-17 - 2022-04-19 # train records 5 , # test records 2\n",
      "Train period: 2022-04-14 - 2022-04-19 , Test period 2022-04-19 - 2022-04-21 # train records 5 , # test records 2\n",
      "Train period: 2022-04-16 - 2022-04-21 , Test period 2022-04-21 - 2022-04-23 # train records 5 , # test records 2\n",
      "Train period: 2022-04-18 - 2022-04-23 , Test period 2022-04-23 - 2022-04-25 # train records 5 , # test records 2\n",
      "Train period: 2022-04-20 - 2022-04-25 , Test period 2022-04-25 - 2022-04-27 # train records 5 , # test records 2\n",
      "Train period: 2022-04-22 - 2022-04-27 , Test period 2022-04-27 - 2022-04-29 # train records 5 , # test records 2\n",
      "Train period: 2022-04-24 - 2022-04-29 , Test period 2022-04-29 - 2022-05-01 # train records 5 , # test records 2\n",
      "Train period: 2022-04-26 - 2022-05-01 , Test period 2022-05-01 - 2022-05-03 # train records 5 , # test records 2\n",
      "Train period: 2022-04-28 - 2022-05-03 , Test period 2022-05-03 - 2022-05-05 # train records 5 , # test records 2\n",
      "Train period: 2022-04-30 - 2022-05-05 , Test period 2022-05-05 - 2022-05-07 # train records 5 , # test records 2\n",
      "Train period: 2022-03-27 - 2022-04-01 , Test period 2022-04-01 - 2022-04-03 # train records 5 , # test records 2\n",
      "Train period: 2022-03-29 - 2022-04-03 , Test period 2022-04-03 - 2022-04-05 # train records 5 , # test records 2\n",
      "Train period: 2022-03-31 - 2022-04-05 , Test period 2022-04-05 - 2022-04-07 # train records 5 , # test records 2\n",
      "Train period: 2022-04-02 - 2022-04-07 , Test period 2022-04-07 - 2022-04-09 # train records 5 , # test records 2\n",
      "Train period: 2022-04-04 - 2022-04-09 , Test period 2022-04-09 - 2022-04-11 # train records 5 , # test records 2\n",
      "Train period: 2022-04-06 - 2022-04-11 , Test period 2022-04-11 - 2022-04-13 # train records 5 , # test records 2\n",
      "Train period: 2022-04-08 - 2022-04-13 , Test period 2022-04-13 - 2022-04-15 # train records 5 , # test records 2\n",
      "Train period: 2022-04-10 - 2022-04-15 , Test period 2022-04-15 - 2022-04-17 # train records 5 , # test records 2\n",
      "Train period: 2022-04-12 - 2022-04-17 , Test period 2022-04-17 - 2022-04-19 # train records 5 , # test records 2\n",
      "Train period: 2022-04-14 - 2022-04-19 , Test period 2022-04-19 - 2022-04-21 # train records 5 , # test records 2\n",
      "Train period: 2022-04-16 - 2022-04-21 , Test period 2022-04-21 - 2022-04-23 # train records 5 , # test records 2\n",
      "Train period: 2022-04-18 - 2022-04-23 , Test period 2022-04-23 - 2022-04-25 # train records 5 , # test records 2\n",
      "Train period: 2022-04-20 - 2022-04-25 , Test period 2022-04-25 - 2022-04-27 # train records 5 , # test records 2\n",
      "Train period: 2022-04-22 - 2022-04-27 , Test period 2022-04-27 - 2022-04-29 # train records 5 , # test records 2\n",
      "Train period: 2022-04-24 - 2022-04-29 , Test period 2022-04-29 - 2022-05-01 # train records 5 , # test records 2\n",
      "Train period: 2022-04-26 - 2022-05-01 , Test period 2022-05-01 - 2022-05-03 # train records 5 , # test records 2\n",
      "Train period: 2022-04-28 - 2022-05-03 , Test period 2022-05-03 - 2022-05-05 # train records 5 , # test records 2\n",
      "Train period: 2022-04-30 - 2022-05-05 , Test period 2022-05-05 - 2022-05-07 # train records 5 , # test records 2\n",
      "Fitting 18 folds for each of 1 candidates, totalling 18 fits\n",
      "[LightGBM] [Warning] max_depth is set=-1, max_depth=-1 will be ignored. Current value: max_depth=-1\n"
     ]
    },
    {
     "name": "stderr",
     "output_type": "stream",
     "text": [
      "[Parallel(n_jobs=-1)]: Using backend LokyBackend with 8 concurrent workers.\n",
      "[Parallel(n_jobs=-1)]: Done   2 tasks      | elapsed:    0.0s\n",
      "[Parallel(n_jobs=-1)]: Done   7 out of  18 | elapsed:    0.0s remaining:    0.0s\n",
      "[Parallel(n_jobs=-1)]: Done  11 out of  18 | elapsed:    0.0s remaining:    0.0s\n",
      "[Parallel(n_jobs=-1)]: Done  15 out of  18 | elapsed:    0.0s remaining:    0.0s\n",
      "[Parallel(n_jobs=-1)]: Done  18 out of  18 | elapsed:    0.0s finished\n"
     ]
    },
    {
     "data": {
      "text/plain": [
       "{'mean_fit_time': array([0.00694466]),\n",
       " 'std_fit_time': array([0.00214618]),\n",
       " 'mean_score_time': array([0.00333365]),\n",
       " 'std_score_time': array([0.00129111]),\n",
       " 'param_ max_depth': masked_array(data=[-1],\n",
       "              mask=[False],\n",
       "        fill_value='?',\n",
       "             dtype=object),\n",
       " 'params': [{' max_depth': -1}],\n",
       " 'split0_test_score': array([-86.00618871]),\n",
       " 'split1_test_score': array([-0.81804248]),\n",
       " 'split2_test_score': array([-5.72564786]),\n",
       " 'split3_test_score': array([-10.94378713]),\n",
       " 'split4_test_score': array([-13.12115876]),\n",
       " 'split5_test_score': array([-66.88537087]),\n",
       " 'split6_test_score': array([-1.18445782]),\n",
       " 'split7_test_score': array([-0.56329401]),\n",
       " 'split8_test_score': array([-0.83100172]),\n",
       " 'split9_test_score': array([-4.57111383]),\n",
       " 'split10_test_score': array([-50.07616939]),\n",
       " 'split11_test_score': array([-54.24835061]),\n",
       " 'split12_test_score': array([-2.99534845]),\n",
       " 'split13_test_score': array([-7.38320706]),\n",
       " 'split14_test_score': array([-9.53092079]),\n",
       " 'split15_test_score': array([-45.08437316]),\n",
       " 'split16_test_score': array([-0.27342952]),\n",
       " 'split17_test_score': array([-5.94897684]),\n",
       " 'mean_test_score': array([-20.3439355]),\n",
       " 'std_test_score': array([26.29167413]),\n",
       " 'rank_test_score': array([1]),\n",
       " 'split0_train_score': array([0.]),\n",
       " 'split1_train_score': array([0.]),\n",
       " 'split2_train_score': array([0.]),\n",
       " 'split3_train_score': array([0.]),\n",
       " 'split4_train_score': array([0.]),\n",
       " 'split5_train_score': array([0.]),\n",
       " 'split6_train_score': array([0.]),\n",
       " 'split7_train_score': array([0.]),\n",
       " 'split8_train_score': array([0.]),\n",
       " 'split9_train_score': array([0.]),\n",
       " 'split10_train_score': array([0.]),\n",
       " 'split11_train_score': array([0.]),\n",
       " 'split12_train_score': array([0.]),\n",
       " 'split13_train_score': array([0.]),\n",
       " 'split14_train_score': array([0.]),\n",
       " 'split15_train_score': array([0.]),\n",
       " 'split16_train_score': array([0.]),\n",
       " 'split17_train_score': array([0.]),\n",
       " 'mean_train_score': array([0.]),\n",
       " 'std_train_score': array([0.])}"
      ]
     },
     "execution_count": 248,
     "metadata": {},
     "output_type": "execute_result"
    }
   ],
   "source": [
    "tscv.get_n_splits()\n",
    "\n",
    "#### Example- compute average test sets score: ####\n",
    "X = future3\n",
    "y = future3['close']\n",
    "\n",
    "\n",
    "scores = []\n",
    "for train_index, test_index in tscv.split(X, validation_split_date=datetime.date(2022,4,1)):\n",
    "    data_train   = X.loc[train_index].drop('Date', axis=1)\n",
    "    target_train = y.loc[train_index]\n",
    "\n",
    "    data_test    = X.loc[test_index].drop('Date', axis=1)\n",
    "    target_test  = y.loc[test_index]\n",
    "\n",
    "    # if needed, do preprocessing here\n",
    "\n",
    "    clf = LinearRegression()\n",
    "    clf.fit(data_train,target_train)\n",
    "\n",
    "    preds = clf.predict(data_test)\n",
    "    \n",
    "    # accuracy for the current fold only    \n",
    "    r2score = clf.score(data_test,target_test)\n",
    "\n",
    "    scores.append(r2score)\n",
    "\n",
    "# this is the average accuracy over all folds\n",
    "average_r2score = np.mean(scores)\n",
    "#### End of example ####\n",
    "\n",
    "\n",
    "tscv = TimeBasedCV(train_period=5, test_period=2)\n",
    "index_output = tscv.split(future3, validation_split_date=datetime.date(2022,4,1))\n",
    "\n",
    "lgbm = LGBMRegressor()\n",
    "\n",
    "lgbmPd = {\" max_depth\": [-1,2]\n",
    "         }\n",
    "\n",
    "model = RandomizedSearchCV(\n",
    "    estimator = lgbm,\n",
    "    param_distributions = lgbmPd,\n",
    "    n_iter = 1,\n",
    "    n_jobs = -1,\n",
    "    iid = True,\n",
    "    cv = index_output,\n",
    "    verbose=5,\n",
    "    pre_dispatch='2*n_jobs',\n",
    "    random_state = None,\n",
    "    return_train_score = True)\n",
    "\n",
    "model.fit(X.drop('Date', axis=1),y)\n",
    "model.cv_results_"
   ]
  },
  {
   "cell_type": "code",
   "execution_count": 249,
   "id": "cc7f40d4",
   "metadata": {},
   "outputs": [],
   "source": [
    "Labels_Test_avax = model.predict(data_test)\n",
    "Labels_Test_avax = pd.DataFrame(Labels_Test_avax)"
   ]
  },
  {
   "cell_type": "code",
   "execution_count": 344,
   "id": "86eeeedb",
   "metadata": {},
   "outputs": [],
   "source": [
    "Labels_Test_avax.round(2).to_csv('avax_pred.csv')"
   ]
  },
  {
   "cell_type": "markdown",
   "id": "afbf0b7d",
   "metadata": {},
   "source": [
    "# LUNA1 Pred"
   ]
  },
  {
   "cell_type": "code",
   "execution_count": 251,
   "id": "617e1933",
   "metadata": {
    "scrolled": false
   },
   "outputs": [
    {
     "name": "stdout",
     "output_type": "stream",
     "text": [
      "Train period: 2022-03-27 - 2022-04-01 , Test period 2022-04-01 - 2022-04-03 # train records 5 , # test records 2\n",
      "Train period: 2022-03-29 - 2022-04-03 , Test period 2022-04-03 - 2022-04-05 # train records 5 , # test records 2\n",
      "Train period: 2022-03-31 - 2022-04-05 , Test period 2022-04-05 - 2022-04-07 # train records 5 , # test records 2\n",
      "Train period: 2022-04-02 - 2022-04-07 , Test period 2022-04-07 - 2022-04-09 # train records 5 , # test records 2\n",
      "Train period: 2022-04-04 - 2022-04-09 , Test period 2022-04-09 - 2022-04-11 # train records 5 , # test records 2\n",
      "Train period: 2022-04-06 - 2022-04-11 , Test period 2022-04-11 - 2022-04-13 # train records 5 , # test records 2\n",
      "Train period: 2022-04-08 - 2022-04-13 , Test period 2022-04-13 - 2022-04-15 # train records 5 , # test records 2\n",
      "Train period: 2022-04-10 - 2022-04-15 , Test period 2022-04-15 - 2022-04-17 # train records 5 , # test records 2\n",
      "Train period: 2022-04-12 - 2022-04-17 , Test period 2022-04-17 - 2022-04-19 # train records 5 , # test records 2\n",
      "Train period: 2022-04-14 - 2022-04-19 , Test period 2022-04-19 - 2022-04-21 # train records 5 , # test records 2\n",
      "Train period: 2022-04-16 - 2022-04-21 , Test period 2022-04-21 - 2022-04-23 # train records 5 , # test records 2\n",
      "Train period: 2022-04-18 - 2022-04-23 , Test period 2022-04-23 - 2022-04-25 # train records 5 , # test records 2\n",
      "Train period: 2022-04-20 - 2022-04-25 , Test period 2022-04-25 - 2022-04-27 # train records 5 , # test records 2\n",
      "Train period: 2022-04-22 - 2022-04-27 , Test period 2022-04-27 - 2022-04-29 # train records 5 , # test records 2\n",
      "Train period: 2022-04-24 - 2022-04-29 , Test period 2022-04-29 - 2022-05-01 # train records 5 , # test records 2\n",
      "Train period: 2022-04-26 - 2022-05-01 , Test period 2022-05-01 - 2022-05-03 # train records 5 , # test records 2\n",
      "Train period: 2022-04-28 - 2022-05-03 , Test period 2022-05-03 - 2022-05-05 # train records 5 , # test records 2\n",
      "Train period: 2022-04-30 - 2022-05-05 , Test period 2022-05-05 - 2022-05-07 # train records 5 , # test records 2\n",
      "[975, 976, 977, 978, 979] [980, 981]\n",
      "[977, 978, 979, 980, 981] [982, 983]\n",
      "[979, 980, 981, 982, 983] [984, 985]\n",
      "[981, 982, 983, 984, 985] [986, 987]\n",
      "[983, 984, 985, 986, 987] [988, 989]\n",
      "[985, 986, 987, 988, 989] [990, 991]\n",
      "[987, 988, 989, 990, 991] [992, 993]\n",
      "[989, 990, 991, 992, 993] [994, 995]\n",
      "[991, 992, 993, 994, 995] [996, 997]\n",
      "[993, 994, 995, 996, 997] [998, 999]\n",
      "[995, 996, 997, 998, 999] [1000, 1001]\n",
      "[997, 998, 999, 1000, 1001] [1002, 1003]\n",
      "[999, 1000, 1001, 1002, 1003] [1004, 1005]\n",
      "[1001, 1002, 1003, 1004, 1005] [1006, 1007]\n",
      "[1003, 1004, 1005, 1006, 1007] [1008, 1009]\n",
      "[1005, 1006, 1007, 1008, 1009] [1010, 1011]\n",
      "[1007, 1008, 1009, 1010, 1011] [1012, 1013]\n",
      "[1009, 1010, 1011, 1012, 1013] [1014, 1015]\n"
     ]
    }
   ],
   "source": [
    "tscv = TimeBasedCV(train_period=5,\n",
    "                   test_period=2,\n",
    "                   freq='days')\n",
    "for train_index, test_index in tscv.split(df_luna,\n",
    "                   validation_split_date=datetime.date(2022,4,1), date_column='Date'):\n",
    "    print(train_index, test_index)"
   ]
  },
  {
   "cell_type": "code",
   "execution_count": 252,
   "id": "3b107dda",
   "metadata": {},
   "outputs": [],
   "source": [
    "future3 = pd.concat([df_luna,date_list])\n",
    "future3=future3.drop(['crypto'], axis=1)"
   ]
  },
  {
   "cell_type": "code",
   "execution_count": 253,
   "id": "2a1d1d59",
   "metadata": {},
   "outputs": [],
   "source": [
    "future3=future3.reset_index(drop=True)"
   ]
  },
  {
   "cell_type": "code",
   "execution_count": 254,
   "id": "0d5252c0",
   "metadata": {},
   "outputs": [
    {
     "name": "stdout",
     "output_type": "stream",
     "text": [
      "Train period: 2022-03-27 - 2022-04-01 , Test period 2022-04-01 - 2022-04-03 # train records 5 , # test records 2\n",
      "Train period: 2022-03-29 - 2022-04-03 , Test period 2022-04-03 - 2022-04-05 # train records 5 , # test records 2\n",
      "Train period: 2022-03-31 - 2022-04-05 , Test period 2022-04-05 - 2022-04-07 # train records 5 , # test records 2\n",
      "Train period: 2022-04-02 - 2022-04-07 , Test period 2022-04-07 - 2022-04-09 # train records 5 , # test records 2\n",
      "Train period: 2022-04-04 - 2022-04-09 , Test period 2022-04-09 - 2022-04-11 # train records 5 , # test records 2\n",
      "Train period: 2022-04-06 - 2022-04-11 , Test period 2022-04-11 - 2022-04-13 # train records 5 , # test records 2\n",
      "Train period: 2022-04-08 - 2022-04-13 , Test period 2022-04-13 - 2022-04-15 # train records 5 , # test records 2\n",
      "Train period: 2022-04-10 - 2022-04-15 , Test period 2022-04-15 - 2022-04-17 # train records 5 , # test records 2\n",
      "Train period: 2022-04-12 - 2022-04-17 , Test period 2022-04-17 - 2022-04-19 # train records 5 , # test records 2\n",
      "Train period: 2022-04-14 - 2022-04-19 , Test period 2022-04-19 - 2022-04-21 # train records 5 , # test records 2\n",
      "Train period: 2022-04-16 - 2022-04-21 , Test period 2022-04-21 - 2022-04-23 # train records 5 , # test records 2\n",
      "Train period: 2022-04-18 - 2022-04-23 , Test period 2022-04-23 - 2022-04-25 # train records 5 , # test records 2\n",
      "Train period: 2022-04-20 - 2022-04-25 , Test period 2022-04-25 - 2022-04-27 # train records 5 , # test records 2\n",
      "Train period: 2022-04-22 - 2022-04-27 , Test period 2022-04-27 - 2022-04-29 # train records 5 , # test records 2\n",
      "Train period: 2022-04-24 - 2022-04-29 , Test period 2022-04-29 - 2022-05-01 # train records 5 , # test records 2\n",
      "Train period: 2022-04-26 - 2022-05-01 , Test period 2022-05-01 - 2022-05-03 # train records 5 , # test records 2\n",
      "Train period: 2022-04-28 - 2022-05-03 , Test period 2022-05-03 - 2022-05-05 # train records 5 , # test records 2\n",
      "Train period: 2022-04-30 - 2022-05-05 , Test period 2022-05-05 - 2022-05-07 # train records 5 , # test records 2\n",
      "Train period: 2022-03-27 - 2022-04-01 , Test period 2022-04-01 - 2022-04-03 # train records 5 , # test records 2\n",
      "Train period: 2022-03-29 - 2022-04-03 , Test period 2022-04-03 - 2022-04-05 # train records 5 , # test records 2\n",
      "Train period: 2022-03-31 - 2022-04-05 , Test period 2022-04-05 - 2022-04-07 # train records 5 , # test records 2\n",
      "Train period: 2022-04-02 - 2022-04-07 , Test period 2022-04-07 - 2022-04-09 # train records 5 , # test records 2\n",
      "Train period: 2022-04-04 - 2022-04-09 , Test period 2022-04-09 - 2022-04-11 # train records 5 , # test records 2\n",
      "Train period: 2022-04-06 - 2022-04-11 , Test period 2022-04-11 - 2022-04-13 # train records 5 , # test records 2\n",
      "Train period: 2022-04-08 - 2022-04-13 , Test period 2022-04-13 - 2022-04-15 # train records 5 , # test records 2\n",
      "Train period: 2022-04-10 - 2022-04-15 , Test period 2022-04-15 - 2022-04-17 # train records 5 , # test records 2\n",
      "Train period: 2022-04-12 - 2022-04-17 , Test period 2022-04-17 - 2022-04-19 # train records 5 , # test records 2\n",
      "Train period: 2022-04-14 - 2022-04-19 , Test period 2022-04-19 - 2022-04-21 # train records 5 , # test records 2\n",
      "Train period: 2022-04-16 - 2022-04-21 , Test period 2022-04-21 - 2022-04-23 # train records 5 , # test records 2\n",
      "Train period: 2022-04-18 - 2022-04-23 , Test period 2022-04-23 - 2022-04-25 # train records 5 , # test records 2\n",
      "Train period: 2022-04-20 - 2022-04-25 , Test period 2022-04-25 - 2022-04-27 # train records 5 , # test records 2\n",
      "Train period: 2022-04-22 - 2022-04-27 , Test period 2022-04-27 - 2022-04-29 # train records 5 , # test records 2\n",
      "Train period: 2022-04-24 - 2022-04-29 , Test period 2022-04-29 - 2022-05-01 # train records 5 , # test records 2\n",
      "Train period: 2022-04-26 - 2022-05-01 , Test period 2022-05-01 - 2022-05-03 # train records 5 , # test records 2\n",
      "Train period: 2022-04-28 - 2022-05-03 , Test period 2022-05-03 - 2022-05-05 # train records 5 , # test records 2\n",
      "Train period: 2022-04-30 - 2022-05-05 , Test period 2022-05-05 - 2022-05-07 # train records 5 , # test records 2\n",
      "Fitting 18 folds for each of 1 candidates, totalling 18 fits\n",
      "[LightGBM] [Warning] max_depth is set=-1, max_depth=2 will be ignored. Current value: max_depth=-1\n"
     ]
    },
    {
     "name": "stderr",
     "output_type": "stream",
     "text": [
      "[Parallel(n_jobs=-1)]: Using backend LokyBackend with 8 concurrent workers.\n",
      "[Parallel(n_jobs=-1)]: Done   2 tasks      | elapsed:    0.0s\n",
      "[Parallel(n_jobs=-1)]: Done   7 out of  18 | elapsed:    0.0s remaining:    0.0s\n",
      "[Parallel(n_jobs=-1)]: Done  11 out of  18 | elapsed:    0.0s remaining:    0.0s\n",
      "[Parallel(n_jobs=-1)]: Done  15 out of  18 | elapsed:    0.0s remaining:    0.0s\n",
      "[Parallel(n_jobs=-1)]: Done  18 out of  18 | elapsed:    0.0s finished\n"
     ]
    },
    {
     "data": {
      "text/plain": [
       "{'mean_fit_time': array([0.00794597]),\n",
       " 'std_fit_time': array([0.00147031]),\n",
       " 'mean_score_time': array([0.00372157]),\n",
       " 'std_score_time': array([0.00184925]),\n",
       " 'param_ max_depth': masked_array(data=[2],\n",
       "              mask=[False],\n",
       "        fill_value='?',\n",
       "             dtype=object),\n",
       " 'params': [{' max_depth': 2}],\n",
       " 'split0_test_score': array([-3.32484209]),\n",
       " 'split1_test_score': array([-17.29490875]),\n",
       " 'split2_test_score': array([-0.09966352]),\n",
       " 'split3_test_score': array([-10.65574862]),\n",
       " 'split4_test_score': array([-27.59019117]),\n",
       " 'split5_test_score': array([-223.81543129]),\n",
       " 'split6_test_score': array([-3.5460351]),\n",
       " 'split7_test_score': array([-234.18962736]),\n",
       " 'split8_test_score': array([-0.03193152]),\n",
       " 'split9_test_score': array([-1548.50935923]),\n",
       " 'split10_test_score': array([-8.5829906]),\n",
       " 'split11_test_score': array([-38.41365687]),\n",
       " 'split12_test_score': array([-0.04367769]),\n",
       " 'split13_test_score': array([-1965.48447712]),\n",
       " 'split14_test_score': array([-7.23741268]),\n",
       " 'split15_test_score': array([-7.00167546]),\n",
       " 'split16_test_score': array([-0.10840516]),\n",
       " 'split17_test_score': array([-1.12191756]),\n",
       " 'mean_test_score': array([-227.61399732]),\n",
       " 'std_test_score': array([549.55798867]),\n",
       " 'rank_test_score': array([1]),\n",
       " 'split0_train_score': array([0.]),\n",
       " 'split1_train_score': array([0.]),\n",
       " 'split2_train_score': array([0.]),\n",
       " 'split3_train_score': array([0.]),\n",
       " 'split4_train_score': array([0.]),\n",
       " 'split5_train_score': array([0.]),\n",
       " 'split6_train_score': array([0.]),\n",
       " 'split7_train_score': array([0.]),\n",
       " 'split8_train_score': array([0.]),\n",
       " 'split9_train_score': array([0.]),\n",
       " 'split10_train_score': array([0.]),\n",
       " 'split11_train_score': array([0.]),\n",
       " 'split12_train_score': array([0.]),\n",
       " 'split13_train_score': array([0.]),\n",
       " 'split14_train_score': array([0.]),\n",
       " 'split15_train_score': array([0.]),\n",
       " 'split16_train_score': array([0.]),\n",
       " 'split17_train_score': array([0.]),\n",
       " 'mean_train_score': array([0.]),\n",
       " 'std_train_score': array([0.])}"
      ]
     },
     "execution_count": 254,
     "metadata": {},
     "output_type": "execute_result"
    }
   ],
   "source": [
    "tscv.get_n_splits()\n",
    "\n",
    "#### Example- compute average test sets score: ####\n",
    "X = future3\n",
    "y = future3['close']\n",
    "\n",
    "\n",
    "scores = []\n",
    "for train_index, test_index in tscv.split(X, validation_split_date=datetime.date(2022,4,1)):\n",
    "    data_train   = X.loc[train_index].drop('Date', axis=1)\n",
    "    target_train = y.loc[train_index]\n",
    "\n",
    "    data_test    = X.loc[test_index].drop('Date', axis=1)\n",
    "    target_test  = y.loc[test_index]\n",
    "\n",
    "    # if needed, do preprocessing here\n",
    "\n",
    "    clf = LinearRegression()\n",
    "    clf.fit(data_train,target_train)\n",
    "\n",
    "    preds = clf.predict(data_test)\n",
    "    \n",
    "    # accuracy for the current fold only    \n",
    "    r2score = clf.score(data_test,target_test)\n",
    "\n",
    "    scores.append(r2score)\n",
    "\n",
    "# this is the average accuracy over all folds\n",
    "average_r2score = np.mean(scores)\n",
    "#### End of example ####\n",
    "\n",
    "\n",
    "tscv = TimeBasedCV(train_period=5, test_period=2)\n",
    "index_output = tscv.split(future3, validation_split_date=datetime.date(2022,4,1))\n",
    "\n",
    "lgbm = LGBMRegressor()\n",
    "\n",
    "lgbmPd = {\" max_depth\": [-1,2]\n",
    "         }\n",
    "\n",
    "model = RandomizedSearchCV(\n",
    "    estimator = lgbm,\n",
    "    param_distributions = lgbmPd,\n",
    "    n_iter = 1,\n",
    "    n_jobs = -1,\n",
    "    iid = True,\n",
    "    cv = index_output,\n",
    "    verbose=5,\n",
    "    pre_dispatch='2*n_jobs',\n",
    "    random_state = None,\n",
    "    return_train_score = True)\n",
    "\n",
    "model.fit(X.drop('Date', axis=1),y)\n",
    "model.cv_results_"
   ]
  },
  {
   "cell_type": "code",
   "execution_count": 255,
   "id": "d1ca2494",
   "metadata": {},
   "outputs": [],
   "source": [
    "Labels_Test_luna = model.predict(data_test)\n",
    "Labels_Test_luna = pd.DataFrame(Labels_Test_luna)"
   ]
  },
  {
   "cell_type": "code",
   "execution_count": 345,
   "id": "74d7ca73",
   "metadata": {},
   "outputs": [],
   "source": [
    "Labels_Test_luna.round(2).to_csv('luna1_pred.csv')"
   ]
  },
  {
   "cell_type": "markdown",
   "id": "12e82d81",
   "metadata": {},
   "source": [
    "# MATIC Pred"
   ]
  },
  {
   "cell_type": "code",
   "execution_count": 257,
   "id": "5057eb56",
   "metadata": {
    "scrolled": false
   },
   "outputs": [
    {
     "name": "stdout",
     "output_type": "stream",
     "text": [
      "Train period: 2022-03-27 - 2022-04-01 , Test period 2022-04-01 - 2022-04-03 # train records 5 , # test records 2\n",
      "Train period: 2022-03-29 - 2022-04-03 , Test period 2022-04-03 - 2022-04-05 # train records 5 , # test records 2\n",
      "Train period: 2022-03-31 - 2022-04-05 , Test period 2022-04-05 - 2022-04-07 # train records 5 , # test records 2\n",
      "Train period: 2022-04-02 - 2022-04-07 , Test period 2022-04-07 - 2022-04-09 # train records 5 , # test records 2\n",
      "Train period: 2022-04-04 - 2022-04-09 , Test period 2022-04-09 - 2022-04-11 # train records 5 , # test records 2\n",
      "Train period: 2022-04-06 - 2022-04-11 , Test period 2022-04-11 - 2022-04-13 # train records 5 , # test records 2\n",
      "Train period: 2022-04-08 - 2022-04-13 , Test period 2022-04-13 - 2022-04-15 # train records 5 , # test records 2\n",
      "Train period: 2022-04-10 - 2022-04-15 , Test period 2022-04-15 - 2022-04-17 # train records 5 , # test records 2\n",
      "Train period: 2022-04-12 - 2022-04-17 , Test period 2022-04-17 - 2022-04-19 # train records 5 , # test records 2\n",
      "Train period: 2022-04-14 - 2022-04-19 , Test period 2022-04-19 - 2022-04-21 # train records 5 , # test records 2\n",
      "Train period: 2022-04-16 - 2022-04-21 , Test period 2022-04-21 - 2022-04-23 # train records 5 , # test records 2\n",
      "Train period: 2022-04-18 - 2022-04-23 , Test period 2022-04-23 - 2022-04-25 # train records 5 , # test records 2\n",
      "Train period: 2022-04-20 - 2022-04-25 , Test period 2022-04-25 - 2022-04-27 # train records 5 , # test records 2\n",
      "Train period: 2022-04-22 - 2022-04-27 , Test period 2022-04-27 - 2022-04-29 # train records 5 , # test records 2\n",
      "Train period: 2022-04-24 - 2022-04-29 , Test period 2022-04-29 - 2022-05-01 # train records 5 , # test records 2\n",
      "Train period: 2022-04-26 - 2022-05-01 , Test period 2022-05-01 - 2022-05-03 # train records 5 , # test records 2\n",
      "Train period: 2022-04-28 - 2022-05-03 , Test period 2022-05-03 - 2022-05-05 # train records 5 , # test records 2\n",
      "Train period: 2022-04-30 - 2022-05-05 , Test period 2022-05-05 - 2022-05-07 # train records 5 , # test records 2\n",
      "[1064, 1065, 1066, 1067, 1068] [1069, 1070]\n",
      "[1066, 1067, 1068, 1069, 1070] [1071, 1072]\n",
      "[1068, 1069, 1070, 1071, 1072] [1073, 1074]\n",
      "[1070, 1071, 1072, 1073, 1074] [1075, 1076]\n",
      "[1072, 1073, 1074, 1075, 1076] [1077, 1078]\n",
      "[1074, 1075, 1076, 1077, 1078] [1079, 1080]\n",
      "[1076, 1077, 1078, 1079, 1080] [1081, 1082]\n",
      "[1078, 1079, 1080, 1081, 1082] [1083, 1084]\n",
      "[1080, 1081, 1082, 1083, 1084] [1085, 1086]\n",
      "[1082, 1083, 1084, 1085, 1086] [1087, 1088]\n",
      "[1084, 1085, 1086, 1087, 1088] [1089, 1090]\n",
      "[1086, 1087, 1088, 1089, 1090] [1091, 1092]\n",
      "[1088, 1089, 1090, 1091, 1092] [1093, 1094]\n",
      "[1090, 1091, 1092, 1093, 1094] [1095, 1096]\n",
      "[1092, 1093, 1094, 1095, 1096] [1097, 1098]\n",
      "[1094, 1095, 1096, 1097, 1098] [1099, 1100]\n",
      "[1096, 1097, 1098, 1099, 1100] [1101, 1102]\n",
      "[1098, 1099, 1100, 1101, 1102] [1103, 1104]\n"
     ]
    }
   ],
   "source": [
    "tscv = TimeBasedCV(train_period=5,\n",
    "                   test_period=2,\n",
    "                   freq='days')\n",
    "for train_index, test_index in tscv.split(df_matic,\n",
    "                   validation_split_date=datetime.date(2022,4,1), date_column='Date'):\n",
    "    print(train_index, test_index)"
   ]
  },
  {
   "cell_type": "code",
   "execution_count": 258,
   "id": "5b9f124f",
   "metadata": {},
   "outputs": [],
   "source": [
    "future3 = pd.concat([df_matic,date_list])\n",
    "future3=future3.drop(['crypto'], axis=1)"
   ]
  },
  {
   "cell_type": "code",
   "execution_count": 259,
   "id": "d9a7aff3",
   "metadata": {},
   "outputs": [],
   "source": [
    "future3=future3.reset_index(drop=True)"
   ]
  },
  {
   "cell_type": "code",
   "execution_count": 260,
   "id": "c8b86e97",
   "metadata": {
    "scrolled": true
   },
   "outputs": [
    {
     "name": "stdout",
     "output_type": "stream",
     "text": [
      "Train period: 2022-03-27 - 2022-04-01 , Test period 2022-04-01 - 2022-04-03 # train records 5 , # test records 2\n",
      "Train period: 2022-03-29 - 2022-04-03 , Test period 2022-04-03 - 2022-04-05 # train records 5 , # test records 2\n",
      "Train period: 2022-03-31 - 2022-04-05 , Test period 2022-04-05 - 2022-04-07 # train records 5 , # test records 2\n",
      "Train period: 2022-04-02 - 2022-04-07 , Test period 2022-04-07 - 2022-04-09 # train records 5 , # test records 2\n",
      "Train period: 2022-04-04 - 2022-04-09 , Test period 2022-04-09 - 2022-04-11 # train records 5 , # test records 2\n",
      "Train period: 2022-04-06 - 2022-04-11 , Test period 2022-04-11 - 2022-04-13 # train records 5 , # test records 2\n",
      "Train period: 2022-04-08 - 2022-04-13 , Test period 2022-04-13 - 2022-04-15 # train records 5 , # test records 2\n",
      "Train period: 2022-04-10 - 2022-04-15 , Test period 2022-04-15 - 2022-04-17 # train records 5 , # test records 2\n",
      "Train period: 2022-04-12 - 2022-04-17 , Test period 2022-04-17 - 2022-04-19 # train records 5 , # test records 2\n",
      "Train period: 2022-04-14 - 2022-04-19 , Test period 2022-04-19 - 2022-04-21 # train records 5 , # test records 2\n",
      "Train period: 2022-04-16 - 2022-04-21 , Test period 2022-04-21 - 2022-04-23 # train records 5 , # test records 2\n",
      "Train period: 2022-04-18 - 2022-04-23 , Test period 2022-04-23 - 2022-04-25 # train records 5 , # test records 2\n",
      "Train period: 2022-04-20 - 2022-04-25 , Test period 2022-04-25 - 2022-04-27 # train records 5 , # test records 2\n",
      "Train period: 2022-04-22 - 2022-04-27 , Test period 2022-04-27 - 2022-04-29 # train records 5 , # test records 2\n",
      "Train period: 2022-04-24 - 2022-04-29 , Test period 2022-04-29 - 2022-05-01 # train records 5 , # test records 2\n",
      "Train period: 2022-04-26 - 2022-05-01 , Test period 2022-05-01 - 2022-05-03 # train records 5 , # test records 2\n",
      "Train period: 2022-04-28 - 2022-05-03 , Test period 2022-05-03 - 2022-05-05 # train records 5 , # test records 2\n",
      "Train period: 2022-04-30 - 2022-05-05 , Test period 2022-05-05 - 2022-05-07 # train records 5 , # test records 2\n",
      "Train period: 2022-03-27 - 2022-04-01 , Test period 2022-04-01 - 2022-04-03 # train records 5 , # test records 2\n",
      "Train period: 2022-03-29 - 2022-04-03 , Test period 2022-04-03 - 2022-04-05 # train records 5 , # test records 2\n",
      "Train period: 2022-03-31 - 2022-04-05 , Test period 2022-04-05 - 2022-04-07 # train records 5 , # test records 2\n",
      "Train period: 2022-04-02 - 2022-04-07 , Test period 2022-04-07 - 2022-04-09 # train records 5 , # test records 2\n",
      "Train period: 2022-04-04 - 2022-04-09 , Test period 2022-04-09 - 2022-04-11 # train records 5 , # test records 2\n",
      "Train period: 2022-04-06 - 2022-04-11 , Test period 2022-04-11 - 2022-04-13 # train records 5 , # test records 2\n",
      "Train period: 2022-04-08 - 2022-04-13 , Test period 2022-04-13 - 2022-04-15 # train records 5 , # test records 2\n",
      "Train period: 2022-04-10 - 2022-04-15 , Test period 2022-04-15 - 2022-04-17 # train records 5 , # test records 2\n",
      "Train period: 2022-04-12 - 2022-04-17 , Test period 2022-04-17 - 2022-04-19 # train records 5 , # test records 2\n",
      "Train period: 2022-04-14 - 2022-04-19 , Test period 2022-04-19 - 2022-04-21 # train records 5 , # test records 2\n",
      "Train period: 2022-04-16 - 2022-04-21 , Test period 2022-04-21 - 2022-04-23 # train records 5 , # test records 2\n",
      "Train period: 2022-04-18 - 2022-04-23 , Test period 2022-04-23 - 2022-04-25 # train records 5 , # test records 2\n",
      "Train period: 2022-04-20 - 2022-04-25 , Test period 2022-04-25 - 2022-04-27 # train records 5 , # test records 2\n",
      "Train period: 2022-04-22 - 2022-04-27 , Test period 2022-04-27 - 2022-04-29 # train records 5 , # test records 2\n",
      "Train period: 2022-04-24 - 2022-04-29 , Test period 2022-04-29 - 2022-05-01 # train records 5 , # test records 2\n",
      "Train period: 2022-04-26 - 2022-05-01 , Test period 2022-05-01 - 2022-05-03 # train records 5 , # test records 2\n",
      "Train period: 2022-04-28 - 2022-05-03 , Test period 2022-05-03 - 2022-05-05 # train records 5 , # test records 2\n",
      "Train period: 2022-04-30 - 2022-05-05 , Test period 2022-05-05 - 2022-05-07 # train records 5 , # test records 2\n",
      "Fitting 18 folds for each of 1 candidates, totalling 18 fits\n",
      "[LightGBM] [Warning] max_depth is set=-1, max_depth=2 will be ignored. Current value: max_depth=-1\n"
     ]
    },
    {
     "name": "stderr",
     "output_type": "stream",
     "text": [
      "[Parallel(n_jobs=-1)]: Using backend LokyBackend with 8 concurrent workers.\n",
      "[Parallel(n_jobs=-1)]: Done   2 tasks      | elapsed:    0.0s\n",
      "[Parallel(n_jobs=-1)]: Done   7 out of  18 | elapsed:    0.0s remaining:    0.0s\n",
      "[Parallel(n_jobs=-1)]: Done  11 out of  18 | elapsed:    0.0s remaining:    0.0s\n",
      "[Parallel(n_jobs=-1)]: Done  15 out of  18 | elapsed:    0.0s remaining:    0.0s\n",
      "[Parallel(n_jobs=-1)]: Done  18 out of  18 | elapsed:    0.0s finished\n"
     ]
    },
    {
     "data": {
      "text/plain": [
       "{'mean_fit_time': array([0.00833151]),\n",
       " 'std_fit_time': array([0.00242821]),\n",
       " 'mean_score_time': array([0.00372222]),\n",
       " 'std_score_time': array([0.00132622]),\n",
       " 'param_ max_depth': masked_array(data=[2],\n",
       "              mask=[False],\n",
       "        fill_value='?',\n",
       "             dtype=object),\n",
       " 'params': [{' max_depth': 2}],\n",
       " 'split0_test_score': array([-0.15521077]),\n",
       " 'split1_test_score': array([-0.05207993]),\n",
       " 'split2_test_score': array([-4.04679628]),\n",
       " 'split3_test_score': array([-11.70065384]),\n",
       " 'split4_test_score': array([-27.81854482]),\n",
       " 'split5_test_score': array([-10.83297546]),\n",
       " 'split6_test_score': array([-0.42835563]),\n",
       " 'split7_test_score': array([-1.38136641]),\n",
       " 'split8_test_score': array([-0.11890009]),\n",
       " 'split9_test_score': array([-55.09266231]),\n",
       " 'split10_test_score': array([-1.10145874]),\n",
       " 'split11_test_score': array([-24.80909119]),\n",
       " 'split12_test_score': array([-2.3197976]),\n",
       " 'split13_test_score': array([-97.40083511]),\n",
       " 'split14_test_score': array([-14.4294269]),\n",
       " 'split15_test_score': array([-63.29682395]),\n",
       " 'split16_test_score': array([-0.0097667]),\n",
       " 'split17_test_score': array([-13.58575995]),\n",
       " 'mean_test_score': array([-18.25447254]),\n",
       " 'std_test_score': array([26.44916979]),\n",
       " 'rank_test_score': array([1]),\n",
       " 'split0_train_score': array([0.]),\n",
       " 'split1_train_score': array([0.]),\n",
       " 'split2_train_score': array([0.]),\n",
       " 'split3_train_score': array([0.]),\n",
       " 'split4_train_score': array([0.]),\n",
       " 'split5_train_score': array([0.]),\n",
       " 'split6_train_score': array([0.]),\n",
       " 'split7_train_score': array([0.]),\n",
       " 'split8_train_score': array([0.]),\n",
       " 'split9_train_score': array([0.]),\n",
       " 'split10_train_score': array([0.]),\n",
       " 'split11_train_score': array([0.]),\n",
       " 'split12_train_score': array([0.]),\n",
       " 'split13_train_score': array([0.]),\n",
       " 'split14_train_score': array([0.]),\n",
       " 'split15_train_score': array([0.]),\n",
       " 'split16_train_score': array([0.]),\n",
       " 'split17_train_score': array([0.]),\n",
       " 'mean_train_score': array([0.]),\n",
       " 'std_train_score': array([0.])}"
      ]
     },
     "execution_count": 260,
     "metadata": {},
     "output_type": "execute_result"
    }
   ],
   "source": [
    "tscv.get_n_splits()\n",
    "\n",
    "#### Example- compute average test sets score: ####\n",
    "X = future3\n",
    "y = future3['close']\n",
    "\n",
    "\n",
    "scores = []\n",
    "for train_index, test_index in tscv.split(X, validation_split_date=datetime.date(2022,4,1)):\n",
    "    data_train   = X.loc[train_index].drop('Date', axis=1)\n",
    "    target_train = y.loc[train_index]\n",
    "\n",
    "    data_test    = X.loc[test_index].drop('Date', axis=1)\n",
    "    target_test  = y.loc[test_index]\n",
    "\n",
    "    # if needed, do preprocessing here\n",
    "\n",
    "    clf = LinearRegression()\n",
    "    clf.fit(data_train,target_train)\n",
    "\n",
    "    preds = clf.predict(data_test)\n",
    "    \n",
    "    # accuracy for the current fold only    \n",
    "    r2score = clf.score(data_test,target_test)\n",
    "\n",
    "    scores.append(r2score)\n",
    "\n",
    "# this is the average accuracy over all folds\n",
    "average_r2score = np.mean(scores)\n",
    "#### End of example ####\n",
    "\n",
    "\n",
    "tscv = TimeBasedCV(train_period=5, test_period=2)\n",
    "index_output = tscv.split(future3, validation_split_date=datetime.date(2022,4,1))\n",
    "\n",
    "lgbm = LGBMRegressor()\n",
    "\n",
    "lgbmPd = {\" max_depth\": [-1,2]\n",
    "         }\n",
    "\n",
    "model = RandomizedSearchCV(\n",
    "    estimator = lgbm,\n",
    "    param_distributions = lgbmPd,\n",
    "    n_iter = 1,\n",
    "    n_jobs = -1,\n",
    "    iid = True,\n",
    "    cv = index_output,\n",
    "    verbose=5,\n",
    "    pre_dispatch='2*n_jobs',\n",
    "    random_state = None,\n",
    "    return_train_score = True)\n",
    "\n",
    "model.fit(X.drop('Date', axis=1),y)\n",
    "model.cv_results_"
   ]
  },
  {
   "cell_type": "code",
   "execution_count": 261,
   "id": "ce08ad1b",
   "metadata": {},
   "outputs": [],
   "source": [
    "Labels_Test_matic = model.predict(data_test)\n",
    "Labels_Test_matic = pd.DataFrame(Labels_Test_matic)"
   ]
  },
  {
   "cell_type": "code",
   "execution_count": 346,
   "id": "f9db8f58",
   "metadata": {},
   "outputs": [],
   "source": [
    "Labels_Test_matic.round(2).to_csv('matic_pred.csv')"
   ]
  },
  {
   "cell_type": "markdown",
   "id": "2def07c4",
   "metadata": {},
   "source": [
    "# ATOM Pred"
   ]
  },
  {
   "cell_type": "code",
   "execution_count": 263,
   "id": "a926cd6b",
   "metadata": {
    "scrolled": false
   },
   "outputs": [
    {
     "name": "stdout",
     "output_type": "stream",
     "text": [
      "Train period: 2022-03-27 - 2022-04-01 , Test period 2022-04-01 - 2022-04-03 # train records 5 , # test records 2\n",
      "Train period: 2022-03-29 - 2022-04-03 , Test period 2022-04-03 - 2022-04-05 # train records 5 , # test records 2\n",
      "Train period: 2022-03-31 - 2022-04-05 , Test period 2022-04-05 - 2022-04-07 # train records 5 , # test records 2\n",
      "Train period: 2022-04-02 - 2022-04-07 , Test period 2022-04-07 - 2022-04-09 # train records 5 , # test records 2\n",
      "Train period: 2022-04-04 - 2022-04-09 , Test period 2022-04-09 - 2022-04-11 # train records 5 , # test records 2\n",
      "Train period: 2022-04-06 - 2022-04-11 , Test period 2022-04-11 - 2022-04-13 # train records 5 , # test records 2\n",
      "Train period: 2022-04-08 - 2022-04-13 , Test period 2022-04-13 - 2022-04-15 # train records 5 , # test records 2\n",
      "Train period: 2022-04-10 - 2022-04-15 , Test period 2022-04-15 - 2022-04-17 # train records 5 , # test records 2\n",
      "Train period: 2022-04-12 - 2022-04-17 , Test period 2022-04-17 - 2022-04-19 # train records 5 , # test records 2\n",
      "Train period: 2022-04-14 - 2022-04-19 , Test period 2022-04-19 - 2022-04-21 # train records 5 , # test records 2\n",
      "Train period: 2022-04-16 - 2022-04-21 , Test period 2022-04-21 - 2022-04-23 # train records 5 , # test records 2\n",
      "Train period: 2022-04-18 - 2022-04-23 , Test period 2022-04-23 - 2022-04-25 # train records 5 , # test records 2\n",
      "Train period: 2022-04-20 - 2022-04-25 , Test period 2022-04-25 - 2022-04-27 # train records 5 , # test records 2\n",
      "Train period: 2022-04-22 - 2022-04-27 , Test period 2022-04-27 - 2022-04-29 # train records 5 , # test records 2\n",
      "Train period: 2022-04-24 - 2022-04-29 , Test period 2022-04-29 - 2022-05-01 # train records 5 , # test records 2\n",
      "Train period: 2022-04-26 - 2022-05-01 , Test period 2022-05-01 - 2022-05-03 # train records 5 , # test records 2\n",
      "Train period: 2022-04-28 - 2022-05-03 , Test period 2022-05-03 - 2022-05-05 # train records 5 , # test records 2\n",
      "Train period: 2022-04-30 - 2022-05-05 , Test period 2022-05-05 - 2022-05-07 # train records 5 , # test records 2\n",
      "[1109, 1110, 1111, 1112, 1113] [1114, 1115]\n",
      "[1111, 1112, 1113, 1114, 1115] [1116, 1117]\n",
      "[1113, 1114, 1115, 1116, 1117] [1118, 1119]\n",
      "[1115, 1116, 1117, 1118, 1119] [1120, 1121]\n",
      "[1117, 1118, 1119, 1120, 1121] [1122, 1123]\n",
      "[1119, 1120, 1121, 1122, 1123] [1124, 1125]\n",
      "[1121, 1122, 1123, 1124, 1125] [1126, 1127]\n",
      "[1123, 1124, 1125, 1126, 1127] [1128, 1129]\n",
      "[1125, 1126, 1127, 1128, 1129] [1130, 1131]\n",
      "[1127, 1128, 1129, 1130, 1131] [1132, 1133]\n",
      "[1129, 1130, 1131, 1132, 1133] [1134, 1135]\n",
      "[1131, 1132, 1133, 1134, 1135] [1136, 1137]\n",
      "[1133, 1134, 1135, 1136, 1137] [1138, 1139]\n",
      "[1135, 1136, 1137, 1138, 1139] [1140, 1141]\n",
      "[1137, 1138, 1139, 1140, 1141] [1142, 1143]\n",
      "[1139, 1140, 1141, 1142, 1143] [1144, 1145]\n",
      "[1141, 1142, 1143, 1144, 1145] [1146, 1147]\n",
      "[1143, 1144, 1145, 1146, 1147] [1148, 1149]\n"
     ]
    }
   ],
   "source": [
    "tscv = TimeBasedCV(train_period=5,\n",
    "                   test_period=2,\n",
    "                   freq='days')\n",
    "for train_index, test_index in tscv.split(df_atom,\n",
    "                   validation_split_date=datetime.date(2022,4,1), date_column='Date'):\n",
    "    print(train_index, test_index)"
   ]
  },
  {
   "cell_type": "code",
   "execution_count": 264,
   "id": "21aa113e",
   "metadata": {},
   "outputs": [],
   "source": [
    "future3 = pd.concat([df_atom,date_list])\n",
    "future3=future3.drop(['crypto'], axis=1)"
   ]
  },
  {
   "cell_type": "code",
   "execution_count": 265,
   "id": "375bce7a",
   "metadata": {},
   "outputs": [],
   "source": [
    "future3=future3.reset_index(drop=True)"
   ]
  },
  {
   "cell_type": "code",
   "execution_count": 266,
   "id": "babf9893",
   "metadata": {
    "scrolled": true
   },
   "outputs": [
    {
     "name": "stdout",
     "output_type": "stream",
     "text": [
      "Train period: 2022-03-27 - 2022-04-01 , Test period 2022-04-01 - 2022-04-03 # train records 5 , # test records 2\n",
      "Train period: 2022-03-29 - 2022-04-03 , Test period 2022-04-03 - 2022-04-05 # train records 5 , # test records 2\n",
      "Train period: 2022-03-31 - 2022-04-05 , Test period 2022-04-05 - 2022-04-07 # train records 5 , # test records 2\n",
      "Train period: 2022-04-02 - 2022-04-07 , Test period 2022-04-07 - 2022-04-09 # train records 5 , # test records 2\n",
      "Train period: 2022-04-04 - 2022-04-09 , Test period 2022-04-09 - 2022-04-11 # train records 5 , # test records 2\n",
      "Train period: 2022-04-06 - 2022-04-11 , Test period 2022-04-11 - 2022-04-13 # train records 5 , # test records 2\n",
      "Train period: 2022-04-08 - 2022-04-13 , Test period 2022-04-13 - 2022-04-15 # train records 5 , # test records 2\n",
      "Train period: 2022-04-10 - 2022-04-15 , Test period 2022-04-15 - 2022-04-17 # train records 5 , # test records 2\n",
      "Train period: 2022-04-12 - 2022-04-17 , Test period 2022-04-17 - 2022-04-19 # train records 5 , # test records 2\n",
      "Train period: 2022-04-14 - 2022-04-19 , Test period 2022-04-19 - 2022-04-21 # train records 5 , # test records 2\n",
      "Train period: 2022-04-16 - 2022-04-21 , Test period 2022-04-21 - 2022-04-23 # train records 5 , # test records 2\n",
      "Train period: 2022-04-18 - 2022-04-23 , Test period 2022-04-23 - 2022-04-25 # train records 5 , # test records 2\n",
      "Train period: 2022-04-20 - 2022-04-25 , Test period 2022-04-25 - 2022-04-27 # train records 5 , # test records 2\n",
      "Train period: 2022-04-22 - 2022-04-27 , Test period 2022-04-27 - 2022-04-29 # train records 5 , # test records 2\n",
      "Train period: 2022-04-24 - 2022-04-29 , Test period 2022-04-29 - 2022-05-01 # train records 5 , # test records 2\n",
      "Train period: 2022-04-26 - 2022-05-01 , Test period 2022-05-01 - 2022-05-03 # train records 5 , # test records 2\n",
      "Train period: 2022-04-28 - 2022-05-03 , Test period 2022-05-03 - 2022-05-05 # train records 5 , # test records 2\n",
      "Train period: 2022-04-30 - 2022-05-05 , Test period 2022-05-05 - 2022-05-07 # train records 5 , # test records 2\n",
      "Train period: 2022-03-27 - 2022-04-01 , Test period 2022-04-01 - 2022-04-03 # train records 5 , # test records 2\n",
      "Train period: 2022-03-29 - 2022-04-03 , Test period 2022-04-03 - 2022-04-05 # train records 5 , # test records 2\n",
      "Train period: 2022-03-31 - 2022-04-05 , Test period 2022-04-05 - 2022-04-07 # train records 5 , # test records 2\n",
      "Train period: 2022-04-02 - 2022-04-07 , Test period 2022-04-07 - 2022-04-09 # train records 5 , # test records 2\n",
      "Train period: 2022-04-04 - 2022-04-09 , Test period 2022-04-09 - 2022-04-11 # train records 5 , # test records 2\n",
      "Train period: 2022-04-06 - 2022-04-11 , Test period 2022-04-11 - 2022-04-13 # train records 5 , # test records 2\n",
      "Train period: 2022-04-08 - 2022-04-13 , Test period 2022-04-13 - 2022-04-15 # train records 5 , # test records 2\n",
      "Train period: 2022-04-10 - 2022-04-15 , Test period 2022-04-15 - 2022-04-17 # train records 5 , # test records 2\n",
      "Train period: 2022-04-12 - 2022-04-17 , Test period 2022-04-17 - 2022-04-19 # train records 5 , # test records 2\n",
      "Train period: 2022-04-14 - 2022-04-19 , Test period 2022-04-19 - 2022-04-21 # train records 5 , # test records 2\n",
      "Train period: 2022-04-16 - 2022-04-21 , Test period 2022-04-21 - 2022-04-23 # train records 5 , # test records 2\n",
      "Train period: 2022-04-18 - 2022-04-23 , Test period 2022-04-23 - 2022-04-25 # train records 5 , # test records 2\n",
      "Train period: 2022-04-20 - 2022-04-25 , Test period 2022-04-25 - 2022-04-27 # train records 5 , # test records 2\n",
      "Train period: 2022-04-22 - 2022-04-27 , Test period 2022-04-27 - 2022-04-29 # train records 5 , # test records 2\n",
      "Train period: 2022-04-24 - 2022-04-29 , Test period 2022-04-29 - 2022-05-01 # train records 5 , # test records 2\n",
      "Train period: 2022-04-26 - 2022-05-01 , Test period 2022-05-01 - 2022-05-03 # train records 5 , # test records 2\n",
      "Train period: 2022-04-28 - 2022-05-03 , Test period 2022-05-03 - 2022-05-05 # train records 5 , # test records 2\n",
      "Train period: 2022-04-30 - 2022-05-05 , Test period 2022-05-05 - 2022-05-07 # train records 5 , # test records 2\n",
      "Fitting 18 folds for each of 1 candidates, totalling 18 fits\n",
      "[LightGBM] [Warning] max_depth is set=-1, max_depth=-1 will be ignored. Current value: max_depth=-1\n"
     ]
    },
    {
     "name": "stderr",
     "output_type": "stream",
     "text": [
      "[Parallel(n_jobs=-1)]: Using backend LokyBackend with 8 concurrent workers.\n",
      "[Parallel(n_jobs=-1)]: Done   2 tasks      | elapsed:    0.0s\n",
      "[Parallel(n_jobs=-1)]: Done   7 out of  18 | elapsed:    0.0s remaining:    0.0s\n",
      "[Parallel(n_jobs=-1)]: Done  11 out of  18 | elapsed:    0.0s remaining:    0.0s\n",
      "[Parallel(n_jobs=-1)]: Done  15 out of  18 | elapsed:    0.0s remaining:    0.0s\n",
      "[Parallel(n_jobs=-1)]: Done  18 out of  18 | elapsed:    0.0s finished\n"
     ]
    },
    {
     "data": {
      "text/plain": [
       "{'mean_fit_time': array([0.00816702]),\n",
       " 'std_fit_time': array([0.00183424]),\n",
       " 'mean_score_time': array([0.00316611]),\n",
       " 'std_score_time': array([0.00142533]),\n",
       " 'param_ max_depth': masked_array(data=[-1],\n",
       "              mask=[False],\n",
       "        fill_value='?',\n",
       "             dtype=object),\n",
       " 'params': [{' max_depth': -1}],\n",
       " 'split0_test_score': array([-0.44121735]),\n",
       " 'split1_test_score': array([-7.0318838]),\n",
       " 'split2_test_score': array([-3.8853994]),\n",
       " 'split3_test_score': array([-43.34930067]),\n",
       " 'split4_test_score': array([-16.68041206]),\n",
       " 'split5_test_score': array([-44.1189992]),\n",
       " 'split6_test_score': array([-16.77513127]),\n",
       " 'split7_test_score': array([-178.50092693]),\n",
       " 'split8_test_score': array([-2.93022946]),\n",
       " 'split9_test_score': array([-9.44985623]),\n",
       " 'split10_test_score': array([-69.4793916]),\n",
       " 'split11_test_score': array([-5.23949972]),\n",
       " 'split12_test_score': array([-5.09875184]),\n",
       " 'split13_test_score': array([-8.625769]),\n",
       " 'split14_test_score': array([-11.6962479]),\n",
       " 'split15_test_score': array([-378.23321967]),\n",
       " 'split16_test_score': array([-0.00238384]),\n",
       " 'split17_test_score': array([-28.050554]),\n",
       " 'mean_test_score': array([-46.08828744]),\n",
       " 'std_test_score': array([90.40507416]),\n",
       " 'rank_test_score': array([1]),\n",
       " 'split0_train_score': array([0.]),\n",
       " 'split1_train_score': array([0.]),\n",
       " 'split2_train_score': array([0.]),\n",
       " 'split3_train_score': array([0.]),\n",
       " 'split4_train_score': array([0.]),\n",
       " 'split5_train_score': array([0.]),\n",
       " 'split6_train_score': array([0.]),\n",
       " 'split7_train_score': array([0.]),\n",
       " 'split8_train_score': array([0.]),\n",
       " 'split9_train_score': array([0.]),\n",
       " 'split10_train_score': array([0.]),\n",
       " 'split11_train_score': array([0.]),\n",
       " 'split12_train_score': array([0.]),\n",
       " 'split13_train_score': array([0.]),\n",
       " 'split14_train_score': array([0.]),\n",
       " 'split15_train_score': array([0.]),\n",
       " 'split16_train_score': array([0.]),\n",
       " 'split17_train_score': array([0.]),\n",
       " 'mean_train_score': array([0.]),\n",
       " 'std_train_score': array([0.])}"
      ]
     },
     "execution_count": 266,
     "metadata": {},
     "output_type": "execute_result"
    }
   ],
   "source": [
    "tscv.get_n_splits()\n",
    "\n",
    "#### Example- compute average test sets score: ####\n",
    "X = future3\n",
    "y = future3['close']\n",
    "\n",
    "\n",
    "scores = []\n",
    "for train_index, test_index in tscv.split(X, validation_split_date=datetime.date(2022,4,1)):\n",
    "    data_train   = X.loc[train_index].drop('Date', axis=1)\n",
    "    target_train = y.loc[train_index]\n",
    "\n",
    "    data_test    = X.loc[test_index].drop('Date', axis=1)\n",
    "    target_test  = y.loc[test_index]\n",
    "\n",
    "    # if needed, do preprocessing here\n",
    "\n",
    "    clf = LinearRegression()\n",
    "    clf.fit(data_train,target_train)\n",
    "\n",
    "    preds = clf.predict(data_test)\n",
    "    \n",
    "    # accuracy for the current fold only    \n",
    "    r2score = clf.score(data_test,target_test)\n",
    "\n",
    "    scores.append(r2score)\n",
    "\n",
    "# this is the average accuracy over all folds\n",
    "average_r2score = np.mean(scores)\n",
    "#### End of example ####\n",
    "\n",
    "\n",
    "tscv = TimeBasedCV(train_period=5, test_period=2)\n",
    "index_output = tscv.split(future3, validation_split_date=datetime.date(2022,4,1))\n",
    "\n",
    "lgbm = LGBMRegressor()\n",
    "\n",
    "lgbmPd = {\" max_depth\": [-1,2]\n",
    "         }\n",
    "\n",
    "model = RandomizedSearchCV(\n",
    "    estimator = lgbm,\n",
    "    param_distributions = lgbmPd,\n",
    "    n_iter = 1,\n",
    "    n_jobs = -1,\n",
    "    iid = True,\n",
    "    cv = index_output,\n",
    "    verbose=5,\n",
    "    pre_dispatch='2*n_jobs',\n",
    "    random_state = None,\n",
    "    return_train_score = True)\n",
    "\n",
    "model.fit(X.drop('Date', axis=1),y)\n",
    "model.cv_results_"
   ]
  },
  {
   "cell_type": "code",
   "execution_count": 267,
   "id": "1f5f164c",
   "metadata": {},
   "outputs": [],
   "source": [
    "Labels_Test_atom = model.predict(data_test)\n",
    "Labels_Test_atom = pd.DataFrame(Labels_Test_atom)"
   ]
  },
  {
   "cell_type": "code",
   "execution_count": 347,
   "id": "31bb47df",
   "metadata": {},
   "outputs": [],
   "source": [
    "Labels_Test_atom.round(2).to_csv('atom_pred.csv')"
   ]
  },
  {
   "cell_type": "markdown",
   "id": "7d4d5877",
   "metadata": {},
   "source": [
    "# SOL Pred"
   ]
  },
  {
   "cell_type": "code",
   "execution_count": 269,
   "id": "3e761a6f",
   "metadata": {
    "scrolled": false
   },
   "outputs": [
    {
     "name": "stdout",
     "output_type": "stream",
     "text": [
      "Train period: 2022-03-27 - 2022-04-01 , Test period 2022-04-01 - 2022-04-03 # train records 5 , # test records 2\n",
      "Train period: 2022-03-29 - 2022-04-03 , Test period 2022-04-03 - 2022-04-05 # train records 5 , # test records 2\n",
      "Train period: 2022-03-31 - 2022-04-05 , Test period 2022-04-05 - 2022-04-07 # train records 5 , # test records 2\n",
      "Train period: 2022-04-02 - 2022-04-07 , Test period 2022-04-07 - 2022-04-09 # train records 5 , # test records 2\n",
      "Train period: 2022-04-04 - 2022-04-09 , Test period 2022-04-09 - 2022-04-11 # train records 5 , # test records 2\n",
      "Train period: 2022-04-06 - 2022-04-11 , Test period 2022-04-11 - 2022-04-13 # train records 5 , # test records 2\n",
      "Train period: 2022-04-08 - 2022-04-13 , Test period 2022-04-13 - 2022-04-15 # train records 5 , # test records 2\n",
      "Train period: 2022-04-10 - 2022-04-15 , Test period 2022-04-15 - 2022-04-17 # train records 5 , # test records 2\n",
      "Train period: 2022-04-12 - 2022-04-17 , Test period 2022-04-17 - 2022-04-19 # train records 5 , # test records 2\n",
      "Train period: 2022-04-14 - 2022-04-19 , Test period 2022-04-19 - 2022-04-21 # train records 5 , # test records 2\n",
      "Train period: 2022-04-16 - 2022-04-21 , Test period 2022-04-21 - 2022-04-23 # train records 5 , # test records 2\n",
      "Train period: 2022-04-18 - 2022-04-23 , Test period 2022-04-23 - 2022-04-25 # train records 5 , # test records 2\n",
      "Train period: 2022-04-20 - 2022-04-25 , Test period 2022-04-25 - 2022-04-27 # train records 5 , # test records 2\n",
      "Train period: 2022-04-22 - 2022-04-27 , Test period 2022-04-27 - 2022-04-29 # train records 5 , # test records 2\n",
      "Train period: 2022-04-24 - 2022-04-29 , Test period 2022-04-29 - 2022-05-01 # train records 5 , # test records 2\n",
      "Train period: 2022-04-26 - 2022-05-01 , Test period 2022-05-01 - 2022-05-03 # train records 5 , # test records 2\n",
      "Train period: 2022-04-28 - 2022-05-03 , Test period 2022-05-03 - 2022-05-05 # train records 5 , # test records 2\n",
      "Train period: 2022-04-30 - 2022-05-05 , Test period 2022-05-05 - 2022-05-07 # train records 5 , # test records 2\n",
      "[716, 717, 718, 719, 720] [721, 722]\n",
      "[718, 719, 720, 721, 722] [723, 724]\n",
      "[720, 721, 722, 723, 724] [725, 726]\n",
      "[722, 723, 724, 725, 726] [727, 728]\n",
      "[724, 725, 726, 727, 728] [729, 730]\n",
      "[726, 727, 728, 729, 730] [731, 732]\n",
      "[728, 729, 730, 731, 732] [733, 734]\n",
      "[730, 731, 732, 733, 734] [735, 736]\n",
      "[732, 733, 734, 735, 736] [737, 738]\n",
      "[734, 735, 736, 737, 738] [739, 740]\n",
      "[736, 737, 738, 739, 740] [741, 742]\n",
      "[738, 739, 740, 741, 742] [743, 744]\n",
      "[740, 741, 742, 743, 744] [745, 746]\n",
      "[742, 743, 744, 745, 746] [747, 748]\n",
      "[744, 745, 746, 747, 748] [749, 750]\n",
      "[746, 747, 748, 749, 750] [751, 752]\n",
      "[748, 749, 750, 751, 752] [753, 754]\n",
      "[750, 751, 752, 753, 754] [755, 756]\n"
     ]
    }
   ],
   "source": [
    "tscv = TimeBasedCV(train_period=5,\n",
    "                   test_period=2,\n",
    "                   freq='days')\n",
    "for train_index, test_index in tscv.split(df_sol,\n",
    "                   validation_split_date=datetime.date(2022,4,1), date_column='Date'):\n",
    "    print(train_index, test_index)"
   ]
  },
  {
   "cell_type": "code",
   "execution_count": 270,
   "id": "d44d8e65",
   "metadata": {},
   "outputs": [],
   "source": [
    "future3 = pd.concat([df_sol,date_list])\n",
    "future3=future3.drop(['crypto'], axis=1)"
   ]
  },
  {
   "cell_type": "code",
   "execution_count": 271,
   "id": "6b1cab43",
   "metadata": {},
   "outputs": [],
   "source": [
    "future3=future3.reset_index(drop=True)"
   ]
  },
  {
   "cell_type": "code",
   "execution_count": 272,
   "id": "75f7b9c1",
   "metadata": {},
   "outputs": [
    {
     "name": "stdout",
     "output_type": "stream",
     "text": [
      "Train period: 2022-03-27 - 2022-04-01 , Test period 2022-04-01 - 2022-04-03 # train records 5 , # test records 2\n",
      "Train period: 2022-03-29 - 2022-04-03 , Test period 2022-04-03 - 2022-04-05 # train records 5 , # test records 2\n",
      "Train period: 2022-03-31 - 2022-04-05 , Test period 2022-04-05 - 2022-04-07 # train records 5 , # test records 2\n",
      "Train period: 2022-04-02 - 2022-04-07 , Test period 2022-04-07 - 2022-04-09 # train records 5 , # test records 2\n",
      "Train period: 2022-04-04 - 2022-04-09 , Test period 2022-04-09 - 2022-04-11 # train records 5 , # test records 2\n",
      "Train period: 2022-04-06 - 2022-04-11 , Test period 2022-04-11 - 2022-04-13 # train records 5 , # test records 2\n",
      "Train period: 2022-04-08 - 2022-04-13 , Test period 2022-04-13 - 2022-04-15 # train records 5 , # test records 2\n",
      "Train period: 2022-04-10 - 2022-04-15 , Test period 2022-04-15 - 2022-04-17 # train records 5 , # test records 2\n",
      "Train period: 2022-04-12 - 2022-04-17 , Test period 2022-04-17 - 2022-04-19 # train records 5 , # test records 2\n",
      "Train period: 2022-04-14 - 2022-04-19 , Test period 2022-04-19 - 2022-04-21 # train records 5 , # test records 2\n",
      "Train period: 2022-04-16 - 2022-04-21 , Test period 2022-04-21 - 2022-04-23 # train records 5 , # test records 2\n",
      "Train period: 2022-04-18 - 2022-04-23 , Test period 2022-04-23 - 2022-04-25 # train records 5 , # test records 2\n",
      "Train period: 2022-04-20 - 2022-04-25 , Test period 2022-04-25 - 2022-04-27 # train records 5 , # test records 2\n",
      "Train period: 2022-04-22 - 2022-04-27 , Test period 2022-04-27 - 2022-04-29 # train records 5 , # test records 2\n",
      "Train period: 2022-04-24 - 2022-04-29 , Test period 2022-04-29 - 2022-05-01 # train records 5 , # test records 2\n",
      "Train period: 2022-04-26 - 2022-05-01 , Test period 2022-05-01 - 2022-05-03 # train records 5 , # test records 2\n",
      "Train period: 2022-04-28 - 2022-05-03 , Test period 2022-05-03 - 2022-05-05 # train records 5 , # test records 2\n",
      "Train period: 2022-04-30 - 2022-05-05 , Test period 2022-05-05 - 2022-05-07 # train records 5 , # test records 2\n",
      "Train period: 2022-03-27 - 2022-04-01 , Test period 2022-04-01 - 2022-04-03 # train records 5 , # test records 2\n",
      "Train period: 2022-03-29 - 2022-04-03 , Test period 2022-04-03 - 2022-04-05 # train records 5 , # test records 2\n",
      "Train period: 2022-03-31 - 2022-04-05 , Test period 2022-04-05 - 2022-04-07 # train records 5 , # test records 2\n",
      "Train period: 2022-04-02 - 2022-04-07 , Test period 2022-04-07 - 2022-04-09 # train records 5 , # test records 2\n",
      "Train period: 2022-04-04 - 2022-04-09 , Test period 2022-04-09 - 2022-04-11 # train records 5 , # test records 2\n",
      "Train period: 2022-04-06 - 2022-04-11 , Test period 2022-04-11 - 2022-04-13 # train records 5 , # test records 2\n",
      "Train period: 2022-04-08 - 2022-04-13 , Test period 2022-04-13 - 2022-04-15 # train records 5 , # test records 2\n",
      "Train period: 2022-04-10 - 2022-04-15 , Test period 2022-04-15 - 2022-04-17 # train records 5 , # test records 2\n",
      "Train period: 2022-04-12 - 2022-04-17 , Test period 2022-04-17 - 2022-04-19 # train records 5 , # test records 2\n",
      "Train period: 2022-04-14 - 2022-04-19 , Test period 2022-04-19 - 2022-04-21 # train records 5 , # test records 2\n",
      "Train period: 2022-04-16 - 2022-04-21 , Test period 2022-04-21 - 2022-04-23 # train records 5 , # test records 2\n",
      "Train period: 2022-04-18 - 2022-04-23 , Test period 2022-04-23 - 2022-04-25 # train records 5 , # test records 2\n",
      "Train period: 2022-04-20 - 2022-04-25 , Test period 2022-04-25 - 2022-04-27 # train records 5 , # test records 2\n",
      "Train period: 2022-04-22 - 2022-04-27 , Test period 2022-04-27 - 2022-04-29 # train records 5 , # test records 2\n",
      "Train period: 2022-04-24 - 2022-04-29 , Test period 2022-04-29 - 2022-05-01 # train records 5 , # test records 2\n",
      "Train period: 2022-04-26 - 2022-05-01 , Test period 2022-05-01 - 2022-05-03 # train records 5 , # test records 2\n",
      "Train period: 2022-04-28 - 2022-05-03 , Test period 2022-05-03 - 2022-05-05 # train records 5 , # test records 2\n",
      "Train period: 2022-04-30 - 2022-05-05 , Test period 2022-05-05 - 2022-05-07 # train records 5 , # test records 2\n",
      "Fitting 18 folds for each of 1 candidates, totalling 18 fits\n",
      "[LightGBM] [Warning] max_depth is set=-1, max_depth=2 will be ignored. Current value: max_depth=-1\n"
     ]
    },
    {
     "name": "stderr",
     "output_type": "stream",
     "text": [
      "[Parallel(n_jobs=-1)]: Using backend LokyBackend with 8 concurrent workers.\n",
      "[Parallel(n_jobs=-1)]: Done   2 tasks      | elapsed:    0.0s\n",
      "[Parallel(n_jobs=-1)]: Done   7 out of  18 | elapsed:    0.0s remaining:    0.0s\n",
      "[Parallel(n_jobs=-1)]: Done  11 out of  18 | elapsed:    0.0s remaining:    0.0s\n",
      "[Parallel(n_jobs=-1)]: Done  15 out of  18 | elapsed:    0.0s remaining:    0.0s\n",
      "[Parallel(n_jobs=-1)]: Done  18 out of  18 | elapsed:    0.0s finished\n"
     ]
    },
    {
     "data": {
      "text/plain": [
       "{'mean_fit_time': array([0.00660977]),\n",
       " 'std_fit_time': array([0.00173818]),\n",
       " 'mean_score_time': array([0.00366721]),\n",
       " 'std_score_time': array([0.00124847]),\n",
       " 'param_ max_depth': masked_array(data=[2],\n",
       "              mask=[False],\n",
       "        fill_value='?',\n",
       "             dtype=object),\n",
       " 'params': [{' max_depth': 2}],\n",
       " 'split0_test_score': array([-308.13881819]),\n",
       " 'split1_test_score': array([-22.09610897]),\n",
       " 'split2_test_score': array([-2.8613761]),\n",
       " 'split3_test_score': array([-9.58872176]),\n",
       " 'split4_test_score': array([-160.49669727]),\n",
       " 'split5_test_score': array([-36.08838341]),\n",
       " 'split6_test_score': array([-4.54520624]),\n",
       " 'split7_test_score': array([-22.27430179]),\n",
       " 'split8_test_score': array([-1.98682284]),\n",
       " 'split9_test_score': array([-13.51587004]),\n",
       " 'split10_test_score': array([-19.75253362]),\n",
       " 'split11_test_score': array([-24.51747437]),\n",
       " 'split12_test_score': array([-1.25236886]),\n",
       " 'split13_test_score': array([-165.44269952]),\n",
       " 'split14_test_score': array([-4.08749935]),\n",
       " 'split15_test_score': array([-29.36922797]),\n",
       " 'split16_test_score': array([-0.21398177]),\n",
       " 'split17_test_score': array([-12.53049564]),\n",
       " 'mean_test_score': array([-46.59769932]),\n",
       " 'std_test_score': array([79.44918483]),\n",
       " 'rank_test_score': array([1]),\n",
       " 'split0_train_score': array([0.]),\n",
       " 'split1_train_score': array([0.]),\n",
       " 'split2_train_score': array([0.]),\n",
       " 'split3_train_score': array([0.]),\n",
       " 'split4_train_score': array([0.]),\n",
       " 'split5_train_score': array([0.]),\n",
       " 'split6_train_score': array([0.]),\n",
       " 'split7_train_score': array([0.]),\n",
       " 'split8_train_score': array([0.]),\n",
       " 'split9_train_score': array([0.]),\n",
       " 'split10_train_score': array([0.]),\n",
       " 'split11_train_score': array([0.]),\n",
       " 'split12_train_score': array([0.]),\n",
       " 'split13_train_score': array([0.]),\n",
       " 'split14_train_score': array([0.]),\n",
       " 'split15_train_score': array([0.]),\n",
       " 'split16_train_score': array([0.]),\n",
       " 'split17_train_score': array([0.]),\n",
       " 'mean_train_score': array([0.]),\n",
       " 'std_train_score': array([0.])}"
      ]
     },
     "execution_count": 272,
     "metadata": {},
     "output_type": "execute_result"
    }
   ],
   "source": [
    "tscv.get_n_splits()\n",
    "\n",
    "#### Example- compute average test sets score: ####\n",
    "X = future3\n",
    "y = future3['close']\n",
    "\n",
    "\n",
    "scores = []\n",
    "for train_index, test_index in tscv.split(X, validation_split_date=datetime.date(2022,4,1)):\n",
    "    data_train   = X.loc[train_index].drop('Date', axis=1)\n",
    "    target_train = y.loc[train_index]\n",
    "\n",
    "    data_test    = X.loc[test_index].drop('Date', axis=1)\n",
    "    target_test  = y.loc[test_index]\n",
    "\n",
    "    # if needed, do preprocessing here\n",
    "\n",
    "    clf = LinearRegression()\n",
    "    clf.fit(data_train,target_train)\n",
    "\n",
    "    preds = clf.predict(data_test)\n",
    "    \n",
    "    # accuracy for the current fold only    \n",
    "    r2score = clf.score(data_test,target_test)\n",
    "\n",
    "    scores.append(r2score)\n",
    "\n",
    "# this is the average accuracy over all folds\n",
    "average_r2score = np.mean(scores)\n",
    "#### End of example ####\n",
    "\n",
    "\n",
    "tscv = TimeBasedCV(train_period=5, test_period=2)\n",
    "index_output = tscv.split(future3, validation_split_date=datetime.date(2022,4,1))\n",
    "\n",
    "lgbm = LGBMRegressor()\n",
    "\n",
    "lgbmPd = {\" max_depth\": [-1,2]\n",
    "         }\n",
    "\n",
    "model = RandomizedSearchCV(\n",
    "    estimator = lgbm,\n",
    "    param_distributions = lgbmPd,\n",
    "    n_iter = 1,\n",
    "    n_jobs = -1,\n",
    "    iid = True,\n",
    "    cv = index_output,\n",
    "    verbose=5,\n",
    "    pre_dispatch='2*n_jobs',\n",
    "    random_state = None,\n",
    "    return_train_score = True)\n",
    "\n",
    "model.fit(X.drop('Date', axis=1),y)\n",
    "model.cv_results_"
   ]
  },
  {
   "cell_type": "code",
   "execution_count": 273,
   "id": "06c587d9",
   "metadata": {},
   "outputs": [],
   "source": [
    "Labels_Test_sol = model.predict(data_test)\n",
    "Labels_Test_sol = pd.DataFrame(Labels_Test_sol)"
   ]
  },
  {
   "cell_type": "code",
   "execution_count": 348,
   "id": "394416e4",
   "metadata": {},
   "outputs": [],
   "source": [
    "Labels_Test_sol.round(2).to_csv('sol_pred.csv')"
   ]
  },
  {
   "cell_type": "code",
   "execution_count": 310,
   "id": "c85a11ea",
   "metadata": {
    "scrolled": true
   },
   "outputs": [
    {
     "data": {
      "application/vnd.plotly.v1+json": {
       "config": {
        "plotlyServerURL": "https://plot.ly"
       },
       "data": [
        {
         "delta": {
          "reference": 35
         },
         "domain": {
          "x": [
           0,
           1
          ],
          "y": [
           0,
           1
          ]
         },
         "gauge": {
          "axis": {
           "range": [
            null,
            100
           ]
          },
          "bar": {
           "color": "darkblue"
          },
          "steps": [
           {
            "color": "darkgreen",
            "range": [
             0,
             30
            ]
           },
           {
            "color": "crimson",
            "range": [
             70,
             100
            ]
           }
          ],
          "threshold": {
           "line": {
            "color": "red",
            "width": 4
           },
           "thickness": 0.75,
           "value": 490
          }
         },
         "mode": "gauge+number+delta",
         "title": {
          "text": "RSI"
         },
         "type": "indicator",
         "value": 32
        }
       ],
       "layout": {
        "template": {
         "data": {
          "bar": [
           {
            "error_x": {
             "color": "#2a3f5f"
            },
            "error_y": {
             "color": "#2a3f5f"
            },
            "marker": {
             "line": {
              "color": "#E5ECF6",
              "width": 0.5
             }
            },
            "type": "bar"
           }
          ],
          "barpolar": [
           {
            "marker": {
             "line": {
              "color": "#E5ECF6",
              "width": 0.5
             }
            },
            "type": "barpolar"
           }
          ],
          "carpet": [
           {
            "aaxis": {
             "endlinecolor": "#2a3f5f",
             "gridcolor": "white",
             "linecolor": "white",
             "minorgridcolor": "white",
             "startlinecolor": "#2a3f5f"
            },
            "baxis": {
             "endlinecolor": "#2a3f5f",
             "gridcolor": "white",
             "linecolor": "white",
             "minorgridcolor": "white",
             "startlinecolor": "#2a3f5f"
            },
            "type": "carpet"
           }
          ],
          "choropleth": [
           {
            "colorbar": {
             "outlinewidth": 0,
             "ticks": ""
            },
            "type": "choropleth"
           }
          ],
          "contour": [
           {
            "colorbar": {
             "outlinewidth": 0,
             "ticks": ""
            },
            "colorscale": [
             [
              0,
              "#0d0887"
             ],
             [
              0.1111111111111111,
              "#46039f"
             ],
             [
              0.2222222222222222,
              "#7201a8"
             ],
             [
              0.3333333333333333,
              "#9c179e"
             ],
             [
              0.4444444444444444,
              "#bd3786"
             ],
             [
              0.5555555555555556,
              "#d8576b"
             ],
             [
              0.6666666666666666,
              "#ed7953"
             ],
             [
              0.7777777777777778,
              "#fb9f3a"
             ],
             [
              0.8888888888888888,
              "#fdca26"
             ],
             [
              1,
              "#f0f921"
             ]
            ],
            "type": "contour"
           }
          ],
          "contourcarpet": [
           {
            "colorbar": {
             "outlinewidth": 0,
             "ticks": ""
            },
            "type": "contourcarpet"
           }
          ],
          "heatmap": [
           {
            "colorbar": {
             "outlinewidth": 0,
             "ticks": ""
            },
            "colorscale": [
             [
              0,
              "#0d0887"
             ],
             [
              0.1111111111111111,
              "#46039f"
             ],
             [
              0.2222222222222222,
              "#7201a8"
             ],
             [
              0.3333333333333333,
              "#9c179e"
             ],
             [
              0.4444444444444444,
              "#bd3786"
             ],
             [
              0.5555555555555556,
              "#d8576b"
             ],
             [
              0.6666666666666666,
              "#ed7953"
             ],
             [
              0.7777777777777778,
              "#fb9f3a"
             ],
             [
              0.8888888888888888,
              "#fdca26"
             ],
             [
              1,
              "#f0f921"
             ]
            ],
            "type": "heatmap"
           }
          ],
          "heatmapgl": [
           {
            "colorbar": {
             "outlinewidth": 0,
             "ticks": ""
            },
            "colorscale": [
             [
              0,
              "#0d0887"
             ],
             [
              0.1111111111111111,
              "#46039f"
             ],
             [
              0.2222222222222222,
              "#7201a8"
             ],
             [
              0.3333333333333333,
              "#9c179e"
             ],
             [
              0.4444444444444444,
              "#bd3786"
             ],
             [
              0.5555555555555556,
              "#d8576b"
             ],
             [
              0.6666666666666666,
              "#ed7953"
             ],
             [
              0.7777777777777778,
              "#fb9f3a"
             ],
             [
              0.8888888888888888,
              "#fdca26"
             ],
             [
              1,
              "#f0f921"
             ]
            ],
            "type": "heatmapgl"
           }
          ],
          "histogram": [
           {
            "marker": {
             "colorbar": {
              "outlinewidth": 0,
              "ticks": ""
             }
            },
            "type": "histogram"
           }
          ],
          "histogram2d": [
           {
            "colorbar": {
             "outlinewidth": 0,
             "ticks": ""
            },
            "colorscale": [
             [
              0,
              "#0d0887"
             ],
             [
              0.1111111111111111,
              "#46039f"
             ],
             [
              0.2222222222222222,
              "#7201a8"
             ],
             [
              0.3333333333333333,
              "#9c179e"
             ],
             [
              0.4444444444444444,
              "#bd3786"
             ],
             [
              0.5555555555555556,
              "#d8576b"
             ],
             [
              0.6666666666666666,
              "#ed7953"
             ],
             [
              0.7777777777777778,
              "#fb9f3a"
             ],
             [
              0.8888888888888888,
              "#fdca26"
             ],
             [
              1,
              "#f0f921"
             ]
            ],
            "type": "histogram2d"
           }
          ],
          "histogram2dcontour": [
           {
            "colorbar": {
             "outlinewidth": 0,
             "ticks": ""
            },
            "colorscale": [
             [
              0,
              "#0d0887"
             ],
             [
              0.1111111111111111,
              "#46039f"
             ],
             [
              0.2222222222222222,
              "#7201a8"
             ],
             [
              0.3333333333333333,
              "#9c179e"
             ],
             [
              0.4444444444444444,
              "#bd3786"
             ],
             [
              0.5555555555555556,
              "#d8576b"
             ],
             [
              0.6666666666666666,
              "#ed7953"
             ],
             [
              0.7777777777777778,
              "#fb9f3a"
             ],
             [
              0.8888888888888888,
              "#fdca26"
             ],
             [
              1,
              "#f0f921"
             ]
            ],
            "type": "histogram2dcontour"
           }
          ],
          "mesh3d": [
           {
            "colorbar": {
             "outlinewidth": 0,
             "ticks": ""
            },
            "type": "mesh3d"
           }
          ],
          "parcoords": [
           {
            "line": {
             "colorbar": {
              "outlinewidth": 0,
              "ticks": ""
             }
            },
            "type": "parcoords"
           }
          ],
          "pie": [
           {
            "automargin": true,
            "type": "pie"
           }
          ],
          "scatter": [
           {
            "marker": {
             "colorbar": {
              "outlinewidth": 0,
              "ticks": ""
             }
            },
            "type": "scatter"
           }
          ],
          "scatter3d": [
           {
            "line": {
             "colorbar": {
              "outlinewidth": 0,
              "ticks": ""
             }
            },
            "marker": {
             "colorbar": {
              "outlinewidth": 0,
              "ticks": ""
             }
            },
            "type": "scatter3d"
           }
          ],
          "scattercarpet": [
           {
            "marker": {
             "colorbar": {
              "outlinewidth": 0,
              "ticks": ""
             }
            },
            "type": "scattercarpet"
           }
          ],
          "scattergeo": [
           {
            "marker": {
             "colorbar": {
              "outlinewidth": 0,
              "ticks": ""
             }
            },
            "type": "scattergeo"
           }
          ],
          "scattergl": [
           {
            "marker": {
             "colorbar": {
              "outlinewidth": 0,
              "ticks": ""
             }
            },
            "type": "scattergl"
           }
          ],
          "scattermapbox": [
           {
            "marker": {
             "colorbar": {
              "outlinewidth": 0,
              "ticks": ""
             }
            },
            "type": "scattermapbox"
           }
          ],
          "scatterpolar": [
           {
            "marker": {
             "colorbar": {
              "outlinewidth": 0,
              "ticks": ""
             }
            },
            "type": "scatterpolar"
           }
          ],
          "scatterpolargl": [
           {
            "marker": {
             "colorbar": {
              "outlinewidth": 0,
              "ticks": ""
             }
            },
            "type": "scatterpolargl"
           }
          ],
          "scatterternary": [
           {
            "marker": {
             "colorbar": {
              "outlinewidth": 0,
              "ticks": ""
             }
            },
            "type": "scatterternary"
           }
          ],
          "surface": [
           {
            "colorbar": {
             "outlinewidth": 0,
             "ticks": ""
            },
            "colorscale": [
             [
              0,
              "#0d0887"
             ],
             [
              0.1111111111111111,
              "#46039f"
             ],
             [
              0.2222222222222222,
              "#7201a8"
             ],
             [
              0.3333333333333333,
              "#9c179e"
             ],
             [
              0.4444444444444444,
              "#bd3786"
             ],
             [
              0.5555555555555556,
              "#d8576b"
             ],
             [
              0.6666666666666666,
              "#ed7953"
             ],
             [
              0.7777777777777778,
              "#fb9f3a"
             ],
             [
              0.8888888888888888,
              "#fdca26"
             ],
             [
              1,
              "#f0f921"
             ]
            ],
            "type": "surface"
           }
          ],
          "table": [
           {
            "cells": {
             "fill": {
              "color": "#EBF0F8"
             },
             "line": {
              "color": "white"
             }
            },
            "header": {
             "fill": {
              "color": "#C8D4E3"
             },
             "line": {
              "color": "white"
             }
            },
            "type": "table"
           }
          ]
         },
         "layout": {
          "annotationdefaults": {
           "arrowcolor": "#2a3f5f",
           "arrowhead": 0,
           "arrowwidth": 1
          },
          "autotypenumbers": "strict",
          "coloraxis": {
           "colorbar": {
            "outlinewidth": 0,
            "ticks": ""
           }
          },
          "colorscale": {
           "diverging": [
            [
             0,
             "#8e0152"
            ],
            [
             0.1,
             "#c51b7d"
            ],
            [
             0.2,
             "#de77ae"
            ],
            [
             0.3,
             "#f1b6da"
            ],
            [
             0.4,
             "#fde0ef"
            ],
            [
             0.5,
             "#f7f7f7"
            ],
            [
             0.6,
             "#e6f5d0"
            ],
            [
             0.7,
             "#b8e186"
            ],
            [
             0.8,
             "#7fbc41"
            ],
            [
             0.9,
             "#4d9221"
            ],
            [
             1,
             "#276419"
            ]
           ],
           "sequential": [
            [
             0,
             "#0d0887"
            ],
            [
             0.1111111111111111,
             "#46039f"
            ],
            [
             0.2222222222222222,
             "#7201a8"
            ],
            [
             0.3333333333333333,
             "#9c179e"
            ],
            [
             0.4444444444444444,
             "#bd3786"
            ],
            [
             0.5555555555555556,
             "#d8576b"
            ],
            [
             0.6666666666666666,
             "#ed7953"
            ],
            [
             0.7777777777777778,
             "#fb9f3a"
            ],
            [
             0.8888888888888888,
             "#fdca26"
            ],
            [
             1,
             "#f0f921"
            ]
           ],
           "sequentialminus": [
            [
             0,
             "#0d0887"
            ],
            [
             0.1111111111111111,
             "#46039f"
            ],
            [
             0.2222222222222222,
             "#7201a8"
            ],
            [
             0.3333333333333333,
             "#9c179e"
            ],
            [
             0.4444444444444444,
             "#bd3786"
            ],
            [
             0.5555555555555556,
             "#d8576b"
            ],
            [
             0.6666666666666666,
             "#ed7953"
            ],
            [
             0.7777777777777778,
             "#fb9f3a"
            ],
            [
             0.8888888888888888,
             "#fdca26"
            ],
            [
             1,
             "#f0f921"
            ]
           ]
          },
          "colorway": [
           "#636efa",
           "#EF553B",
           "#00cc96",
           "#ab63fa",
           "#FFA15A",
           "#19d3f3",
           "#FF6692",
           "#B6E880",
           "#FF97FF",
           "#FECB52"
          ],
          "font": {
           "color": "#2a3f5f"
          },
          "geo": {
           "bgcolor": "white",
           "lakecolor": "white",
           "landcolor": "#E5ECF6",
           "showlakes": true,
           "showland": true,
           "subunitcolor": "white"
          },
          "hoverlabel": {
           "align": "left"
          },
          "hovermode": "closest",
          "mapbox": {
           "style": "light"
          },
          "paper_bgcolor": "white",
          "plot_bgcolor": "#E5ECF6",
          "polar": {
           "angularaxis": {
            "gridcolor": "white",
            "linecolor": "white",
            "ticks": ""
           },
           "bgcolor": "#E5ECF6",
           "radialaxis": {
            "gridcolor": "white",
            "linecolor": "white",
            "ticks": ""
           }
          },
          "scene": {
           "xaxis": {
            "backgroundcolor": "#E5ECF6",
            "gridcolor": "white",
            "gridwidth": 2,
            "linecolor": "white",
            "showbackground": true,
            "ticks": "",
            "zerolinecolor": "white"
           },
           "yaxis": {
            "backgroundcolor": "#E5ECF6",
            "gridcolor": "white",
            "gridwidth": 2,
            "linecolor": "white",
            "showbackground": true,
            "ticks": "",
            "zerolinecolor": "white"
           },
           "zaxis": {
            "backgroundcolor": "#E5ECF6",
            "gridcolor": "white",
            "gridwidth": 2,
            "linecolor": "white",
            "showbackground": true,
            "ticks": "",
            "zerolinecolor": "white"
           }
          },
          "shapedefaults": {
           "line": {
            "color": "#2a3f5f"
           }
          },
          "ternary": {
           "aaxis": {
            "gridcolor": "white",
            "linecolor": "white",
            "ticks": ""
           },
           "baxis": {
            "gridcolor": "white",
            "linecolor": "white",
            "ticks": ""
           },
           "bgcolor": "#E5ECF6",
           "caxis": {
            "gridcolor": "white",
            "linecolor": "white",
            "ticks": ""
           }
          },
          "title": {
           "x": 0.05
          },
          "xaxis": {
           "automargin": true,
           "gridcolor": "white",
           "linecolor": "white",
           "ticks": "",
           "title": {
            "standoff": 15
           },
           "zerolinecolor": "white",
           "zerolinewidth": 2
          },
          "yaxis": {
           "automargin": true,
           "gridcolor": "white",
           "linecolor": "white",
           "ticks": "",
           "title": {
            "standoff": 15
           },
           "zerolinecolor": "white",
           "zerolinewidth": 2
          }
         }
        }
       }
      },
      "text/html": [
       "<div>                            <div id=\"2c131876-9fb2-4957-b8ef-e71c1cf7b395\" class=\"plotly-graph-div\" style=\"height:525px; width:100%;\"></div>            <script type=\"text/javascript\">                require([\"plotly\"], function(Plotly) {                    window.PLOTLYENV=window.PLOTLYENV || {};                                    if (document.getElementById(\"2c131876-9fb2-4957-b8ef-e71c1cf7b395\")) {                    Plotly.newPlot(                        \"2c131876-9fb2-4957-b8ef-e71c1cf7b395\",                        [{\"delta\": {\"reference\": 35}, \"domain\": {\"x\": [0, 1], \"y\": [0, 1]}, \"gauge\": {\"axis\": {\"range\": [null, 100]}, \"bar\": {\"color\": \"darkblue\"}, \"steps\": [{\"color\": \"darkgreen\", \"range\": [0, 30]}, {\"color\": \"crimson\", \"range\": [70, 100]}], \"threshold\": {\"line\": {\"color\": \"red\", \"width\": 4}, \"thickness\": 0.75, \"value\": 490}}, \"mode\": \"gauge+number+delta\", \"title\": {\"text\": \"RSI\"}, \"type\": \"indicator\", \"value\": 32}],                        {\"template\": {\"data\": {\"bar\": [{\"error_x\": {\"color\": \"#2a3f5f\"}, \"error_y\": {\"color\": \"#2a3f5f\"}, \"marker\": {\"line\": {\"color\": \"#E5ECF6\", \"width\": 0.5}}, \"type\": \"bar\"}], \"barpolar\": [{\"marker\": {\"line\": {\"color\": \"#E5ECF6\", \"width\": 0.5}}, \"type\": \"barpolar\"}], \"carpet\": [{\"aaxis\": {\"endlinecolor\": \"#2a3f5f\", \"gridcolor\": \"white\", \"linecolor\": \"white\", \"minorgridcolor\": \"white\", \"startlinecolor\": \"#2a3f5f\"}, \"baxis\": {\"endlinecolor\": \"#2a3f5f\", \"gridcolor\": \"white\", \"linecolor\": \"white\", \"minorgridcolor\": \"white\", \"startlinecolor\": \"#2a3f5f\"}, \"type\": \"carpet\"}], \"choropleth\": [{\"colorbar\": {\"outlinewidth\": 0, \"ticks\": \"\"}, \"type\": \"choropleth\"}], \"contour\": [{\"colorbar\": {\"outlinewidth\": 0, \"ticks\": \"\"}, \"colorscale\": [[0.0, \"#0d0887\"], [0.1111111111111111, \"#46039f\"], [0.2222222222222222, \"#7201a8\"], [0.3333333333333333, \"#9c179e\"], [0.4444444444444444, \"#bd3786\"], [0.5555555555555556, \"#d8576b\"], [0.6666666666666666, \"#ed7953\"], [0.7777777777777778, \"#fb9f3a\"], [0.8888888888888888, \"#fdca26\"], [1.0, \"#f0f921\"]], \"type\": \"contour\"}], \"contourcarpet\": [{\"colorbar\": {\"outlinewidth\": 0, \"ticks\": \"\"}, \"type\": \"contourcarpet\"}], \"heatmap\": [{\"colorbar\": {\"outlinewidth\": 0, \"ticks\": \"\"}, \"colorscale\": [[0.0, \"#0d0887\"], [0.1111111111111111, \"#46039f\"], [0.2222222222222222, \"#7201a8\"], [0.3333333333333333, \"#9c179e\"], [0.4444444444444444, \"#bd3786\"], [0.5555555555555556, \"#d8576b\"], [0.6666666666666666, \"#ed7953\"], [0.7777777777777778, \"#fb9f3a\"], [0.8888888888888888, \"#fdca26\"], [1.0, \"#f0f921\"]], \"type\": \"heatmap\"}], \"heatmapgl\": [{\"colorbar\": {\"outlinewidth\": 0, \"ticks\": \"\"}, \"colorscale\": [[0.0, \"#0d0887\"], [0.1111111111111111, \"#46039f\"], [0.2222222222222222, \"#7201a8\"], [0.3333333333333333, \"#9c179e\"], [0.4444444444444444, \"#bd3786\"], [0.5555555555555556, \"#d8576b\"], [0.6666666666666666, \"#ed7953\"], [0.7777777777777778, \"#fb9f3a\"], [0.8888888888888888, \"#fdca26\"], [1.0, \"#f0f921\"]], \"type\": \"heatmapgl\"}], \"histogram\": [{\"marker\": {\"colorbar\": {\"outlinewidth\": 0, \"ticks\": \"\"}}, \"type\": \"histogram\"}], \"histogram2d\": [{\"colorbar\": {\"outlinewidth\": 0, \"ticks\": \"\"}, \"colorscale\": [[0.0, \"#0d0887\"], [0.1111111111111111, \"#46039f\"], [0.2222222222222222, \"#7201a8\"], [0.3333333333333333, \"#9c179e\"], [0.4444444444444444, \"#bd3786\"], [0.5555555555555556, \"#d8576b\"], [0.6666666666666666, \"#ed7953\"], [0.7777777777777778, \"#fb9f3a\"], [0.8888888888888888, \"#fdca26\"], [1.0, \"#f0f921\"]], \"type\": \"histogram2d\"}], \"histogram2dcontour\": [{\"colorbar\": {\"outlinewidth\": 0, \"ticks\": \"\"}, \"colorscale\": [[0.0, \"#0d0887\"], [0.1111111111111111, \"#46039f\"], [0.2222222222222222, \"#7201a8\"], [0.3333333333333333, \"#9c179e\"], [0.4444444444444444, \"#bd3786\"], [0.5555555555555556, \"#d8576b\"], [0.6666666666666666, \"#ed7953\"], [0.7777777777777778, \"#fb9f3a\"], [0.8888888888888888, \"#fdca26\"], [1.0, \"#f0f921\"]], \"type\": \"histogram2dcontour\"}], \"mesh3d\": [{\"colorbar\": {\"outlinewidth\": 0, \"ticks\": \"\"}, \"type\": \"mesh3d\"}], \"parcoords\": [{\"line\": {\"colorbar\": {\"outlinewidth\": 0, \"ticks\": \"\"}}, \"type\": \"parcoords\"}], \"pie\": [{\"automargin\": true, \"type\": \"pie\"}], \"scatter\": [{\"marker\": {\"colorbar\": {\"outlinewidth\": 0, \"ticks\": \"\"}}, \"type\": \"scatter\"}], \"scatter3d\": [{\"line\": {\"colorbar\": {\"outlinewidth\": 0, \"ticks\": \"\"}}, \"marker\": {\"colorbar\": {\"outlinewidth\": 0, \"ticks\": \"\"}}, \"type\": \"scatter3d\"}], \"scattercarpet\": [{\"marker\": {\"colorbar\": {\"outlinewidth\": 0, \"ticks\": \"\"}}, \"type\": \"scattercarpet\"}], \"scattergeo\": [{\"marker\": {\"colorbar\": {\"outlinewidth\": 0, \"ticks\": \"\"}}, \"type\": \"scattergeo\"}], \"scattergl\": [{\"marker\": {\"colorbar\": {\"outlinewidth\": 0, \"ticks\": \"\"}}, \"type\": \"scattergl\"}], \"scattermapbox\": [{\"marker\": {\"colorbar\": {\"outlinewidth\": 0, \"ticks\": \"\"}}, \"type\": \"scattermapbox\"}], \"scatterpolar\": [{\"marker\": {\"colorbar\": {\"outlinewidth\": 0, \"ticks\": \"\"}}, \"type\": \"scatterpolar\"}], \"scatterpolargl\": [{\"marker\": {\"colorbar\": {\"outlinewidth\": 0, \"ticks\": \"\"}}, \"type\": \"scatterpolargl\"}], \"scatterternary\": [{\"marker\": {\"colorbar\": {\"outlinewidth\": 0, \"ticks\": \"\"}}, \"type\": \"scatterternary\"}], \"surface\": [{\"colorbar\": {\"outlinewidth\": 0, \"ticks\": \"\"}, \"colorscale\": [[0.0, \"#0d0887\"], [0.1111111111111111, \"#46039f\"], [0.2222222222222222, \"#7201a8\"], [0.3333333333333333, \"#9c179e\"], [0.4444444444444444, \"#bd3786\"], [0.5555555555555556, \"#d8576b\"], [0.6666666666666666, \"#ed7953\"], [0.7777777777777778, \"#fb9f3a\"], [0.8888888888888888, \"#fdca26\"], [1.0, \"#f0f921\"]], \"type\": \"surface\"}], \"table\": [{\"cells\": {\"fill\": {\"color\": \"#EBF0F8\"}, \"line\": {\"color\": \"white\"}}, \"header\": {\"fill\": {\"color\": \"#C8D4E3\"}, \"line\": {\"color\": \"white\"}}, \"type\": \"table\"}]}, \"layout\": {\"annotationdefaults\": {\"arrowcolor\": \"#2a3f5f\", \"arrowhead\": 0, \"arrowwidth\": 1}, \"autotypenumbers\": \"strict\", \"coloraxis\": {\"colorbar\": {\"outlinewidth\": 0, \"ticks\": \"\"}}, \"colorscale\": {\"diverging\": [[0, \"#8e0152\"], [0.1, \"#c51b7d\"], [0.2, \"#de77ae\"], [0.3, \"#f1b6da\"], [0.4, \"#fde0ef\"], [0.5, \"#f7f7f7\"], [0.6, \"#e6f5d0\"], [0.7, \"#b8e186\"], [0.8, \"#7fbc41\"], [0.9, \"#4d9221\"], [1, \"#276419\"]], \"sequential\": [[0.0, \"#0d0887\"], [0.1111111111111111, \"#46039f\"], [0.2222222222222222, \"#7201a8\"], [0.3333333333333333, \"#9c179e\"], [0.4444444444444444, \"#bd3786\"], [0.5555555555555556, \"#d8576b\"], [0.6666666666666666, \"#ed7953\"], [0.7777777777777778, \"#fb9f3a\"], [0.8888888888888888, \"#fdca26\"], [1.0, \"#f0f921\"]], \"sequentialminus\": [[0.0, \"#0d0887\"], [0.1111111111111111, \"#46039f\"], [0.2222222222222222, \"#7201a8\"], [0.3333333333333333, \"#9c179e\"], [0.4444444444444444, \"#bd3786\"], [0.5555555555555556, \"#d8576b\"], [0.6666666666666666, \"#ed7953\"], [0.7777777777777778, \"#fb9f3a\"], [0.8888888888888888, \"#fdca26\"], [1.0, \"#f0f921\"]]}, \"colorway\": [\"#636efa\", \"#EF553B\", \"#00cc96\", \"#ab63fa\", \"#FFA15A\", \"#19d3f3\", \"#FF6692\", \"#B6E880\", \"#FF97FF\", \"#FECB52\"], \"font\": {\"color\": \"#2a3f5f\"}, \"geo\": {\"bgcolor\": \"white\", \"lakecolor\": \"white\", \"landcolor\": \"#E5ECF6\", \"showlakes\": true, \"showland\": true, \"subunitcolor\": \"white\"}, \"hoverlabel\": {\"align\": \"left\"}, \"hovermode\": \"closest\", \"mapbox\": {\"style\": \"light\"}, \"paper_bgcolor\": \"white\", \"plot_bgcolor\": \"#E5ECF6\", \"polar\": {\"angularaxis\": {\"gridcolor\": \"white\", \"linecolor\": \"white\", \"ticks\": \"\"}, \"bgcolor\": \"#E5ECF6\", \"radialaxis\": {\"gridcolor\": \"white\", \"linecolor\": \"white\", \"ticks\": \"\"}}, \"scene\": {\"xaxis\": {\"backgroundcolor\": \"#E5ECF6\", \"gridcolor\": \"white\", \"gridwidth\": 2, \"linecolor\": \"white\", \"showbackground\": true, \"ticks\": \"\", \"zerolinecolor\": \"white\"}, \"yaxis\": {\"backgroundcolor\": \"#E5ECF6\", \"gridcolor\": \"white\", \"gridwidth\": 2, \"linecolor\": \"white\", \"showbackground\": true, \"ticks\": \"\", \"zerolinecolor\": \"white\"}, \"zaxis\": {\"backgroundcolor\": \"#E5ECF6\", \"gridcolor\": \"white\", \"gridwidth\": 2, \"linecolor\": \"white\", \"showbackground\": true, \"ticks\": \"\", \"zerolinecolor\": \"white\"}}, \"shapedefaults\": {\"line\": {\"color\": \"#2a3f5f\"}}, \"ternary\": {\"aaxis\": {\"gridcolor\": \"white\", \"linecolor\": \"white\", \"ticks\": \"\"}, \"baxis\": {\"gridcolor\": \"white\", \"linecolor\": \"white\", \"ticks\": \"\"}, \"bgcolor\": \"#E5ECF6\", \"caxis\": {\"gridcolor\": \"white\", \"linecolor\": \"white\", \"ticks\": \"\"}}, \"title\": {\"x\": 0.05}, \"xaxis\": {\"automargin\": true, \"gridcolor\": \"white\", \"linecolor\": \"white\", \"ticks\": \"\", \"title\": {\"standoff\": 15}, \"zerolinecolor\": \"white\", \"zerolinewidth\": 2}, \"yaxis\": {\"automargin\": true, \"gridcolor\": \"white\", \"linecolor\": \"white\", \"ticks\": \"\", \"title\": {\"standoff\": 15}, \"zerolinecolor\": \"white\", \"zerolinewidth\": 2}}}},                        {\"responsive\": true}                    ).then(function(){\n",
       "                            \n",
       "var gd = document.getElementById('2c131876-9fb2-4957-b8ef-e71c1cf7b395');\n",
       "var x = new MutationObserver(function (mutations, observer) {{\n",
       "        var display = window.getComputedStyle(gd).display;\n",
       "        if (!display || display === 'none') {{\n",
       "            console.log([gd, 'removed!']);\n",
       "            Plotly.purge(gd);\n",
       "            observer.disconnect();\n",
       "        }}\n",
       "}});\n",
       "\n",
       "// Listen for the removal of the full notebook cells\n",
       "var notebookContainer = gd.closest('#notebook-container');\n",
       "if (notebookContainer) {{\n",
       "    x.observe(notebookContainer, {childList: true});\n",
       "}}\n",
       "\n",
       "// Listen for the clearing of the current output cell\n",
       "var outputEl = gd.closest('.output');\n",
       "if (outputEl) {{\n",
       "    x.observe(outputEl, {childList: true});\n",
       "}}\n",
       "\n",
       "                        })                };                });            </script>        </div>"
      ]
     },
     "metadata": {},
     "output_type": "display_data"
    }
   ],
   "source": [
    "fig = go.Figure()\n",
    "\n",
    "fig.add_trace(go.Indicator(\n",
    "    domain = {'x': [0, 1], 'y': [0, 1]},\n",
    "    value = int(df_btc['rsi'].tail(1)),\n",
    "    mode = \"gauge+number+delta\",\n",
    "    title = {'text': \"RSI\"},\n",
    "    delta = {'reference': int(df_btc['rsi'].tail(2)[0])},\n",
    "    gauge = {'axis': {'range': [None, 100]},\n",
    "             'bar': {'color': \"darkblue\"},\n",
    "             'steps' : [\n",
    "                 {'range': [0, 30], 'color': \"darkgreen\"},\n",
    "                 {'range': [70, 100], 'color': \"crimson\"}],\n",
    "             'threshold' : {'line': {'color': \"red\", 'width': 4}, 'thickness': 0.75, 'value': 490}}))\n",
    "\n",
    "fig.show()\n",
    "\n"
   ]
  },
  {
   "cell_type": "code",
   "execution_count": 323,
   "id": "9ab20689",
   "metadata": {},
   "outputs": [],
   "source": [
    "df_btc_c=df_btc.copy()"
   ]
  },
  {
   "cell_type": "code",
   "execution_count": 324,
   "id": "4de705fa",
   "metadata": {},
   "outputs": [],
   "source": [
    "df_btc_c=df_btc_c.reset_index()"
   ]
  },
  {
   "cell_type": "code",
   "execution_count": 326,
   "id": "4dceb5fc",
   "metadata": {},
   "outputs": [],
   "source": [
    "WINDOW=30\n",
    "df_btc_c['std'] = df_btc_c['close'].rolling(WINDOW).std(ddof = 0)"
   ]
  },
  {
   "cell_type": "code",
   "execution_count": 335,
   "id": "5b8c45d6",
   "metadata": {},
   "outputs": [],
   "source": [
    "from plotly.offline import iplot\n",
    "from plotly.subplots import make_subplots\n"
   ]
  },
  {
   "cell_type": "code",
   "execution_count": 338,
   "id": "09a43b19",
   "metadata": {},
   "outputs": [
    {
     "data": {
      "text/html": [
       "<div>\n",
       "<style scoped>\n",
       "    .dataframe tbody tr th:only-of-type {\n",
       "        vertical-align: middle;\n",
       "    }\n",
       "\n",
       "    .dataframe tbody tr th {\n",
       "        vertical-align: top;\n",
       "    }\n",
       "\n",
       "    .dataframe thead th {\n",
       "        text-align: right;\n",
       "    }\n",
       "</style>\n",
       "<table border=\"1\" class=\"dataframe\">\n",
       "  <thead>\n",
       "    <tr style=\"text-align: right;\">\n",
       "      <th></th>\n",
       "      <th>crypto</th>\n",
       "      <th>high</th>\n",
       "      <th>low</th>\n",
       "      <th>close</th>\n",
       "      <th>open</th>\n",
       "      <th>volume</th>\n",
       "      <th>adj_close</th>\n",
       "      <th>diff</th>\n",
       "      <th>gain</th>\n",
       "      <th>loss</th>\n",
       "      <th>avg_gain</th>\n",
       "      <th>avg_loss</th>\n",
       "      <th>rs</th>\n",
       "      <th>rsi</th>\n",
       "      <th>bollinger</th>\n",
       "      <th>macd</th>\n",
       "      <th>macd_sig</th>\n",
       "      <th>macd_cd</th>\n",
       "      <th>STOCHk_14_3_3</th>\n",
       "      <th>STOCHd_14_3_3</th>\n",
       "    </tr>\n",
       "    <tr>\n",
       "      <th>Date</th>\n",
       "      <th></th>\n",
       "      <th></th>\n",
       "      <th></th>\n",
       "      <th></th>\n",
       "      <th></th>\n",
       "      <th></th>\n",
       "      <th></th>\n",
       "      <th></th>\n",
       "      <th></th>\n",
       "      <th></th>\n",
       "      <th></th>\n",
       "      <th></th>\n",
       "      <th></th>\n",
       "      <th></th>\n",
       "      <th></th>\n",
       "      <th></th>\n",
       "      <th></th>\n",
       "      <th></th>\n",
       "      <th></th>\n",
       "      <th></th>\n",
       "    </tr>\n",
       "  </thead>\n",
       "  <tbody>\n",
       "    <tr>\n",
       "      <th>2017-05-09</th>\n",
       "      <td>BTC</td>\n",
       "      <td>1833.489990</td>\n",
       "      <td>1716.300049</td>\n",
       "      <td>1755.359985</td>\n",
       "      <td>1723.890015</td>\n",
       "      <td>1.167920e+09</td>\n",
       "      <td>1755.359985</td>\n",
       "      <td>NaN</td>\n",
       "      <td>NaN</td>\n",
       "      <td>NaN</td>\n",
       "      <td>NaN</td>\n",
       "      <td>NaN</td>\n",
       "      <td>NaN</td>\n",
       "      <td>NaN</td>\n",
       "      <td>NaN</td>\n",
       "      <td>0.000000</td>\n",
       "      <td>0.000000</td>\n",
       "      <td>0.000000</td>\n",
       "      <td>NaN</td>\n",
       "      <td>NaN</td>\n",
       "    </tr>\n",
       "    <tr>\n",
       "      <th>2017-05-10</th>\n",
       "      <td>BTC</td>\n",
       "      <td>1788.439941</td>\n",
       "      <td>1719.099976</td>\n",
       "      <td>1787.130005</td>\n",
       "      <td>1756.520020</td>\n",
       "      <td>9.157230e+08</td>\n",
       "      <td>1787.130005</td>\n",
       "      <td>31.770020</td>\n",
       "      <td>31.77</td>\n",
       "      <td>0.00</td>\n",
       "      <td>NaN</td>\n",
       "      <td>NaN</td>\n",
       "      <td>NaN</td>\n",
       "      <td>NaN</td>\n",
       "      <td>NaN</td>\n",
       "      <td>2.534361</td>\n",
       "      <td>2.027488</td>\n",
       "      <td>0.506872</td>\n",
       "      <td>NaN</td>\n",
       "      <td>NaN</td>\n",
       "    </tr>\n",
       "    <tr>\n",
       "      <th>2017-05-11</th>\n",
       "      <td>BTC</td>\n",
       "      <td>1873.930054</td>\n",
       "      <td>1755.349976</td>\n",
       "      <td>1848.569946</td>\n",
       "      <td>1780.369995</td>\n",
       "      <td>7.994900e+08</td>\n",
       "      <td>1848.569946</td>\n",
       "      <td>61.439941</td>\n",
       "      <td>61.44</td>\n",
       "      <td>0.00</td>\n",
       "      <td>NaN</td>\n",
       "      <td>NaN</td>\n",
       "      <td>NaN</td>\n",
       "      <td>NaN</td>\n",
       "      <td>NaN</td>\n",
       "      <td>9.392281</td>\n",
       "      <td>7.108327</td>\n",
       "      <td>2.283954</td>\n",
       "      <td>NaN</td>\n",
       "      <td>NaN</td>\n",
       "    </tr>\n",
       "    <tr>\n",
       "      <th>2017-05-12</th>\n",
       "      <td>BTC</td>\n",
       "      <td>1856.150024</td>\n",
       "      <td>1694.010010</td>\n",
       "      <td>1724.239990</td>\n",
       "      <td>1845.760010</td>\n",
       "      <td>7.409840e+08</td>\n",
       "      <td>1724.239990</td>\n",
       "      <td>-124.329956</td>\n",
       "      <td>0.00</td>\n",
       "      <td>124.33</td>\n",
       "      <td>NaN</td>\n",
       "      <td>NaN</td>\n",
       "      <td>NaN</td>\n",
       "      <td>NaN</td>\n",
       "      <td>NaN</td>\n",
       "      <td>4.740202</td>\n",
       "      <td>1.964998</td>\n",
       "      <td>2.775203</td>\n",
       "      <td>NaN</td>\n",
       "      <td>NaN</td>\n",
       "    </tr>\n",
       "    <tr>\n",
       "      <th>2017-05-13</th>\n",
       "      <td>BTC</td>\n",
       "      <td>1812.989990</td>\n",
       "      <td>1651.079956</td>\n",
       "      <td>1804.910034</td>\n",
       "      <td>1723.119995</td>\n",
       "      <td>5.796350e+08</td>\n",
       "      <td>1804.910034</td>\n",
       "      <td>80.670044</td>\n",
       "      <td>80.67</td>\n",
       "      <td>0.00</td>\n",
       "      <td>NaN</td>\n",
       "      <td>NaN</td>\n",
       "      <td>NaN</td>\n",
       "      <td>NaN</td>\n",
       "      <td>NaN</td>\n",
       "      <td>7.476608</td>\n",
       "      <td>3.761124</td>\n",
       "      <td>3.715484</td>\n",
       "      <td>NaN</td>\n",
       "      <td>NaN</td>\n",
       "    </tr>\n",
       "    <tr>\n",
       "      <th>...</th>\n",
       "      <td>...</td>\n",
       "      <td>...</td>\n",
       "      <td>...</td>\n",
       "      <td>...</td>\n",
       "      <td>...</td>\n",
       "      <td>...</td>\n",
       "      <td>...</td>\n",
       "      <td>...</td>\n",
       "      <td>...</td>\n",
       "      <td>...</td>\n",
       "      <td>...</td>\n",
       "      <td>...</td>\n",
       "      <td>...</td>\n",
       "      <td>...</td>\n",
       "      <td>...</td>\n",
       "      <td>...</td>\n",
       "      <td>...</td>\n",
       "      <td>...</td>\n",
       "      <td>...</td>\n",
       "      <td>...</td>\n",
       "    </tr>\n",
       "    <tr>\n",
       "      <th>2022-05-04</th>\n",
       "      <td>BTC</td>\n",
       "      <td>39902.949219</td>\n",
       "      <td>37732.058594</td>\n",
       "      <td>39698.371094</td>\n",
       "      <td>37748.011719</td>\n",
       "      <td>3.675440e+10</td>\n",
       "      <td>39698.371094</td>\n",
       "      <td>1947.917969</td>\n",
       "      <td>1947.92</td>\n",
       "      <td>0.00</td>\n",
       "      <td>432.882525</td>\n",
       "      <td>460.718905</td>\n",
       "      <td>0.939581</td>\n",
       "      <td>48.442461</td>\n",
       "      <td>39599.230859</td>\n",
       "      <td>-930.012529</td>\n",
       "      <td>30.925519</td>\n",
       "      <td>-960.938047</td>\n",
       "      <td>20.228427</td>\n",
       "      <td>14.772540</td>\n",
       "    </tr>\n",
       "    <tr>\n",
       "      <th>2022-05-05</th>\n",
       "      <td>BTC</td>\n",
       "      <td>39789.281250</td>\n",
       "      <td>35856.515625</td>\n",
       "      <td>36575.140625</td>\n",
       "      <td>39695.746094</td>\n",
       "      <td>4.310626e+10</td>\n",
       "      <td>36575.140625</td>\n",
       "      <td>-3123.230469</td>\n",
       "      <td>0.00</td>\n",
       "      <td>3123.23</td>\n",
       "      <td>401.962344</td>\n",
       "      <td>650.898269</td>\n",
       "      <td>0.617550</td>\n",
       "      <td>38.178116</td>\n",
       "      <td>39400.314648</td>\n",
       "      <td>-1060.741958</td>\n",
       "      <td>-79.843129</td>\n",
       "      <td>-980.898830</td>\n",
       "      <td>19.170436</td>\n",
       "      <td>17.302234</td>\n",
       "    </tr>\n",
       "    <tr>\n",
       "      <th>2022-05-06</th>\n",
       "      <td>BTC</td>\n",
       "      <td>36624.359375</td>\n",
       "      <td>35482.132812</td>\n",
       "      <td>36040.921875</td>\n",
       "      <td>36573.183594</td>\n",
       "      <td>3.779558e+10</td>\n",
       "      <td>36040.921875</td>\n",
       "      <td>-534.218750</td>\n",
       "      <td>0.00</td>\n",
       "      <td>534.22</td>\n",
       "      <td>373.250748</td>\n",
       "      <td>642.564106</td>\n",
       "      <td>0.580877</td>\n",
       "      <td>36.743974</td>\n",
       "      <td>39181.136523</td>\n",
       "      <td>-1193.692814</td>\n",
       "      <td>-170.235188</td>\n",
       "      <td>-1023.457627</td>\n",
       "      <td>21.695549</td>\n",
       "      <td>20.364804</td>\n",
       "    </tr>\n",
       "    <tr>\n",
       "      <th>2022-05-07</th>\n",
       "      <td>BTC</td>\n",
       "      <td>36129.925781</td>\n",
       "      <td>34940.824219</td>\n",
       "      <td>35501.953125</td>\n",
       "      <td>36042.503906</td>\n",
       "      <td>2.437590e+10</td>\n",
       "      <td>35501.953125</td>\n",
       "      <td>-538.968750</td>\n",
       "      <td>0.00</td>\n",
       "      <td>538.97</td>\n",
       "      <td>346.589980</td>\n",
       "      <td>635.164527</td>\n",
       "      <td>0.545670</td>\n",
       "      <td>35.303121</td>\n",
       "      <td>38970.386523</td>\n",
       "      <td>-1327.247911</td>\n",
       "      <td>-243.032228</td>\n",
       "      <td>-1084.215684</td>\n",
       "      <td>11.667666</td>\n",
       "      <td>17.511217</td>\n",
       "    </tr>\n",
       "    <tr>\n",
       "      <th>2022-05-08</th>\n",
       "      <td>BTC</td>\n",
       "      <td>35477.484375</td>\n",
       "      <td>33913.957031</td>\n",
       "      <td>34226.796875</td>\n",
       "      <td>35473.250000</td>\n",
       "      <td>3.694594e+10</td>\n",
       "      <td>34226.796875</td>\n",
       "      <td>-1275.156250</td>\n",
       "      <td>0.00</td>\n",
       "      <td>1275.16</td>\n",
       "      <td>321.833553</td>\n",
       "      <td>680.878490</td>\n",
       "      <td>0.472674</td>\n",
       "      <td>32.096309</td>\n",
       "      <td>38640.415625</td>\n",
       "      <td>-1518.481629</td>\n",
       "      <td>-347.412757</td>\n",
       "      <td>-1171.068873</td>\n",
       "      <td>8.333706</td>\n",
       "      <td>13.898973</td>\n",
       "    </tr>\n",
       "  </tbody>\n",
       "</table>\n",
       "<p>1826 rows × 20 columns</p>\n",
       "</div>"
      ],
      "text/plain": [
       "           crypto          high           low         close          open  \\\n",
       "Date                                                                        \n",
       "2017-05-09    BTC   1833.489990   1716.300049   1755.359985   1723.890015   \n",
       "2017-05-10    BTC   1788.439941   1719.099976   1787.130005   1756.520020   \n",
       "2017-05-11    BTC   1873.930054   1755.349976   1848.569946   1780.369995   \n",
       "2017-05-12    BTC   1856.150024   1694.010010   1724.239990   1845.760010   \n",
       "2017-05-13    BTC   1812.989990   1651.079956   1804.910034   1723.119995   \n",
       "...           ...           ...           ...           ...           ...   \n",
       "2022-05-04    BTC  39902.949219  37732.058594  39698.371094  37748.011719   \n",
       "2022-05-05    BTC  39789.281250  35856.515625  36575.140625  39695.746094   \n",
       "2022-05-06    BTC  36624.359375  35482.132812  36040.921875  36573.183594   \n",
       "2022-05-07    BTC  36129.925781  34940.824219  35501.953125  36042.503906   \n",
       "2022-05-08    BTC  35477.484375  33913.957031  34226.796875  35473.250000   \n",
       "\n",
       "                  volume     adj_close         diff     gain     loss  \\\n",
       "Date                                                                    \n",
       "2017-05-09  1.167920e+09   1755.359985          NaN      NaN      NaN   \n",
       "2017-05-10  9.157230e+08   1787.130005    31.770020    31.77     0.00   \n",
       "2017-05-11  7.994900e+08   1848.569946    61.439941    61.44     0.00   \n",
       "2017-05-12  7.409840e+08   1724.239990  -124.329956     0.00   124.33   \n",
       "2017-05-13  5.796350e+08   1804.910034    80.670044    80.67     0.00   \n",
       "...                  ...           ...          ...      ...      ...   \n",
       "2022-05-04  3.675440e+10  39698.371094  1947.917969  1947.92     0.00   \n",
       "2022-05-05  4.310626e+10  36575.140625 -3123.230469     0.00  3123.23   \n",
       "2022-05-06  3.779558e+10  36040.921875  -534.218750     0.00   534.22   \n",
       "2022-05-07  2.437590e+10  35501.953125  -538.968750     0.00   538.97   \n",
       "2022-05-08  3.694594e+10  34226.796875 -1275.156250     0.00  1275.16   \n",
       "\n",
       "              avg_gain    avg_loss        rs        rsi     bollinger  \\\n",
       "Date                                                                    \n",
       "2017-05-09         NaN         NaN       NaN        NaN           NaN   \n",
       "2017-05-10         NaN         NaN       NaN        NaN           NaN   \n",
       "2017-05-11         NaN         NaN       NaN        NaN           NaN   \n",
       "2017-05-12         NaN         NaN       NaN        NaN           NaN   \n",
       "2017-05-13         NaN         NaN       NaN        NaN           NaN   \n",
       "...                ...         ...       ...        ...           ...   \n",
       "2022-05-04  432.882525  460.718905  0.939581  48.442461  39599.230859   \n",
       "2022-05-05  401.962344  650.898269  0.617550  38.178116  39400.314648   \n",
       "2022-05-06  373.250748  642.564106  0.580877  36.743974  39181.136523   \n",
       "2022-05-07  346.589980  635.164527  0.545670  35.303121  38970.386523   \n",
       "2022-05-08  321.833553  680.878490  0.472674  32.096309  38640.415625   \n",
       "\n",
       "                   macd    macd_sig      macd_cd  STOCHk_14_3_3  STOCHd_14_3_3  \n",
       "Date                                                                            \n",
       "2017-05-09     0.000000    0.000000     0.000000            NaN            NaN  \n",
       "2017-05-10     2.534361    2.027488     0.506872            NaN            NaN  \n",
       "2017-05-11     9.392281    7.108327     2.283954            NaN            NaN  \n",
       "2017-05-12     4.740202    1.964998     2.775203            NaN            NaN  \n",
       "2017-05-13     7.476608    3.761124     3.715484            NaN            NaN  \n",
       "...                 ...         ...          ...            ...            ...  \n",
       "2022-05-04  -930.012529   30.925519  -960.938047      20.228427      14.772540  \n",
       "2022-05-05 -1060.741958  -79.843129  -980.898830      19.170436      17.302234  \n",
       "2022-05-06 -1193.692814 -170.235188 -1023.457627      21.695549      20.364804  \n",
       "2022-05-07 -1327.247911 -243.032228 -1084.215684      11.667666      17.511217  \n",
       "2022-05-08 -1518.481629 -347.412757 -1171.068873       8.333706      13.898973  \n",
       "\n",
       "[1826 rows x 20 columns]"
      ]
     },
     "execution_count": 338,
     "metadata": {},
     "output_type": "execute_result"
    }
   ],
   "source": [
    "df_btc"
   ]
  },
  {
   "cell_type": "code",
   "execution_count": 336,
   "id": "83fc22e7",
   "metadata": {},
   "outputs": [],
   "source": [
    "\n",
    "ig = make_subplots(rows = 2, cols = 1, shared_xaxes = True, subplot_titles = ('BTC', 'volume'), vertical_spacing = 0.1, row_width = [0.2, 0.7])\n"
   ]
  },
  {
   "cell_type": "code",
   "execution_count": 351,
   "id": "a27bd48b",
   "metadata": {},
   "outputs": [],
   "source": [
    "df_link.to_csv(\"df_link.csv\")\n",
    "df_luna.to_csv('df_luna.csv')\n",
    "df_ada.to_csv('df_ada.csv')\n",
    "df_atom.to_csv('df_atom.csv')\n",
    "df_avax.to_csv('df_avax.csv')\n",
    "df_axs.to_csv('df_axs.csv')\n",
    "df_eth.to_csv('df_eth.csv')\n",
    "df_matic.to_csv('df_matic.csv')\n",
    "df_sol.to_csv('df_sol.csv')"
   ]
  },
  {
   "cell_type": "code",
   "execution_count": 337,
   "id": "d0e5e85a",
   "metadata": {},
   "outputs": [
    {
     "ename": "Exception",
     "evalue": "In order to reference traces by row and column, you must first use plotly.tools.make_subplots to create the figure with a subplot grid.",
     "output_type": "error",
     "traceback": [
      "\u001b[1;31m---------------------------------------------------------------------------\u001b[0m",
      "\u001b[1;31mAttributeError\u001b[0m                            Traceback (most recent call last)",
      "\u001b[1;32m~\\anaconda3\\lib\\site-packages\\plotly\\basedatatypes.py\u001b[0m in \u001b[0;36m_validate_get_grid_ref\u001b[1;34m(self)\u001b[0m\n\u001b[0;32m   2328\u001b[0m             \u001b[1;32mif\u001b[0m \u001b[0mgrid_ref\u001b[0m \u001b[1;32mis\u001b[0m \u001b[1;32mNone\u001b[0m\u001b[1;33m:\u001b[0m\u001b[1;33m\u001b[0m\u001b[1;33m\u001b[0m\u001b[0m\n\u001b[1;32m-> 2329\u001b[1;33m                 \u001b[1;32mraise\u001b[0m \u001b[0mAttributeError\u001b[0m\u001b[1;33m(\u001b[0m\u001b[1;34m\"_grid_ref\"\u001b[0m\u001b[1;33m)\u001b[0m\u001b[1;33m\u001b[0m\u001b[1;33m\u001b[0m\u001b[0m\n\u001b[0m\u001b[0;32m   2330\u001b[0m         \u001b[1;32mexcept\u001b[0m \u001b[0mAttributeError\u001b[0m\u001b[1;33m:\u001b[0m\u001b[1;33m\u001b[0m\u001b[1;33m\u001b[0m\u001b[0m\n",
      "\u001b[1;31mAttributeError\u001b[0m: _grid_ref",
      "\nDuring handling of the above exception, another exception occurred:\n",
      "\u001b[1;31mException\u001b[0m                                 Traceback (most recent call last)",
      "\u001b[1;32m<ipython-input-337-520e23c62ff0>\u001b[0m in \u001b[0;36m<module>\u001b[1;34m\u001b[0m\n\u001b[0;32m      1\u001b[0m \u001b[1;31m# ----------------\u001b[0m\u001b[1;33m\u001b[0m\u001b[1;33m\u001b[0m\u001b[1;33m\u001b[0m\u001b[0m\n\u001b[0;32m      2\u001b[0m \u001b[1;31m# Candlestick Plot\u001b[0m\u001b[1;33m\u001b[0m\u001b[1;33m\u001b[0m\u001b[1;33m\u001b[0m\u001b[0m\n\u001b[1;32m----> 3\u001b[1;33m fig.add_trace(go.Candlestick(x = df_btc_c['Date'],\n\u001b[0m\u001b[0;32m      4\u001b[0m                              \u001b[0mopen\u001b[0m \u001b[1;33m=\u001b[0m \u001b[0mdf_btc_c\u001b[0m\u001b[1;33m[\u001b[0m\u001b[1;34m'open'\u001b[0m\u001b[1;33m]\u001b[0m\u001b[1;33m,\u001b[0m\u001b[1;33m\u001b[0m\u001b[1;33m\u001b[0m\u001b[0m\n\u001b[0;32m      5\u001b[0m                              \u001b[0mhigh\u001b[0m \u001b[1;33m=\u001b[0m \u001b[0mdf_btc_c\u001b[0m\u001b[1;33m[\u001b[0m\u001b[1;34m'high'\u001b[0m\u001b[1;33m]\u001b[0m\u001b[1;33m,\u001b[0m\u001b[1;33m\u001b[0m\u001b[1;33m\u001b[0m\u001b[0m\n",
      "\u001b[1;32m~\\anaconda3\\lib\\site-packages\\plotly\\basedatatypes.py\u001b[0m in \u001b[0;36madd_trace\u001b[1;34m(self, trace, row, col, secondary_y, exclude_empty_subplots)\u001b[0m\n\u001b[0;32m   2097\u001b[0m             \u001b[1;32mreturn\u001b[0m \u001b[0mself\u001b[0m\u001b[1;33m\u001b[0m\u001b[1;33m\u001b[0m\u001b[0m\n\u001b[0;32m   2098\u001b[0m \u001b[1;33m\u001b[0m\u001b[0m\n\u001b[1;32m-> 2099\u001b[1;33m         return self.add_traces(\n\u001b[0m\u001b[0;32m   2100\u001b[0m             \u001b[0mdata\u001b[0m\u001b[1;33m=\u001b[0m\u001b[1;33m[\u001b[0m\u001b[0mtrace\u001b[0m\u001b[1;33m]\u001b[0m\u001b[1;33m,\u001b[0m\u001b[1;33m\u001b[0m\u001b[1;33m\u001b[0m\u001b[0m\n\u001b[0;32m   2101\u001b[0m             \u001b[0mrows\u001b[0m\u001b[1;33m=\u001b[0m\u001b[1;33m[\u001b[0m\u001b[0mrow\u001b[0m\u001b[1;33m]\u001b[0m \u001b[1;32mif\u001b[0m \u001b[0mrow\u001b[0m \u001b[1;32mis\u001b[0m \u001b[1;32mnot\u001b[0m \u001b[1;32mNone\u001b[0m \u001b[1;32melse\u001b[0m \u001b[1;32mNone\u001b[0m\u001b[1;33m,\u001b[0m\u001b[1;33m\u001b[0m\u001b[1;33m\u001b[0m\u001b[0m\n",
      "\u001b[1;32m~\\anaconda3\\lib\\site-packages\\plotly\\basedatatypes.py\u001b[0m in \u001b[0;36madd_traces\u001b[1;34m(self, data, rows, cols, secondary_ys, exclude_empty_subplots)\u001b[0m\n\u001b[0;32m   2227\u001b[0m         \u001b[1;32mif\u001b[0m \u001b[0mrows\u001b[0m \u001b[1;32mis\u001b[0m \u001b[1;32mnot\u001b[0m \u001b[1;32mNone\u001b[0m\u001b[1;33m:\u001b[0m\u001b[1;33m\u001b[0m\u001b[1;33m\u001b[0m\u001b[0m\n\u001b[0;32m   2228\u001b[0m             \u001b[1;32mfor\u001b[0m \u001b[0mtrace\u001b[0m\u001b[1;33m,\u001b[0m \u001b[0mrow\u001b[0m\u001b[1;33m,\u001b[0m \u001b[0mcol\u001b[0m\u001b[1;33m,\u001b[0m \u001b[0msecondary_y\u001b[0m \u001b[1;32min\u001b[0m \u001b[0mzip\u001b[0m\u001b[1;33m(\u001b[0m\u001b[0mdata\u001b[0m\u001b[1;33m,\u001b[0m \u001b[0mrows\u001b[0m\u001b[1;33m,\u001b[0m \u001b[0mcols\u001b[0m\u001b[1;33m,\u001b[0m \u001b[0msecondary_ys\u001b[0m\u001b[1;33m)\u001b[0m\u001b[1;33m:\u001b[0m\u001b[1;33m\u001b[0m\u001b[1;33m\u001b[0m\u001b[0m\n\u001b[1;32m-> 2229\u001b[1;33m                 \u001b[0mself\u001b[0m\u001b[1;33m.\u001b[0m\u001b[0m_set_trace_grid_position\u001b[0m\u001b[1;33m(\u001b[0m\u001b[0mtrace\u001b[0m\u001b[1;33m,\u001b[0m \u001b[0mrow\u001b[0m\u001b[1;33m,\u001b[0m \u001b[0mcol\u001b[0m\u001b[1;33m,\u001b[0m \u001b[0msecondary_y\u001b[0m\u001b[1;33m)\u001b[0m\u001b[1;33m\u001b[0m\u001b[1;33m\u001b[0m\u001b[0m\n\u001b[0m\u001b[0;32m   2230\u001b[0m \u001b[1;33m\u001b[0m\u001b[0m\n\u001b[0;32m   2231\u001b[0m         \u001b[1;32mif\u001b[0m \u001b[0mexclude_empty_subplots\u001b[0m\u001b[1;33m:\u001b[0m\u001b[1;33m\u001b[0m\u001b[1;33m\u001b[0m\u001b[0m\n",
      "\u001b[1;32m~\\anaconda3\\lib\\site-packages\\plotly\\basedatatypes.py\u001b[0m in \u001b[0;36m_set_trace_grid_position\u001b[1;34m(self, trace, row, col, secondary_y)\u001b[0m\n\u001b[0;32m   2318\u001b[0m         \u001b[1;32mfrom\u001b[0m \u001b[0mplotly\u001b[0m\u001b[1;33m.\u001b[0m\u001b[0msubplots\u001b[0m \u001b[1;32mimport\u001b[0m \u001b[0m_set_trace_grid_reference\u001b[0m\u001b[1;33m\u001b[0m\u001b[1;33m\u001b[0m\u001b[0m\n\u001b[0;32m   2319\u001b[0m \u001b[1;33m\u001b[0m\u001b[0m\n\u001b[1;32m-> 2320\u001b[1;33m         \u001b[0mgrid_ref\u001b[0m \u001b[1;33m=\u001b[0m \u001b[0mself\u001b[0m\u001b[1;33m.\u001b[0m\u001b[0m_validate_get_grid_ref\u001b[0m\u001b[1;33m(\u001b[0m\u001b[1;33m)\u001b[0m\u001b[1;33m\u001b[0m\u001b[1;33m\u001b[0m\u001b[0m\n\u001b[0m\u001b[0;32m   2321\u001b[0m         return _set_trace_grid_reference(\n\u001b[0;32m   2322\u001b[0m             \u001b[0mtrace\u001b[0m\u001b[1;33m,\u001b[0m \u001b[0mself\u001b[0m\u001b[1;33m.\u001b[0m\u001b[0mlayout\u001b[0m\u001b[1;33m,\u001b[0m \u001b[0mgrid_ref\u001b[0m\u001b[1;33m,\u001b[0m \u001b[0mrow\u001b[0m\u001b[1;33m,\u001b[0m \u001b[0mcol\u001b[0m\u001b[1;33m,\u001b[0m \u001b[0msecondary_y\u001b[0m\u001b[1;33m\u001b[0m\u001b[1;33m\u001b[0m\u001b[0m\n",
      "\u001b[1;32m~\\anaconda3\\lib\\site-packages\\plotly\\basedatatypes.py\u001b[0m in \u001b[0;36m_validate_get_grid_ref\u001b[1;34m(self)\u001b[0m\n\u001b[0;32m   2329\u001b[0m                 \u001b[1;32mraise\u001b[0m \u001b[0mAttributeError\u001b[0m\u001b[1;33m(\u001b[0m\u001b[1;34m\"_grid_ref\"\u001b[0m\u001b[1;33m)\u001b[0m\u001b[1;33m\u001b[0m\u001b[1;33m\u001b[0m\u001b[0m\n\u001b[0;32m   2330\u001b[0m         \u001b[1;32mexcept\u001b[0m \u001b[0mAttributeError\u001b[0m\u001b[1;33m:\u001b[0m\u001b[1;33m\u001b[0m\u001b[1;33m\u001b[0m\u001b[0m\n\u001b[1;32m-> 2331\u001b[1;33m             raise Exception(\n\u001b[0m\u001b[0;32m   2332\u001b[0m                 \u001b[1;34m\"In order to reference traces by row and column, \"\u001b[0m\u001b[1;33m\u001b[0m\u001b[1;33m\u001b[0m\u001b[0m\n\u001b[0;32m   2333\u001b[0m                 \u001b[1;34m\"you must first use \"\u001b[0m\u001b[1;33m\u001b[0m\u001b[1;33m\u001b[0m\u001b[0m\n",
      "\u001b[1;31mException\u001b[0m: In order to reference traces by row and column, you must first use plotly.tools.make_subplots to create the figure with a subplot grid."
     ]
    }
   ],
   "source": [
    "\n",
    "# ----------------\n",
    "# Candlestick Plot\n",
    "fig.add_trace(go.Candlestick(x = df_btc_c['Date'],\n",
    "                             open = df_btc_c['open'],\n",
    "                             high = df_btc_c['high'],\n",
    "                             low = df_btc_c['low'],\n",
    "                             close = df_btc_c['close'], showlegend=False,\n",
    "                             name = 'candlestick'),\n",
    "              row = 1, col = 1)\n",
    "\n",
    "# Moving Average\n",
    "fig.add_trace(go.Scatter(x = df_btc_c['Date'],\n",
    "                         y = df_btc_c['bollinger'],\n",
    "                         line_color = 'black',\n",
    "                         name = 'bollinger'),\n",
    "              row = 1, col = 1)\n",
    "\n",
    "# Upper Bound\n",
    "fig.add_trace(go.Scatter(x = df_btc_c['Date'],\n",
    "                         y = df_btc_c['bollinger'] + (df_btc_c['std'] * 2),\n",
    "                         line_color = 'gray',\n",
    "                         line = {'dash': 'dash'},\n",
    "                         name = 'upper band',\n",
    "                         opacity = 0.5),\n",
    "              row = 1, col = 1)\n",
    "\n",
    "# Lower Bound fill in between with parameter 'fill': 'tonexty'\n",
    "fig.add_trace(go.Scatter(x = df_btc_c['Date'],\n",
    "                         y = df_btc_c['sma'] - (df_btc_c['std'] * 2),\n",
    "                         line_color = 'gray',\n",
    "                         line = {'dash': 'dash'},\n",
    "                         fill = 'tonexty',\n",
    "                         name = 'lower band',\n",
    "                         opacity = 0.5),\n",
    "              row = 1, col = 1)\n",
    "\n",
    "\n",
    "# ----------------\n",
    "# Volume Plot\n",
    "fig.add_trace(go.Bar(x = df_btc_c['datetime'], y = df_btc_c['volume'], showlegend=False), \n",
    "              row = 2, col = 1)\n",
    "\n",
    "# Remove range slider; (short time frame)\n",
    "fig.update(layout_xaxis_rangeslider_visible=False)\n",
    "\n",
    "# Stock data has gaps in dates, specifically in weekends and holidays\n",
    "# create a list of dates that are NOT included from start to end\n",
    "date_gaps = [date for date in pd.date_range(start = '2020-12-21', end = '2021-05-14') if date not in df_btc_c['Date'].values]\n",
    "\n",
    "# Update Xaxes \n",
    "fig.update_xaxes(rangebreaks = [dict(values = date_gaps)])\n",
    "\n",
    "fig.show();"
   ]
  }
 ],
 "metadata": {
  "kernelspec": {
   "display_name": "Python 3",
   "language": "python",
   "name": "python3"
  },
  "language_info": {
   "codemirror_mode": {
    "name": "ipython",
    "version": 3
   },
   "file_extension": ".py",
   "mimetype": "text/x-python",
   "name": "python",
   "nbconvert_exporter": "python",
   "pygments_lexer": "ipython3",
   "version": "3.8.8"
  }
 },
 "nbformat": 4,
 "nbformat_minor": 5
}
